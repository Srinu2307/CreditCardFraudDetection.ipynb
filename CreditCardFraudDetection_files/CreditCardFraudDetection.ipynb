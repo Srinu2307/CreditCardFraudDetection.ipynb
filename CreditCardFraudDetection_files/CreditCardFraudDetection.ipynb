<!DOCTYPE html>
<!-- saved from url=(0107)https://colab.research.google.com/drive/1lqTGWhHXSAftogX04TycODaabl6uopR0#scrollTo=Bbr6Aob8s8zR&uniqifier=3 -->
<html lang="en" theme="adaptive" editor="Default Dark" style="--colab-code-font-family: monospace;"><head><meta http-equiv="Content-Type" content="text/html; charset=UTF-8"><meta http-equiv="origin-trial" content="Az520Inasey3TAyqLyojQa8MnmCALSEU29yQFW8dePZ7xQTvSt73pHazLFTK5f7SyLUJSo2uKLesEtEa9aUYcgMAAACPeyJvcmlnaW4iOiJodHRwczovL2dvb2dsZS5jb206NDQzIiwiZmVhdHVyZSI6IkRpc2FibGVUaGlyZFBhcnR5U3RvcmFnZVBhcnRpdGlvbmluZyIsImV4cGlyeSI6MTcyNTQwNzk5OSwiaXNTdWJkb21haW4iOnRydWUsImlzVGhpcmRQYXJ0eSI6dHJ1ZX0="><meta http-equiv="origin-trial" content="Az520Inasey3TAyqLyojQa8MnmCALSEU29yQFW8dePZ7xQTvSt73pHazLFTK5f7SyLUJSo2uKLesEtEa9aUYcgMAAACPeyJvcmlnaW4iOiJodHRwczovL2dvb2dsZS5jb206NDQzIiwiZmVhdHVyZSI6IkRpc2FibGVUaGlyZFBhcnR5U3RvcmFnZVBhcnRpdGlvbmluZyIsImV4cGlyeSI6MTcyNTQwNzk5OSwiaXNTdWJkb21haW4iOnRydWUsImlzVGhpcmRQYXJ0eSI6dHJ1ZX0="><style>body {transition: opacity ease-in 0.2s; } 
body[unresolved] {opacity: 0; display: block; overflow: hidden; position: relative; } 
</style><script type="text/javascript" async="" src="./CreditCardFraudDetection_files/recaptcha__en.js.download" crossorigin="anonymous" integrity="sha384-eZG8e4nRp0gEpRB75JBNzhS0vVseDRBVprGQYHJNXJCYwHihzdLYpvGhxa6VAhNb" nonce=""></script><script type="text/javascript" async="" src="./CreditCardFraudDetection_files/recaptcha__en.js.download" crossorigin="anonymous" integrity="sha384-eZG8e4nRp0gEpRB75JBNzhS0vVseDRBVprGQYHJNXJCYwHihzdLYpvGhxa6VAhNb" nonce=""></script><script type="text/javascript" async="" src="./CreditCardFraudDetection_files/js" nonce=""></script><script src="./CreditCardFraudDetection_files/cb=gapi.loaded_1" nonce="" async=""></script><script src="./CreditCardFraudDetection_files/cb=gapi.loaded_0" nonce="" async=""></script><script async="" src="./CreditCardFraudDetection_files/analytics.js.download"></script><script nonce="">
      document.addEventListener('keydown', (e) => {
        // Stop propagation on ESC because otherwise it will halt outbound XHRs
        // See b/131755324 for more info.
        if (e.key === 'Escape') {
          e.stopPropagation();
          e.preventDefault();
        }
      });
    </script><meta name="referrer" content="origin"><meta name="viewport" content="width=device-width, initial-scale=1"><title>CreditCardFraudDetection.ipynb - Colaboratory</title><link href="./CreditCardFraudDetection_files/css2" rel="stylesheet"><link href="./CreditCardFraudDetection_files/css" rel="stylesheet"><link rel="search" type="application/opensearchdescription+xml" href="https://colab.research.google.com/opensearch.xml" title="Google Colaboratory"><style>.gb_gb:not(.gb_id){font:13px/27px Roboto,Arial,sans-serif;z-index:986}@-webkit-keyframes gb__a{0%{opacity:0}50%{opacity:1}}@keyframes gb__a{0%{opacity:0}50%{opacity:1}}a.gb_xa{border:none;color:#4285f4;cursor:default;font-weight:bold;outline:none;position:relative;text-align:center;text-decoration:none;text-transform:uppercase;white-space:nowrap;-webkit-user-select:none}a.gb_xa:hover:after,a.gb_xa:focus:after{background-color:rgba(0,0,0,.12);content:"";height:100%;left:0;position:absolute;top:0;width:100%}a.gb_xa:hover,a.gb_xa:focus{text-decoration:none}a.gb_xa:active{background-color:rgba(153,153,153,.4);text-decoration:none}a.gb_ya{background-color:#4285f4;color:#fff}a.gb_ya:active{background-color:#0043b2}.gb_za{box-shadow:0 1px 1px rgba(0,0,0,.16)}.gb_xa,.gb_ya,.gb_Aa,.gb_Ba{display:inline-block;line-height:28px;padding:0 12px;border-radius:2px}.gb_Aa{background:#f8f8f8;border:1px solid #c6c6c6}.gb_Ba{background:#f8f8f8}.gb_Aa,#gb a.gb_Aa.gb_Aa,.gb_Ba{color:#666;cursor:default;text-decoration:none}#gb a.gb_Ba{cursor:default;text-decoration:none}.gb_Ba{border:1px solid #4285f4;font-weight:bold;outline:none;background:#4285f4;background:-webkit-gradient(linear,left top,left bottom,from(top),color-stop(#4387fd),to(#4683ea));background:-webkit-linear-gradient(top,#4387fd,#4683ea);background:linear-gradient(top,#4387fd,#4683ea);filter:progid:DXImageTransform.Microsoft.gradient(startColorstr=#4387fd,endColorstr=#4683ea,GradientType=0)}#gb a.gb_Ba{color:#fff}.gb_Ba:hover{box-shadow:0 1px 0 rgba(0,0,0,.15)}.gb_Ba:active{box-shadow:inset 0 2px 0 rgba(0,0,0,.15);background:#3c78dc;background:-webkit-gradient(linear,left top,left bottom,from(top),color-stop(#3c7ae4),to(#3f76d3));background:-webkit-linear-gradient(top,#3c7ae4,#3f76d3);background:linear-gradient(top,#3c7ae4,#3f76d3);filter:progid:DXImageTransform.Microsoft.gradient(startColorstr=#3c7ae4,endColorstr=#3f76d3,GradientType=0)}#gb .gb_Ca{background:#fff;border:1px solid #dadce0;color:#1a73e8;display:inline-block;text-decoration:none}#gb .gb_Ca:hover{background:#f8fbff;border-color:#dadce0;color:#174ea6}#gb .gb_Ca:focus{background:#f4f8ff;color:#174ea6;outline:1px solid #174ea6}#gb .gb_Ca:active,#gb .gb_Ca:focus:active{background:#ecf3fe;color:#174ea6}#gb .gb_Ca.gb_i{background:transparent;border:1px solid #5f6368;color:#8ab4f8;text-decoration:none}#gb .gb_Ca.gb_i:hover{background:rgba(255,255,255,.04);color:#e8eaed}#gb .gb_Ca.gb_i:focus{background:rgba(232,234,237,.12);color:#e8eaed;outline:1px solid #e8eaed}#gb .gb_Ca.gb_i:active,#gb .gb_Ca.gb_i:focus:active{background:rgba(232,234,237,.1);color:#e8eaed}.gb_p{display:none!important}.gb_1a{visibility:hidden}.gb_w{display:inline-block;vertical-align:middle}.gb_Rd .gb_o{bottom:-3px;right:-5px}.gb_f{position:relative}.gb_d{display:inline-block;outline:none;vertical-align:middle;border-radius:2px;box-sizing:border-box;height:40px;width:40px;cursor:pointer;text-decoration:none}#gb#gb a.gb_d{cursor:pointer;text-decoration:none}.gb_d,a.gb_d{color:#000}.gb_hf{border-color:transparent;border-bottom-color:#fff;border-style:dashed dashed solid;border-width:0 8.5px 8.5px;display:none;position:absolute;left:11.5px;top:33px;z-index:1;height:0;width:0;-webkit-animation:gb__a .2s;animation:gb__a .2s}.gb_if{border-color:transparent;border-style:dashed dashed solid;border-width:0 8.5px 8.5px;display:none;position:absolute;left:11.5px;z-index:1;height:0;width:0;-webkit-animation:gb__a .2s;animation:gb__a .2s;border-bottom-color:rgba(0,0,0,.2);top:32px}x:-o-prefocus,div.gb_if{border-bottom-color:#ccc}.gb_5{background:#fff;border:1px solid #ccc;border-color:rgba(0,0,0,.2);color:#000;-webkit-box-shadow:0 2px 10px rgba(0,0,0,.2);box-shadow:0 2px 10px rgba(0,0,0,.2);display:none;outline:none;overflow:hidden;position:absolute;right:8px;top:62px;-webkit-animation:gb__a .2s;animation:gb__a .2s;border-radius:2px;-webkit-user-select:text}.gb_w.gb_La .gb_hf,.gb_w.gb_La .gb_if,.gb_w.gb_La .gb_5,.gb_La.gb_5{display:block}.gb_w.gb_La.gb_jf .gb_hf,.gb_w.gb_La.gb_jf .gb_if{display:none}.gb_Sd{position:absolute;right:8px;top:62px;z-index:-1}.gb_7a .gb_hf,.gb_7a .gb_if,.gb_7a .gb_5{margin-top:-10px}.gb_w:first-child,#gbsfw:first-child+.gb_w{padding-left:4px}.gb_Pa.gb_Td .gb_w:first-child{padding-left:0}.gb_Ud{position:relative}.gb_t.gb_Bd.gb_eb.gb_qd{margin:0 12px;padding:0}.gb_t .gb_d{position:relative}.gb_t .gb_w{margin:0 4px;padding:4px}.gb_t .gb_Vd{display:inline-block}.gb_t a.gb_md{-webkit-box-align:center;-webkit-align-items:center;-webkit-align-items:center;align-items:center;-webkit-border-radius:100px;border-radius:100px;border:0;background:#0b57d0;color:#fff;display:-webkit-inline-box;display:-webkit-inline-flex;display:-webkit-inline-box;display:-webkit-inline-flex;display:inline-flex;font-size:14px;font-weight:500;height:40px;white-space:nowrap;width:auto}.gb_t a.gb_d.gb_md{margin:0 4px;padding:4px 24px 4px 24px}.gb_t a.gb_md.gb_Wd{padding:9px 12px 9px 16px}.gb_t a.gb_md.gb_Xd{background:transparent;border:1px solid #747775;color:#0b57d0;outline:0}.gb_t .gb_s{fill:#0b57d0}.gb_t .gb_Zd{fill:#0b57d0;margin-left:8px}.gb_t .gb_Zd circle{fill:#fff}.gb_t .gb_md .gb_Kd{-webkit-box-flex:1;-webkit-flex-grow:1;-webkit-box-flex:1;box-flex:1;-webkit-flex-grow:1;flex-grow:1;text-align:center}.gb_t .gb_md:hover{background:#3763cd}.gb_t .gb_md:hover .gb_Zd{fill:#3763cd}.gb_t .gb_md:focus,.gb_t .gb_md:active,.gb_t .gb_md:focus:hover,.gb_t .gb_md[aria-expanded=true],.gb_t .gb_md:hover[aria-expanded=true]{background:#416acf}.gb_t .gb_md:focus .gb_Zd,.gb_t .gb_md:active .gb_Zd,.gb_t .gb_md:focus:hover .gb_Zd,.gb_t .gb_md[aria-expanded=true] .gb_Zd,.gb_t .gb_md:hover[aria-expanded=true] .gb_Zd{fill:#416acf}.gb_t .gb_md:focus,.gb_t .gb_md:active,.gb_t .gb_md[aria-expanded=true]{-webkit-box-shadow:0 1px 3px 1px rgba(66,64,67,.15),0 1px 2px 0 rgba(60,64,67,.3);box-shadow:0 1px 3px 1px rgba(66,64,67,.15),0 1px 2px 0 rgba(60,64,67,.3)}.gb_t .gb_md:focus-visible{outline:1px solid #416acf;outline-offset:2px}.gb_t .gb_Fa:focus-visible{outline:1px solid #416acf}.gb_t .gb_i.gb_md{background:#a8c7fa;color:#062e6f}.gb_t .gb_i.gb_md .gb_Zd{fill:#a8c7fa}.gb_t .gb_i.gb_md .gb_Zd circle{fill:#062e6f}.gb_t .gb_i.gb_md:hover{background:#b4cbf6}.gb_t .gb_i.gb_md:hover .gb_Zd{fill:#b4cbf6}.gb_t .gb_i.gb_md:focus,.gb_t .gb_i.gb_md:focus:hover,.gb_t .gb_i.gb_md:active,.gb_t .gb_i.gb_md[aria-expanded=true],.gb_t .gb_i.gb_md:hover[aria-expanded=true]{background:#b8cdf7}.gb_t .gb_i.gb_md:focus .gb_Zd,.gb_t .gb_i.gb_md:focus:hover .gb_Zd,.gb_t .gb_i.gb_md:active .gb_Zd,.gb_t .gb_i.gb_md[aria-expanded=true] .gb_Zd,.gb_t .gb_i.gb_md:hover[aria-expanded=true] .gb_Zd{fill:#b8cdf7}.gb_t .gb_i.gb_md:focus-visible{outline-color:#b8cdf7}.gb_t .gb_i.gb_md:focus,.gb_t .gb_i.gb_md:active,.gb_t .gb_i.gb_md[aria-expanded=true]{-webkit-box-shadow:0 1px 3px 1px rgba(66,64,67,.15),0 1px 2px 0 rgba(60,64,67,.3);box-shadow:0 1px 3px 1px rgba(66,64,67,.15),0 1px 2px 0 rgba(60,64,67,.3)}.gb_t .gb_md.gb_Xd:hover,.gb_t .gb_md.gb_Xd:focus,.gb_t .gb_md.gb_Xd[aria-expanded=true],.gb_t .gb_md.gb_Xd:hover[aria-expanded=true]{background:rgba(11,87,208,.08);-webkit-box-shadow:none;box-shadow:none}.gb_t .gb_md.gb_Xd:active{background:rgba(11,87,208,.12);-webkit-box-shadow:none;box-shadow:none}.gb_t .gb_md.gb_Xd:focus-visible{border-color:#0b57d0;outline:0}.gb_t .gb_i.gb_md.gb_Xd{background:transparent;color:#a8c7fa}.gb_t .gb_i.gb_md.gb_Xd:hover,.gb_t .gb_i.gb_md.gb_Xd:focus,.gb_t .gb_i.gb_md.gb_Xd[aria-expanded=true],.gb_t .gb_i.gb_md.gb_Xd:hover[aria-expanded=true]{background:rgba(168,199,250,.08);-webkit-box-shadow:none;box-shadow:none}.gb_t .gb_i.gb_md.gb_Xd:active{background:rgba(168,199,250,.12);-webkit-box-shadow:none;box-shadow:none}.gb_t .gb_i.gb_md.gb_Xd:focus-visible{border-color:#a8c7fa;outline:0}.gb_i .gb_t .gb_s{fill:#a8c7fa}.gb_i .gb_t .gb_Fa:focus-visible{outline-color:#a8c7fa}.gb_5c .gb_Ud,.gb_ld .gb_Ud{float:right}.gb_d{padding:8px;cursor:pointer}.gb_d:after{content:"";position:absolute;top:-4px;bottom:-4px;left:-4px;right:-4px}.gb_Pa .gb_me:not(.gb_xa):focus img{background-color:rgba(0,0,0,.2);outline:none;-webkit-border-radius:50%;border-radius:50%}.gb_0d button svg,.gb_d{-webkit-border-radius:50%;border-radius:50%}.gb_0d button:focus:not(:focus-visible) svg,.gb_0d button:hover svg,.gb_0d button:active svg,.gb_d:focus:not(:focus-visible),.gb_d:hover,.gb_d:active,.gb_d[aria-expanded=true]{outline:none}.gb_Oc .gb_0d.gb_ve button:focus-visible svg,.gb_0d button:focus-visible svg,.gb_d:focus-visible{outline:1px solid #202124}.gb_Oc .gb_0d button:focus-visible svg,.gb_Oc .gb_d:focus-visible{outline:1px solid #f1f3f4}@media (forced-colors:active){.gb_Oc .gb_0d.gb_ve button:focus-visible svg,.gb_0d button:focus-visible svg,.gb_Oc .gb_0d button:focus-visible svg{outline:1px solid currentcolor}}.gb_Oc .gb_0d.gb_ve button:focus svg,.gb_Oc .gb_0d.gb_ve button:focus:hover svg,.gb_0d button:focus svg,.gb_0d button:focus:hover svg,.gb_d:focus,.gb_d:focus:hover{background-color:rgba(60,64,67,.1)}.gb_Oc .gb_0d.gb_ve button:active svg,.gb_0d button:active svg,.gb_d:active{background-color:rgba(60,64,67,.12)}.gb_Oc .gb_0d.gb_ve button:hover svg,.gb_0d button:hover svg,.gb_d:hover{background-color:rgba(60,64,67,.08)}.gb_Da .gb_d.gb_Fa:hover{background-color:transparent}.gb_d[aria-expanded=true],.gb_d:hover[aria-expanded=true]{background-color:rgba(95,99,104,.24)}.gb_d[aria-expanded=true] .gb_h{fill:#5f6368;opacity:1}.gb_Oc .gb_0d button:hover svg,.gb_Oc .gb_d:hover{background-color:rgba(232,234,237,.08)}.gb_Oc .gb_0d button:focus svg,.gb_Oc .gb_0d button:focus:hover svg,.gb_Oc .gb_d:focus,.gb_Oc .gb_d:focus:hover{background-color:rgba(232,234,237,.1)}.gb_Oc .gb_0d button:active svg,.gb_Oc .gb_d:active{background-color:rgba(232,234,237,.12)}.gb_Oc .gb_d[aria-expanded=true],.gb_Oc .gb_d:hover[aria-expanded=true]{background-color:rgba(255,255,255,.12)}.gb_Oc .gb_d[aria-expanded=true] .gb_h{fill:#fff;opacity:1}.gb_w{padding:4px}.gb_Pa.gb_Td .gb_w{padding:4px 2px}.gb_Pa.gb_Td .gb_b.gb_w{padding-left:6px}.gb_5{z-index:991;line-height:normal}.gb_5.gb_1d{left:0;right:auto}@media (max-width:350px){.gb_5.gb_1d{left:0}}.gb_2d .gb_5{top:56px}.gb_k .gb_d,.gb_4 .gb_k .gb_d{background-position:-64px -29px}.gb_K .gb_k .gb_d{background-position:-29px -29px;opacity:1}.gb_k .gb_d,.gb_k .gb_d:hover,.gb_k .gb_d:focus{opacity:1}.gb_jd{display:none}@media screen and (max-width:319px){.gb_rd:not(.gb_wd) .gb_k{display:none;visibility:hidden}}.gb_o{display:none}.gb_dd{font-family:Google Sans,Roboto,Helvetica,Arial,sans-serif;font-size:20px;font-weight:400;letter-spacing:0.25px;line-height:48px;margin-bottom:2px;opacity:1;overflow:hidden;padding-left:16px;position:relative;text-overflow:ellipsis;vertical-align:middle;top:2px;white-space:nowrap;-webkit-flex:1 1 auto;-webkit-box-flex:1;flex:1 1 auto}.gb_dd.gb_ed{color:#3c4043}.gb_Pa.gb_Qa .gb_dd{margin-bottom:0}.gb_fd.gb_gd .gb_dd{padding-left:4px}.gb_Pa.gb_Qa .gb_hd{position:relative;top:-2px}.gb_Pa{color:black;min-width:160px;position:relative;-webkit-transition:box-shadow 250ms;transition:box-shadow 250ms}.gb_Pa.gb_Wc{min-width:120px}.gb_Pa.gb_pd .gb_qd{display:none}.gb_Pa.gb_pd .gb_rd{height:56px}header.gb_Pa{display:block}.gb_Pa svg{fill:currentColor}.gb_sd{position:fixed;top:0;width:100%}.gb_td{-webkit-box-shadow:0 4px 5px 0 rgba(0,0,0,.14),0 1px 10px 0 rgba(0,0,0,.12),0 2px 4px -1px rgba(0,0,0,.2);box-shadow:0 4px 5px 0 rgba(0,0,0,.14),0 1px 10px 0 rgba(0,0,0,.12),0 2px 4px -1px rgba(0,0,0,.2)}.gb_ud{height:64px}.gb_rd{-webkit-box-sizing:border-box;box-sizing:border-box;position:relative;width:100%;display:-webkit-box;display:-webkit-flex;display:flex;-webkit-box-pack:space-between;-webkit-justify-content:space-between;justify-content:space-between;min-width:-webkit-min-content;min-width:min-content}.gb_Pa:not(.gb_Qa) .gb_rd{padding:8px}.gb_Pa.gb_vd .gb_rd{-webkit-flex:1 0 auto;-webkit-box-flex:1;flex:1 0 auto}.gb_Pa .gb_rd.gb_wd.gb_xd{min-width:0}.gb_Pa.gb_Qa .gb_rd{padding:4px;padding-left:8px;min-width:0}.gb_qd{height:48px;vertical-align:middle;white-space:nowrap;-webkit-box-align:center;-webkit-align-items:center;align-items:center;display:-webkit-box;display:-webkit-flex;display:flex;-webkit-user-select:none}.gb_zd>.gb_qd{display:table-cell;width:100%}.gb_fd{padding-right:30px;box-sizing:border-box;-webkit-flex:1 0 auto;-webkit-box-flex:1;flex:1 0 auto}.gb_Pa.gb_Qa .gb_fd{padding-right:14px}.gb_Ad{-webkit-flex:1 1 100%;-webkit-box-flex:1;flex:1 1 100%}.gb_Ad>:only-child{display:inline-block}.gb_Bd.gb_6c{padding-left:4px}.gb_Bd.gb_Cd,.gb_Pa.gb_vd .gb_Bd,.gb_Pa.gb_Qa:not(.gb_ld) .gb_Bd{padding-left:0}.gb_Pa.gb_Qa .gb_Bd.gb_Cd{padding-right:0}.gb_Pa.gb_Qa .gb_Bd.gb_Cd .gb_Da{margin-left:10px}.gb_6c{display:inline}.gb_Pa.gb_0c .gb_Bd.gb_Dd,.gb_Pa.gb_ld .gb_Bd.gb_Dd{padding-left:2px}.gb_dd{display:inline-block}.gb_Bd{-webkit-box-sizing:border-box;box-sizing:border-box;height:48px;line-height:normal;padding:0 4px;padding-left:30px;-webkit-flex:0 0 auto;-webkit-box-flex:0;flex:0 0 auto;-webkit-box-pack:flex-end;-webkit-justify-content:flex-end;justify-content:flex-end}.gb_ld{height:48px}.gb_Pa.gb_ld{min-width:auto}.gb_ld .gb_Bd{float:right;padding-left:32px}.gb_ld .gb_Bd.gb_Ed{padding-left:0}.gb_Fd{font-size:14px;max-width:200px;overflow:hidden;padding:0 12px;text-overflow:ellipsis;white-space:nowrap;-webkit-user-select:text}.gb_kd{-webkit-transition:background-color .4s;-webkit-transition:background-color .4s;transition:background-color .4s}.gb_Md{color:black}.gb_Oc{color:white}.gb_Pa a,.gb_Tc a{color:inherit}.gb_U{color:rgba(0,0,0,.87)}.gb_Pa svg,.gb_Tc svg,.gb_fd .gb_od,.gb_5c .gb_od{color:#5f6368;opacity:1}.gb_Oc svg,.gb_Tc.gb_Xc svg,.gb_Oc .gb_fd .gb_od,.gb_Oc .gb_fd .gb_Nc,.gb_Oc .gb_fd .gb_hd,.gb_Tc.gb_Xc .gb_od{color:rgba(255,255,255,.87)}.gb_Oc .gb_fd .gb_Mc:not(.gb_Nd){opacity:.87}.gb_ed{color:inherit;opacity:1;text-rendering:optimizeLegibility;-webkit-font-smoothing:antialiased}.gb_Oc .gb_ed,.gb_Md .gb_ed{opacity:1}.gb_Hd{position:relative}.gb_Id{font-family:arial,sans-serif;line-height:normal;padding-right:15px}a.gb_H,span.gb_H{color:rgba(0,0,0,.87);text-decoration:none}.gb_Oc a.gb_H,.gb_Oc span.gb_H{color:white}a.gb_H:focus{outline-offset:2px}a.gb_H:hover{text-decoration:underline}.gb_I{display:inline-block;padding-left:15px}.gb_I .gb_H{display:inline-block;line-height:24px;vertical-align:middle}.gb_Od{font-family:Google Sans,Roboto,Helvetica,Arial,sans-serif;font-weight:500;font-size:14px;letter-spacing:.25px;line-height:16px;margin-left:10px;margin-right:8px;min-width:96px;padding:9px 23px;text-align:center;vertical-align:middle;border-radius:4px;box-sizing:border-box}.gb_Pa.gb_ld .gb_Od{margin-left:8px}#gb a.gb_Ba.gb_Od{cursor:pointer}.gb_Ba.gb_Od:hover{background:#1b66c9;-webkit-box-shadow:0 1px 3px 1px rgba(66,64,67,.15),0 1px 2px 0 rgba(60,64,67,.3);box-shadow:0 1px 3px 1px rgba(66,64,67,.15),0 1px 2px 0 rgba(60,64,67,.3)}.gb_Ba.gb_Od:focus,.gb_Ba.gb_Od:hover:focus{background:#1c5fba;-webkit-box-shadow:0 1px 3px 1px rgba(66,64,67,.15),0 1px 2px 0 rgba(60,64,67,.3);box-shadow:0 1px 3px 1px rgba(66,64,67,.15),0 1px 2px 0 rgba(60,64,67,.3)}.gb_Ba.gb_Od:active{background:#1b63c1;-webkit-box-shadow:0 1px 3px 1px rgba(66,64,67,.15),0 1px 2px 0 rgba(60,64,67,.3);box-shadow:0 1px 3px 1px rgba(66,64,67,.15),0 1px 2px 0 rgba(60,64,67,.3)}.gb_Od{background:#1a73e8;border:1px solid transparent}.gb_Pa.gb_Qa .gb_Od{padding:9px 15px;min-width:80px}.gb_Jd{text-align:left}#gb .gb_Oc a.gb_Od:not(.gb_i),#gb.gb_Oc a.gb_Od:not(.gb_Pd){background:#fff;border-color:#dadce0;-webkit-box-shadow:none;box-shadow:none;color:#1a73e8}#gb a.gb_Ba.gb_i.gb_Od{background:#8ab4f8;border:1px solid transparent;-webkit-box-shadow:none;box-shadow:none;color:#202124}#gb .gb_Oc a.gb_Od:hover:not(.gb_i),#gb.gb_Oc a.gb_Od:not(.gb_Pd):hover{background:#f8fbff;border-color:#cce0fc}#gb a.gb_Ba.gb_i.gb_Od:hover{background:#93baf9;border-color:transparent;-webkit-box-shadow:0 1px 3px 1px rgba(0,0,0,.15),0 1px 2px rgba(0,0,0,.3);box-shadow:0 1px 3px 1px rgba(0,0,0,.15),0 1px 2px rgba(0,0,0,.3)}#gb .gb_Oc a.gb_Od:focus:not(.gb_i),#gb .gb_Oc a.gb_Od:focus:hover:not(.gb_i),#gb.gb_Oc a.gb_Od:focus:not(.gb_i),#gb.gb_Oc a.gb_Od:focus:hover:not(.gb_i){background:#f4f8ff;outline:1px solid #c9ddfc}#gb a.gb_Ba.gb_i.gb_Od:focus,#gb a.gb_Ba.gb_i.gb_Od:focus:hover{background:#a6c6fa;border-color:transparent;-webkit-box-shadow:none;box-shadow:none}#gb .gb_Oc a.gb_Od:active:not(.gb_i),#gb.gb_Oc a.gb_Od:not(.gb_Pd):active{background:#ecf3fe}#gb a.gb_Ba.gb_i.gb_Od:active{background:#a1c3f9;-webkit-box-shadow:0 1px 2px rgba(60,64,67,.3),0 2px 6px 2px rgba(60,64,67,.15);box-shadow:0 1px 2px rgba(60,64,67,.3),0 2px 6px 2px rgba(60,64,67,.15)}.gb_l{display:none}@media screen and (max-width:319px){.gb_rd:not(.gb_wd) .gb_k{display:none;visibility:hidden}}.gb_Da{background-color:rgba(255,255,255,.88);border:1px solid #dadce0;-webkit-box-sizing:border-box;box-sizing:border-box;cursor:pointer;display:inline-block;max-height:48px;overflow:hidden;outline:none;padding:0;vertical-align:middle;width:134px;-webkit-border-radius:8px;border-radius:8px}.gb_Da.gb_i{background-color:transparent;border:1px solid #5f6368}.gb_Ka{display:inherit}.gb_Da.gb_i .gb_Ka{background:#fff;-webkit-border-radius:4px;border-radius:4px;display:inline-block;left:8px;margin-right:5px;position:relative;padding:3px;top:-1px}.gb_Da:hover{border:1px solid #d2e3fc;background-color:rgba(248,250,255,.88)}.gb_Da.gb_i:hover{background-color:rgba(241,243,244,.04);border:1px solid #5f6368}.gb_Da:focus-visible,.gb_Da:focus{background-color:#fff;outline:1px solid #202124;-webkit-box-shadow:0 1px 2px 0 rgba(60,64,67,.3),0 1px 3px 1px rgba(60,64,67,.15);box-shadow:0 1px 2px 0 rgba(60,64,67,.3),0 1px 3px 1px rgba(60,64,67,.15)}.gb_Da.gb_i:focus-visible,.gb_Da.gb_i:focus{background-color:rgba(241,243,244,.12);outline:1px solid #f1f3f4;-webkit-box-shadow:0 1px 3px 1px rgba(0,0,0,.15),0 1px 2px 0 rgba(0,0,0,.3);box-shadow:0 1px 3px 1px rgba(0,0,0,.15),0 1px 2px 0 rgba(0,0,0,.3)}.gb_Da.gb_i:active,.gb_Da.gb_La.gb_i:focus{background-color:rgba(241,243,244,.1);border:1px solid #5f6368}.gb_Ma{display:inline-block;padding-bottom:2px;padding-left:7px;padding-top:2px;text-align:center;vertical-align:middle;line-height:32px;width:78px}.gb_Da.gb_i .gb_Ma{line-height:26px;margin-left:0;padding-bottom:0;padding-left:0;padding-top:0;width:72px}.gb_Ma.gb_Na{background-color:#f1f3f4;-webkit-border-radius:4px;border-radius:4px;margin-left:8px;padding-left:0;line-height:30px}.gb_Ma.gb_Na .gb_Oa{vertical-align:middle}.gb_Pa:not(.gb_Qa) .gb_Da{margin-left:10px;margin-right:4px}.gb_Ra{max-height:32px;width:78px}.gb_Da.gb_i .gb_Ra{max-height:26px;width:72px}.gb_n{-webkit-background-size:32px 32px;background-size:32px 32px;border:0;-webkit-border-radius:50%;border-radius:50%;display:block;margin:0px;position:relative;height:32px;width:32px;z-index:0}.gb_2a{background-color:#e8f0fe;border:1px solid rgba(32,33,36,.08);position:relative}.gb_2a.gb_n{height:30px;width:30px}.gb_2a.gb_n:hover,.gb_2a.gb_n:active{-webkit-box-shadow:none;box-shadow:none}.gb_3a{background:#fff;border:none;-webkit-border-radius:50%;border-radius:50%;bottom:2px;-webkit-box-shadow:0px 1px 2px 0px rgba(60,64,67,.30),0px 1px 3px 1px rgba(60,64,67,.15);box-shadow:0px 1px 2px 0px rgba(60,64,67,.30),0px 1px 3px 1px rgba(60,64,67,.15);height:14px;margin:2px;position:absolute;right:0;width:14px}.gb_4a{color:#1f71e7;font:400 22px/32px Google Sans,Roboto,Helvetica,Arial,sans-serif;text-align:center;text-transform:uppercase}@media (-webkit-min-device-pixel-ratio:1.25),(min-resolution:1.25dppx),(min-device-pixel-ratio:1.25){.gb_n::before,.gb_5a::before{display:inline-block;-webkit-transform:scale(0.5);-webkit-transform:scale(0.5);transform:scale(0.5);-webkit-transform-origin:left 0;-webkit-transform-origin:left 0;transform-origin:left 0}.gb_M .gb_5a::before{-webkit-transform:scale(scale(0.416666667));-webkit-transform:scale(scale(0.416666667));transform:scale(scale(0.416666667))}}.gb_n:hover,.gb_n:focus{-webkit-box-shadow:0 1px 0 rgba(0,0,0,.15);box-shadow:0 1px 0 rgba(0,0,0,.15)}.gb_n:active{-webkit-box-shadow:inset 0 2px 0 rgba(0,0,0,.15);box-shadow:inset 0 2px 0 rgba(0,0,0,.15)}.gb_n:active::after{background:rgba(0,0,0,.1);-webkit-border-radius:50%;border-radius:50%;content:"";display:block;height:100%}.gb_6a{cursor:pointer;line-height:40px;min-width:30px;opacity:.75;overflow:hidden;vertical-align:middle;text-overflow:ellipsis}.gb_d.gb_6a{width:auto}.gb_6a:hover,.gb_6a:focus{opacity:.85}.gb_7a .gb_6a,.gb_7a .gb_8a{line-height:26px}#gb#gb.gb_7a a.gb_6a,.gb_7a .gb_8a{font-size:11px;height:auto}.gb_9a{border-top:4px solid #000;border-left:4px dashed transparent;border-right:4px dashed transparent;display:inline-block;margin-left:6px;opacity:.75;vertical-align:middle}.gb_Fa:hover .gb_9a{opacity:.85}.gb_Da>.gb_b{padding:3px 3px 3px 4px}.gb_ab.gb_1a{color:#fff}.gb_K .gb_6a,.gb_K .gb_9a{opacity:1}#gb#gb.gb_K.gb_K a.gb_6a,#gb#gb .gb_K.gb_K a.gb_6a{color:#fff}.gb_K.gb_K .gb_9a{border-top-color:#fff;opacity:1}.gb_4 .gb_n:hover,.gb_K .gb_n:hover,.gb_4 .gb_n:focus,.gb_K .gb_n:focus{-webkit-box-shadow:0 1px 0 rgba(0,0,0,.15),0 1px 2px rgba(0,0,0,.2);box-shadow:0 1px 0 rgba(0,0,0,.15),0 1px 2px rgba(0,0,0,.2)}.gb_bb .gb_b,.gb_cb .gb_b{position:absolute;right:1px}.gb_b.gb_J,.gb_db.gb_J,.gb_Fa.gb_J{-webkit-flex:0 1 auto;-webkit-box-flex:0;flex:0 1 auto}.gb_eb.gb_fb .gb_6a{width:30px!important}.gb_m{height:40px;position:absolute;right:-5px;top:-5px;width:40px}.gb_gb .gb_m,.gb_hb .gb_m{right:0;top:0}.gb_b .gb_d{padding:4px}.gb_q{display:none}sentinel{}</style><script nonce="">;this.gbar_={CONFIG:[[[0,"www.gstatic.com","og.qtm.en_US.eMfP1Fx2BJQ.2019.O","co.in","en","425",0,[4,2,"","","","620716760","0"],null,"7VYSZoLpOeqFp84PhMqQ-Ak",null,0,"og.qtm.KRY3GSse2XM.L.W.O","AA2YrTudKqHLqzv4lWeJojccMAuYy_XzXw","AA2YrTuYcFfJCynAX2YrQ8DsIOONT0X9WA","",2,1,200,"IND",null,null,"425","425",1,null,null,114591953,0],null,[1,0.1000000014901161,2,1],null,[1,0,0,null,"0","srinivasuluk211@gmail.com","","AAvwJFDfAFQydq2yytOaQa_5TOk4UtdWD0cc3fuv-u3poWHjuGdUq726VgyCGzKGEmbpVWiIIezr_xOSjuEbT2fzEl5cN9syeg",0,0,0],[0,0,"",1,0,0,0,0,0,0,null,0,0,null,0,0,null,null,0,0,0,"","","","","","",null,0,0,0,0,0,null,null,null,"rgba(32,33,36,1)","rgba(255,255,255,1)",0,0,0,null,null,1,0,0],["%1$s (default)","Brand account",1,"%1$s (delegated)",1,null,83,"https://colab.research.google.com/drive/1lqTGWhHXSAftogX04TycODaabl6uopR0?authuser=$authuser",null,null,null,1,"https://accounts.google.com/ListAccounts?listPages=0\u0026authuser=0\u0026pid=425\u0026gpsia=1\u0026source=ogb\u0026atic=1\u0026mo=1\u0026mn=1\u0026hl=en\u0026ts=250",0,"dashboard",null,null,null,null,"Profile","",1,null,"Signed out","https://accounts.google.com/AccountChooser?source=ogb\u0026continue=$continue\u0026Email=$email\u0026ec=GAhAqQM","https://accounts.google.com/RemoveLocalAccount?source=ogb","Remove","Sign in",0,1,1,0,1,1,0,null,null,null,"Session expired",null,null,null,"Visitor",null,"Default","Delegated","Sign out of all accounts",1,null,null,0,null,null,"myaccount.google.com","https",0,1,0],null,["1","gci_91f30755d6a6b787dcc2a4062e6e9824.js","googleapis.client:gapi.iframes","0","en"],null,null,null,null,["m;/_/scs/abc-static/_/js/k=gapi.gapi.en.uvrmm4sgViM.O/am=AAAC/d=1/rs=AHpOoo_AfeXEgP9UD-iQrKiwqZLadQ_cBg/m=__features__","https://apis.google.com","","","1","",null,1,"es_plusone_gc_20240304.0_p3","en",null,0],[0.009999999776482582,"co.in","425",[null,"","0",null,1,5184000,null,null,"",null,null,null,null,null,0,null,0,null,1,0,0,0,null,null,0,0,null,0,0,0,0,0],null,null,null,0,null,null,["5061451","google\\.(com|ru|ca|by|kz|com\\.mx|com\\.tr)$",1]],[1,1,null,40400,425,"IND","en","620716760.0",8,0.009999999776482582,1,0,null,null,null,null,"3701310",null,null,null,"7VYSZoLpOeqFp84PhMqQ-Ak",0,0,0,null,2,5,"nn",20,0,0,1,1,1,114591953,0],[[null,null,null,"https://www.gstatic.com/og/_/js/k=og.qtm.en_US.eMfP1Fx2BJQ.2019.O/rt=j/m=qabr,qgl,q_dnp,qcwid,qbd,qapid,qrcd,q_dg/exm=qaaw,qadd,qaid,qein,qhaw,qhba,qhbr,qhch,qhga,qhid,qhin/d=1/ed=1/rs=AA2YrTudKqHLqzv4lWeJojccMAuYy_XzXw"],[null,null,null,"https://www.gstatic.com/og/_/ss/k=og.qtm.KRY3GSse2XM.L.W.O/m=qcwid/excm=qaaw,qadd,qaid,qein,qhaw,qhba,qhbr,qhch,qhga,qhid,qhin/d=1/ed=1/ct=zgms/rs=AA2YrTuYcFfJCynAX2YrQ8DsIOONT0X9WA"]],null,null,null,[[[null,null,[null,null,null,"https://ogs.google.com/u/0/widget/account?amb=1\u0026sea=1"],0,414,436,57,4,1,0,0,65,66,8000,"https://accounts.google.com/SignOutOptions?hl=en\u0026continue=https://colab.research.google.com/drive/1lqTGWhHXSAftogX04TycODaabl6uopR0\u0026ec=GBRAqQM",68,2,null,null,1,113,"Something went wrong.%1$s Refresh to try again or %2$schoose another account%3$s.",3,null,null,75,0,null,null,null,null,null,null,null,"/widget/account",["https","myaccount.google.com",0,32,83,0],0,0,1,["Critical security alert","Important account alert"],0,1,null,1,1,0,0,0,0,0]],null,null,"425","425",1,0,null,"en",0,["https://colab.research.google.com/drive/1lqTGWhHXSAftogX04TycODaabl6uopR0?authuser=$authuser","https://accounts.google.com/AddSession?hl=en\u0026continue=https://colab.research.google.com/drive/1lqTGWhHXSAftogX04TycODaabl6uopR0\u0026ec=GAlAqQM","https://accounts.google.com/Logout?hl=en\u0026continue=https://colab.research.google.com/drive/1lqTGWhHXSAftogX04TycODaabl6uopR0\u0026timeStmp=1712477933\u0026secTok=.AG5fkS-mrBMn4FXdwuTHrN966UpjZS1hUg\u0026ec=GAdAqQM","https://accounts.google.com/ListAccounts?listPages=0\u0026authuser=0\u0026pid=425\u0026gpsia=1\u0026source=ogb\u0026atic=1\u0026mo=1\u0026mn=1\u0026hl=en\u0026ts=250",0,0,"",0,0,null,0,0,"https://accounts.google.com/ServiceLogin?passive=true\u0026continue=https%3A%2F%2Fcolab.research.google.com%2Fdrive%2F1lqTGWhHXSAftogX04TycODaabl6uopR0\u0026ec=GAZAqQM",0,0],0,0,0,null,0],null,[["mousedown","touchstart","touchmove","wheel","keydown"],300000],[[null,null,null,"https://accounts.google.com/RotateCookiesPage"],3,null,null,null,0,0]]],};this.gbar_=this.gbar_||{};(function(_){var window=this;
try{
_._F_toggles_initialize=function(a){("undefined"!==typeof globalThis?globalThis:"undefined"!==typeof self?self:this)._F_toggles=a||[]};(0,_._F_toggles_initialize)([]);
/*

 Copyright The Closure Library Authors.
 SPDX-License-Identifier: Apache-2.0
*/
var fa,la,oa,pa,ya,za,Aa,Ca,Da,Ea,Ha,Ya,Xa,$a,bb,ab,cb,db,gb,mb,ob,pb,qb,rb;_.aa=function(a,b){if(Error.captureStackTrace)Error.captureStackTrace(this,_.aa);else{const c=Error().stack;c&&(this.stack=c)}a&&(this.message=String(a));void 0!==b&&(this.cause=b)};_.ba=function(a){_.q.setTimeout(()=>{throw a;},0)};_.ca=function(){var a=_.q.navigator;return a&&(a=a.userAgent)?a:""};fa=function(a){return da?ea?ea.brands.some(({brand:b})=>b&&-1!=b.indexOf(a)):!1:!1};_.u=function(a){return-1!=_.ca().indexOf(a)};
_.ha=function(){return da?!!ea&&0<ea.brands.length:!1};_.ia=function(){return _.ha()?!1:_.u("Opera")};_.ja=function(){return _.ha()?!1:_.u("Trident")||_.u("MSIE")};_.ka=function(){return _.u("Firefox")||_.u("FxiOS")};_.ma=function(){return _.u("Safari")&&!(la()||(_.ha()?0:_.u("Coast"))||_.ia()||(_.ha()?0:_.u("Edge"))||(_.ha()?fa("Microsoft Edge"):_.u("Edg/"))||(_.ha()?fa("Opera"):_.u("OPR"))||_.ka()||_.u("Silk")||_.u("Android"))};
la=function(){return _.ha()?fa("Chromium"):(_.u("Chrome")||_.u("CriOS"))&&!(_.ha()?0:_.u("Edge"))||_.u("Silk")};_.na=function(){return _.u("Android")&&!(la()||_.ka()||_.ia()||_.u("Silk"))};oa=function(){return da?!!ea&&!!ea.platform:!1};pa=function(){return _.u("iPhone")&&!_.u("iPod")&&!_.u("iPad")};_.qa=function(){return pa()||_.u("iPad")||_.u("iPod")};_.ra=function(){return oa()?"macOS"===ea.platform:_.u("Macintosh")};_.ta=function(a,b){return 0<=_.sa(a,b)};
_.ua=function(a){let b="",c=0;const d=a.length-10240;for(;c<d;)b+=String.fromCharCode.apply(null,a.subarray(c,c+=10240));b+=String.fromCharCode.apply(null,c?a.subarray(c):a);return btoa(b)};_.va=function(a){return null!=a&&a instanceof Uint8Array};_.wa=function(a){return Array.prototype.slice.call(a)};ya=function(a,b){_.xa(b,(a|0)&-14591)};za=function(a,b){_.xa(b,(a|34)&-14557)};Aa=function(a){a=a>>14&1023;return 0===a?536870912:a};Ca=function(a){return!(!a||"object"!==typeof a||a.i!==Ba)};
Da=function(a){return null!==a&&"object"===typeof a&&!Array.isArray(a)&&a.constructor===Object};Ea=function(a,b,c){if(!Array.isArray(a)||a.length)return!1;const d=a[_.v]|0;if(d&1)return!0;if(!(b&&(Array.isArray(b)?b.includes(c):b.has(c))))return!1;_.xa(a,d|1);return!0};_.Fa=function(a){if(a&2)throw Error();};Ha=function(a,b){(b=_.Ga?b[_.Ga]:void 0)&&(a[_.Ga]=_.wa(b))};_.Ka=function(){const a=Error();Ja(a,"incident");_.ba(a)};_.La=function(a){a=Error(a);Ja(a,"warning");return a};
_.Na=function(a){if("boolean"!==typeof a)throw Error("r`"+_.Ma(a)+"`"+a);return a};_.Oa=function(a){if(!Number.isFinite(a))throw _.La("enum");return a|0};_.Pa=function(a){if("number"!==typeof a)throw _.La("int32");if(!Number.isFinite(a))throw _.La("int32");return a|0};_.Qa=function(a){if(null!=a&&"string"!==typeof a)throw Error();return a};_.Ra=function(a){return null==a||"string"===typeof a?a:void 0};
_.Ta=function(a,b,c){if(null!=a&&"object"===typeof a&&a.Vd===_.Sa)return a;if(Array.isArray(a)){var d=a[_.v]|0,e=d;0===e&&(e|=c&32);e|=c&2;e!==d&&_.xa(a,e);return new b(a)}};_.Va=function(a,b){Ua=b;a=new a(b);Ua=void 0;return a};
_.Wa=function(a,b,c){null==a&&(a=Ua);Ua=void 0;if(null==a){var d=96;c?(a=[c],d|=512):a=[];b&&(d=d&-16760833|(b&1023)<<14)}else{if(!Array.isArray(a))throw Error("s");d=a[_.v]|0;if(d&2048)throw Error("t");if(d&64)return a;d|=64;if(c&&(d|=512,c!==a[0]))throw Error("u");a:{c=a;const e=c.length;if(e){const f=e-1;if(Da(c[f])){d|=256;b=f-(+!!(d&512)-1);if(1024<=b)throw Error("v");d=d&-16760833|(b&1023)<<14;break a}}if(b){b=Math.max(b,e-(+!!(d&512)-1));if(1024<b)throw Error("w");d=d&-16760833|(b&1023)<<14}}}_.xa(a,
d);return a};Ya=function(a,b){return Xa(b)};Xa=function(a){switch(typeof a){case "number":return isFinite(a)?a:String(a);case "boolean":return a?1:0;case "object":if(a)if(Array.isArray(a)){if(Ea(a,void 0,0))return}else{if(_.va(a))return _.ua(a);if("function"==typeof _.Za&&a instanceof _.Za)return a.j()}}return a};$a=function(a,b,c){const d=_.wa(a);var e=d.length;const f=b&256?d[e-1]:void 0;e+=f?-1:0;for(b=b&512?1:0;b<e;b++)d[b]=c(d[b]);if(f){b=d[b]={};for(const g in f)b[g]=c(f[g])}Ha(d,a);return d};
bb=function(a,b,c,d,e){if(null!=a){if(Array.isArray(a))a=Ea(a,void 0,0)?void 0:e&&(a[_.v]|0)&2?a:ab(a,b,c,void 0!==d,e);else if(Da(a)){const f={};for(let g in a)f[g]=bb(a[g],b,c,d,e);a=f}else a=b(a,d);return a}};ab=function(a,b,c,d,e){const f=d||c?a[_.v]|0:0;d=d?!!(f&32):void 0;const g=_.wa(a);for(let h=0;h<g.length;h++)g[h]=bb(g[h],b,c,d,e);c&&(Ha(g,a),c(f,g));return g};cb=function(a){return a.Vd===_.Sa?a.toJSON():Xa(a)};
db=function(a,b,c=za){if(null!=a){if(a instanceof Uint8Array)return b?a:new Uint8Array(a);if(Array.isArray(a)){var d=a[_.v]|0;if(d&2)return a;b&&(b=0===d||!!(d&32)&&!(d&64||!(d&16)));return b?_.xa(a,(d|34)&-12293):ab(a,db,d&4?za:c,!0,!0)}a.Vd===_.Sa&&(c=a.qa,d=c[_.v],a=d&2?a:_.Va(a.constructor,_.eb(c,d,!0)));return a}};_.eb=function(a,b,c){const d=c||b&2?za:ya,e=!!(b&32);a=$a(a,b,f=>db(f,e,d));a[_.v]=a[_.v]|32|(c?2:0);return a};
_.fb=function(a){const b=a.qa,c=b[_.v];return c&2?_.Va(a.constructor,_.eb(b,c,!1)):a};gb=function(a,b,c,d){b=d+(+!!(b&512)-1);if(!(0>b||b>=a.length||b>=c))return a[b]};_.hb=function(a,b,c,d,e){const f=Aa(b);if(c>=f||e){let g=b;if(b&256)e=a[a.length-1];else{if(null==d)return g;e=a[f+(+!!(b&512)-1)]={};g|=256}e[c]=d;c<f&&(a[c+(+!!(b&512)-1)]=void 0);g!==b&&_.xa(a,g);return g}a[c+(+!!(b&512)-1)]=d;b&256&&(a=a[a.length-1],c in a&&delete a[c]);return b};
_.jb=function(a,b,c,d){a=a.qa;let e=a[_.v];const f=_.ib(a,e,c,d);b=_.Ta(f,b,e);b!==f&&null!=b&&_.hb(a,e,c,b,d);return b};_.kb=function(a,b){return null!=a?a:b};
mb=function(a,b,c){var d=lb?void 0:a.constructor.ta;const e=(c?a.qa:b)[_.v];a=b.length;if(!a)return b;let f,g;if(Da(c=b[a-1])){a:{var h=c;let n={},p=!1;for(var k in h){let r=h[k];if(Array.isArray(r)){let t=r;if(Ea(r,d,+k)||Ca(r)&&0===r.size)r=null;r!=t&&(p=!0)}null!=r?n[k]=r:p=!0}if(p){for(var l in n){h=n;break a}h=null}}h!=c&&(f=!0);a--}for(k=+!!(e&512)-1;0<a;a--){l=a-1;c=b[l];l-=k;if(!(null==c||Ea(c,d,l)||Ca(c)&&0===c.size))break;g=!0}if(!f&&!g)return b;b=Array.prototype.slice.call(b,0,a);h&&b.push(h);
return b};_.w=function(a,b){return null!=a?!!a:!!b};_.x=function(a,b){void 0==b&&(b="");return null!=a?a:b};_.nb=function(a){for(const b in a)return!1;return!0};ob="function"==typeof Object.defineProperties?Object.defineProperty:function(a,b,c){if(a==Array.prototype||a==Object.prototype)return a;a[b]=c.value;return a};
pb=function(a){a=["object"==typeof globalThis&&globalThis,a,"object"==typeof window&&window,"object"==typeof self&&self,"object"==typeof global&&global];for(var b=0;b<a.length;++b){var c=a[b];if(c&&c.Math==Math)return c}throw Error("a");};qb=pb(this);rb=function(a,b){if(b)a:{var c=qb;a=a.split(".");for(var d=0;d<a.length-1;d++){var e=a[d];if(!(e in c))break a;c=c[e]}a=a[a.length-1];d=c[a];b=b(d);b!=d&&null!=b&&ob(c,a,{configurable:!0,writable:!0,value:b})}};rb("globalThis",function(a){return a||qb});
rb("Promise.prototype.finally",function(a){return a?a:function(b){return this.then(function(c){return Promise.resolve(b()).then(function(){return c})},function(c){return Promise.resolve(b()).then(function(){throw c;})})}});var ub,vb,xb,yb;_.sb=_.sb||{};_.q=this||self;ub=function(a){var b=_.tb("WIZ_global_data.oxN3nb");a=b&&b[a];return null!=a?a:!1};vb=_.q._F_toggles||[];_.tb=function(a,b){a=a.split(".");b=b||_.q;for(var c=0;c<a.length;c++)if(b=b[a[c]],null==b)return null;return b};_.Ma=function(a){var b=typeof a;return"object"!=b?b:a?Array.isArray(a)?"array":b:"null"};_.wb="closure_uid_"+(1E9*Math.random()>>>0);xb=function(a,b,c){return a.call.apply(a.bind,arguments)};
yb=function(a,b,c){if(!a)throw Error();if(2<arguments.length){var d=Array.prototype.slice.call(arguments,2);return function(){var e=Array.prototype.slice.call(arguments);Array.prototype.unshift.apply(e,d);return a.apply(b,e)}}return function(){return a.apply(b,arguments)}};_.y=function(a,b,c){_.y=Function.prototype.bind&&-1!=Function.prototype.bind.toString().indexOf("native code")?xb:yb;return _.y.apply(null,arguments)};
_.z=function(a,b){a=a.split(".");var c=_.q;a[0]in c||"undefined"==typeof c.execScript||c.execScript("var "+a[0]);for(var d;a.length&&(d=a.shift());)a.length||void 0===b?c[d]&&c[d]!==Object.prototype[d]?c=c[d]:c=c[d]={}:c[d]=b};_.A=function(a,b){function c(){}c.prototype=b.prototype;a.X=b.prototype;a.prototype=new c;a.prototype.constructor=a;a.tj=function(d,e,f){for(var g=Array(arguments.length-2),h=2;h<arguments.length;h++)g[h-2]=arguments[h];return b.prototype[e].apply(d,g)}};_.A(_.aa,Error);_.aa.prototype.name="CustomError";_.zb=String.prototype.trim?function(a){return a.trim()}:function(a){return/^[\s\xa0]*([\s\S]*?)[\s\xa0]*$/.exec(a)[1]};var Ab=!!(vb[0]&128),Bb=!!(vb[0]&256),Cb=!!(vb[0]&2);var da=Ab?Bb:ub(610401301),lb=Ab?Cb:ub(188588736);var ea,Db=_.q.navigator;ea=Db?Db.userAgentData||null:null;_.sa=function(a,b){return Array.prototype.indexOf.call(a,b,void 0)};_.Eb=function(a,b,c){Array.prototype.forEach.call(a,b,c)};_.Fb=function(a){_.Fb[" "](a);return a};_.Fb[" "]=function(){};var Sb,Tb,Yb;_.Gb=_.ia();_.B=_.ja();_.Hb=_.u("Edge");_.Ib=_.Hb||_.B;_.Jb=_.u("Gecko")&&!(-1!=_.ca().toLowerCase().indexOf("webkit")&&!_.u("Edge"))&&!(_.u("Trident")||_.u("MSIE"))&&!_.u("Edge");_.Kb=-1!=_.ca().toLowerCase().indexOf("webkit")&&!_.u("Edge");_.Lb=_.ra();_.Mb=oa()?"Windows"===ea.platform:_.u("Windows");_.Nb=oa()?"Android"===ea.platform:_.u("Android");_.Ob=pa();_.Pb=_.u("iPad");_.Qb=_.u("iPod");_.Rb=_.qa();Sb=function(){var a=_.q.document;return a?a.documentMode:void 0};
a:{var Ub="",Vb=function(){var a=_.ca();if(_.Jb)return/rv:([^\);]+)(\)|;)/.exec(a);if(_.Hb)return/Edge\/([\d\.]+)/.exec(a);if(_.B)return/\b(?:MSIE|rv)[: ]([^\);]+)(\)|;)/.exec(a);if(_.Kb)return/WebKit\/(\S+)/.exec(a);if(_.Gb)return/(?:Version)[ \/]?(\S+)/.exec(a)}();Vb&&(Ub=Vb?Vb[1]:"");if(_.B){var Wb=Sb();if(null!=Wb&&Wb>parseFloat(Ub)){Tb=String(Wb);break a}}Tb=Ub}_.Xb=Tb;if(_.q.document&&_.B){var $b=Sb();Yb=$b?$b:parseInt(_.Xb,10)||void 0}else Yb=void 0;_.ac=Yb;_.bc=_.ka();_.cc=pa()||_.u("iPod");_.dc=_.u("iPad");_.ec=_.na();_.fc=la();_.gc=_.ma()&&!_.qa();_.hc="undefined"!==typeof TextDecoder;_.ic="undefined"!==typeof TextEncoder;var jc;_.v=Symbol();jc=Symbol();_.kc=Symbol();_.xa=(a,b)=>{a[_.v]=b;return a};var Ba,lc,nc,oc,pc;_.Sa={};Ba={};nc=[];_.xa(nc,55);_.mc=Object.freeze(nc);oc=class{};pc=class{};Object.freeze(new oc);Object.freeze(new pc);var Ja=function(a,b){a.__closure__error__context__984382||(a.__closure__error__context__984382={});a.__closure__error__context__984382.severity=b};var qc;var Ua;_.rc=function(a,b){a=a.qa;return _.ib(a,a[_.v],b)};_.ib=function(a,b,c,d){if(-1===c)return null;const e=Aa(b);if(c>=e){if(b&256)return a[a.length-1][c]}else{var f=a.length;if(d&&b&256&&(d=a[f-1][c],null!=d)){if(gb(a,b,e,c)&&null!=jc){var g;a=null!=(g=qc)?g:qc={};g=a[jc]||0;4<=g||(a[jc]=g+1,_.Ka())}return d}return gb(a,b,e,c)}};_.sc=function(a,b,c){const d=a.qa;let e=d[_.v];_.Fa(e);_.hb(d,e,b,c);return a};
_.C=function(a,b){a=_.rc(a,b);return null==a||"boolean"===typeof a?a:"number"===typeof a?!!a:void 0};_.E=function(a,b,c,d=!1){b=_.jb(a,b,c,d);if(null==b)return b;a=a.qa;let e=a[_.v];if(!(e&2)){const f=_.fb(b);f!==b&&(b=f,_.hb(a,e,c,b,d))}return b};_.F=function(a,b,c){null==c&&(c=void 0);return _.sc(a,b,c)};_.G=function(a,b){return _.Ra(_.rc(a,b))};_.I=function(a,b,c=!1){return _.kb(_.C(a,b),c)};_.J=function(a,b){return _.kb(_.G(a,b),"")};_.K=function(a,b,c){return _.sc(a,b,null==c?c:_.Na(c))};
_.L=function(a,b,c){return _.sc(a,b,null==c?c:_.Pa(c))};_.M=function(a,b,c){return _.sc(a,b,_.Qa(c))};_.N=function(a,b,c){return _.sc(a,b,null==c?c:_.Oa(c))};_.Q=class{constructor(a,b,c){this.qa=_.Wa(a,b,c)}toJSON(){return lc?mb(this,this.qa,!1):mb(this,ab(this.qa,cb,void 0,void 0,!1),!0)}Ia(){lc=!0;try{return JSON.stringify(this.toJSON(),Ya)}finally{lc=!1}}Dc(){return!!((this.qa[_.v]|0)&2)}};_.Q.prototype.Vd=_.Sa;_.Q.prototype.toString=function(){return mb(this,this.qa,!1).toString()};_.uc=Symbol();_.vc=Symbol();_.wc=Symbol();_.xc=Symbol();_.yc=Symbol();var zc=class extends _.Q{constructor(){super()}};_.Ac=class extends _.Q{constructor(){super()}B(a){return _.L(this,3,a)}};var Bc=class extends _.Q{constructor(a){super(a)}Vc(a){return _.M(this,24,a)}};_.Cc=class extends _.Q{constructor(a){super(a)}};_.Dc=function(){this.Ga=this.Ga;this.na=this.na};_.Dc.prototype.Ga=!1;_.Dc.prototype.isDisposed=function(){return this.Ga};_.Dc.prototype.ha=function(){this.Ga||(this.Ga=!0,this.P())};_.Dc.prototype.P=function(){if(this.na)for(;this.na.length;)this.na.shift()()};var Ec=class extends _.Dc{constructor(){var a=window;super();this.o=a;this.i=[];this.j={}}resolve(a){var b=this.o;a=a.split(".");for(var c=a.length,d=0;d<c;++d)if(b[a[d]])b=b[a[d]];else return null;return b instanceof Function?b:null}Ib(){for(var a=this.i.length,b=this.i,c=[],d=0;d<a;++d){var e=b[d].i(),f=this.resolve(e);if(f&&f!=this.j[e])try{b[d].Ib(f)}catch(g){}else c.push(b[d])}this.i=c.concat(b.slice(a))}};var Gc=class extends _.Dc{constructor(){var a=_.Fc;super();this.o=a;this.A=this.i=null;this.v=0;this.C={};this.j=!1;a=window.navigator.userAgent;0<=a.indexOf("MSIE")&&0<=a.indexOf("Trident")&&(a=/\b(?:MSIE|rv)[: ]([^\);]+)(\)|;)/.exec(a))&&a[1]&&9>parseFloat(a[1])&&(this.j=!0)}B(a,b){this.i=b;this.A=a;b.preventDefault?b.preventDefault():b.returnValue=!1}};_.Hc=class extends _.Q{constructor(a){super(a)}};var Ic=class extends _.Q{constructor(a){super(a)}};var Lc;_.Jc=function(a,b){if(a.i){const c=new zc;_.M(c,1,b.message);_.M(c,2,b.stack);_.L(c,3,b.lineNumber);_.N(c,5,1);b=new _.Ac;_.F(b,40,c);a.i.log(98,b)}};Lc=class{constructor(){var a=Kc;this.i=null;_.I(a,4,!0)}log(a){_.Jc(this,a)}};var Nc;_.Mc=function(a){if(0<a.o.length){var b=void 0!==a.i,c=void 0!==a.j;if(b||c){b=b?a.v:a.A;c=a.o;a.o=[];try{_.Eb(c,b,a)}catch(d){console.error(d)}}}};_.Oc=class{constructor(a){this.i=a;this.j=void 0;this.o=[]}then(a,b,c){this.o.push(new Nc(a,b,c));_.Mc(this)}resolve(a){if(void 0!==this.i||void 0!==this.j)throw Error("A");this.i=a;_.Mc(this)}v(a){a.j&&a.j.call(a.i,this.i)}A(a){a.o&&a.o.call(a.i,this.j)}};Nc=class{constructor(a,b,c){this.j=a;this.o=b;this.i=c}};_.Pc=a=>{var b="Bc";if(a.Bc&&a.hasOwnProperty(b))return a.Bc;b=new a;return a.Bc=b};_.Qc=class{constructor(){this.v=new _.Oc;this.i=new _.Oc;this.D=new _.Oc;this.C=new _.Oc;this.B=new _.Oc;this.A=new _.Oc;this.o=new _.Oc;this.j=new _.Oc;this.H=new _.Oc}K(){return this.v}M(){return this.i}N(){return this.D}L(){return this.C}Ga(){return this.B}na(){return this.A}J(){return this.o}G(){return this.j}static i(){return _.Pc(_.Qc)}};var Vc;_.Sc=function(){return _.E(_.Rc,Bc,1)};_.Tc=function(){return _.E(_.Rc,_.Cc,5)};Vc=class extends _.Q{constructor(){super(Uc)}};var Uc;window.gbar_&&window.gbar_.CONFIG?Uc=window.gbar_.CONFIG[0]||{}:Uc=[];_.Rc=new Vc;var Kc=_.E(_.Rc,Ic,3)||new Ic;_.Sc()||new Bc;_.Fc=new Lc;_.z("gbar_._DumpException",function(a){_.Fc?_.Fc.log(a):console.error(a)});_.Wc=new Gc;var Yc;_.Zc=function(a,b){var c=_.Xc.i();if(a in c.i){if(c.i[a]!=b)throw new Yc;}else{c.i[a]=b;const h=c.j[a];if(h)for(let k=0,l=h.length;k<l;k++){b=h[k];var d=c.i;delete b.i[a];if(_.nb(b.i)){for(var e=b.j.length,f=Array(e),g=0;g<e;g++)f[g]=d[b.j[g]];b.o.apply(b.v,f)}}delete c.j[a]}};_.Xc=class{constructor(){this.i={};this.j={}}static i(){return _.Pc(_.Xc)}};_.$c=class extends _.aa{constructor(){super()}};Yc=class extends _.$c{};_.z("gbar.A",_.Oc);_.Oc.prototype.aa=_.Oc.prototype.then;_.z("gbar.B",_.Qc);_.Qc.prototype.ba=_.Qc.prototype.M;_.Qc.prototype.bb=_.Qc.prototype.N;_.Qc.prototype.bd=_.Qc.prototype.Ga;_.Qc.prototype.bf=_.Qc.prototype.K;_.Qc.prototype.bg=_.Qc.prototype.L;_.Qc.prototype.bh=_.Qc.prototype.na;_.Qc.prototype.bj=_.Qc.prototype.J;_.Qc.prototype.bk=_.Qc.prototype.G;_.z("gbar.a",_.Qc.i());window.gbar&&window.gbar.ap&&window.gbar.ap(window.gbar.a);var ad=new Ec;_.Zc("api",ad);
var bd=_.Tc()||new _.Cc,cd=window,dd=_.x(_.G(bd,8));cd.__PVT=dd;_.Zc("eq",_.Wc);
}catch(e){_._DumpException(e)}
try{
_.ed=class extends _.Q{constructor(a){super(a)}};
}catch(e){_._DumpException(e)}
try{
var fd=class extends _.Q{constructor(){super()}};var gd=class extends _.Dc{constructor(){super();this.j=[];this.i=[]}o(a,b){this.j.push({features:a,options:b})}init(a,b,c){window.gapi={};var d=window.___jsl={};d.h=_.x(_.G(a,1));null!=_.C(a,12)&&(d.dpo=_.w(_.I(a,12)));d.ms=_.x(_.G(a,2));d.m=_.x(_.G(a,3));d.l=[];_.J(b,1)&&(a=_.G(b,3))&&this.i.push(a);_.J(c,1)&&(c=_.G(c,2))&&this.i.push(c);_.z("gapi.load",(0,_.y)(this.o,this));return this}};var hd=_.E(_.Rc,_.Hc,14);if(hd){var id=_.E(_.Rc,_.ed,9)||new _.ed,jd=new fd,kd=new gd;kd.init(hd,id,jd);_.Zc("gs",kd)};
}catch(e){_._DumpException(e)}
})(this.gbar_);
// Google Inc.
</script><script nonce="">try {const preferences = JSON.parse(window.localStorage.getItem("datalab_prefs_srinivasuluk211@gmail.com")); document.querySelector('html') .setAttribute('theme', preferences['siteTheme'] || 'default');} catch (e) {}</script><script nonce="">window.performance.mark('head_start');</script><link rel="stylesheet" href="./CreditCardFraudDetection_files/bundle.css"><script src="./CreditCardFraudDetection_files/common_webcomponentsjs_webcomponents-lite.js.download" nonce=""></script><script src="./CreditCardFraudDetection_files/common_webanimationsjs_web-animations-next-lite.min.js.download" nonce=""></script><script nonce="">var colabVersionTag = 'colab_20240404-060114_RC00_621812230'; var colabScsVersion = 'e11fc3dbd9214fb6318f5e141c13f3f6'; var hl = 'en'; var colabExperiments = JSON.parse('\x7b\x22ai_unsubscribed_warning\x22: true, \x22aida_cell_button\x22: false, \x22aida_complete_code_model_id\x22: \x22\x22, \x22aida_do_conversation_model_id\x22: \x22\x22, \x22aida_generate_code_model_id\x22: \x22\x22, \x22aida_in_editor\x22: false, \x22allowed_public_url_domains\x22: \x5b\x22huggingface.co\x22, \x22dagshub.com\x22, \x22storage.googleapis.com\x22\x5d, \x22auto_execute_prereqs\x22: false, \x22backend_version\x22: \x22next\x22, \x22bq_tid\x22: true, \x22cell_tags\x22: false, \x22chat\x22: true, \x22classified_generate\x22: false, \x22classroom_iframe_parent_origin\x22: \x22\x22, \x22client_text_compose\x22: false, \x22client_trim_completion_text\x22: 100, \x22cloud_origin\x22: \x22\x22, \x22commands_in_toolbar\x22: false, \x22comment_poll_long\x22: 900000, \x22comment_poll_short\x22: 60000, \x22completion_throttle_millis\x22: 300, \x22compose_skip_suffix_check\x22: false, \x22converse_temp\x22: \x22\x22, \x22crawler\x22: false, \x22critique_comments\x22: false, \x22dbu\x22: \x22\x22, \x22debug_external\x22: \x22external\x22, \x22debug_prod\x22: \x22prod\x22, \x22dep_cells_commands\x22: false, \x22development\x22: false, \x22document_change_poll_interval\x22: 30000, \x22drive_anon_api_key\x22: \x22AIzaSyB10s2vWUTwP0pj20wZoxmpZIt3rRodYeg\x22, \x22drive_api_key\x22: \x22AIzaSyCN_sSPJMpYrAzC5AtTrltNC8oRmLtoqBk\x22, \x22drive_background_save_project_number\x22: \x22948411933973\x22, \x22drive_realtime_project_number\x22: \x22\x22, \x22embedded_connection_poll\x22: false, \x22embedding_app\x22: \x22\x22, \x22enable_adhoc_backends\x22: false, \x22enable_more_reprs\x22: true, \x22explain_cell\x22: false, \x22explain_error\x22: true, \x22explain_error_prompt_next\x22: false, \x22explain_error_trim_traceback\x22: true, \x22external_trusted_github_org_repos_quick_add\x22: \x22GoogleChrome\/CrUX,google\/generative-ai-docs\x22, \x22filter_repetitive_suggestions\x22: false, \x22first_party_auth\x22: true, \x22fix_imports\x22: false, \x22generate_code\x22: true, \x22generate_code_prompt\x22: true, \x22generate_df\x22: true, \x22generate_fix\x22: true, \x22generate_temp\x22: \x22\x22, \x22get_started\x22: false, \x22gis_auth\x22: true, \x22github_client_id\x22: \x225036cf6d81e65aaa6340\x22, \x22gpu_utilization_check_interval_ms\x22: 600000, \x22hats_surveys\x22: true, \x22hrc\x22: false, \x22import_data\x22: false, \x22internal_chat\x22: false, \x22internal_schedule\x22: false, \x22is_prober\x22: false, \x22jsraw\x22: \x22compiled\x22, \x22key_promoter\x22: false, \x22kr\x22: false, \x22local_cloud_apis\x22: false, \x22local_service_worker\x22: false, \x22log_hover_type\x22: false, \x22lsp_diagnostic_threshold_b312769838\x22: 0, \x22lsp_diagnostics_reporting\x22: false, \x22lsp_inlay_hint\x22: false, \x22lsp_rename\x22: true, \x22lsrp\x22: 0, \x22ml_banner\x22: false, \x22ml_enabled\x22: true, \x22mlpp\x22: false, \x22mlpp_multiline\x22: false, \x22mlpp_on_by_default\x22: true, \x22mlpp_trim_completion_text\x22: 100, \x22mobile\x22: false, \x22next_steps\x22: true, \x22nl2code_missing_imports\x22: true, \x22no_fun\x22: false, \x22og_dark\x22: true, \x22outage_notification\x22: \x22\x22, \x22outage_notification_link\x22: \x22\x22, \x22output_menu\x22: false, \x22outputframe_version\x22: \x22\x22, \x22override_suf_params_for_test\x22: false, \x22quickchart_button\x22: true, \x22recaptcha_polling_frequency_ms\x22: 300000, \x22recaptcha_v2_site_key\x22: \x226LfQttQUAAAAADuPanA_VZMaZgBAOnHZNuuqUewp\x22, \x22recaptcha_v3_site_key\x22: \x226LfQPtEUAAAAAHBpAdFng54jyuB1V5w5dofknpip\x22, \x22reconnect_max_delay_seconds\x22: 300, \x22replace_indented_block_with_blockquote\x22: true, \x22require_ai_consent\x22: true, \x22resource_poll_interval_ms\x22: 10000, \x22rp_kxhr\x22: false, \x22rp_lsp\x22: false, \x22rp_serve_kernel_port\x22: false, \x22rp_term\x22: false, \x22rp_token_refresh_headroom_millis\x22: 300000, \x22rt\x22: false, \x22runtime_env_overrides\x22: \x22\\n          \x5b\\n            \x5b\\\x22ENABLE_DIRECTORYPREFETCHER\\\x22, \\\x221\\\x22\x5d\\n          \x5d\\n        \x22, \x22runtime_type_for_test\x22: \x22\x22, \x22server_execution_queue\x22: true, \x22session_resume_coalesce\x22: true, \x22sheets_paste\x22: true, \x22show_free_quota_info\x22: true, \x22show_internal_ai_warning\x22: false, \x22show_payments_interstitial\x22: false, \x22show_pip_warning_dialog\x22: true, \x22show_relnotes_on_open\x22: true, \x22show_signup_survey\x22: true, \x22show_subscription_renewal_time\x22: false, \x22show_switch_to_prod_link\x22: false, \x22sql_cell\x22: false, \x22sql_cell_buttons\x22: false, \x22storage_partition_trial\x22: true, \x22storage_partition_trial_token\x22: \x22AmUpB2+Hlwk73pYiEMbnkef\/dprJi1I9rClec33apyFsbVOaCIRN29Rk9M4ht5Otgbp+thCc3MMD73GyCNfEWAkAAAB3eyJvcmlnaW4iOiJodHRwczovL2NvbGFiLnJlc2VhcmNoLmdvb2dsZS5jb206NDQzIiwiZmVhdHVyZSI6IkRpc2FibGVUaGlyZFBhcnR5U3RvcmFnZVBhcnRpdGlvbmluZyIsImV4cGlyeSI6MTcyNTQwNzk5OX0\x3d\x22, \x22suspicious_code_matches\x22: \x22\x22, \x22suspicious_code_regexs\x22: \x22\x22, \x22term4all\x22: false, \x22text_compose_report_changes_millis\x22: 10000, \x22text_span_comments\x22: false, \x22tpu_vm\x22: true, \x22unified_compose\x22: true, \x22unmanaged_vm_min_label_block\x22: \x22\x22, \x22unmanaged_vm_min_label_warn\x22: \x22\x22, \x22unmanaged_vm_min_release_tag_block\x22: \x22\x22, \x22unmanaged_vm_min_release_tag_warn\x22: \x22\x22, \x22use_corplogin\x22: true, \x22use_dm_sql_lsp\x22: false, \x22user_visible_gpu_types\x22: \x5b\x22T4\x22, \x22V100\x22, \x22A100\x22, \x22L4\x22\x5d, \x22uxr_survey\x22: false, \x22verbose_warnings\x22: false, \x22vertex_ai_api_environment_override\x22: \x22\x22, \x22waffle\x22: false, \x22workstations\x22: false, \x22ids\x22: \x5b20730177, 20730150, 20730183, 20730186, 20730159, 20730129, 20730221\x5d, \x22flag_ids\x22: \x7b\x22ai_unsubscribed_warning\x22: 45504730, \x22aida_cell_button\x22: 45425510, \x22aida_complete_code_model_id\x22: 45427660, \x22aida_do_conversation_model_id\x22: 45427664, \x22aida_generate_code_model_id\x22: 45427663, \x22aida_in_editor\x22: 45425507, \x22allowed_public_url_domains\x22: 45425558, \x22auto_execute_prereqs\x22: 45624305, \x22backend_version\x22: 45425541, \x22bq_tid\x22: 45425617, \x22cell_tags\x22: 45425779, \x22chat\x22: 45425490, \x22classified_generate\x22: 45425499, \x22classroom_iframe_parent_origin\x22: 45425537, \x22client_text_compose\x22: 45425512, \x22client_trim_completion_text\x22: 45425628, \x22cloud_origin\x22: 45425538, \x22commands_in_toolbar\x22: 45425502, \x22comment_poll_long\x22: 45425588, \x22comment_poll_short\x22: 45425587, \x22completion_throttle_millis\x22: 45621713, \x22compose_skip_suffix_check\x22: 45615470, \x22converse_temp\x22: 45425509, \x22crawler\x22: 45425491, \x22critique_comments\x22: 45612076, \x22dbu\x22: 45425545, \x22debug_external\x22: 45425470, \x22debug_prod\x22: 45425471, \x22dep_cells_commands\x22: 45622249, \x22development\x22: 45425544, \x22document_change_poll_interval\x22: 45425589, \x22drive_anon_api_key\x22: 45425478, \x22drive_api_key\x22: 45425473, \x22drive_background_save_project_number\x22: 45425479, \x22drive_realtime_project_number\x22: 45425629, \x22embedded_connection_poll\x22: 45491618, \x22enable_adhoc_backends\x22: 45425506, \x22enable_more_reprs\x22: 45613354, \x22explain_cell\x22: 45425505, \x22explain_error\x22: 45425487, \x22explain_error_prompt_next\x22: 45615229, \x22explain_error_trim_traceback\x22: 45618831, \x22external_trusted_github_org_repos_quick_add\x22: 45425555, \x22filter_repetitive_suggestions\x22: 45615781, \x22first_party_auth\x22: 45425560, \x22fix_imports\x22: 45624140, \x22generate_code\x22: 45425492, \x22generate_code_prompt\x22: 45425488, \x22generate_df\x22: 45425503, \x22generate_fix\x22: 45425504, \x22generate_temp\x22: 45425508, \x22get_started\x22: 45430267, \x22gis_auth\x22: 45425625, \x22github_client_id\x22: 45425556, \x22gpu_utilization_check_interval_ms\x22: 45425561, \x22hats_surveys\x22: 45425559, \x22import_data\x22: 45430411, \x22internal_chat\x22: 45622872, \x22internal_schedule\x22: 45425578, \x22is_prober\x22: 45429104, \x22jsraw\x22: 45425557, \x22key_promoter\x22: 45425570, \x22local_cloud_apis\x22: 45425630, \x22local_service_worker\x22: 45425550, \x22log_hover_type\x22: 45425602, \x22lsp_diagnostic_threshold_b312769838\x22: 45618432, \x22lsp_diagnostics_reporting\x22: 45425604, \x22lsp_inlay_hint\x22: 45614695, \x22lsp_rename\x22: 45618248, \x22lsrp\x22: 45425612, \x22ml_banner\x22: 45425631, \x22ml_enabled\x22: 45425493, \x22mlpp\x22: 45425608, \x22mlpp_multiline\x22: 45425623, \x22mlpp_on_by_default\x22: 45425609, \x22mlpp_trim_completion_text\x22: 45425622, \x22mobile\x22: 45425562, \x22next_steps\x22: 45428239, \x22nl2code_missing_imports\x22: 45615676, \x22no_fun\x22: 45425540, \x22og_dark\x22: 45459627, \x22outage_notification\x22: 45425584, \x22outage_notification_link\x22: 45425585, \x22output_menu\x22: 45617054, \x22outputframe_version\x22: 45425591, \x22override_suf_params_for_test\x22: 45425592, \x22quickchart_button\x22: 45425501, \x22recaptcha_polling_frequency_ms\x22: 45425582, \x22recaptcha_v2_site_key\x22: 45425581, \x22recaptcha_v3_site_key\x22: 45425580, \x22reconnect_max_delay_seconds\x22: 45425539, \x22replace_indented_block_with_blockquote\x22: 45623563, \x22require_ai_consent\x22: 45425489, \x22resource_poll_interval_ms\x22: 45425590, \x22rp_kxhr\x22: 45491686, \x22rp_lsp\x22: 45462965, \x22rp_serve_kernel_port\x22: 45572083, \x22rp_term\x22: 45426219, \x22rp_token_refresh_headroom_millis\x22: 45517773, \x22rt\x22: 45425624, \x22runtime_env_overrides\x22: 45425583, \x22runtime_type_for_test\x22: 45425586, \x22server_execution_queue\x22: 45425600, \x22session_resume_coalesce\x22: 45425603, \x22sheets_paste\x22: 45428502, \x22show_free_quota_info\x22: 45620295, \x22show_internal_ai_warning\x22: 45622780, \x22show_payments_interstitial\x22: 45425543, \x22show_pip_warning_dialog\x22: 45616404, \x22show_relnotes_on_open\x22: 45428128, \x22show_signup_survey\x22: 45425620, \x22show_subscription_renewal_time\x22: 45425569, \x22show_switch_to_prod_link\x22: 45425483, \x22sql_cell\x22: 45425497, \x22sql_cell_buttons\x22: 45425498, \x22suspicious_code_matches\x22: 45425615, \x22suspicious_code_regexs\x22: 45425616, \x22term4all\x22: 45425542, \x22text_compose_report_changes_millis\x22: 45425568, \x22text_span_comments\x22: 45545873, \x22tpu_vm\x22: 45614812, \x22unified_compose\x22: 45425627, \x22unmanaged_vm_min_label_block\x22: 45425546, \x22unmanaged_vm_min_label_warn\x22: 45425547, \x22unmanaged_vm_min_release_tag_block\x22: 45425548, \x22unmanaged_vm_min_release_tag_warn\x22: 45425549, \x22use_corplogin\x22: 45425606, \x22use_dm_sql_lsp\x22: 45425610, \x22user_visible_gpu_types\x22: 45620529, \x22uxr_survey\x22: 45425618, \x22verbose_warnings\x22: 45425551, \x22vertex_ai_api_environment_override\x22: 45612077, \x22waffle\x22: 45446491, \x22workstations\x22: 45425626\x7d\x7d'); var colabUserEmail = 'srinivasuluk211@gmail.com'; var colabRenderDataToken = 'AFWLbD0cLU9tFbsWofOkCV5m-OpcUSQSKvRp6_B5m636RehYXLvioNurFLMumVhaQAwvayEGQxLClJWjRTCg-AoBGgbJlbZBA_BE'; var colabConfig = '\x5b\x5b\x22srinivasuluk211@gmail.com\x22,\x5b1,\x22AHXL0D3azqonS7rKCuF9F1WQCcvDoBGRno+hrOgVr+ahH+5pla\/Iz04pqXtaI6lGDUXVAAnQZt0w5HfzPXD4e1o8UoIboyHF7pdBHLooJJ8whEcPhaMggzxfR032wrFhj9FgFBaMuUjbaepmu4lrFhkPX8+rzAn4cJ3BhX2ZcSfCT6\/Re41Xw9iiK6Fl0jFzG0xmlwxhq5R+vnXPjwBD1IwDUhLvkF6qR+PrcbpSPmOkanfrN53W3IKnZusGxaMEoQPtijJdNUJVrfeuyZcs9gGh6o8uZPYGwzoQDfMfMWUsUQ2Uuhig411wK8cizkxrITfJQ8opZQbeIcrIvGOTKaIWvCf74QhyL+Zejhlol3YglSuu5C6Eo6CL2wIjoNzlCSzHnuhuE1ZLg388KA5BeevZ+Fp4c51CpbzOUKHSTMXXCexQf74HD2ZKYyMb4c71W+u74uEtR8CSAbaemlgPjwwbk8XFTEkwhymiqWNwXTaUMTfUaFAObb9zb\/trxxOgj0wY3Tja5qWcl9rRz5HbkTXs+H8rlmQQxotwC094p9ZHQwpVC\/cqesAc+fbX8vaiaTKTerlOhAlnwzT2SKHVFnfQMTOdsyyBDLt4deoOWob2P\/uFX80hs6x07jU7b3lrUVitJyGXLWmzjMnaQe6d7vjOWO3z9Pt2W2v+0qPM0amPXszDC6U+WmMUlJ\/JRNeGlP45aEzI0BPrPF0Rb7HF+HTqeSVSlrZZQMKMSIdLMMHp4rcd4yQKM28+p5uznvY3HBWJwAkSwXKVAe16tc9WFfdqK\/GZzCpRoMbouGYzSq5GmFKsgSEHNYTw8Vc8ez7YsS0EoeVIXdRtK3xMFksBDZ1mcLn85sU8jAjC7x6Q\/N1Yo0pHHLNG99RP8QqGE+t7ZrU7UeRy+ltLQMMwbw8OHceh82\/gwFjtenZAaRkedTbth2AZWPUw5SQfGOisRtveVsVKl7Sp4fUGJW2lF1mIgplR5hYfGBrdbfki7t0kbxsbYebuLLMlIkfJCVZMBUzNeFHFA9HAbvVW2SIvRWkMRC5WwuR+6y+jQPdFF3OVwZNu6PyXa1dBx972PQ0UEa1JQCkmF7mBh6Lvp1nzrNaGvCTxvZbqFDJkYKUUEvRdM0GygR0ltFtgUV0hkdJjpVg76psoczz8mIqZtzHkE\/EF3S8+\/F9jziqOVt8A\/DwJVw3+0XJvvTy+AP9W7i1DSsRh+0ouI7zQ6fVKGVK0KipAt8D\/DZLvpqPrjz9tETDurwBYI24osS4ZTKmmTsMO86ezys+ORHN5cZeWD4dxtjOUV6aVhup5hfIrbBBlzDip3a6fqrNEsmjzUjGWaSHs+ThmMGOVpQOlTSnvOc2fEW+tKFqmzB\/pjO5G8+USHHB967HakNJoBK4x8QIkRGXHuiaEKH7Sj+OZH4hqsd6umt0TzdAargGBRy5AVsJ2Nl0a2rM0\/2fDHd6uCUBk2o9tAyuq8xRssC5YSLVyZR8wcLLvV9mxDqQIPAtQb7dSRmKRoB10Pnue1MbYtb920WHliyiGKHfdVqyWY8ICQ1luoTVzCu1WFQbQ0aZaraOEGkOiVQFp1bIaMDYx+MesNCdE1UPsL+0J8o8IS2iUc663PZ71shIsPRKI8gXpNTFKvQrG\/Twc8E3bKJN5wF+ZysbHmMy2nk0Xfv+IRWFt0tw1kXUCwbnT3ZC2s\/n6TwVY3VmWOwiXMiil2kKw6tjPciet6Y60lk4HT+MIUqbbszmYPloZ3m1ayVk0zBu+7Ux3QyODjS+RHre15P7kjBor6t\/Ik20FzlFoagTFX+AofGPuUUlxAl6SFInRnYfryfDAYQK\/H+taz3oRpsU\/slt1Lf\/lBCm7G9C87OdwjzBJ2Tr7FnN\/C9+ibhTyPs7K38Fz2oJ7y6+1KNj+bCUS09s\x3d\x22,\x22AJ9oCCx9FZD7P9ls63RS\/Rf2JhznMjLYmyV9PsTtp5ef0SxMzA+LL8hfgETABDJz5eZqz8UrXnLK7oBvwmbdDBK58LaTRv5HsoF\/wj+FHm68g4WPCzm+QMbUuTiiHi5ZLLAZpSWnYVhs\x22,\x22https:\/\/payments.google.com\/payments\x22,0,0,null,null,null,\x22$11.79\x22,\x22$58.99\x22,\x22$11.79\x22,\x22$58.99\x22\x5d,\x5b1,4\x5d,\x22IN\x22\x5d\x5d';</script><link id="favicon-link" rel="shortcut icon" href="https://ssl.gstatic.com/colaboratory-static/common/e11fc3dbd9214fb6318f5e141c13f3f6/img%2Ffavicon.ico"><meta name="google-site-verification" content="wRgpUU3mIRZPD1GORBPNonaotM72092B_DsqQFWNa4s"><meta name="google-site-verification" content="f5qdvL6RAXlBgHezvCLpPtvx2wU5ZgIzzPULroprlnA"><meta name="google-site-verification" content="-wL8iYJTC7X0zF9qBNDQUAd-P1ZkQUK-OhSgv4Wkf1M"><meta name="google-site-verification" content="o-EECwEDQeUpZv0jTmoGfCDX7dUI8Kul4ESepXmDnO0"><meta name="google-site-verification" content="sNOroO9gXrazN-oMODOm0Bs0_vw1R5QwZ-BfrSHn8Io"><meta name="google-site-verification" content="K1UdZBHJXQYnJGXIK1KuutmVy6dn3vG2sEyV9D1C6dM"><meta name="google-site-verification" content="wdGthzzfu0IjM3qpFqTuQL9poAQZAvAaFKyuzetLpIM"><meta name="google-site-verification" content="qZJ77guHGO0TObHUBRYVdXQlIhXBBuz8dahJVmIlzCo"><meta name="google-site-verification" content="7ahoeOOKT2ZR781GZ5xK4L9t7yO1ZOHc-gaoUALEYgw"><meta name="google-site-verification" content="PHgaSKwdxZELS21aixtLhfpvaHtKen9pnVJ25EI35Zs"><meta name="google-site-verification" content="Ozey1ptWUQW13_lCEhpPMOcmRBLqdyB3WEL-TJUjskU"><meta name="google-site-verification" content="rF5iXzWe9KZXJes1dQNhOUkS4_z_e97IrsVoCx2trek"><meta name="google-site-verification" content="cpB5oulaGwqSxsg4E-9q2MVbK87iE9NAUUVxdveucPw"><meta name="google-site-verification" content="8P-D5fVWgUIhw8X2BxnKJbf5itK0zxX0QhoBjbJFTe8"><meta name="google-site-verification" content="88fgsZDoVRBuRnDPMIEjcHCxsEXzODOqEsJoqtvQsDc"><meta name="google-site-verification" content="26aKGBCw3XblB5Ou01UhxY5WDtMqHjoTm6P-lvF6AqE"><meta name="google-site-verification" content="DGionF7db9g0dOgeBXwOAN2tmCzWBdo5yOdc_-5UcuE"><meta name="google-site-verification" content="Q9LlidR0toR7UtSyVO23xNeaqJmRp8I6r4ghBQTtntU"><meta name="google-site-verification" content="rQawcZaTEK_UrDG30cz_7nVKOVvBass61QEes0Tm04g"><meta name="google-site-verification" content="8L3ghjzKIj241AYAmEygniTe604tsXFkIrb1v-DBtGo"><meta name="google-site-verification" content="Osw7QcOK045GmOYJI2MM2_7AaL-s4q6pdn8gIv6JNxA"><meta name="google-site-verification" content="KiunYPvrY5x8umvAWcjhwPrB677xCar2LeT_8yaVrDg"><meta name="google-site-verification" content="b6bOMRzMVX2bJABYDGBPtpGcB_AUZ-o2SOTggQXErkg"><meta property="og:type" content="article"><meta property="og:image" content="https://colab.research.google.com/img/colab_favicon_256px.png"><meta property="og:title" content="Google Colaboratory"><meta http-equiv="origin-trial" content="AmUpB2+Hlwk73pYiEMbnkef/dprJi1I9rClec33apyFsbVOaCIRN29Rk9M4ht5Otgbp+thCc3MMD73GyCNfEWAkAAAB3eyJvcmlnaW4iOiJodHRwczovL2NvbGFiLnJlc2VhcmNoLmdvb2dsZS5jb206NDQzIiwiZmVhdHVyZSI6IkRpc2FibGVUaGlyZFBhcnR5U3RvcmFnZVBhcnRpdGlvbmluZyIsImV4cGlyeSI6MTcyNTQwNzk5OX0="><script nonce="">window.performance.mark('head_end'); window.performance.measure('head', 'head_start', 'head_end');</script><script async="" src="./CreditCardFraudDetection_files/lazy.min.js.download" nonce=""></script><style id="inert-style">
[inert] {
  pointer-events: none;
  cursor: default;
}

[inert], [inert] * {
  user-select: none;
  -webkit-user-select: none;
  -moz-user-select: none;
  -ms-user-select: none;
}
</style><style>
    html {
      <!---->
      <!---->
      --code-cell-background: #f7f7f7;
      --colab-anchor-color: #00e;
      --colab-border-color: #dadada;
      --colab-bold-border-color: #111;
      --colab-callout-color: var(--paper-blue-700);
      --colab-divider-color: var(--paper-grey-300);
      --colab-debugger-line-color: var(--paper-red-100);
      --colab-editor-focus-color: var(--paper-grey-200);
      --colab-highlighted-surface-color: var(--paper-grey-200);
      --colab-icon-color: var(--paper-grey-700);
      --colab-input-button-hover-background: #6161611a;
      --colab-secondary-icon-color: #93adcf;
      --colab-input-placeholder-color: var(--colab-secondary-text-color);
      --colab-primary-surface-color: var(--paper-white);
      --colab-primary-text-color: var(--paper-grey-900);
      --colab-secondary-text-color: #616161;
      --colab-tertiary-text-color: var(--paper-grey-600);
      --colab-secondary-surface-color: #f7f7f7;
      --colab-snackbar-surface-color: #333333;
      --colab-scrollbar-color: rgba(0, 0, 0, 0.1);
      --colab-gutter-icon-color: #8c8c8c;
      --colab-active-execution-icon-color: var(--paper-grey-800);
      --colab-error-icon-color: var(--paper-red-a700);
      --colab-title-color: #000;
      --colab-form-field-underline-color: var(--paper-grey-400);
      --colab-editor-focus-border-thickness: 2px;
      --colab-diff-editor-background: #fff;
      --colab-local-diff-background: #eef;
      --colab-remote-diff-background: #feffe0;
      --colab-merged-diff-background: #d7fed8;
      --colab-status-okay: var(--google-green-700);
      --ansi-black: rgb(0, 0, 0);
      --ansi-red: rgb(139, 0, 0);
      --ansi-green: rgb(0, 100, 0);
      --ansi-yellow: rgb(205, 205, 0);
      --ansi-blue: rgb(0, 0, 238);
      --ansi-magenta: rgb(205, 0, 205);
      --ansi-cyan: rgb(70, 130, 180);
      --ansi-gray: rgb(229, 229, 229);
      --ansi-bright-black: rgb(127, 127, 127);
      --ansi-bright-red: rgb(255, 0, 0);
      --ansi-bright-green: rgb(0, 208, 0);
      --ansi-bright-yellow: rgb(255, 255, 0);
      --ansi-bright-blue: rgb(92, 92, 255);
      --ansi-bright-magenta: rgb(255, 0, 255);
      --ansi-bright-cyan: rgb(0, 255, 255);
      --ansi-bright-gray: rgb(255, 255, 255);
      --gcp-success-icon-color: var(--google-green-700);
      --colab-comment-anchor-color: var(--google-blue-600);
      --colab-filled-button-ripple-color: #000;
      --colab-comment-highlight-color: #ffe082; /* material amber-200 */
      <!---->
      --colab-input-border-color: #a9a9a9;
      --colab-logo-dark: var(--google-orange-600);
      --colab-logo-light: var(--google-yellow-600);
      --colab-status-error: #e51c23;
      --colab-status-warning: #f09300;
      --colab-chrome-font-family: 'Roboto', 'Noto', sans-serif;
      --colab-google-sans-font-family: 'Google Sans', 'Roboto', 'Noto',
        sans-serif;
      --colab-chrome-font-size: 14px;
      <!---->
      --colab-icon-hover-color: var(--colab-primary-text-color);
      --colab-fresh-execution-count-color: var(--colab-primary-text-color);
      --colab-stale-execution-count-color: var(--colab-input-placeholder-color);
      --error-color: #b3261e;
      --primary-color: var(--google-blue-700);
      --google-green-700: #188038;
      --google-grey-800: #3c4043;
      --google-blue-200: #aecbfa;
      --google-blue-300: #8ab4f8;
      --google-blue-700: #1967d2;
      --google-blue-900: #174ea6;
      --hairline-button-secondary: var(--google-blue-900);
      --mdc-theme-primary: var(--primary-color);
      --mdc-theme-on-primary: var(--colab-primary-surface-color);
      --md-sys-color-primary: var(--primary-color);
      --md-sys-color-on-primary: var(--colab-primary-surface-color);
    }
    html[theme='dark'] {
      <!---->
      --colab-anchor-color: var(--paper-blue-300);
      --colab-callout-color: var(--google-blue-600);
      --code-cell-background: #1e1e1e;
      --colab-border-color: var(--paper-grey-700);
      --colab-bold-border-color: #eee;
      --colab-divider-color: var(--paper-grey-700);
      --colab-debugger-line-color: var(--paper-red-900);
      --colab-editor-focus-color: #282828;
      --colab-highlighted-surface-color: #525252;
      --colab-icon-color: var(--paper-grey-400);
      --colab-input-button-hover-background: #bdbdbd1a;
      --colab-input-placeholder-color: var(--colab-tertiary-text-color);
      --colab-primary-surface-color: #383838;
      --colab-primary-text-color: #d5d5d5;
      --colab-secondary-text-color: #f7f7f7;
      --colab-tertiary-text-color: #b3b3b3;
      --colab-secondary-surface-color: #454545;
      --colab-snackbar-surface-color: var(--colab-secondary-surface-color);
      --colab-scrollbar-color: rgba(255, 255, 255, 0.2);
      --colab-gutter-icon-color: #858585;
      --colab-active-execution-icon-color: var(--colab-icon-color);
      --colab-error-icon-color: #ef5350;
      --colab-title-color: #fff;
      --colab-form-field-underline-color: var(--paper-grey-600);
      --colab-diff-editor-background: #000;
      --colab-local-diff-background: #292935;
      --colab-remote-diff-background: #2e2f08;
      --colab-merged-diff-background: #09380b;
      --colab-status-okay: #00c752;
      --ansi-black: rgb(127, 127, 127);
      --ansi-red: rgb(255, 122, 136);
      --ansi-green: rgb(87, 187, 138);
      --ansi-yellow: rgb(255, 255, 102);
      --ansi-blue: rgb(130, 177, 255);
      --ansi-magenta: rgb(205, 0, 205);
      --ansi-cyan: rgb(153, 187, 215);
      --ansi-gray: rgb(229, 229, 229);
      --ansi-bright-green: rgb(0, 255, 0);
      --gcp-success-icon-color: #81c995;
      --colab-comment-anchor-color: var(--paper-blue-300);
      --colab-filled-button-ripple-color: #fff;
      --colab-comment-highlight-color: #1a237e; /* material indigo-900 */
      --error-color: var(--paper-deep-orange-a100);
      --primary-color: var(--google-blue-300);
      --hairline-button-secondary: var(--google-blue-200);
    }
    @media (prefers-color-scheme: dark) {
      html[theme='adaptive'] {
        <!---->
        --colab-anchor-color: var(--paper-blue-400);
        --colab-callout-color: var(--paper-blue-900);
        --code-cell-background: #1e1e1e;
        --colab-border-color: var(--paper-grey-700);
        --colab-bold-border-color: #eee;
        --colab-divider-color: var(--paper-grey-700);
        --colab-debugger-line-color: var(--paper-red-900);
        --colab-editor-focus-color: #282828;
        --colab-highlighted-surface-color: #525252;
        --colab-icon-color: var(--paper-grey-100);
        --colab-input-button-hover-background: #bdbdbd1a;
        --colab-input-placeholder-color: var(--colab-tertiary-text-color);
        --colab-primary-surface-color: #383838;
        --colab-primary-text-color: #d5d5d5;
        --colab-secondary-text-color: #f7f7f7;
        --colab-tertiary-text-color: #b3b3b3;
        --colab-secondary-surface-color: #454545;
        --colab-snackbar-surface-color: var(--colab-secondary-surface-color);
        --colab-scrollbar-color: rgba(255, 255, 255, 0.2);
        --colab-gutter-icon-color: #858585;
        --colab-execution-count: var(--colab-primary-text-color);
        --colab-active-execution-icon-color: var(--colab-icon-color);
        --colab-error-icon-color: #ef5350;
        --colab-title-color: #fff;
        --colab-form-field-underline-color: var(--paper-grey-600);
        --colab-diff-editor-background: #000;
        --colab-local-diff-background: #292935;
        --colab-remote-diff-background: #2e2f08;
        --colab-merged-diff-background: #09380b;
        --colab-status-okay: #00c752;
        --ansi-black: rgb(63, 63, 63);
        --ansi-red: rgb(255, 122, 136);
        --ansi-green: rgb(87, 187, 138);
        --ansi-yellow: rgb(255, 255, 102);
        --ansi-blue: rgb(130, 177, 255);
        --ansi-magenta: rgb(205, 0, 205);
        --ansi-cyan: rgb(153, 187, 215);
        --ansi-gray: rgb(229, 229, 229);
        --colab-filled-button-ripple-color: #fff;
        --error-color: var(--paper-deep-orange-a100);
        --primary-color: var(--google-blue-300);
        --hairline-button-secondary: var(--google-blue-200);
      }
    }
    html[editor='High Contrast Dark'] {
      --code-cell-background: #000;
      --colab-editor-focus-color: #f38518;
      --colab-editor-focus-border-thickness: 1px;
    }
    html[editor='Monokai'] {
      --code-cell-background: #272822;
    }
    html[editor='All Hallows Eve'] {
      --code-cell-background: #000;
    }
    html[editor='Amy'] {
      --code-cell-background: #200020;
    }
    html[editor='Birds Of Paradise'] {
      --code-cell-background: #372725;
    }
    html[editor='Blackboard'] {
      --code-cell-background: #0c1021;
    }
    html[editor='Clouds Midnight'] {
      --code-cell-background: #191919;
    }
    html[editor='Dominion Day'] {
      --code-cell-background: #372725;
    }
    html[editor='Espresso Libre'] {
      --code-cell-background: #2a211c;
    }
    html[editor='Merbivore'] {
      --code-cell-background: #161616;
    }
    html[editor='Night Owl'] {
      --code-cell-background: #011627;
    }
    html[editor='Oceanic Next'] {
      --code-cell-background: #1b2b34;
    }
    html[editor='Pastels On Dark'] {
      --code-cell-background: #211e1e;
    }
    html[editor='Space Cadet'] {
      --code-cell-background: #0d0d0d;
    }
    html[editor='Sunburst'] {
      --code-cell-background: #000;
    }
    html[editor='Twilight'] {
      --code-cell-background: #141414;
    }
    html[editor='Vibrant Ink'] {
      --code-cell-background: #000;
    }
    html[editor='Zenburnesque'] {
      --code-cell-background: #404040;
    }
    html[editor='Idle Fingers'] {
      --code-cell-background: #323232;
    }
    html[editor='Mono Industrial'] {
      --code-cell-background: #222c28;
    }
    html[editor='Synthwave84'] {
      --colab-primary-surface-color: #241b2f;
      --colab-secondary-surface-color: #49549539;
      --code-cell-background: #262335;
      --colab-highlighted-surface-color: #372d4b;
      --colab-border-color: #34294fb3;
      --colab-anchor-color: #f97e72;
      --ansi-red: #fe4450;
      --ansi-green: #72f1b8;
      --ansi-yellow: #f97e72;
      --ansi-blue: #03edf9;
      --ansi-magenta: #ff7edb;
      --ansi-cyan: #03edf9;
      --ansi-bright-red: #fe4450;
      --ansi-bright-green: #72f1b8;
      --ansi-bright-yellow: #fede5d;
      --ansi-bright-blue: #03edf9;
      --ansi-bright-magenta: #ff7edb;
      --ansi-bright-cyan: #03edf9;
    }
    <!---->
  <!----></style><script async="async" type="text/javascript" src="./CreditCardFraudDetection_files/editor.main.js.download"></script><script async="" type="text/javascript" charset="UTF-8" src="./CreditCardFraudDetection_files/rs=AA2YrTudKqHLqzv4lWeJojccMAuYy_XzXw" nonce=""></script><link type="text/css" rel="stylesheet" href="./CreditCardFraudDetection_files/rs=AA2YrTuYcFfJCynAX2YrQ8DsIOONT0X9WA"><link rel="stylesheet" type="text/css" data-name="vs/editor/editor.main" href="./CreditCardFraudDetection_files/editor.main.css"><script async="async" type="text/javascript" src="./CreditCardFraudDetection_files/editor.main.nls.js.download"></script><style type="text/css">.MathJax_Hover_Frame {border-radius: .25em; -webkit-border-radius: .25em; -moz-border-radius: .25em; -khtml-border-radius: .25em; box-shadow: 0px 0px 15px #83A; -webkit-box-shadow: 0px 0px 15px #83A; -moz-box-shadow: 0px 0px 15px #83A; -khtml-box-shadow: 0px 0px 15px #83A; border: 1px solid #A6D ! important; display: inline-block; position: absolute}
.MathJax_Menu_Button .MathJax_Hover_Arrow {position: absolute; cursor: pointer; display: inline-block; border: 2px solid #AAA; border-radius: 4px; -webkit-border-radius: 4px; -moz-border-radius: 4px; -khtml-border-radius: 4px; font-family: 'Courier New',Courier; font-size: 9px; color: #F0F0F0}
.MathJax_Menu_Button .MathJax_Hover_Arrow span {display: block; background-color: #AAA; border: 1px solid; border-radius: 3px; line-height: 0; padding: 4px}
.MathJax_Hover_Arrow:hover {color: white!important; border: 2px solid #CCC!important}
.MathJax_Hover_Arrow:hover span {background-color: #CCC!important}
</style><style type="text/css">#MathJax_About {position: fixed; left: 50%; width: auto; text-align: center; border: 3px outset; padding: 1em 2em; background-color: #DDDDDD; color: black; cursor: default; font-family: message-box; font-size: 120%; font-style: normal; text-indent: 0; text-transform: none; line-height: normal; letter-spacing: normal; word-spacing: normal; word-wrap: normal; white-space: nowrap; float: none; z-index: 201; border-radius: 15px; -webkit-border-radius: 15px; -moz-border-radius: 15px; -khtml-border-radius: 15px; box-shadow: 0px 10px 20px #808080; -webkit-box-shadow: 0px 10px 20px #808080; -moz-box-shadow: 0px 10px 20px #808080; -khtml-box-shadow: 0px 10px 20px #808080; filter: progid:DXImageTransform.Microsoft.dropshadow(OffX=2, OffY=2, Color='gray', Positive='true')}
#MathJax_About.MathJax_MousePost {outline: none}
.MathJax_Menu {position: absolute; background-color: white; color: black; width: auto; padding: 2px; border: 1px solid #CCCCCC; margin: 0; cursor: default; font: menu; text-align: left; text-indent: 0; text-transform: none; line-height: normal; letter-spacing: normal; word-spacing: normal; word-wrap: normal; white-space: nowrap; float: none; z-index: 201; box-shadow: 0px 10px 20px #808080; -webkit-box-shadow: 0px 10px 20px #808080; -moz-box-shadow: 0px 10px 20px #808080; -khtml-box-shadow: 0px 10px 20px #808080; filter: progid:DXImageTransform.Microsoft.dropshadow(OffX=2, OffY=2, Color='gray', Positive='true')}
.MathJax_MenuItem {padding: 2px 2em; background: transparent}
.MathJax_MenuArrow {position: absolute; right: .5em; padding-top: .25em; color: #666666; font-size: .75em}
.MathJax_MenuActive .MathJax_MenuArrow {color: white}
.MathJax_MenuArrow.RTL {left: .5em; right: auto}
.MathJax_MenuCheck {position: absolute; left: .7em}
.MathJax_MenuCheck.RTL {right: .7em; left: auto}
.MathJax_MenuRadioCheck {position: absolute; left: 1em}
.MathJax_MenuRadioCheck.RTL {right: 1em; left: auto}
.MathJax_MenuLabel {padding: 2px 2em 4px 1.33em; font-style: italic}
.MathJax_MenuRule {border-top: 1px solid #CCCCCC; margin: 4px 1px 0px}
.MathJax_MenuDisabled {color: GrayText}
.MathJax_MenuActive {background-color: Highlight; color: HighlightText}
.MathJax_MenuDisabled:focus, .MathJax_MenuLabel:focus {background-color: #E8E8E8}
.MathJax_ContextMenu:focus {outline: none}
.MathJax_ContextMenu .MathJax_MenuItem:focus {outline: none}
#MathJax_AboutClose {top: .2em; right: .2em}
.MathJax_Menu .MathJax_MenuClose {top: -10px; left: -10px}
.MathJax_MenuClose {position: absolute; cursor: pointer; display: inline-block; border: 2px solid #AAA; border-radius: 18px; -webkit-border-radius: 18px; -moz-border-radius: 18px; -khtml-border-radius: 18px; font-family: 'Courier New',Courier; font-size: 24px; color: #F0F0F0}
.MathJax_MenuClose span {display: block; background-color: #AAA; border: 1.5px solid; border-radius: 18px; -webkit-border-radius: 18px; -moz-border-radius: 18px; -khtml-border-radius: 18px; line-height: 0; padding: 8px 0 6px}
.MathJax_MenuClose:hover {color: white!important; border: 2px solid #CCC!important}
.MathJax_MenuClose:hover span {background-color: #CCC!important}
.MathJax_MenuClose:hover:focus {outline: none}
</style><style type="text/css">.MJX_Assistive_MathML {position: absolute!important; top: 0; left: 0; clip: rect(1px, 1px, 1px, 1px); padding: 1px 0 0 0!important; border: 0!important; height: 1px!important; width: 1px!important; overflow: hidden!important; display: block!important; -webkit-touch-callout: none; -webkit-user-select: none; -khtml-user-select: none; -moz-user-select: none; -ms-user-select: none; user-select: none}
.MJX_Assistive_MathML.MJX_Assistive_MathML_Block {width: 100%!important}
</style><style type="text/css">#MathJax_Zoom {position: absolute; background-color: #F0F0F0; overflow: auto; display: block; z-index: 301; padding: .5em; border: 1px solid black; margin: 0; font-weight: normal; font-style: normal; text-align: left; text-indent: 0; text-transform: none; line-height: normal; letter-spacing: normal; word-spacing: normal; word-wrap: normal; white-space: nowrap; float: none; -webkit-box-sizing: content-box; -moz-box-sizing: content-box; box-sizing: content-box; box-shadow: 5px 5px 15px #AAAAAA; -webkit-box-shadow: 5px 5px 15px #AAAAAA; -moz-box-shadow: 5px 5px 15px #AAAAAA; -khtml-box-shadow: 5px 5px 15px #AAAAAA; filter: progid:DXImageTransform.Microsoft.dropshadow(OffX=2, OffY=2, Color='gray', Positive='true')}
#MathJax_ZoomOverlay {position: absolute; left: 0; top: 0; z-index: 300; display: inline-block; width: 100%; height: 100%; border: 0; padding: 0; margin: 0; background-color: white; opacity: 0; filter: alpha(opacity=0)}
#MathJax_ZoomFrame {position: relative; display: inline-block; height: 0; width: 0}
#MathJax_ZoomEventTrap {position: absolute; left: 0; top: 0; z-index: 302; display: inline-block; border: 0; padding: 0; margin: 0; background-color: white; opacity: 0; filter: alpha(opacity=0)}
</style><style type="text/css">.MathJax_Preview {color: #888}
#MathJax_Message {position: fixed; left: 1em; bottom: 1.5em; background-color: #E6E6E6; border: 1px solid #959595; margin: 0px; padding: 2px 8px; z-index: 102; color: black; font-size: 80%; width: auto; white-space: nowrap}
#MathJax_MSIE_Frame {position: absolute; top: 0; left: 0; width: 0px; z-index: 101; border: 0px; margin: 0px; padding: 0px}
.MathJax_Error {color: #CC0000; font-style: italic}
</style><style type="text/css">.MJXp-script {font-size: .8em}
.MJXp-right {-webkit-transform-origin: right; -moz-transform-origin: right; -ms-transform-origin: right; -o-transform-origin: right; transform-origin: right}
.MJXp-bold {font-weight: bold}
.MJXp-italic {font-style: italic}
.MJXp-scr {font-family: MathJax_Script,'Times New Roman',Times,STIXGeneral,serif}
.MJXp-frak {font-family: MathJax_Fraktur,'Times New Roman',Times,STIXGeneral,serif}
.MJXp-sf {font-family: MathJax_SansSerif,'Times New Roman',Times,STIXGeneral,serif}
.MJXp-cal {font-family: MathJax_Caligraphic,'Times New Roman',Times,STIXGeneral,serif}
.MJXp-mono {font-family: MathJax_Typewriter,'Times New Roman',Times,STIXGeneral,serif}
.MJXp-largeop {font-size: 150%}
.MJXp-largeop.MJXp-int {vertical-align: -.2em}
.MJXp-math {display: inline-block; line-height: 1.2; text-indent: 0; font-family: 'Times New Roman',Times,STIXGeneral,serif; white-space: nowrap; border-collapse: collapse}
.MJXp-display {display: block; text-align: center; margin: 1em 0}
.MJXp-math span {display: inline-block}
.MJXp-box {display: block!important; text-align: center}
.MJXp-box:after {content: " "}
.MJXp-rule {display: block!important; margin-top: .1em}
.MJXp-char {display: block!important}
.MJXp-mo {margin: 0 .15em}
.MJXp-mfrac {margin: 0 .125em; vertical-align: .25em}
.MJXp-denom {display: inline-table!important; width: 100%}
.MJXp-denom > * {display: table-row!important}
.MJXp-surd {vertical-align: top}
.MJXp-surd > * {display: block!important}
.MJXp-script-box > *  {display: table!important; height: 50%}
.MJXp-script-box > * > * {display: table-cell!important; vertical-align: top}
.MJXp-script-box > *:last-child > * {vertical-align: bottom}
.MJXp-script-box > * > * > * {display: block!important}
.MJXp-mphantom {visibility: hidden}
.MJXp-munderover, .MJXp-munder {display: inline-table!important}
.MJXp-over {display: inline-block!important; text-align: center}
.MJXp-over > * {display: block!important}
.MJXp-munderover > *, .MJXp-munder > * {display: table-row!important}
.MJXp-mtable {vertical-align: .25em; margin: 0 .125em}
.MJXp-mtable > * {display: inline-table!important; vertical-align: middle}
.MJXp-mtr {display: table-row!important}
.MJXp-mtd {display: table-cell!important; text-align: center; padding: .5em 0 0 .5em}
.MJXp-mtr > .MJXp-mtd:first-child {padding-left: 0}
.MJXp-mtr:first-child > .MJXp-mtd {padding-top: 0}
.MJXp-mlabeledtr {display: table-row!important}
.MJXp-mlabeledtr > .MJXp-mtd:first-child {padding-left: 0}
.MJXp-mlabeledtr:first-child > .MJXp-mtd {padding-top: 0}
.MJXp-merror {background-color: #FFFF88; color: #CC0000; border: 1px solid #CC0000; padding: 1px 3px; font-style: normal; font-size: 90%}
.MJXp-scale0 {-webkit-transform: scaleX(.0); -moz-transform: scaleX(.0); -ms-transform: scaleX(.0); -o-transform: scaleX(.0); transform: scaleX(.0)}
.MJXp-scale1 {-webkit-transform: scaleX(.1); -moz-transform: scaleX(.1); -ms-transform: scaleX(.1); -o-transform: scaleX(.1); transform: scaleX(.1)}
.MJXp-scale2 {-webkit-transform: scaleX(.2); -moz-transform: scaleX(.2); -ms-transform: scaleX(.2); -o-transform: scaleX(.2); transform: scaleX(.2)}
.MJXp-scale3 {-webkit-transform: scaleX(.3); -moz-transform: scaleX(.3); -ms-transform: scaleX(.3); -o-transform: scaleX(.3); transform: scaleX(.3)}
.MJXp-scale4 {-webkit-transform: scaleX(.4); -moz-transform: scaleX(.4); -ms-transform: scaleX(.4); -o-transform: scaleX(.4); transform: scaleX(.4)}
.MJXp-scale5 {-webkit-transform: scaleX(.5); -moz-transform: scaleX(.5); -ms-transform: scaleX(.5); -o-transform: scaleX(.5); transform: scaleX(.5)}
.MJXp-scale6 {-webkit-transform: scaleX(.6); -moz-transform: scaleX(.6); -ms-transform: scaleX(.6); -o-transform: scaleX(.6); transform: scaleX(.6)}
.MJXp-scale7 {-webkit-transform: scaleX(.7); -moz-transform: scaleX(.7); -ms-transform: scaleX(.7); -o-transform: scaleX(.7); transform: scaleX(.7)}
.MJXp-scale8 {-webkit-transform: scaleX(.8); -moz-transform: scaleX(.8); -ms-transform: scaleX(.8); -o-transform: scaleX(.8); transform: scaleX(.8)}
.MJXp-scale9 {-webkit-transform: scaleX(.9); -moz-transform: scaleX(.9); -ms-transform: scaleX(.9); -o-transform: scaleX(.9); transform: scaleX(.9)}
.MathJax_PHTML .noError {vertical-align: ; font-size: 90%; text-align: left; color: black; padding: 1px 3px; border: 1px solid}
</style><script async="async" type="text/javascript" src="./CreditCardFraudDetection_files/markdown.js.download"></script><script src="./CreditCardFraudDetection_files/api.js.download" nonce=""></script><script src="./CreditCardFraudDetection_files/api(1).js.download" nonce=""></script><style type="text/css" media="screen" class="monaco-colors">.codicon-add:before { content: '\ea60'; }
.codicon-plus:before { content: '\ea60'; }
.codicon-gist-new:before { content: '\ea60'; }
.codicon-repo-create:before { content: '\ea60'; }
.codicon-lightbulb:before { content: '\ea61'; }
.codicon-light-bulb:before { content: '\ea61'; }
.codicon-repo:before { content: '\ea62'; }
.codicon-repo-delete:before { content: '\ea62'; }
.codicon-gist-fork:before { content: '\ea63'; }
.codicon-repo-forked:before { content: '\ea63'; }
.codicon-git-pull-request:before { content: '\ea64'; }
.codicon-git-pull-request-abandoned:before { content: '\ea64'; }
.codicon-record-keys:before { content: '\ea65'; }
.codicon-keyboard:before { content: '\ea65'; }
.codicon-tag:before { content: '\ea66'; }
.codicon-tag-add:before { content: '\ea66'; }
.codicon-tag-remove:before { content: '\ea66'; }
.codicon-person:before { content: '\ea67'; }
.codicon-person-follow:before { content: '\ea67'; }
.codicon-person-outline:before { content: '\ea67'; }
.codicon-person-filled:before { content: '\ea67'; }
.codicon-git-branch:before { content: '\ea68'; }
.codicon-git-branch-create:before { content: '\ea68'; }
.codicon-git-branch-delete:before { content: '\ea68'; }
.codicon-source-control:before { content: '\ea68'; }
.codicon-mirror:before { content: '\ea69'; }
.codicon-mirror-public:before { content: '\ea69'; }
.codicon-star:before { content: '\ea6a'; }
.codicon-star-add:before { content: '\ea6a'; }
.codicon-star-delete:before { content: '\ea6a'; }
.codicon-star-empty:before { content: '\ea6a'; }
.codicon-comment:before { content: '\ea6b'; }
.codicon-comment-add:before { content: '\ea6b'; }
.codicon-alert:before { content: '\ea6c'; }
.codicon-warning:before { content: '\ea6c'; }
.codicon-search:before { content: '\ea6d'; }
.codicon-search-save:before { content: '\ea6d'; }
.codicon-log-out:before { content: '\ea6e'; }
.codicon-sign-out:before { content: '\ea6e'; }
.codicon-log-in:before { content: '\ea6f'; }
.codicon-sign-in:before { content: '\ea6f'; }
.codicon-eye:before { content: '\ea70'; }
.codicon-eye-unwatch:before { content: '\ea70'; }
.codicon-eye-watch:before { content: '\ea70'; }
.codicon-circle-filled:before { content: '\ea71'; }
.codicon-primitive-dot:before { content: '\ea71'; }
.codicon-close-dirty:before { content: '\ea71'; }
.codicon-debug-breakpoint:before { content: '\ea71'; }
.codicon-debug-breakpoint-disabled:before { content: '\ea71'; }
.codicon-debug-hint:before { content: '\ea71'; }
.codicon-primitive-square:before { content: '\ea72'; }
.codicon-edit:before { content: '\ea73'; }
.codicon-pencil:before { content: '\ea73'; }
.codicon-info:before { content: '\ea74'; }
.codicon-issue-opened:before { content: '\ea74'; }
.codicon-gist-private:before { content: '\ea75'; }
.codicon-git-fork-private:before { content: '\ea75'; }
.codicon-lock:before { content: '\ea75'; }
.codicon-mirror-private:before { content: '\ea75'; }
.codicon-close:before { content: '\ea76'; }
.codicon-remove-close:before { content: '\ea76'; }
.codicon-x:before { content: '\ea76'; }
.codicon-repo-sync:before { content: '\ea77'; }
.codicon-sync:before { content: '\ea77'; }
.codicon-clone:before { content: '\ea78'; }
.codicon-desktop-download:before { content: '\ea78'; }
.codicon-beaker:before { content: '\ea79'; }
.codicon-microscope:before { content: '\ea79'; }
.codicon-vm:before { content: '\ea7a'; }
.codicon-device-desktop:before { content: '\ea7a'; }
.codicon-file:before { content: '\ea7b'; }
.codicon-file-text:before { content: '\ea7b'; }
.codicon-more:before { content: '\ea7c'; }
.codicon-ellipsis:before { content: '\ea7c'; }
.codicon-kebab-horizontal:before { content: '\ea7c'; }
.codicon-mail-reply:before { content: '\ea7d'; }
.codicon-reply:before { content: '\ea7d'; }
.codicon-organization:before { content: '\ea7e'; }
.codicon-organization-filled:before { content: '\ea7e'; }
.codicon-organization-outline:before { content: '\ea7e'; }
.codicon-new-file:before { content: '\ea7f'; }
.codicon-file-add:before { content: '\ea7f'; }
.codicon-new-folder:before { content: '\ea80'; }
.codicon-file-directory-create:before { content: '\ea80'; }
.codicon-trash:before { content: '\ea81'; }
.codicon-trashcan:before { content: '\ea81'; }
.codicon-history:before { content: '\ea82'; }
.codicon-clock:before { content: '\ea82'; }
.codicon-folder:before { content: '\ea83'; }
.codicon-file-directory:before { content: '\ea83'; }
.codicon-symbol-folder:before { content: '\ea83'; }
.codicon-logo-github:before { content: '\ea84'; }
.codicon-mark-github:before { content: '\ea84'; }
.codicon-github:before { content: '\ea84'; }
.codicon-terminal:before { content: '\ea85'; }
.codicon-console:before { content: '\ea85'; }
.codicon-repl:before { content: '\ea85'; }
.codicon-zap:before { content: '\ea86'; }
.codicon-symbol-event:before { content: '\ea86'; }
.codicon-error:before { content: '\ea87'; }
.codicon-stop:before { content: '\ea87'; }
.codicon-variable:before { content: '\ea88'; }
.codicon-symbol-variable:before { content: '\ea88'; }
.codicon-array:before { content: '\ea8a'; }
.codicon-symbol-array:before { content: '\ea8a'; }
.codicon-symbol-module:before { content: '\ea8b'; }
.codicon-symbol-package:before { content: '\ea8b'; }
.codicon-symbol-namespace:before { content: '\ea8b'; }
.codicon-symbol-object:before { content: '\ea8b'; }
.codicon-symbol-method:before { content: '\ea8c'; }
.codicon-symbol-function:before { content: '\ea8c'; }
.codicon-symbol-constructor:before { content: '\ea8c'; }
.codicon-symbol-boolean:before { content: '\ea8f'; }
.codicon-symbol-null:before { content: '\ea8f'; }
.codicon-symbol-numeric:before { content: '\ea90'; }
.codicon-symbol-number:before { content: '\ea90'; }
.codicon-symbol-structure:before { content: '\ea91'; }
.codicon-symbol-struct:before { content: '\ea91'; }
.codicon-symbol-parameter:before { content: '\ea92'; }
.codicon-symbol-type-parameter:before { content: '\ea92'; }
.codicon-symbol-key:before { content: '\ea93'; }
.codicon-symbol-text:before { content: '\ea93'; }
.codicon-symbol-reference:before { content: '\ea94'; }
.codicon-go-to-file:before { content: '\ea94'; }
.codicon-symbol-enum:before { content: '\ea95'; }
.codicon-symbol-value:before { content: '\ea95'; }
.codicon-symbol-ruler:before { content: '\ea96'; }
.codicon-symbol-unit:before { content: '\ea96'; }
.codicon-activate-breakpoints:before { content: '\ea97'; }
.codicon-archive:before { content: '\ea98'; }
.codicon-arrow-both:before { content: '\ea99'; }
.codicon-arrow-down:before { content: '\ea9a'; }
.codicon-arrow-left:before { content: '\ea9b'; }
.codicon-arrow-right:before { content: '\ea9c'; }
.codicon-arrow-small-down:before { content: '\ea9d'; }
.codicon-arrow-small-left:before { content: '\ea9e'; }
.codicon-arrow-small-right:before { content: '\ea9f'; }
.codicon-arrow-small-up:before { content: '\eaa0'; }
.codicon-arrow-up:before { content: '\eaa1'; }
.codicon-bell:before { content: '\eaa2'; }
.codicon-bold:before { content: '\eaa3'; }
.codicon-book:before { content: '\eaa4'; }
.codicon-bookmark:before { content: '\eaa5'; }
.codicon-debug-breakpoint-conditional-unverified:before { content: '\eaa6'; }
.codicon-debug-breakpoint-conditional:before { content: '\eaa7'; }
.codicon-debug-breakpoint-conditional-disabled:before { content: '\eaa7'; }
.codicon-debug-breakpoint-data-unverified:before { content: '\eaa8'; }
.codicon-debug-breakpoint-data:before { content: '\eaa9'; }
.codicon-debug-breakpoint-data-disabled:before { content: '\eaa9'; }
.codicon-debug-breakpoint-log-unverified:before { content: '\eaaa'; }
.codicon-debug-breakpoint-log:before { content: '\eaab'; }
.codicon-debug-breakpoint-log-disabled:before { content: '\eaab'; }
.codicon-briefcase:before { content: '\eaac'; }
.codicon-broadcast:before { content: '\eaad'; }
.codicon-browser:before { content: '\eaae'; }
.codicon-bug:before { content: '\eaaf'; }
.codicon-calendar:before { content: '\eab0'; }
.codicon-case-sensitive:before { content: '\eab1'; }
.codicon-check:before { content: '\eab2'; }
.codicon-checklist:before { content: '\eab3'; }
.codicon-chevron-down:before { content: '\eab4'; }
.codicon-drop-down-button:before { content: '\eab4'; }
.codicon-chevron-left:before { content: '\eab5'; }
.codicon-chevron-right:before { content: '\eab6'; }
.codicon-chevron-up:before { content: '\eab7'; }
.codicon-chrome-close:before { content: '\eab8'; }
.codicon-chrome-maximize:before { content: '\eab9'; }
.codicon-chrome-minimize:before { content: '\eaba'; }
.codicon-chrome-restore:before { content: '\eabb'; }
.codicon-circle:before { content: '\eabc'; }
.codicon-circle-outline:before { content: '\eabc'; }
.codicon-debug-breakpoint-unverified:before { content: '\eabc'; }
.codicon-circle-slash:before { content: '\eabd'; }
.codicon-circuit-board:before { content: '\eabe'; }
.codicon-clear-all:before { content: '\eabf'; }
.codicon-clippy:before { content: '\eac0'; }
.codicon-close-all:before { content: '\eac1'; }
.codicon-cloud-download:before { content: '\eac2'; }
.codicon-cloud-upload:before { content: '\eac3'; }
.codicon-code:before { content: '\eac4'; }
.codicon-collapse-all:before { content: '\eac5'; }
.codicon-color-mode:before { content: '\eac6'; }
.codicon-comment-discussion:before { content: '\eac7'; }
.codicon-compare-changes:before { content: '\eafd'; }
.codicon-credit-card:before { content: '\eac9'; }
.codicon-dash:before { content: '\eacc'; }
.codicon-dashboard:before { content: '\eacd'; }
.codicon-database:before { content: '\eace'; }
.codicon-debug-continue:before { content: '\eacf'; }
.codicon-debug-disconnect:before { content: '\ead0'; }
.codicon-debug-pause:before { content: '\ead1'; }
.codicon-debug-restart:before { content: '\ead2'; }
.codicon-debug-start:before { content: '\ead3'; }
.codicon-debug-step-into:before { content: '\ead4'; }
.codicon-debug-step-out:before { content: '\ead5'; }
.codicon-debug-step-over:before { content: '\ead6'; }
.codicon-debug-stop:before { content: '\ead7'; }
.codicon-debug:before { content: '\ead8'; }
.codicon-device-camera-video:before { content: '\ead9'; }
.codicon-device-camera:before { content: '\eada'; }
.codicon-device-mobile:before { content: '\eadb'; }
.codicon-diff-added:before { content: '\eadc'; }
.codicon-diff-ignored:before { content: '\eadd'; }
.codicon-diff-modified:before { content: '\eade'; }
.codicon-diff-removed:before { content: '\eadf'; }
.codicon-diff-renamed:before { content: '\eae0'; }
.codicon-diff:before { content: '\eae1'; }
.codicon-discard:before { content: '\eae2'; }
.codicon-editor-layout:before { content: '\eae3'; }
.codicon-empty-window:before { content: '\eae4'; }
.codicon-exclude:before { content: '\eae5'; }
.codicon-extensions:before { content: '\eae6'; }
.codicon-eye-closed:before { content: '\eae7'; }
.codicon-file-binary:before { content: '\eae8'; }
.codicon-file-code:before { content: '\eae9'; }
.codicon-file-media:before { content: '\eaea'; }
.codicon-file-pdf:before { content: '\eaeb'; }
.codicon-file-submodule:before { content: '\eaec'; }
.codicon-file-symlink-directory:before { content: '\eaed'; }
.codicon-file-symlink-file:before { content: '\eaee'; }
.codicon-file-zip:before { content: '\eaef'; }
.codicon-files:before { content: '\eaf0'; }
.codicon-filter:before { content: '\eaf1'; }
.codicon-flame:before { content: '\eaf2'; }
.codicon-fold-down:before { content: '\eaf3'; }
.codicon-fold-up:before { content: '\eaf4'; }
.codicon-fold:before { content: '\eaf5'; }
.codicon-folder-active:before { content: '\eaf6'; }
.codicon-folder-opened:before { content: '\eaf7'; }
.codicon-gear:before { content: '\eaf8'; }
.codicon-gift:before { content: '\eaf9'; }
.codicon-gist-secret:before { content: '\eafa'; }
.codicon-gist:before { content: '\eafb'; }
.codicon-git-commit:before { content: '\eafc'; }
.codicon-git-compare:before { content: '\eafd'; }
.codicon-git-merge:before { content: '\eafe'; }
.codicon-github-action:before { content: '\eaff'; }
.codicon-github-alt:before { content: '\eb00'; }
.codicon-globe:before { content: '\eb01'; }
.codicon-grabber:before { content: '\eb02'; }
.codicon-graph:before { content: '\eb03'; }
.codicon-gripper:before { content: '\eb04'; }
.codicon-heart:before { content: '\eb05'; }
.codicon-home:before { content: '\eb06'; }
.codicon-horizontal-rule:before { content: '\eb07'; }
.codicon-hubot:before { content: '\eb08'; }
.codicon-inbox:before { content: '\eb09'; }
.codicon-issue-closed:before { content: '\eba4'; }
.codicon-issue-reopened:before { content: '\eb0b'; }
.codicon-issues:before { content: '\eb0c'; }
.codicon-italic:before { content: '\eb0d'; }
.codicon-jersey:before { content: '\eb0e'; }
.codicon-json:before { content: '\eb0f'; }
.codicon-bracket:before { content: '\eb0f'; }
.codicon-kebab-vertical:before { content: '\eb10'; }
.codicon-key:before { content: '\eb11'; }
.codicon-law:before { content: '\eb12'; }
.codicon-lightbulb-autofix:before { content: '\eb13'; }
.codicon-link-external:before { content: '\eb14'; }
.codicon-link:before { content: '\eb15'; }
.codicon-list-ordered:before { content: '\eb16'; }
.codicon-list-unordered:before { content: '\eb17'; }
.codicon-live-share:before { content: '\eb18'; }
.codicon-loading:before { content: '\eb19'; }
.codicon-location:before { content: '\eb1a'; }
.codicon-mail-read:before { content: '\eb1b'; }
.codicon-mail:before { content: '\eb1c'; }
.codicon-markdown:before { content: '\eb1d'; }
.codicon-megaphone:before { content: '\eb1e'; }
.codicon-mention:before { content: '\eb1f'; }
.codicon-milestone:before { content: '\eb20'; }
.codicon-mortar-board:before { content: '\eb21'; }
.codicon-move:before { content: '\eb22'; }
.codicon-multiple-windows:before { content: '\eb23'; }
.codicon-mute:before { content: '\eb24'; }
.codicon-no-newline:before { content: '\eb25'; }
.codicon-note:before { content: '\eb26'; }
.codicon-octoface:before { content: '\eb27'; }
.codicon-open-preview:before { content: '\eb28'; }
.codicon-package:before { content: '\eb29'; }
.codicon-paintcan:before { content: '\eb2a'; }
.codicon-pin:before { content: '\eb2b'; }
.codicon-play:before { content: '\eb2c'; }
.codicon-run:before { content: '\eb2c'; }
.codicon-plug:before { content: '\eb2d'; }
.codicon-preserve-case:before { content: '\eb2e'; }
.codicon-preview:before { content: '\eb2f'; }
.codicon-project:before { content: '\eb30'; }
.codicon-pulse:before { content: '\eb31'; }
.codicon-question:before { content: '\eb32'; }
.codicon-quote:before { content: '\eb33'; }
.codicon-radio-tower:before { content: '\eb34'; }
.codicon-reactions:before { content: '\eb35'; }
.codicon-references:before { content: '\eb36'; }
.codicon-refresh:before { content: '\eb37'; }
.codicon-regex:before { content: '\eb38'; }
.codicon-remote-explorer:before { content: '\eb39'; }
.codicon-remote:before { content: '\eb3a'; }
.codicon-remove:before { content: '\eb3b'; }
.codicon-replace-all:before { content: '\eb3c'; }
.codicon-replace:before { content: '\eb3d'; }
.codicon-repo-clone:before { content: '\eb3e'; }
.codicon-repo-force-push:before { content: '\eb3f'; }
.codicon-repo-pull:before { content: '\eb40'; }
.codicon-repo-push:before { content: '\eb41'; }
.codicon-report:before { content: '\eb42'; }
.codicon-request-changes:before { content: '\eb43'; }
.codicon-rocket:before { content: '\eb44'; }
.codicon-root-folder-opened:before { content: '\eb45'; }
.codicon-root-folder:before { content: '\eb46'; }
.codicon-rss:before { content: '\eb47'; }
.codicon-ruby:before { content: '\eb48'; }
.codicon-save-all:before { content: '\eb49'; }
.codicon-save-as:before { content: '\eb4a'; }
.codicon-save:before { content: '\eb4b'; }
.codicon-screen-full:before { content: '\eb4c'; }
.codicon-screen-normal:before { content: '\eb4d'; }
.codicon-search-stop:before { content: '\eb4e'; }
.codicon-server:before { content: '\eb50'; }
.codicon-settings-gear:before { content: '\eb51'; }
.codicon-settings:before { content: '\eb52'; }
.codicon-shield:before { content: '\eb53'; }
.codicon-smiley:before { content: '\eb54'; }
.codicon-sort-precedence:before { content: '\eb55'; }
.codicon-split-horizontal:before { content: '\eb56'; }
.codicon-split-vertical:before { content: '\eb57'; }
.codicon-squirrel:before { content: '\eb58'; }
.codicon-star-full:before { content: '\eb59'; }
.codicon-star-half:before { content: '\eb5a'; }
.codicon-symbol-class:before { content: '\eb5b'; }
.codicon-symbol-color:before { content: '\eb5c'; }
.codicon-symbol-customcolor:before { content: '\eb5c'; }
.codicon-symbol-constant:before { content: '\eb5d'; }
.codicon-symbol-enum-member:before { content: '\eb5e'; }
.codicon-symbol-field:before { content: '\eb5f'; }
.codicon-symbol-file:before { content: '\eb60'; }
.codicon-symbol-interface:before { content: '\eb61'; }
.codicon-symbol-keyword:before { content: '\eb62'; }
.codicon-symbol-misc:before { content: '\eb63'; }
.codicon-symbol-operator:before { content: '\eb64'; }
.codicon-symbol-property:before { content: '\eb65'; }
.codicon-wrench:before { content: '\eb65'; }
.codicon-wrench-subaction:before { content: '\eb65'; }
.codicon-symbol-snippet:before { content: '\eb66'; }
.codicon-tasklist:before { content: '\eb67'; }
.codicon-telescope:before { content: '\eb68'; }
.codicon-text-size:before { content: '\eb69'; }
.codicon-three-bars:before { content: '\eb6a'; }
.codicon-thumbsdown:before { content: '\eb6b'; }
.codicon-thumbsup:before { content: '\eb6c'; }
.codicon-tools:before { content: '\eb6d'; }
.codicon-triangle-down:before { content: '\eb6e'; }
.codicon-triangle-left:before { content: '\eb6f'; }
.codicon-triangle-right:before { content: '\eb70'; }
.codicon-triangle-up:before { content: '\eb71'; }
.codicon-twitter:before { content: '\eb72'; }
.codicon-unfold:before { content: '\eb73'; }
.codicon-unlock:before { content: '\eb74'; }
.codicon-unmute:before { content: '\eb75'; }
.codicon-unverified:before { content: '\eb76'; }
.codicon-verified:before { content: '\eb77'; }
.codicon-versions:before { content: '\eb78'; }
.codicon-vm-active:before { content: '\eb79'; }
.codicon-vm-outline:before { content: '\eb7a'; }
.codicon-vm-running:before { content: '\eb7b'; }
.codicon-watch:before { content: '\eb7c'; }
.codicon-whitespace:before { content: '\eb7d'; }
.codicon-whole-word:before { content: '\eb7e'; }
.codicon-window:before { content: '\eb7f'; }
.codicon-word-wrap:before { content: '\eb80'; }
.codicon-zoom-in:before { content: '\eb81'; }
.codicon-zoom-out:before { content: '\eb82'; }
.codicon-list-filter:before { content: '\eb83'; }
.codicon-list-flat:before { content: '\eb84'; }
.codicon-list-selection:before { content: '\eb85'; }
.codicon-selection:before { content: '\eb85'; }
.codicon-list-tree:before { content: '\eb86'; }
.codicon-debug-breakpoint-function-unverified:before { content: '\eb87'; }
.codicon-debug-breakpoint-function:before { content: '\eb88'; }
.codicon-debug-breakpoint-function-disabled:before { content: '\eb88'; }
.codicon-debug-stackframe-active:before { content: '\eb89'; }
.codicon-circle-small-filled:before { content: '\eb8a'; }
.codicon-debug-stackframe-dot:before { content: '\eb8a'; }
.codicon-debug-stackframe:before { content: '\eb8b'; }
.codicon-debug-stackframe-focused:before { content: '\eb8b'; }
.codicon-debug-breakpoint-unsupported:before { content: '\eb8c'; }
.codicon-symbol-string:before { content: '\eb8d'; }
.codicon-debug-reverse-continue:before { content: '\eb8e'; }
.codicon-debug-step-back:before { content: '\eb8f'; }
.codicon-debug-restart-frame:before { content: '\eb90'; }
.codicon-call-incoming:before { content: '\eb92'; }
.codicon-call-outgoing:before { content: '\eb93'; }
.codicon-menu:before { content: '\eb94'; }
.codicon-expand-all:before { content: '\eb95'; }
.codicon-feedback:before { content: '\eb96'; }
.codicon-group-by-ref-type:before { content: '\eb97'; }
.codicon-ungroup-by-ref-type:before { content: '\eb98'; }
.codicon-account:before { content: '\eb99'; }
.codicon-bell-dot:before { content: '\eb9a'; }
.codicon-debug-console:before { content: '\eb9b'; }
.codicon-library:before { content: '\eb9c'; }
.codicon-output:before { content: '\eb9d'; }
.codicon-run-all:before { content: '\eb9e'; }
.codicon-sync-ignored:before { content: '\eb9f'; }
.codicon-pinned:before { content: '\eba0'; }
.codicon-github-inverted:before { content: '\eba1'; }
.codicon-debug-alt:before { content: '\eb91'; }
.codicon-server-process:before { content: '\eba2'; }
.codicon-server-environment:before { content: '\eba3'; }
.codicon-pass:before { content: '\eba4'; }
.codicon-stop-circle:before { content: '\eba5'; }
.codicon-play-circle:before { content: '\eba6'; }
.codicon-record:before { content: '\eba7'; }
.codicon-debug-alt-small:before { content: '\eba8'; }
.codicon-vm-connect:before { content: '\eba9'; }
.codicon-cloud:before { content: '\ebaa'; }
.codicon-merge:before { content: '\ebab'; }
.codicon-export:before { content: '\ebac'; }
.codicon-graph-left:before { content: '\ebad'; }
.codicon-magnet:before { content: '\ebae'; }
.codicon-notebook:before { content: '\ebaf'; }
.codicon-redo:before { content: '\ebb0'; }
.codicon-check-all:before { content: '\ebb1'; }
.codicon-pinned-dirty:before { content: '\ebb2'; }
.codicon-pass-filled:before { content: '\ebb3'; }
.codicon-circle-large-filled:before { content: '\ebb4'; }
.codicon-circle-large:before { content: '\ebb5'; }
.codicon-circle-large-outline:before { content: '\ebb5'; }
.codicon-combine:before { content: '\ebb6'; }
.codicon-gather:before { content: '\ebb6'; }
.codicon-table:before { content: '\ebb7'; }
.codicon-variable-group:before { content: '\ebb8'; }
.codicon-type-hierarchy:before { content: '\ebb9'; }
.codicon-type-hierarchy-sub:before { content: '\ebba'; }
.codicon-type-hierarchy-super:before { content: '\ebbb'; }
.codicon-git-pull-request-create:before { content: '\ebbc'; }
.codicon-run-above:before { content: '\ebbd'; }
.codicon-run-below:before { content: '\ebbe'; }
.codicon-notebook-template:before { content: '\ebbf'; }
.codicon-debug-rerun:before { content: '\ebc0'; }
.codicon-workspace-trusted:before { content: '\ebc1'; }
.codicon-workspace-untrusted:before { content: '\ebc2'; }
.codicon-workspace-unspecified:before { content: '\ebc3'; }
.codicon-terminal-cmd:before { content: '\ebc4'; }
.codicon-terminal-debian:before { content: '\ebc5'; }
.codicon-terminal-linux:before { content: '\ebc6'; }
.codicon-terminal-powershell:before { content: '\ebc7'; }
.codicon-terminal-tmux:before { content: '\ebc8'; }
.codicon-terminal-ubuntu:before { content: '\ebc9'; }
.codicon-terminal-bash:before { content: '\ebca'; }
.codicon-arrow-swap:before { content: '\ebcb'; }
.codicon-copy:before { content: '\ebcc'; }
.codicon-person-add:before { content: '\ebcd'; }
.codicon-filter-filled:before { content: '\ebce'; }
.codicon-wand:before { content: '\ebcf'; }
.codicon-debug-line-by-line:before { content: '\ebd0'; }
.codicon-inspect:before { content: '\ebd1'; }
.codicon-layers:before { content: '\ebd2'; }
.codicon-layers-dot:before { content: '\ebd3'; }
.codicon-layers-active:before { content: '\ebd4'; }
.codicon-compass:before { content: '\ebd5'; }
.codicon-compass-dot:before { content: '\ebd6'; }
.codicon-compass-active:before { content: '\ebd7'; }
.codicon-azure:before { content: '\ebd8'; }
.codicon-issue-draft:before { content: '\ebd9'; }
.codicon-git-pull-request-closed:before { content: '\ebda'; }
.codicon-git-pull-request-draft:before { content: '\ebdb'; }
.codicon-debug-all:before { content: '\ebdc'; }
.codicon-debug-coverage:before { content: '\ebdd'; }
.codicon-run-errors:before { content: '\ebde'; }
.codicon-folder-library:before { content: '\ebdf'; }
.codicon-debug-continue-small:before { content: '\ebe0'; }
.codicon-beaker-stop:before { content: '\ebe1'; }
.codicon-graph-line:before { content: '\ebe2'; }
.codicon-graph-scatter:before { content: '\ebe3'; }
.codicon-pie-chart:before { content: '\ebe4'; }
.codicon-bracket-dot:before { content: '\ebe5'; }
.codicon-bracket-error:before { content: '\ebe6'; }
.codicon-lock-small:before { content: '\ebe7'; }
.codicon-azure-devops:before { content: '\ebe8'; }
.codicon-verified-filled:before { content: '\ebe9'; }
.codicon-newline:before { content: '\ebea'; }
.codicon-layout:before { content: '\ebeb'; }
.codicon-layout-activitybar-left:before { content: '\ebec'; }
.codicon-layout-activitybar-right:before { content: '\ebed'; }
.codicon-layout-panel-left:before { content: '\ebee'; }
.codicon-layout-panel-center:before { content: '\ebef'; }
.codicon-layout-panel-justify:before { content: '\ebf0'; }
.codicon-layout-panel-right:before { content: '\ebf1'; }
.codicon-layout-panel:before { content: '\ebf2'; }
.codicon-layout-sidebar-left:before { content: '\ebf3'; }
.codicon-layout-sidebar-right:before { content: '\ebf4'; }
.codicon-layout-statusbar:before { content: '\ebf5'; }
.codicon-layout-menubar:before { content: '\ebf6'; }
.codicon-layout-centered:before { content: '\ebf7'; }
.codicon-layout-sidebar-right-off:before { content: '\ec00'; }
.codicon-layout-panel-off:before { content: '\ec01'; }
.codicon-layout-sidebar-left-off:before { content: '\ec02'; }
.codicon-target:before { content: '\ebf8'; }
.codicon-indent:before { content: '\ebf9'; }
.codicon-record-small:before { content: '\ebfa'; }
.codicon-error-small:before { content: '\ebfb'; }
.codicon-arrow-circle-down:before { content: '\ebfc'; }
.codicon-arrow-circle-left:before { content: '\ebfd'; }
.codicon-arrow-circle-right:before { content: '\ebfe'; }
.codicon-arrow-circle-up:before { content: '\ebff'; }
.codicon-heart-filled:before { content: '\ec04'; }
.codicon-map:before { content: '\ec05'; }
.codicon-map-filled:before { content: '\ec06'; }
.codicon-circle-small:before { content: '\ec07'; }
.codicon-bell-slash:before { content: '\ec08'; }
.codicon-bell-slash-dot:before { content: '\ec09'; }
.codicon-comment-unresolved:before { content: '\ec0a'; }
.codicon-git-pull-request-go-to-changes:before { content: '\ec0b'; }
.codicon-git-pull-request-new-changes:before { content: '\ec0c'; }
.codicon-search-fuzzy:before { content: '\ec0d'; }
.codicon-comment-draft:before { content: '\ec0e'; }
.codicon-send:before { content: '\ec0f'; }
.codicon-sparkle:before { content: '\ec10'; }
.codicon-insert:before { content: '\ec11'; }
.codicon-dialog-error:before { content: '\ea87'; }
.codicon-dialog-warning:before { content: '\ea6c'; }
.codicon-dialog-info:before { content: '\ea74'; }
.codicon-dialog-close:before { content: '\ea76'; }
.codicon-tree-item-expanded:before { content: '\eab4'; }
.codicon-tree-filter-on-type-on:before { content: '\eb83'; }
.codicon-tree-filter-on-type-off:before { content: '\eb85'; }
.codicon-tree-filter-clear:before { content: '\ea76'; }
.codicon-tree-item-loading:before { content: '\eb19'; }
.codicon-menu-selection:before { content: '\eab2'; }
.codicon-menu-submenu:before { content: '\eab6'; }
.codicon-menubar-more:before { content: '\ea7c'; }
.codicon-scrollbar-button-left:before { content: '\eb6f'; }
.codicon-scrollbar-button-right:before { content: '\eb70'; }
.codicon-scrollbar-button-up:before { content: '\eb71'; }
.codicon-scrollbar-button-down:before { content: '\eb6e'; }
.codicon-toolbar-more:before { content: '\ea7c'; }
.codicon-quick-input-back:before { content: '\ea9b'; }
.codicon-widget-close:before { content: '\ea76'; }
.codicon-goto-previous-location:before { content: '\eaa1'; }
.codicon-goto-next-location:before { content: '\ea9a'; }
.codicon-diff-review-insert:before { content: '\ea60'; }
.codicon-diff-review-remove:before { content: '\eb3b'; }
.codicon-diff-review-close:before { content: '\ea76'; }
.codicon-parameter-hints-next:before { content: '\eab4'; }
.codicon-parameter-hints-previous:before { content: '\eab7'; }
.codicon-suggest-more-info:before { content: '\eab6'; }
.codicon-inline-suggestion-hints-next:before { content: '\eab6'; }
.codicon-inline-suggestion-hints-previous:before { content: '\eab5'; }
.codicon-diff-insert:before { content: '\ea60'; }
.codicon-diff-remove:before { content: '\eb3b'; }
.codicon-find-selection:before { content: '\eb85'; }
.codicon-find-collapsed:before { content: '\eab6'; }
.codicon-find-expanded:before { content: '\eab4'; }
.codicon-find-replace:before { content: '\eb3d'; }
.codicon-find-replace-all:before { content: '\eb3c'; }
.codicon-find-previous-match:before { content: '\eaa1'; }
.codicon-find-next-match:before { content: '\ea9a'; }
.codicon-folding-expanded:before { content: '\eab4'; }
.codicon-folding-collapsed:before { content: '\eab6'; }
.codicon-folding-manual-collapsed:before { content: '\eab6'; }
.codicon-folding-manual-expanded:before { content: '\eab4'; }
.codicon-marker-navigation-next:before { content: '\ea9a'; }
.codicon-marker-navigation-previous:before { content: '\eaa1'; }
.codicon-extensions-warning-message:before { content: '\ea6c'; }
.monaco-editor .inputarea.ime-input { background-color: #1e1e1e; }
.monaco-editor .view-overlays .current-line { border: 2px solid #282828; }
.monaco-editor .margin-view-overlays .current-line-margin { border: 2px solid #282828; }
.monaco-editor .bracket-indent-guide.lvl-0 { --guide-color: rgba(255, 215, 0, 0.3); --guide-color-active: #ffd700; }
.monaco-editor .bracket-indent-guide.lvl-1 { --guide-color: rgba(218, 112, 214, 0.3); --guide-color-active: #da70d6; }
.monaco-editor .bracket-indent-guide.lvl-2 { --guide-color: rgba(23, 159, 255, 0.3); --guide-color-active: #179fff; }
.monaco-editor .bracket-indent-guide.lvl-3 { --guide-color: rgba(255, 215, 0, 0.3); --guide-color-active: #ffd700; }
.monaco-editor .bracket-indent-guide.lvl-4 { --guide-color: rgba(218, 112, 214, 0.3); --guide-color-active: #da70d6; }
.monaco-editor .bracket-indent-guide.lvl-5 { --guide-color: rgba(23, 159, 255, 0.3); --guide-color-active: #179fff; }
.monaco-editor .bracket-indent-guide.lvl-6 { --guide-color: rgba(255, 215, 0, 0.3); --guide-color-active: #ffd700; }
.monaco-editor .bracket-indent-guide.lvl-7 { --guide-color: rgba(218, 112, 214, 0.3); --guide-color-active: #da70d6; }
.monaco-editor .bracket-indent-guide.lvl-8 { --guide-color: rgba(23, 159, 255, 0.3); --guide-color-active: #179fff; }
.monaco-editor .bracket-indent-guide.lvl-9 { --guide-color: rgba(255, 215, 0, 0.3); --guide-color-active: #ffd700; }
.monaco-editor .bracket-indent-guide.lvl-10 { --guide-color: rgba(218, 112, 214, 0.3); --guide-color-active: #da70d6; }
.monaco-editor .bracket-indent-guide.lvl-11 { --guide-color: rgba(23, 159, 255, 0.3); --guide-color-active: #179fff; }
.monaco-editor .bracket-indent-guide.lvl-12 { --guide-color: rgba(255, 215, 0, 0.3); --guide-color-active: #ffd700; }
.monaco-editor .bracket-indent-guide.lvl-13 { --guide-color: rgba(218, 112, 214, 0.3); --guide-color-active: #da70d6; }
.monaco-editor .bracket-indent-guide.lvl-14 { --guide-color: rgba(23, 159, 255, 0.3); --guide-color-active: #179fff; }
.monaco-editor .bracket-indent-guide.lvl-15 { --guide-color: rgba(255, 215, 0, 0.3); --guide-color-active: #ffd700; }
.monaco-editor .bracket-indent-guide.lvl-16 { --guide-color: rgba(218, 112, 214, 0.3); --guide-color-active: #da70d6; }
.monaco-editor .bracket-indent-guide.lvl-17 { --guide-color: rgba(23, 159, 255, 0.3); --guide-color-active: #179fff; }
.monaco-editor .bracket-indent-guide.lvl-18 { --guide-color: rgba(255, 215, 0, 0.3); --guide-color-active: #ffd700; }
.monaco-editor .bracket-indent-guide.lvl-19 { --guide-color: rgba(218, 112, 214, 0.3); --guide-color-active: #da70d6; }
.monaco-editor .bracket-indent-guide.lvl-20 { --guide-color: rgba(23, 159, 255, 0.3); --guide-color-active: #179fff; }
.monaco-editor .bracket-indent-guide.lvl-21 { --guide-color: rgba(255, 215, 0, 0.3); --guide-color-active: #ffd700; }
.monaco-editor .bracket-indent-guide.lvl-22 { --guide-color: rgba(218, 112, 214, 0.3); --guide-color-active: #da70d6; }
.monaco-editor .bracket-indent-guide.lvl-23 { --guide-color: rgba(23, 159, 255, 0.3); --guide-color-active: #179fff; }
.monaco-editor .bracket-indent-guide.lvl-24 { --guide-color: rgba(255, 215, 0, 0.3); --guide-color-active: #ffd700; }
.monaco-editor .bracket-indent-guide.lvl-25 { --guide-color: rgba(218, 112, 214, 0.3); --guide-color-active: #da70d6; }
.monaco-editor .bracket-indent-guide.lvl-26 { --guide-color: rgba(23, 159, 255, 0.3); --guide-color-active: #179fff; }
.monaco-editor .bracket-indent-guide.lvl-27 { --guide-color: rgba(255, 215, 0, 0.3); --guide-color-active: #ffd700; }
.monaco-editor .bracket-indent-guide.lvl-28 { --guide-color: rgba(218, 112, 214, 0.3); --guide-color-active: #da70d6; }
.monaco-editor .bracket-indent-guide.lvl-29 { --guide-color: rgba(23, 159, 255, 0.3); --guide-color-active: #179fff; }
.monaco-editor .vertical { box-shadow: 1px 0 0 0 var(--guide-color) inset; }
.monaco-editor .horizontal-top { border-top: 1px solid var(--guide-color); }
.monaco-editor .horizontal-bottom { border-bottom: 1px solid var(--guide-color); }
.monaco-editor .vertical.indent-active { box-shadow: 1px 0 0 0 var(--guide-color-active) inset; }
.monaco-editor .horizontal-top.indent-active { border-top: 1px solid var(--guide-color-active); }
.monaco-editor .horizontal-bottom.indent-active { border-bottom: 1px solid var(--guide-color-active); }
.monaco-editor .line-numbers.dimmed-line-number { color: rgba(133, 133, 133, 0.4); }
.monaco-editor .cursors-layer .cursor { background-color: #aeafad; border-color: #aeafad; color: #515052; }
.monaco-editor .unexpected-closing-bracket { color: rgba(255, 18, 18, 0.8); }
.monaco-editor .bracket-highlighting-0 { color: #ffd700; }
.monaco-editor .bracket-highlighting-1 { color: #da70d6; }
.monaco-editor .bracket-highlighting-2 { color: #179fff; }
.monaco-editor .bracket-highlighting-3 { color: #ffd700; }
.monaco-editor .bracket-highlighting-4 { color: #da70d6; }
.monaco-editor .bracket-highlighting-5 { color: #179fff; }
.monaco-editor .bracket-highlighting-6 { color: #ffd700; }
.monaco-editor .bracket-highlighting-7 { color: #da70d6; }
.monaco-editor .bracket-highlighting-8 { color: #179fff; }
.monaco-editor .bracket-highlighting-9 { color: #ffd700; }
.monaco-editor .bracket-highlighting-10 { color: #da70d6; }
.monaco-editor .bracket-highlighting-11 { color: #179fff; }
.monaco-editor .bracket-highlighting-12 { color: #ffd700; }
.monaco-editor .bracket-highlighting-13 { color: #da70d6; }
.monaco-editor .bracket-highlighting-14 { color: #179fff; }
.monaco-editor .bracket-highlighting-15 { color: #ffd700; }
.monaco-editor .bracket-highlighting-16 { color: #da70d6; }
.monaco-editor .bracket-highlighting-17 { color: #179fff; }
.monaco-editor .bracket-highlighting-18 { color: #ffd700; }
.monaco-editor .bracket-highlighting-19 { color: #da70d6; }
.monaco-editor .bracket-highlighting-20 { color: #179fff; }
.monaco-editor .bracket-highlighting-21 { color: #ffd700; }
.monaco-editor .bracket-highlighting-22 { color: #da70d6; }
.monaco-editor .bracket-highlighting-23 { color: #179fff; }
.monaco-editor .bracket-highlighting-24 { color: #ffd700; }
.monaco-editor .bracket-highlighting-25 { color: #da70d6; }
.monaco-editor .bracket-highlighting-26 { color: #179fff; }
.monaco-editor .bracket-highlighting-27 { color: #ffd700; }
.monaco-editor .bracket-highlighting-28 { color: #da70d6; }
.monaco-editor .bracket-highlighting-29 { color: #179fff; }
.monaco-editor .squiggly-error { background: url("data:image/svg+xml,%3Csvg%20xmlns%3D'http%3A%2F%2Fwww.w3.org%2F2000%2Fsvg'%20viewBox%3D'0%200%206%203'%20enable-background%3D'new%200%200%206%203'%20height%3D'3'%20width%3D'6'%3E%3Cg%20fill%3D'%23f14c4c'%3E%3Cpolygon%20points%3D'5.5%2C0%202.5%2C3%201.1%2C3%204.1%2C0'%2F%3E%3Cpolygon%20points%3D'4%2C0%206%2C2%206%2C0.6%205.4%2C0'%2F%3E%3Cpolygon%20points%3D'0%2C2%201%2C3%202.4%2C3%200%2C0.6'%2F%3E%3C%2Fg%3E%3C%2Fsvg%3E") repeat-x bottom left; }
.monaco-editor .squiggly-warning { background: url("data:image/svg+xml,%3Csvg%20xmlns%3D'http%3A%2F%2Fwww.w3.org%2F2000%2Fsvg'%20viewBox%3D'0%200%206%203'%20enable-background%3D'new%200%200%206%203'%20height%3D'3'%20width%3D'6'%3E%3Cg%20fill%3D'%23cca700'%3E%3Cpolygon%20points%3D'5.5%2C0%202.5%2C3%201.1%2C3%204.1%2C0'%2F%3E%3Cpolygon%20points%3D'4%2C0%206%2C2%206%2C0.6%205.4%2C0'%2F%3E%3Cpolygon%20points%3D'0%2C2%201%2C3%202.4%2C3%200%2C0.6'%2F%3E%3C%2Fg%3E%3C%2Fsvg%3E") repeat-x bottom left; }
.monaco-editor .squiggly-info { background: url("data:image/svg+xml,%3Csvg%20xmlns%3D'http%3A%2F%2Fwww.w3.org%2F2000%2Fsvg'%20viewBox%3D'0%200%206%203'%20enable-background%3D'new%200%200%206%203'%20height%3D'3'%20width%3D'6'%3E%3Cg%20fill%3D'%233794ff'%3E%3Cpolygon%20points%3D'5.5%2C0%202.5%2C3%201.1%2C3%204.1%2C0'%2F%3E%3Cpolygon%20points%3D'4%2C0%206%2C2%206%2C0.6%205.4%2C0'%2F%3E%3Cpolygon%20points%3D'0%2C2%201%2C3%202.4%2C3%200%2C0.6'%2F%3E%3C%2Fg%3E%3C%2Fsvg%3E") repeat-x bottom left; }
.monaco-editor .squiggly-hint { background: url("data:image/svg+xml,%3Csvg%20xmlns%3D%22http%3A%2F%2Fwww.w3.org%2F2000%2Fsvg%22%20height%3D%223%22%20width%3D%2212%22%3E%3Cg%20fill%3D%22rgba(238%2C%20238%2C%20238%2C%200.7)%22%3E%3Ccircle%20cx%3D%221%22%20cy%3D%221%22%20r%3D%221%22%2F%3E%3Ccircle%20cx%3D%225%22%20cy%3D%221%22%20r%3D%221%22%2F%3E%3Ccircle%20cx%3D%229%22%20cy%3D%221%22%20r%3D%221%22%2F%3E%3C%2Fg%3E%3C%2Fsvg%3E") no-repeat bottom left; }
.monaco-editor.showUnused .squiggly-inline-unnecessary { opacity: 0.667; }
.monaco-editor .selectionHighlight { background-color: rgba(173, 214, 255, 0.07); }

	.monaco-editor .diagonal-fill {
		background-image: linear-gradient(
			-45deg,
			rgba(204, 204, 204, 0.2) 12.5%,
			#0000 12.5%, #0000 50%,
			rgba(204, 204, 204, 0.2) 50%, rgba(204, 204, 204, 0.2) 62.5%,
			#0000 62.5%, #0000 100%
		);
		background-size: 8px 8px;
	}
	
.monaco-editor .findMatch { background-color: rgba(234, 92, 0, 0.33); }
.monaco-editor .currentFindMatch { background-color: #515c6a; }
.monaco-editor .findScope { background-color: rgba(58, 61, 65, 0.4); }
.monaco-editor .find-widget { background-color: #252526; }
.monaco-editor .find-widget { box-shadow: 0 0 8px 2px rgba(0, 0, 0, 0.36); }
.monaco-editor .find-widget { color: #cccccc; }
.monaco-editor .find-widget.no-results .matchesCount { color: #f48771; }
.monaco-editor .find-widget .monaco-sash { background-color: #454545; }

		.monaco-editor .find-widget .button:not(.disabled):hover,
		.monaco-editor .find-widget .codicon-find-selection:hover {
			background-color: rgba(90, 93, 94, 0.31) !important;
		}
	
.monaco-editor .find-widget .monaco-inputbox.synthetic-focus { outline-color: #007fd4; }
.monaco-editor .monaco-hover .hover-row:not(:first-child):not(:empty) { border-top: 1px solid rgba(69, 69, 69, 0.5); }
.monaco-editor .monaco-hover hr { border-top: 1px solid rgba(69, 69, 69, 0.5); }
.monaco-editor .monaco-hover hr { border-bottom: 0px solid rgba(69, 69, 69, 0.5); }
.monaco-editor { --vscode-foreground: #cccccc;
--vscode-disabledForeground: rgba(204, 204, 204, 0.5);
--vscode-errorForeground: #f48771;
--vscode-descriptionForeground: rgba(204, 204, 204, 0.7);
--vscode-icon-foreground: #c5c5c5;
--vscode-focusBorder: #007fd4;
--vscode-textSeparator-foreground: rgba(255, 255, 255, 0.18);
--vscode-textLink-foreground: #3794ff;
--vscode-textLink-activeForeground: #3794ff;
--vscode-textPreformat-foreground: #d7ba7d;
--vscode-textBlockQuote-background: rgba(127, 127, 127, 0.1);
--vscode-textBlockQuote-border: rgba(0, 122, 204, 0.5);
--vscode-textCodeBlock-background: rgba(10, 10, 10, 0.4);
--vscode-widget-shadow: rgba(0, 0, 0, 0.36);
--vscode-input-background: #3c3c3c;
--vscode-input-foreground: #cccccc;
--vscode-inputOption-activeBorder: #007acc;
--vscode-inputOption-hoverBackground: rgba(90, 93, 94, 0.5);
--vscode-inputOption-activeBackground: rgba(0, 127, 212, 0.4);
--vscode-inputOption-activeForeground: #ffffff;
--vscode-input-placeholderForeground: rgba(204, 204, 204, 0.5);
--vscode-inputValidation-infoBackground: #063b49;
--vscode-inputValidation-infoBorder: #007acc;
--vscode-inputValidation-warningBackground: #352a05;
--vscode-inputValidation-warningBorder: #b89500;
--vscode-inputValidation-errorBackground: #5a1d1d;
--vscode-inputValidation-errorBorder: #be1100;
--vscode-dropdown-background: #3c3c3c;
--vscode-dropdown-foreground: #f0f0f0;
--vscode-dropdown-border: #3c3c3c;
--vscode-button-foreground: #ffffff;
--vscode-button-separator: rgba(255, 255, 255, 0.4);
--vscode-button-background: #0e639c;
--vscode-button-hoverBackground: #1177bb;
--vscode-button-secondaryForeground: #ffffff;
--vscode-button-secondaryBackground: #3a3d41;
--vscode-button-secondaryHoverBackground: #45494e;
--vscode-badge-background: #4d4d4d;
--vscode-badge-foreground: #ffffff;
--vscode-scrollbar-shadow: #000000;
--vscode-scrollbarSlider-background: rgba(121, 121, 121, 0.4);
--vscode-scrollbarSlider-hoverBackground: rgba(100, 100, 100, 0.7);
--vscode-scrollbarSlider-activeBackground: rgba(191, 191, 191, 0.4);
--vscode-progressBar-background: #0e70c0;
--vscode-editorError-foreground: #f14c4c;
--vscode-editorWarning-foreground: #cca700;
--vscode-editorInfo-foreground: #3794ff;
--vscode-editorHint-foreground: rgba(238, 238, 238, 0.7);
--vscode-sash-hoverBorder: #007fd4;
--vscode-editor-background: #1e1e1e;
--vscode-editor-foreground: #d4d4d4;
--vscode-editorStickyScroll-background: #1e1e1e;
--vscode-editorStickyScrollHover-background: #2a2d2e;
--vscode-editorWidget-background: #252526;
--vscode-editorWidget-foreground: #cccccc;
--vscode-editorWidget-border: #454545;
--vscode-quickInput-background: #252526;
--vscode-quickInput-foreground: #cccccc;
--vscode-quickInputTitle-background: rgba(255, 255, 255, 0.1);
--vscode-pickerGroup-foreground: #3794ff;
--vscode-pickerGroup-border: #3f3f46;
--vscode-keybindingLabel-background: rgba(128, 128, 128, 0.17);
--vscode-keybindingLabel-foreground: #cccccc;
--vscode-keybindingLabel-border: rgba(51, 51, 51, 0.6);
--vscode-keybindingLabel-bottomBorder: rgba(68, 68, 68, 0.6);
--vscode-editor-selectionBackground: #264f78;
--vscode-editor-inactiveSelectionBackground: #3a3d41;
--vscode-editor-selectionHighlightBackground: rgba(173, 214, 255, 0.15);
--vscode-editor-findMatchBackground: #515c6a;
--vscode-editor-findMatchHighlightBackground: rgba(234, 92, 0, 0.33);
--vscode-editor-findRangeHighlightBackground: rgba(58, 61, 65, 0.4);
--vscode-searchEditor-findMatchBackground: rgba(234, 92, 0, 0.22);
--vscode-search-resultsInfoForeground: rgba(204, 204, 204, 0.65);
--vscode-editor-hoverHighlightBackground: rgba(38, 79, 120, 0.25);
--vscode-editorHoverWidget-background: #252526;
--vscode-editorHoverWidget-foreground: #cccccc;
--vscode-editorHoverWidget-border: #454545;
--vscode-editorHoverWidget-statusBarBackground: #2c2c2d;
--vscode-editorLink-activeForeground: #4e94ce;
--vscode-editorInlayHint-foreground: #cccccc;
--vscode-editorInlayHint-background: rgba(77, 77, 77, 0.25);
--vscode-editorInlayHint-typeForeground: #cccccc;
--vscode-editorInlayHint-typeBackground: rgba(77, 77, 77, 0.25);
--vscode-editorInlayHint-parameterForeground: #cccccc;
--vscode-editorInlayHint-parameterBackground: rgba(77, 77, 77, 0.25);
--vscode-editorLightBulb-foreground: #ffcc00;
--vscode-editorLightBulbAutoFix-foreground: #75beff;
--vscode-diffEditor-insertedTextBackground: rgba(156, 204, 44, 0.13);
--vscode-diffEditor-removedTextBackground: rgba(255, 0, 0, 0.14);
--vscode-diffEditor-insertedLineBackground: rgba(156, 204, 44, 0.13);
--vscode-diffEditor-removedLineBackground: rgba(255, 0, 0, 0.14);
--vscode-diffEditor-diagonalFill: rgba(204, 204, 204, 0.2);
--vscode-diffEditor-unchangedRegionBackground: #3e3e3e;
--vscode-diffEditor-unchangedRegionForeground: #a3a2a2;
--vscode-diffEditor-unchangedCodeBackground: rgba(116, 116, 116, 0.16);
--vscode-list-focusOutline: #007fd4;
--vscode-list-activeSelectionBackground: #04395e;
--vscode-list-activeSelectionForeground: #ffffff;
--vscode-list-inactiveSelectionBackground: #37373d;
--vscode-list-hoverBackground: #2a2d2e;
--vscode-list-dropBackground: #062f4a;
--vscode-list-highlightForeground: #2aaaff;
--vscode-list-focusHighlightForeground: #2aaaff;
--vscode-list-invalidItemForeground: #b89500;
--vscode-list-errorForeground: #f88070;
--vscode-list-warningForeground: #cca700;
--vscode-listFilterWidget-background: #252526;
--vscode-listFilterWidget-outline: rgba(0, 0, 0, 0);
--vscode-listFilterWidget-noMatchesOutline: #be1100;
--vscode-listFilterWidget-shadow: rgba(0, 0, 0, 0.36);
--vscode-list-filterMatchBackground: rgba(234, 92, 0, 0.33);
--vscode-tree-indentGuidesStroke: #585858;
--vscode-tree-inactiveIndentGuidesStroke: rgba(88, 88, 88, 0.4);
--vscode-tree-tableColumnsBorder: rgba(204, 204, 204, 0.13);
--vscode-tree-tableOddRowsBackground: rgba(204, 204, 204, 0.04);
--vscode-list-deemphasizedForeground: #8c8c8c;
--vscode-checkbox-background: #3c3c3c;
--vscode-checkbox-selectBackground: #252526;
--vscode-checkbox-foreground: #f0f0f0;
--vscode-checkbox-border: #3c3c3c;
--vscode-checkbox-selectBorder: #c5c5c5;
--vscode-quickInputList-focusForeground: #ffffff;
--vscode-quickInputList-focusBackground: #04395e;
--vscode-menu-foreground: #f0f0f0;
--vscode-menu-background: #3c3c3c;
--vscode-menu-selectionForeground: #ffffff;
--vscode-menu-selectionBackground: #04395e;
--vscode-menu-separatorBackground: #606060;
--vscode-toolbar-hoverBackground: rgba(90, 93, 94, 0.31);
--vscode-toolbar-activeBackground: rgba(99, 102, 103, 0.31);
--vscode-editor-snippetTabstopHighlightBackground: rgba(124, 124, 124, 0.3);
--vscode-editor-snippetFinalTabstopHighlightBorder: #525252;
--vscode-breadcrumb-foreground: rgba(204, 204, 204, 0.8);
--vscode-breadcrumb-background: #1e1e1e;
--vscode-breadcrumb-focusForeground: #e0e0e0;
--vscode-breadcrumb-activeSelectionForeground: #e0e0e0;
--vscode-breadcrumbPicker-background: #252526;
--vscode-merge-currentHeaderBackground: rgba(64, 200, 174, 0.5);
--vscode-merge-currentContentBackground: rgba(64, 200, 174, 0.2);
--vscode-merge-incomingHeaderBackground: rgba(64, 166, 255, 0.5);
--vscode-merge-incomingContentBackground: rgba(64, 166, 255, 0.2);
--vscode-merge-commonHeaderBackground: rgba(96, 96, 96, 0.4);
--vscode-merge-commonContentBackground: rgba(96, 96, 96, 0.16);
--vscode-editorOverviewRuler-currentContentForeground: rgba(64, 200, 174, 0.5);
--vscode-editorOverviewRuler-incomingContentForeground: rgba(64, 166, 255, 0.5);
--vscode-editorOverviewRuler-commonContentForeground: rgba(96, 96, 96, 0.4);
--vscode-editorOverviewRuler-findMatchForeground: rgba(209, 134, 22, 0.49);
--vscode-editorOverviewRuler-selectionHighlightForeground: rgba(160, 160, 160, 0.8);
--vscode-minimap-findMatchHighlight: #d18616;
--vscode-minimap-selectionOccurrenceHighlight: #676767;
--vscode-minimap-selectionHighlight: #264f78;
--vscode-minimap-errorHighlight: rgba(255, 18, 18, 0.7);
--vscode-minimap-warningHighlight: #cca700;
--vscode-minimap-foregroundOpacity: #000000;
--vscode-minimapSlider-background: rgba(121, 121, 121, 0.2);
--vscode-minimapSlider-hoverBackground: rgba(100, 100, 100, 0.35);
--vscode-minimapSlider-activeBackground: rgba(191, 191, 191, 0.2);
--vscode-problemsErrorIcon-foreground: #f14c4c;
--vscode-problemsWarningIcon-foreground: #cca700;
--vscode-problemsInfoIcon-foreground: #3794ff;
--vscode-charts-foreground: #cccccc;
--vscode-charts-lines: rgba(204, 204, 204, 0.5);
--vscode-charts-red: #f14c4c;
--vscode-charts-blue: #3794ff;
--vscode-charts-yellow: #cca700;
--vscode-charts-orange: #d18616;
--vscode-charts-green: #89d185;
--vscode-charts-purple: #b180d7;
--vscode-symbolIcon-arrayForeground: #cccccc;
--vscode-symbolIcon-booleanForeground: #cccccc;
--vscode-symbolIcon-classForeground: #ee9d28;
--vscode-symbolIcon-colorForeground: #cccccc;
--vscode-symbolIcon-constantForeground: #cccccc;
--vscode-symbolIcon-constructorForeground: #b180d7;
--vscode-symbolIcon-enumeratorForeground: #ee9d28;
--vscode-symbolIcon-enumeratorMemberForeground: #75beff;
--vscode-symbolIcon-eventForeground: #ee9d28;
--vscode-symbolIcon-fieldForeground: #75beff;
--vscode-symbolIcon-fileForeground: #cccccc;
--vscode-symbolIcon-folderForeground: #cccccc;
--vscode-symbolIcon-functionForeground: #b180d7;
--vscode-symbolIcon-interfaceForeground: #75beff;
--vscode-symbolIcon-keyForeground: #cccccc;
--vscode-symbolIcon-keywordForeground: #cccccc;
--vscode-symbolIcon-methodForeground: #b180d7;
--vscode-symbolIcon-moduleForeground: #cccccc;
--vscode-symbolIcon-namespaceForeground: #cccccc;
--vscode-symbolIcon-nullForeground: #cccccc;
--vscode-symbolIcon-numberForeground: #cccccc;
--vscode-symbolIcon-objectForeground: #cccccc;
--vscode-symbolIcon-operatorForeground: #cccccc;
--vscode-symbolIcon-packageForeground: #cccccc;
--vscode-symbolIcon-propertyForeground: #cccccc;
--vscode-symbolIcon-referenceForeground: #cccccc;
--vscode-symbolIcon-snippetForeground: #cccccc;
--vscode-symbolIcon-stringForeground: #cccccc;
--vscode-symbolIcon-structForeground: #cccccc;
--vscode-symbolIcon-textForeground: #cccccc;
--vscode-symbolIcon-typeParameterForeground: #cccccc;
--vscode-symbolIcon-unitForeground: #cccccc;
--vscode-symbolIcon-variableForeground: #75beff;
--vscode-editor-lineHighlightBorder: #282828;
--vscode-editor-rangeHighlightBackground: rgba(255, 255, 255, 0.04);
--vscode-editor-symbolHighlightBackground: rgba(234, 92, 0, 0.33);
--vscode-editorCursor-foreground: #aeafad;
--vscode-editorWhitespace-foreground: rgba(227, 228, 226, 0.16);
--vscode-editorIndentGuide-background: #404040;
--vscode-editorIndentGuide-activeBackground: #707070;
--vscode-editorLineNumber-foreground: #858585;
--vscode-editorActiveLineNumber-foreground: #c6c6c6;
--vscode-editorLineNumber-activeForeground: #c6c6c6;
--vscode-editorRuler-foreground: #5a5a5a;
--vscode-editorCodeLens-foreground: #999999;
--vscode-editorBracketMatch-background: rgba(0, 100, 0, 0.1);
--vscode-editorBracketMatch-border: #888888;
--vscode-editorOverviewRuler-border: rgba(127, 127, 127, 0.3);
--vscode-editorGutter-background: #1e1e1e;
--vscode-editorUnnecessaryCode-opacity: rgba(0, 0, 0, 0.67);
--vscode-editorGhostText-foreground: rgba(255, 255, 255, 0.34);
--vscode-editorOverviewRuler-rangeHighlightForeground: rgba(0, 122, 204, 0.6);
--vscode-editorOverviewRuler-errorForeground: rgba(255, 18, 18, 0.7);
--vscode-editorOverviewRuler-warningForeground: #cca700;
--vscode-editorOverviewRuler-infoForeground: #3794ff;
--vscode-editorBracketHighlight-foreground1: #ffd700;
--vscode-editorBracketHighlight-foreground2: #da70d6;
--vscode-editorBracketHighlight-foreground3: #179fff;
--vscode-editorBracketHighlight-foreground4: rgba(0, 0, 0, 0);
--vscode-editorBracketHighlight-foreground5: rgba(0, 0, 0, 0);
--vscode-editorBracketHighlight-foreground6: rgba(0, 0, 0, 0);
--vscode-editorBracketHighlight-unexpectedBracket-foreground: rgba(255, 18, 18, 0.8);
--vscode-editorBracketPairGuide-background1: rgba(0, 0, 0, 0);
--vscode-editorBracketPairGuide-background2: rgba(0, 0, 0, 0);
--vscode-editorBracketPairGuide-background3: rgba(0, 0, 0, 0);
--vscode-editorBracketPairGuide-background4: rgba(0, 0, 0, 0);
--vscode-editorBracketPairGuide-background5: rgba(0, 0, 0, 0);
--vscode-editorBracketPairGuide-background6: rgba(0, 0, 0, 0);
--vscode-editorBracketPairGuide-activeBackground1: rgba(0, 0, 0, 0);
--vscode-editorBracketPairGuide-activeBackground2: rgba(0, 0, 0, 0);
--vscode-editorBracketPairGuide-activeBackground3: rgba(0, 0, 0, 0);
--vscode-editorBracketPairGuide-activeBackground4: rgba(0, 0, 0, 0);
--vscode-editorBracketPairGuide-activeBackground5: rgba(0, 0, 0, 0);
--vscode-editorBracketPairGuide-activeBackground6: rgba(0, 0, 0, 0);
--vscode-editorUnicodeHighlight-border: #bd9b03;
--vscode-editorUnicodeHighlight-background: rgba(189, 155, 3, 0.15);
--vscode-editorOverviewRuler-bracketMatchForeground: #a0a0a0;
--vscode-editor-linkedEditingBackground: rgba(255, 0, 0, 0.3);
--vscode-editor-wordHighlightBackground: rgba(87, 87, 87, 0.72);
--vscode-editor-wordHighlightStrongBackground: rgba(0, 73, 114, 0.72);
--vscode-editor-wordHighlightTextBackground: rgba(87, 87, 87, 0.72);
--vscode-editorOverviewRuler-wordHighlightForeground: rgba(160, 160, 160, 0.8);
--vscode-editorOverviewRuler-wordHighlightStrongForeground: rgba(192, 160, 192, 0.8);
--vscode-editorOverviewRuler-wordHighlightTextForeground: rgba(160, 160, 160, 0.8);
--vscode-peekViewTitle-background: #252526;
--vscode-peekViewTitleLabel-foreground: #ffffff;
--vscode-peekViewTitleDescription-foreground: rgba(204, 204, 204, 0.7);
--vscode-peekView-border: #3794ff;
--vscode-peekViewResult-background: #252526;
--vscode-peekViewResult-lineForeground: #bbbbbb;
--vscode-peekViewResult-fileForeground: #ffffff;
--vscode-peekViewResult-selectionBackground: rgba(51, 153, 255, 0.2);
--vscode-peekViewResult-selectionForeground: #ffffff;
--vscode-peekViewEditor-background: #001f33;
--vscode-peekViewEditorGutter-background: #001f33;
--vscode-peekViewEditorStickyScroll-background: #001f33;
--vscode-peekViewResult-matchHighlightBackground: rgba(234, 92, 0, 0.3);
--vscode-peekViewEditor-matchHighlightBackground: rgba(255, 143, 0, 0.6);
--vscode-editorMarkerNavigationError-background: #f14c4c;
--vscode-editorMarkerNavigationError-headerBackground: rgba(241, 76, 76, 0.1);
--vscode-editorMarkerNavigationWarning-background: #cca700;
--vscode-editorMarkerNavigationWarning-headerBackground: rgba(204, 167, 0, 0.1);
--vscode-editorMarkerNavigationInfo-background: #3794ff;
--vscode-editorMarkerNavigationInfo-headerBackground: rgba(55, 148, 255, 0.1);
--vscode-editorMarkerNavigation-background: #1e1e1e;
--vscode-editorHoverWidget-highlightForeground: #2aaaff;
--vscode-editorSuggestWidget-background: #252526;
--vscode-editorSuggestWidget-border: #454545;
--vscode-editorSuggestWidget-foreground: #d4d4d4;
--vscode-editorSuggestWidget-selectedForeground: #ffffff;
--vscode-editorSuggestWidget-selectedBackground: #04395e;
--vscode-editorSuggestWidget-highlightForeground: #2aaaff;
--vscode-editorSuggestWidget-focusHighlightForeground: #2aaaff;
--vscode-editorSuggestWidgetStatus-foreground: rgba(212, 212, 212, 0.5);
--vscode-editor-foldBackground: rgba(38, 79, 120, 0.3);
--vscode-editorGutter-foldingControlForeground: #c5c5c5; }

.mtk1 { color: #d4d4d4; }
.mtk2 { color: #1e1e1e; }
.mtk3 { color: #cc6666; }
.mtk4 { color: #9cdcfe; }
.mtk5 { color: #ce9178; }
.mtk6 { color: #b5cea8; }
.mtk7 { color: #608b4e; }
.mtk8 { color: #6aa94f; }
.mtk9 { color: #569cd6; }
.mtk10 { color: #f28b82; }
.mtk11 { color: #d7ba7d; }
.mtk12 { color: #dcdcdc; }
.mtk13 { color: #808080; }
.mtk14 { color: #4ec9b0; }
.mtk15 { color: #dcdcaa; }
.mtk16 { color: #f44747; }
.mtk17 { color: #82c6ff; }
.mtk18 { color: #c586c0; }
.mtk19 { color: #a79873; }
.mtk20 { color: #dd6a6f; }
.mtk21 { color: #5bb498; }
.mtk22 { color: #909090; }
.mtk23 { color: #778899; }
.mtk24 { color: #ff00ff; }
.mtk25 { color: #b46695; }
.mtk26 { color: #ff0000; }
.mtk27 { color: #4f76ac; }
.mtk28 { color: #3dc9b0; }
.mtk29 { color: #74b0df; }
.mtk30 { color: #4864aa; }
.mtki { font-style: italic; }
.mtkb { font-weight: bold; }
.mtku { text-decoration: underline; text-underline-position: under; }
.mtks { text-decoration: line-through; }
.mtks.mtku { text-decoration: underline line-through; text-underline-position: under; }</style><style type="text/css">.MathJax_Display {text-align: center; margin: 0; position: relative; display: block!important; text-indent: 0; max-width: none; max-height: none; min-width: 0; min-height: 0; width: 100%}
.MathJax .merror {background-color: #FFFF88; color: #CC0000; border: 1px solid #CC0000; padding: 1px 3px; font-style: normal; font-size: 90%}
.MathJax .MJX-monospace {font-family: monospace}
.MathJax .MJX-sans-serif {font-family: sans-serif}
#MathJax_Tooltip {background-color: InfoBackground; color: InfoText; border: 1px solid black; box-shadow: 2px 2px 5px #AAAAAA; -webkit-box-shadow: 2px 2px 5px #AAAAAA; -moz-box-shadow: 2px 2px 5px #AAAAAA; -khtml-box-shadow: 2px 2px 5px #AAAAAA; filter: progid:DXImageTransform.Microsoft.dropshadow(OffX=2, OffY=2, Color='gray', Positive='true'); padding: 3px 4px; z-index: 401; position: absolute; left: 0; top: 0; width: auto; height: auto; display: none}
.MathJax {display: inline; font-style: normal; font-weight: normal; line-height: normal; font-size: 100%; font-size-adjust: none; text-indent: 0; text-align: left; text-transform: none; letter-spacing: normal; word-spacing: normal; word-wrap: normal; white-space: nowrap; float: none; direction: ltr; max-width: none; max-height: none; min-width: 0; min-height: 0; border: 0; padding: 0; margin: 0}
.MathJax:focus, body :focus .MathJax {display: inline-table}
.MathJax.MathJax_FullWidth {text-align: center; display: table-cell!important; width: 10000em!important}
.MathJax img, .MathJax nobr, .MathJax a {border: 0; padding: 0; margin: 0; max-width: none; max-height: none; min-width: 0; min-height: 0; vertical-align: 0; line-height: normal; text-decoration: none}
img.MathJax_strut {border: 0!important; padding: 0!important; margin: 0!important; vertical-align: 0!important}
.MathJax span {display: inline; position: static; border: 0; padding: 0; margin: 0; vertical-align: 0; line-height: normal; text-decoration: none; box-sizing: content-box}
.MathJax nobr {white-space: nowrap!important}
.MathJax img {display: inline!important; float: none!important}
.MathJax * {transition: none; -webkit-transition: none; -moz-transition: none; -ms-transition: none; -o-transition: none}
.MathJax_Processing {visibility: hidden; position: fixed; width: 0; height: 0; overflow: hidden}
.MathJax_Processed {display: none!important}
.MathJax_test {font-style: normal; font-weight: normal; font-size: 100%; font-size-adjust: none; text-indent: 0; text-transform: none; letter-spacing: normal; word-spacing: normal; overflow: hidden; height: 1px}
.MathJax_test.mjx-test-display {display: table!important}
.MathJax_test.mjx-test-inline {display: inline!important; margin-right: -1px}
.MathJax_test.mjx-test-default {display: block!important; clear: both}
.MathJax_ex_box {display: inline-block!important; position: absolute; overflow: hidden; min-height: 0; max-height: none; padding: 0; border: 0; margin: 0; width: 1px; height: 60ex}
.MathJax_em_box {display: inline-block!important; position: absolute; overflow: hidden; min-height: 0; max-height: none; padding: 0; border: 0; margin: 0; width: 1px; height: 60em}
.mjx-test-inline .MathJax_left_box {display: inline-block; width: 0; float: left}
.mjx-test-inline .MathJax_right_box {display: inline-block; width: 0; float: right}
.mjx-test-display .MathJax_right_box {display: table-cell!important; width: 10000em!important; min-width: 0; max-width: none; padding: 0; border: 0; margin: 0}
.MathJax .MathJax_HitBox {cursor: text; background: white; opacity: 0; filter: alpha(opacity=0)}
.MathJax .MathJax_HitBox * {filter: none; opacity: 1; background: transparent}
#MathJax_Tooltip * {filter: none; opacity: 1; background: transparent}
@font-face {font-family: MathJax_Main; src: url('https://colab.research.google.com/static/mathjax/fonts/HTML-CSS/TeX/woff/MathJax_Main-Regular.woff?V=2.7.5') format('woff'), url('https://colab.research.google.com/static/mathjax/fonts/HTML-CSS/TeX/otf/MathJax_Main-Regular.otf?V=2.7.5') format('opentype')}
@font-face {font-family: MathJax_Main-bold; src: url('https://colab.research.google.com/static/mathjax/fonts/HTML-CSS/TeX/woff/MathJax_Main-Bold.woff?V=2.7.5') format('woff'), url('https://colab.research.google.com/static/mathjax/fonts/HTML-CSS/TeX/otf/MathJax_Main-Bold.otf?V=2.7.5') format('opentype')}
@font-face {font-family: MathJax_Main-italic; src: url('https://colab.research.google.com/static/mathjax/fonts/HTML-CSS/TeX/woff/MathJax_Main-Italic.woff?V=2.7.5') format('woff'), url('https://colab.research.google.com/static/mathjax/fonts/HTML-CSS/TeX/otf/MathJax_Main-Italic.otf?V=2.7.5') format('opentype')}
@font-face {font-family: MathJax_Math-italic; src: url('https://colab.research.google.com/static/mathjax/fonts/HTML-CSS/TeX/woff/MathJax_Math-Italic.woff?V=2.7.5') format('woff'), url('https://colab.research.google.com/static/mathjax/fonts/HTML-CSS/TeX/otf/MathJax_Math-Italic.otf?V=2.7.5') format('opentype')}
@font-face {font-family: MathJax_Caligraphic; src: url('https://colab.research.google.com/static/mathjax/fonts/HTML-CSS/TeX/woff/MathJax_Caligraphic-Regular.woff?V=2.7.5') format('woff'), url('https://colab.research.google.com/static/mathjax/fonts/HTML-CSS/TeX/otf/MathJax_Caligraphic-Regular.otf?V=2.7.5') format('opentype')}
@font-face {font-family: MathJax_Size1; src: url('https://colab.research.google.com/static/mathjax/fonts/HTML-CSS/TeX/woff/MathJax_Size1-Regular.woff?V=2.7.5') format('woff'), url('https://colab.research.google.com/static/mathjax/fonts/HTML-CSS/TeX/otf/MathJax_Size1-Regular.otf?V=2.7.5') format('opentype')}
@font-face {font-family: MathJax_Size2; src: url('https://colab.research.google.com/static/mathjax/fonts/HTML-CSS/TeX/woff/MathJax_Size2-Regular.woff?V=2.7.5') format('woff'), url('https://colab.research.google.com/static/mathjax/fonts/HTML-CSS/TeX/otf/MathJax_Size2-Regular.otf?V=2.7.5') format('opentype')}
@font-face {font-family: MathJax_Size3; src: url('https://colab.research.google.com/static/mathjax/fonts/HTML-CSS/TeX/woff/MathJax_Size3-Regular.woff?V=2.7.5') format('woff'), url('https://colab.research.google.com/static/mathjax/fonts/HTML-CSS/TeX/otf/MathJax_Size3-Regular.otf?V=2.7.5') format('opentype')}
@font-face {font-family: MathJax_Size4; src: url('https://colab.research.google.com/static/mathjax/fonts/HTML-CSS/TeX/woff/MathJax_Size4-Regular.woff?V=2.7.5') format('woff'), url('https://colab.research.google.com/static/mathjax/fonts/HTML-CSS/TeX/otf/MathJax_Size4-Regular.otf?V=2.7.5') format('opentype')}
.MathJax .noError {vertical-align: ; font-size: 90%; text-align: left; color: black; padding: 1px 3px; border: 1px solid}
</style><script async="async" type="text/javascript" src="./CreditCardFraudDetection_files/python.js.download"></script></head><body class="" style="overscroll-behavior: contain;"><div style="visibility: hidden; overflow: hidden; position: absolute; top: 0px; height: 1px; width: auto; padding: 0px; border: 0px; margin: 0px; text-align: left; text-indent: 0px; text-transform: none; line-height: normal; letter-spacing: normal; word-spacing: normal;"><div id="MathJax_Hidden"></div></div><div id="MathJax_Message" style="display: none;"></div><div class="scripts"><script nonce="">window.performance.mark('external_scripts_start');</script><script src="./CreditCardFraudDetection_files/gapi_loader.js.download" nonce=""></script><script src="./CreditCardFraudDetection_files/socketio_binary.js.download" nonce=""></script><script src="./CreditCardFraudDetection_files/analytics_binary.js.download" nonce=""></script><script src="./CreditCardFraudDetection_files/MathJax.js.download" nonce=""></script><script src="./CreditCardFraudDetection_files/js_monaco_editor_vs_loader.js.download" nonce=""></script><script nonce="">window.performance.mark('external_scripts_end'); window.performance.measure('external_scripts', 'external_scripts_start', 'external_scripts_end'); window.performance.mark('colab_load_start');
          window.Polymer = {
            'legacyOptimizations': true,
          };
          </script><script src="./CreditCardFraudDetection_files/external_polymer_binary.js.download" nonce=""></script><script nonce="">
          window.performance.mark('colab_load_end');
          window.performance.measure('colab_load', 'colab_load_start', 'colab_load_end');
        </script></div><colab-snackbar leading="" labeltext="" id="message-area" class="message-area"><template shadowrootmode="open"><!----><style>
        :host .mdc-snackbar__surface {
          background-color: var(--colab-snackbar-surface-color);
        }
      </style>
      <!--?lit$0157429536$-->
      <div class="mdc-snackbar mdc-snackbar--leading">
        <div class="mdc-snackbar__surface">
          <!--?lit$0157429536$-->
          <div class="mdc-snackbar__actions">
            <slot name="action"></slot>
            <slot name="dismiss"></slot>
          </div>
        </div>
      </div><!--?--></template>
      <md-icon-button class="close" slot="dismiss" title="Close" aria-label="Close" role="presentation" value=""><template shadowrootmode="open" shadowrootdelegatesfocus><!----><button id="button" class="icon-button  standard " aria-label="Close">
        <!--?lit$0157429536$--><md-focus-ring part="focus-ring" for="button" aria-hidden="true"><template shadowrootmode="open"><!----></template></md-focus-ring>
        <!--?lit$0157429536$--><md-ripple aria-hidden="true"><template shadowrootmode="open"><!----><div class="surface   "></div></template></md-ripple>
        <!--?lit$0157429536$--><span class="icon"><slot></slot></span>
        <!--?lit$0157429536$-->
        <!--?lit$0157429536$--><span class="touch"></span>
        <!--?lit$0157429536$-->
  </button></template>
        <md-icon aria-hidden="true"><template shadowrootmode="open"><!----><slot></slot></template>close</md-icon>
      </md-icon-button>
    </colab-snackbar><colab-snackbar leading="" labeltext="" id="message-area-secondary" class="message-area"><template shadowrootmode="open"><!----><style>
        :host .mdc-snackbar__surface {
          background-color: var(--colab-snackbar-surface-color);
        }
      </style>
      <!--?lit$0157429536$-->
      <div class="mdc-snackbar mdc-snackbar--leading">
        <div class="mdc-snackbar__surface">
          <!--?lit$0157429536$-->
          <div class="mdc-snackbar__actions">
            <slot name="action"></slot>
            <slot name="dismiss"></slot>
          </div>
        </div>
      </div><!--?--></template>
      <md-icon-button class="close" slot="dismiss" title="Close" aria-label="Close" role="presentation" value=""><template shadowrootmode="open" shadowrootdelegatesfocus><!----><button id="button" class="icon-button  standard " aria-label="Close">
        <!--?lit$0157429536$--><md-focus-ring part="focus-ring" for="button" aria-hidden="true"><template shadowrootmode="open"><!----></template></md-focus-ring>
        <!--?lit$0157429536$--><md-ripple aria-hidden="true"><template shadowrootmode="open"><!----><div class="surface   "></div></template></md-ripple>
        <!--?lit$0157429536$--><span class="icon"><slot></slot></span>
        <!--?lit$0157429536$-->
        <!--?lit$0157429536$--><span class="touch"></span>
        <!--?lit$0157429536$-->
  </button></template>
        <md-icon aria-hidden="true"><template shadowrootmode="open"><!----><slot></slot></template>close</md-icon>
      </md-icon-button>
    </colab-snackbar><div ng-non-bindable=""></div><div class="gb_2e" ng-non-bindable="" style="visibility: hidden; left: 1340px; top: 52px; display: none;"><div class="gb_Ec"><div>Google Account</div><div class="gb_Eb">Srinivasulu K</div><div>srinivasuluk211@gmail.com</div></div></div><script nonce="">this.gbar_=this.gbar_||{};(function(_){var window=this;
try{
var sd;_.pd=function(a){var b=typeof a;return"object"==b&&null!=a||"function"==b};_.qd=function(a,b){if(void 0!==a.i||void 0!==a.j)throw Error("A");a.j=b;_.Mc(a)};_.rd=class extends _.Q{constructor(a){super(a)}};sd=class extends _.$c{};_.td=function(a,b){if(b in a.i)return a.i[b];throw new sd;};_.ud=function(a){return _.td(_.Xc.i(),a)};
}catch(e){_._DumpException(e)}
try{
/*

 SPDX-License-Identifier: Apache-2.0
*/
var yd,Hd,Jd;_.vd=function(a){if(null==a)return a;if("string"===typeof a){if(!a)return;a=+a}if("number"===typeof a)return Number.isFinite(a)?a|0:void 0};_.wd=function(a){const b=a.length;if(0<b){const c=Array(b);for(let d=0;d<b;d++)c[d]=a[d];return c}return[]};yd=function(a){return new _.xd(b=>b.substr(0,a.length+1).toLowerCase()===a+":")};_.Ad=function(a){if(zd.test(a))return a};_.Dd=function(a){return a instanceof _.Bd?_.Cd(a):_.Ad(a)};
_.Ed=function(a,b){var c=Array.prototype.slice.call(arguments,1);return function(){var d=c.slice();d.push.apply(d,arguments);return a.apply(this,d)}};_.Fd=function(a,b,c){return void 0!==_.jb(a,b,c,!1)};_.Gd=function(a,b){return _.vd(_.rc(a,b))};_.R=function(a,b){a=_.rc(a,b);return null==a?a:Number.isFinite(a)?a|0:void 0};_.S=function(a,b,c=0){return _.kb(_.Gd(a,b),c)};Hd=0;_.Id=function(a){return Object.prototype.hasOwnProperty.call(a,_.wb)&&a[_.wb]||(a[_.wb]=++Hd)};Jd=function(a){return a};
_.Kd=function(a){var b=null,c=_.q.trustedTypes;if(!c||!c.createPolicy)return b;try{b=c.createPolicy(a,{createHTML:Jd,createScript:Jd,createScriptURL:Jd})}catch(d){_.q.console&&_.q.console.error(d.message)}return b};_.Ld=function(a,b){return 0==a.lastIndexOf(b,0)};_.Md=function(a,b){return Array.prototype.some.call(a,b,void 0)};try{(new self.OffscreenCanvas(0,0)).getContext("2d")}catch(a){};var Nd;_.Od=function(){void 0===Nd&&(Nd=_.Kd("ogb-qtm#html"));return Nd};var Rd;_.Pd=class{constructor(a){this.i=a}toString(){return this.i+""}};_.Qd=function(a){return a instanceof _.Pd&&a.constructor===_.Pd?a.i:"type_error:TrustedResourceUrl"};Rd={};_.Sd=function(a){const b=_.Od();a=b?b.createScriptURL(a):a;return new _.Pd(a,Rd)};var Td;_.Bd=class{constructor(a){this.i=a}toString(){return this.i.toString()}};_.Cd=function(a){return a instanceof _.Bd&&a.constructor===_.Bd?a.i:"type_error:SafeUrl"};Td={};_.Ud=function(a){return new _.Bd(a,Td)};_.Vd=_.Ud("about:invalid#zClosurez");_.Wd={};_.Xd=class{constructor(a){this.i=a}toString(){return this.i.toString()}};_.Yd=new _.Xd("",_.Wd);_.Zd=RegExp("^[-+,.\"'%_!#/ a-zA-Z0-9\\[\\]]+$");_.$d=RegExp("\\b(url\\([ \t\n]*)('[ -&(-\\[\\]-~]*'|\"[ !#-\\[\\]-~]*\"|[!#-&*-\\[\\]-~]*)([ \t\n]*\\))","g");_.ae=RegExp("\\b(calc|cubic-bezier|fit-content|hsl|hsla|linear-gradient|matrix|minmax|radial-gradient|repeat|rgb|rgba|(rotate|scale|translate)(X|Y|Z|3d)?|steps|var)\\([-+*/0-9a-zA-Z.%#\\[\\], ]+\\)","g");var be;be={};_.de=function(a){return a instanceof _.ce&&a.constructor===_.ce?a.i:"type_error:SafeHtml"};_.ee=function(a){const b=_.Od();a=b?b.createHTML(a):a;return new _.ce(a,be)};_.ce=class{constructor(a){this.i=a}toString(){return this.i.toString()}};_.fe=new _.ce(_.q.trustedTypes&&_.q.trustedTypes.emptyHTML||"",be);_.ge=_.ee("<br>");_.he=_.Ud("about:invalid#zClosurez");var zd;_.xd=class{constructor(a){this.vh=a}};_.ie=[yd("data"),yd("http"),yd("https"),yd("mailto"),yd("ftp"),new _.xd(a=>/^[^:]*([/?#]|$)/.test(a))];zd=/^\s*(?!javascript:)(?:[a-z0-9+.-]+:|[^:\/?#]*(?:[\/?#]|$))/i;var ke;_.je=function(a){let b=!1,c;return function(){b||(c=a(),b=!0);return c}}(function(){var a=document.createElement("div"),b=document.createElement("div");b.appendChild(document.createElement("div"));a.appendChild(b);b=a.firstChild.firstChild;a.innerHTML=_.de(_.fe);return!b.parentElement});ke=/^[\w+/_-]+[=]{0,2}$/;
_.le=function(a){a=(a||_.q).document;return a.querySelector?(a=a.querySelector('style[nonce],link[rel="stylesheet"][nonce]'))&&(a=a.nonce||a.getAttribute("nonce"))&&ke.test(a)?a:"":""};_.me=function(a,b){this.width=a;this.height=b};_.m=_.me.prototype;_.m.aspectRatio=function(){return this.width/this.height};_.m.Kb=function(){return!(this.width*this.height)};_.m.ceil=function(){this.width=Math.ceil(this.width);this.height=Math.ceil(this.height);return this};_.m.floor=function(){this.width=Math.floor(this.width);this.height=Math.floor(this.height);return this};_.m.round=function(){this.width=Math.round(this.width);this.height=Math.round(this.height);return this};_.T=function(a,b){var c=b||document;if(c.getElementsByClassName)a=c.getElementsByClassName(a)[0];else{c=document;var d=b||c;a=d.querySelectorAll&&d.querySelector&&a?d.querySelector(a?"."+a:""):_.ne(c,a,b)[0]||null}return a||null};
_.ne=function(a,b,c){var d;a=c||a;if(a.querySelectorAll&&a.querySelector&&b)return a.querySelectorAll(b?"."+b:"");if(b&&a.getElementsByClassName){var e=a.getElementsByClassName(b);return e}e=a.getElementsByTagName("*");if(b){var f={};for(c=d=0;a=e[c];c++){var g=a.className;"function"==typeof g.split&&_.ta(g.split(/\s+/),b)&&(f[d++]=a)}f.length=d;return f}return e};_.pe=function(a){return _.oe(document,a)};
_.oe=function(a,b){b=String(b);"application/xhtml+xml"===a.contentType&&(b=b.toLowerCase());return a.createElement(b)};_.qe=function(a){for(var b;b=a.firstChild;)a.removeChild(b)};_.re=function(a){return 9==a.nodeType?a:a.ownerDocument||a.document};
}catch(e){_._DumpException(e)}
try{
_.qj=function(a){var b;let c;const d=null==(c=(b=(a.ownerDocument&&a.ownerDocument.defaultView||window).document).querySelector)?void 0:c.call(b,"script[nonce]");(b=d?d.nonce||d.getAttribute("nonce")||"":"")&&a.setAttribute("nonce",b)};_.rj=function(a){if(!a)return null;a=_.G(a,4);var b;null===a||void 0===a?b=null:b=_.Sd(a);return b};_.sj=class extends _.Q{constructor(a){super(a)}};_.tj=function(a,b){return(b||document).getElementsByTagName(String(a))};
}catch(e){_._DumpException(e)}
try{
var vj=function(a,b,c){a<b?uj(a+1,b):_.Fc.log(Error("ba`"+a+"`"+b),{url:c})},uj=function(a,b){if(wj){const c=_.pe("SCRIPT");c.async=!0;c.type="text/javascript";c.charset="UTF-8";c.src=_.Qd(wj);_.qj(c);c.onerror=_.Ed(vj,a,b,c.src);_.tj("HEAD")[0].appendChild(c)}},xj=class extends _.Q{constructor(a){super(a)}};var yj=_.E(_.Rc,xj,17)||new xj,zj,wj=(zj=_.E(yj,_.sj,1))?_.rj(zj):null,Aj,Bj=(Aj=_.E(yj,_.sj,2))?_.rj(Aj):null,Cj=function(){uj(1,2);if(Bj){const b=_.pe("LINK");b.setAttribute("type","text/css");b.rel="stylesheet";b.href=_.Qd(Bj).toString();var a=_.le(b.ownerDocument&&b.ownerDocument.defaultView);a&&b.setAttribute("nonce",a);(a=_.le())&&b.setAttribute("nonce",a);_.tj("HEAD")[0].appendChild(b)}};(function(){const a=_.Sc();if(_.C(a,18))Cj();else{const b=_.Gd(a,19)||0;window.addEventListener("load",()=>{window.setTimeout(Cj,b)})}})();
}catch(e){_._DumpException(e)}
})(this.gbar_);
// Google Inc.
</script><div style="position: absolute; width: 0px; height: 0px; overflow: hidden; padding: 0px; border: 0px; margin: 0px;"><div id="MathJax_Font_Test" style="position: absolute; visibility: hidden; top: 0px; left: 0px; width: auto; min-width: 0px; max-width: none; padding: 0px; border: 0px; margin: 0px; white-space: nowrap; text-align: left; text-indent: 0px; text-transform: none; line-height: normal; letter-spacing: normal; word-spacing: normal; font-size: 40px; font-weight: normal; font-style: normal; font-family: MathJax_Size1, monospace;"></div></div><div class="notebook-vertical" style="position: relative;">
      <div class="top-floater"><div role="banner">
    <colab-header-skip-button><template shadowrootmode="open"><!----><a id="skiplink" class="skip-link" href="https://colab.research.google.com/drive/1lqTGWhHXSAftogX04TycODaabl6uopR0#top-toolbar"><!--?lit$0157429536$-->Skip to main content</a></template></colab-header-skip-button>
    <!--?lit$0157429536$-->
    <!--?lit$0157429536$-->
    <!--?lit$0157429536$-->
          <div id="private-outputs-warning" class="header-warning private-outputs-warning hidden">
            <!--?lit$0157429536$-->This notebook is open with private outputs. Outputs will not be saved. You can disable this in <a href="https://colab.research.google.com/drive/1lqTGWhHXSAftogX04TycODaabl6uopR0#" id="private-outputs-notebook-info-link" command="notebook-settings" aria-describedby="private-outputs-notebook-info-link-tooltip">Notebook settings</a><colab-tooltip-trigger aria-hidden="true" for="private-outputs-notebook-info-link" id="private-outputs-notebook-info-link-tooltip"><template shadowrootmode="open"><!----><!--?lit$0157429536$--><!----><div><!--?lit$0157429536$-->Open notebook settings</div><!----><!--?--></template>
        </colab-tooltip-trigger>.
          <mwc-icon-button class="close" icon="close" title="Close"><template shadowrootmode="open"><!----><button class="mdc-icon-button mdc-icon-button--display-flex" aria-label="Close"><!--?lit$0157429536$-->
    <!--?lit$0157429536$--><i class="material-icons"><!--?lit$0157429536$-->close</i>
    <span><slot></slot></span>
  </button></template></mwc-icon-button></div>
        

    <div id="header" class="horizontal layout" style="">
      <div id="header-background"><div></div></div>
      <div id="header-content">
        <!--?lit$0157429536$-->
        <!--?lit$0157429536$--><div id="header-logo">
              <!--?lit$0157429536$--> <!--?lit$0157429536$--><a href="https://drive.google.com/drive/search?q=owner%3Ame%20(type%3Aapplication%2Fvnd.google.colaboratory%20%7C%7C%20type%3Aapplication%2Fvnd.google.colab)&amp;authuser=0" aria-label="View in Google Drive">
        <!--?lit$0157429536$--><md-icon class="colab-large-icon" aria-hidden="true"><template shadowrootmode="open"><!----><slot></slot></template><!--?lit$0157429536$--><svg viewBox="0 0 24 24"><!--?lit$0157429536$-->
      <g id="colab-logo">
        <path d="M4.54,9.46,2.19,7.1a6.93,6.93,0,0,0,0,9.79l2.36-2.36A3.59,3.59,0,0,1,4.54,9.46Z" style="fill:var(--colab-logo-dark)"></path>
        <path d="M2.19,7.1,4.54,9.46a3.59,3.59,0,0,1,5.08,0l1.71-2.93h0l-.1-.08h0A6.93,6.93,0,0,0,2.19,7.1Z" style="fill:var(--colab-logo-light)"></path>
        <path d="M11.34,17.46h0L9.62,14.54a3.59,3.59,0,0,1-5.08,0L2.19,16.9a6.93,6.93,0,0,0,9,.65l.11-.09" style="fill:var(--colab-logo-light)"></path>
        <path d="M12,7.1a6.93,6.93,0,0,0,0,9.79l2.36-2.36a3.59,3.59,0,1,1,5.08-5.08L21.81,7.1A6.93,6.93,0,0,0,12,7.1Z" style="fill:var(--colab-logo-light)"></path>
        <path d="M21.81,7.1,19.46,9.46a3.59,3.59,0,0,1-5.08,5.08L12,16.9A6.93,6.93,0,0,0,21.81,7.1Z" style="fill:var(--colab-logo-dark)"></path>
      </g></svg></md-icon>
      </a><!--?-->
            </div>
        <div id="header-doc-toolbar" class="flex">
          <div id="document-info">
            <!--?lit$0157429536$--> <!--?lit$0157429536$--><md-icon class="file-location-icon" id="file-type" aria-hidden="true" title="Notebook stored in Google Drive"><template shadowrootmode="open"><!----><slot></slot></template><!--?lit$0157429536$-->
      <svg viewBox="0 0 192 192">
        <path d="M128.33,122l7.59,26.17l19.89,21.42c0,0,0,0,0,0v0c2.69-1.55,4.98-3.8,6.59-6.59l18.48-32 c1.61-2.78,2.41-5.89,2.41-9l-28.38-5.5L128.33,122z" fill="#EA4335"></path>
        <path d="M123.48,18.41c-2.69-1.55-5.78-2.41-9-2.41H77.53c-3.2,0-6.32,0.88-9,2.41l0,0l7.96,26.81l19.44,20.64 L96,66l0,0l19.58-20.89L123.48,18.41C123.48,18.41,123.48,18.41,123.48,18.41C123.48,18.41,123.48,18.41,123.48,18.41z" fill="#188038"></path>
        <path d="M63.67,122l-28.33-6.5L8.72,122c0,3.1,0.8,6.2,2.4,8.99L29.6,163c1.61,2.78,3.9,5.03,6.59,6.59 l19.59-20.18L63.67,122L63.67,122z" fill="#1967D2"></path>
        <path d="M155.47,69l-25.4-44c-1.61-2.79-3.9-5.04-6.59-6.59L96,66l32.33,56h54.95c0-3.11-0.8-6.21-2.41-9 L155.47,69z" fill="#FBBC04"></path><path d="M128.33,122H63.67l-27.48,47.59c2.69,1.55,5.78,2.41,9,2.41h101.61c3.22,0,6.31-0.86,9-2.41L128.33,122z" fill="#4285F4"></path>
        <path d="M96,66L68.53,18.41c-2.69,1.55-4.97,3.79-6.58,6.57l-50.83,88.05c-1.6,2.78-2.4,5.88-2.4,8.97h54.95L96,66 z" fill="#34A853"></path>
      </svg></md-icon>
    <input id="doc-name" class="doc-name" maxlength="259" autocomplete="off" aria-label="Notebook name" command="rename" aria-describedby="doc-name-tooltip" style="width: 273.6px;"><colab-dom-lifecycle-events style="display: none;"></colab-dom-lifecycle-events></input><colab-tooltip-trigger aria-hidden="true" for="doc-name" id="doc-name-tooltip"><template shadowrootmode="open"><!----><!--?lit$0157429536$--><!----><div><!--?lit$0157429536$-->Rename notebook</div><!----><!--?--></template>
        </colab-tooltip-trigger><colab-input-sizer aria-hidden="true" style="left: -1000%; position: absolute; font-family: &quot;Google Sans&quot;, Roboto, Noto, sans-serif; font-size: 18px; font-weight: 400; letter-spacing: normal; padding-left: 3px; padding-right: 4px; white-space: pre;">CreditCardFraudDetection.ipynb_</colab-input-sizer>
            <!--?lit$0157429536$-->
                  <div class="screenreader-only" id="star-status" aria-live="polite">Notebook unstarred</div>
                  <md-icon-button id="star-icon" command="toggle-star" aria-label="Star" role="presentation" aria-describedby="star-icon-tooltip" value=""><template shadowrootmode="open" shadowrootdelegatesfocus><!----><button id="button" class="icon-button  standard " aria-label="Star">
        <!--?lit$0157429536$--><md-focus-ring part="focus-ring" for="button" aria-hidden="true"><template shadowrootmode="open"><!----></template></md-focus-ring>
        <!--?lit$0157429536$--><md-ripple aria-hidden="true"><template shadowrootmode="open"><!----><div class="surface"></div></template></md-ripple>
        <!--?lit$0157429536$--><span class="icon"><slot></slot></span>
        <!--?lit$0157429536$-->
        <!--?lit$0157429536$--><span class="touch"></span>
        <!--?lit$0157429536$-->
  </button></template>
                    <md-icon aria-hidden="true"><template shadowrootmode="open"><!----><slot></slot></template>star</md-icon>
                  </md-icon-button><colab-tooltip-trigger aria-hidden="true" for="star-icon" id="star-icon-tooltip"><template shadowrootmode="open"><!----><!--?lit$0157429536$--><!----><div><!--?lit$0157429536$-->Star notebook in Google Drive</div><!----><!--?--></template>
        </colab-tooltip-trigger>
                
          </div>
        <div class="menubar-wrapper"><div><!----><div id="top-menubar" class="goog-menubar format-lightborder" role="menubar" tabindex="0" style="user-select: none;"><!--?lit$0157429536$--><div class="goog-menu-button goog-inline-block" id="file-menu-button" role="button" aria-expanded="false" aria-haspopup="true" style="user-select: none;"><div class="goog-inline-block goog-menu-button-outer-box" style="user-select: none;"><div class="goog-inline-block goog-menu-button-inner-box" style="user-select: none;"><div class="goog-inline-block goog-menu-button-caption" style="user-select: none;"><!--?lit$0157429536$-->File</div><div class="goog-inline-block goog-menu-button-dropdown" style="user-select: none;">&nbsp;</div></div></div></div><div class="goog-menu-button goog-inline-block" id="edit-menu-button" role="button" aria-expanded="false" aria-haspopup="true" style="user-select: none;"><div class="goog-inline-block goog-menu-button-outer-box" style="user-select: none;"><div class="goog-inline-block goog-menu-button-inner-box" style="user-select: none;"><div class="goog-inline-block goog-menu-button-caption" style="user-select: none;"><!--?lit$0157429536$-->Edit</div><div class="goog-inline-block goog-menu-button-dropdown" style="user-select: none;">&nbsp;</div></div></div></div><div class="goog-menu-button goog-inline-block" id="view-menu-button" role="button" aria-expanded="false" aria-haspopup="true" style="user-select: none;"><div class="goog-inline-block goog-menu-button-outer-box" style="user-select: none;"><div class="goog-inline-block goog-menu-button-inner-box" style="user-select: none;"><div class="goog-inline-block goog-menu-button-caption" style="user-select: none;"><!--?lit$0157429536$-->View</div><div class="goog-inline-block goog-menu-button-dropdown" style="user-select: none;">&nbsp;</div></div></div></div><div class="goog-menu-button goog-inline-block" id="insert-menu-button" role="button" aria-expanded="false" aria-haspopup="true" style="user-select: none;"><div class="goog-inline-block goog-menu-button-outer-box" style="user-select: none;"><div class="goog-inline-block goog-menu-button-inner-box" style="user-select: none;"><div class="goog-inline-block goog-menu-button-caption" style="user-select: none;"><!--?lit$0157429536$-->Insert</div><div class="goog-inline-block goog-menu-button-dropdown" style="user-select: none;">&nbsp;</div></div></div></div><div class="goog-menu-button goog-inline-block" id="runtime-menu-button" role="button" aria-expanded="false" aria-haspopup="true" style="user-select: none;"><div class="goog-inline-block goog-menu-button-outer-box" style="user-select: none;"><div class="goog-inline-block goog-menu-button-inner-box" style="user-select: none;"><div class="goog-inline-block goog-menu-button-caption" style="user-select: none;"><!--?lit$0157429536$-->Runtime</div><div class="goog-inline-block goog-menu-button-dropdown" style="user-select: none;">&nbsp;</div></div></div></div><div class="goog-menu-button goog-inline-block" id="tools-menu-button" role="button" aria-expanded="false" aria-haspopup="true" style="user-select: none;"><div class="goog-inline-block goog-menu-button-outer-box" style="user-select: none;"><div class="goog-inline-block goog-menu-button-inner-box" style="user-select: none;"><div class="goog-inline-block goog-menu-button-caption" style="user-select: none;"><!--?lit$0157429536$-->Tools</div><div class="goog-inline-block goog-menu-button-dropdown" style="user-select: none;">&nbsp;</div></div></div></div><div class="goog-menu-button goog-inline-block" id="help-menu-button" role="button" aria-expanded="false" aria-haspopup="true" style="user-select: none;"><div class="goog-inline-block goog-menu-button-outer-box" style="user-select: none;"><div class="goog-inline-block goog-menu-button-inner-box" style="user-select: none;"><div class="goog-inline-block goog-menu-button-caption" style="user-select: none;"><!--?lit$0157429536$-->Help</div><div class="goog-inline-block goog-menu-button-dropdown" style="user-select: none;">&nbsp;</div></div></div></div></div>
    <div id="colab-menu-cover" style="display: none;"> </div></div><!----><colab-last-saved-indicator aria-live="polite" aria-atomic="true" title=""><template shadowrootmode="open"><!----><button class=" save-message "><!--?lit$0157429536$-->Saving...</button></template></colab-last-saved-indicator></div></div>
        <div id="header-right">
          <!--?lit$0157429536$-->
    <colab-collaborator-bar id="collaborator-bar"><template shadowrootmode="open"><!----> <div class="collaborator-bar">
      <!--?lit$0157429536$-->
      <!--?lit$0157429536$-->
    </div></template></colab-collaborator-bar>
  
          <!--?lit$0157429536$--> <md-text-button id="comments" command="open-comments-thread" role="presentation" aria-describedby="comments-tooltip" value="" has-icon=""><template shadowrootmode="open" shadowrootdelegatesfocus><!---->
      <!--?lit$0157429536$-->
      <div class="background"></div>
      <md-focus-ring part="focus-ring" for="button" aria-hidden="true"><template shadowrootmode="open"><!----></template></md-focus-ring>
      <md-ripple for="button" aria-hidden="true"><template shadowrootmode="open"><!----><div class="surface   "></div></template></md-ripple>
      <!--?lit$0157429536$--><button id="button" class="button">
      <!--?lit$0157429536$-->
      <span class="touch"></span>
      <!--?lit$0157429536$--><slot name="icon"></slot>
      <span class="label"><slot></slot></span>
      <!--?lit$0157429536$-->
    
    </button>
    </template>
                <md-icon slot="icon" aria-hidden="true"><template shadowrootmode="open"><!----><slot></slot></template>comment</md-icon>
                <!--?lit$0157429536$-->Comment
              </md-text-button><colab-tooltip-trigger aria-hidden="true" for="comments" id="comments-tooltip"><template shadowrootmode="open"><!----><!--?lit$0157429536$--><!----><div><!--?lit$0157429536$-->Open comments pane</div><!----><!--?--></template>
        </colab-tooltip-trigger>
          <!--?lit$0157429536$--> <md-text-button id="share-toolbar-button" command="share" role="presentation" aria-describedby="share-toolbar-button-tooltip" value="" has-icon=""><template shadowrootmode="open" shadowrootdelegatesfocus><!---->
      <!--?lit$0157429536$-->
      <div class="background"></div>
      <md-focus-ring part="focus-ring" for="button" aria-hidden="true"><template shadowrootmode="open"><!----></template></md-focus-ring>
      <md-ripple for="button" aria-hidden="true"><template shadowrootmode="open"><!----><div class="surface   "></div></template></md-ripple>
      <!--?lit$0157429536$--><button id="button" class="button">
      <!--?lit$0157429536$-->
      <span class="touch"></span>
      <!--?lit$0157429536$--><slot name="icon"></slot>
      <span class="label"><slot></slot></span>
      <!--?lit$0157429536$-->
    
    </button>
    </template>
                <md-icon slot="icon" aria-hidden="true"><template shadowrootmode="open"><!----><slot></slot></template><!--?lit$0157429536$-->people</md-icon>
                <!--?lit$0157429536$-->Share
              </md-text-button><colab-tooltip-trigger aria-hidden="true" for="share-toolbar-button" id="share-toolbar-button-tooltip"><template shadowrootmode="open"><!----><!--?lit$0157429536$--><!----><div><!--?lit$0157429536$-->Share notebook</div><!----><!--?--></template>
        </colab-tooltip-trigger>
          <!--?lit$0157429536$--> <md-icon-button id="settings-cog" command="preferences" title="Open settings" aria-label="Open settings" role="presentation" value=""><template shadowrootmode="open" shadowrootdelegatesfocus><!----><button id="button" class="icon-button  standard " aria-label="Open settings">
        <!--?lit$0157429536$--><md-focus-ring part="focus-ring" for="button" aria-hidden="true"><template shadowrootmode="open"><!----></template></md-focus-ring>
        <!--?lit$0157429536$--><md-ripple aria-hidden="true"><template shadowrootmode="open"><!----><div class="surface   "></div></template></md-ripple>
        <!--?lit$0157429536$--><span class="icon"><slot></slot></span>
        <!--?lit$0157429536$-->
        <!--?lit$0157429536$--><span class="touch"></span>
        <!--?lit$0157429536$-->
  </button></template>
                <md-icon aria-hidden="true"><template shadowrootmode="open"><!----><slot></slot></template>settings</md-icon>
              </md-icon-button>
          <div class="header-onegoogle-container"><div class="onegoogle"><div class="gb_Pa gb_ld gb_gb gb_0c" id="gb"><div class="gb_Bd gb_eb gb_qd" ng-non-bindable="" data-ogsr-up="" style="padding:0;height:auto;display:block"><div class="gb_Ud" style="display:block"><div class="gb_6c"></div><div class="gb_b gb_w gb_3f gb_J"><div class="gb_f gb_db gb_3f gb_J"><a class="gb_d gb_Fa gb_J" aria-label="Google Account: Srinivasulu K  
(srinivasuluk211@gmail.com)" href="https://accounts.google.com/SignOutOptions?hl=en&amp;continue=https://colab.research.google.com/drive/1lqTGWhHXSAftogX04TycODaabl6uopR0&amp;ec=GBRAqQM" tabindex="0" role="button" aria-expanded="false"><img class="gb_n gbii" src="./CreditCardFraudDetection_files/unnamed.png" srcset="https://lh3.googleusercontent.com/ogw/AF2bZyhHYexr3MnMbjn8E3Dy7_OuxpXItsiUcaNY2lLSDA=s32-c-mo 1x, https://lh3.googleusercontent.com/ogw/AF2bZyhHYexr3MnMbjn8E3Dy7_OuxpXItsiUcaNY2lLSDA=s64-c-mo 2x " alt="" aria-hidden="true" data-noaft=""></a></div></div></div><div style="overflow: hidden; position: absolute; top: 0px; visibility: hidden; width: 436px; z-index: 991; height: 0px; margin-top: 57px; right: 0px; margin-right: 4px;"><iframe role="presentation" frameborder="0" scrolling="no" name="account" src="./CreditCardFraudDetection_files/saved_resource.html" style="height: 100%; width: 100%; color-scheme: light; visibility: hidden;" aria-modal="false" aria-hidden="true"></iframe></div></div></div><script nonce="">this.gbar_=this.gbar_||{};(function(_){var window=this;
try{
_.ld=function(a,b,c){if(!a.j)if(c instanceof Array)for(var d of c)_.ld(a,b,d);else{d=(0,_.y)(a.B,a,b);const e=a.v+c;a.v++;b.dataset.eqid=e;a.C[e]=d;b&&b.addEventListener?b.addEventListener(c,d,!1):b&&b.attachEvent?b.attachEvent("on"+c,d):a.o.log(Error("y`"+b))}};
}catch(e){_._DumpException(e)}
try{
_.md=function(){if(!_.q.addEventListener||!Object.defineProperty)return!1;var a=!1,b=Object.defineProperty({},"passive",{get:function(){a=!0}});try{const c=()=>{};_.q.addEventListener("test",c,b);_.q.removeEventListener("test",c,b)}catch(c){}return a}();
}catch(e){_._DumpException(e)}
try{
var nd=document.querySelector(".gb_k .gb_d"),od=document.querySelector("#gb.gb_Wc");nd&&!od&&_.ld(_.Wc,nd,"click");
}catch(e){_._DumpException(e)}
try{
_.yh=function(a){const b=[];let c=0;for(const d in a)b[c++]=a[d];return b};_.zh=function(a){if(a.o)return a.o;for(const b in a.i)if(a.i[b].ua()&&a.i[b].C())return a.i[b];return null};_.Ah=function(a,b){a.i[b.K()]=b};var Bh=new class extends _.Dc{constructor(){var a=_.Fc;super();this.C=a;this.o=null;this.j={};this.B={};this.i={};this.v=null}A(a){this.i[a]&&(_.zh(this)&&_.zh(this).K()==a||this.i[a].O(!0))}ab(a){this.v=a;for(const b in this.i)this.i[b].ua()&&this.i[b].ab(a)}yc(a){return a in this.i?this.i[a]:null}};_.Zc("dd",Bh);
}catch(e){_._DumpException(e)}
try{
_.kj=function(a,b){return _.K(a,36,b)};
}catch(e){_._DumpException(e)}
try{
var lj=document.querySelector(".gb_b .gb_d"),mj=document.querySelector("#gb.gb_Wc");lj&&!mj&&_.ld(_.Wc,lj,"click");
}catch(e){_._DumpException(e)}
})(this.gbar_);
// Google Inc.
</script></div></div>
        </div>
      </div>
    </div>
  </div></div><div class="notebook-horizontal">
        <!--?lit$0157429536$--><colab-left-pane role="complementary" aria-label="left pane" class=""><!----><div class="colab-left-pane-nib layout vertical" role="toolbar" aria-orientation="vertical">
        <div class="left-pane-top"><!----><div class="left-pane-button">
        <!--?lit$0157429536$--><md-icon-button toggle="" command="show-toc-pane" aria-label="Table of contents" title="Table of contents" role="presentation" value="" selected=""><template shadowrootmode="open" shadowrootdelegatesfocus><!----><button id="button" class="icon-button standard selected" aria-label="Table of contents" aria-pressed="true">
        <!--?lit$0157429536$--><md-focus-ring part="focus-ring" for="button" aria-hidden="true"><template shadowrootmode="open"><!----></template></md-focus-ring>
        <!--?lit$0157429536$--><md-ripple aria-hidden="true"><template shadowrootmode="open"><!----><div class="surface"></div></template></md-ripple>
        <!--?lit$0157429536$-->
        <!--?lit$0157429536$--><span class="icon icon--selected"><slot name="selected"><slot></slot></slot></span>
        <!--?lit$0157429536$--><span class="touch"></span>
        <!--?lit$0157429536$-->
  </button></template>
          <md-icon aria-hidden="true"><template shadowrootmode="open"><!----><slot></slot></template><!--?lit$0157429536$-->format_list_bulleted</md-icon>
        </md-icon-button> <!--?lit$0157429536$-->
      </div><!----><div class="left-pane-button">
        <!--?lit$0157429536$--><md-icon-button toggle="" command="find" aria-label="Find and replace" title="Find and replace" role="presentation" value=""><template shadowrootmode="open" shadowrootdelegatesfocus><!----><button id="button" class="icon-button standard" aria-label="Find and replace" aria-pressed="false">
        <!--?lit$0157429536$--><md-focus-ring part="focus-ring" for="button" aria-hidden="true"><template shadowrootmode="open"><!----></template></md-focus-ring>
        <!--?lit$0157429536$--><md-ripple aria-hidden="true"><template shadowrootmode="open"><!----><div class="surface"></div></template></md-ripple>
        <!--?lit$0157429536$--><span class="icon"><slot></slot></span>
        <!--?lit$0157429536$-->
        <!--?lit$0157429536$--><span class="touch"></span>
        <!--?lit$0157429536$-->
  </button></template>
          <md-icon aria-hidden="true"><template shadowrootmode="open"><!----><slot></slot></template><!--?lit$0157429536$-->search</md-icon>
        </md-icon-button> <!--?lit$0157429536$-->
      </div><!----><div class="left-pane-button">
        <!--?lit$0157429536$--><md-icon-button toggle="" command="show-variables" aria-label="Variables" title="Variables" role="presentation" value=""><template shadowrootmode="open" shadowrootdelegatesfocus><!----><button id="button" class="icon-button standard" aria-label="Variables" aria-pressed="false">
        <!--?lit$0157429536$--><md-focus-ring part="focus-ring" for="button" aria-hidden="true"><template shadowrootmode="open"><!----></template></md-focus-ring>
        <!--?lit$0157429536$--><md-ripple aria-hidden="true"><template shadowrootmode="open"><!----><div class="surface"></div></template></md-ripple>
        <!--?lit$0157429536$--><span class="icon"><slot></slot></span>
        <!--?lit$0157429536$-->
        <!--?lit$0157429536$--><span class="touch"></span>
        <!--?lit$0157429536$-->
  </button></template>
          <md-icon aria-hidden="true"><template shadowrootmode="open"><!----><slot></slot></template><!--?lit$0157429536$--><svg viewBox="0 0 24 24"><!--?lit$0157429536$-->
      <path d="M4.51,9.44V6.08c0-1.34.37-1.85,1.6-2.17l.22-.06V3.13l-.27,0-.44,0a4.46,4.46,0,0,0-2.2.59,2.78,2.78,0,0,0-1,2.51V9.74c0,1.26-.26,1.61-1.49,2L0,12l.94.29c1.21.38,1.49.75,1.49,2v3.5a2.94,2.94,0,0,0,1,2.6,4.39,4.39,0,0,0,2.14.56l.46,0,.27,0v-.72l-.22-.06c-1.24-.32-1.6-.81-1.6-2.17V14.58c0-1.43-.3-2.13-1.25-2.57C4.2,11.57,4.51,10.87,4.51,9.44Z"></path>
      <path d="M23.06,11.71c-1.22-.36-1.49-.71-1.49-2l0-3.5a3,3,0,0,0-1-2.6,4.38,4.38,0,0,0-2.14-.56l-.46,0-.27,0v.72l.22.06c1.24.32,1.6.81,1.6,2.17V9.44c0,1.44.3,2.13,1.25,2.57-1,.44-1.25,1.14-1.25,2.57v3.36c0,1.34-.37,1.85-1.6,2.17l-.22.06v.72l.27,0,.44,0a4.47,4.47,0,0,0,2.2-.59,2.82,2.82,0,0,0,1-2.51V14.28c0-1.26.26-1.61,1.49-2L24,12Z"></path>
      <path d="M15.16,8.22a.88.88,0,0,1,.46.16,1.25,1.25,0,0,0,.69.2h0A1,1,0,0,0,17,8.23a1.06,1.06,0,0,0,.24-.8,1.1,1.1,0,0,0-1.15-1h0c-1,0-1.73.64-3,2.57l-.12-.51c-.28-1.36-.56-2-1.39-2h0A8,8,0,0,0,9,7.08l-.47.16.16.91L9.41,8a3.22,3.22,0,0,1,.73-.14c.34,0,.43,0,.71,1.2l.56,2.47L9.76,13.82a3.6,3.6,0,0,1-.8.88.9.9,0,0,1-.38-.13,1.83,1.83,0,0,0-.88-.28,1,1,0,0,0-1,1.06A1.15,1.15,0,0,0,8,16.53c.85,0,1.35-.35,2.24-1.55l1.49-2,.46,1.88c.23,1,.46,1.66,1.53,1.66s1.66-.75,2.81-2.53l.17-.26-.81-.48-.16.2-.25.34-.19.25c-.45.57-.62.73-.76.73s-.28-.4-.34-.63l-.67-2.83a4.2,4.2,0,0,1-.15-.79C13.84,9.78,14.74,8.22,15.16,8.22Z"></path></svg></md-icon>
        </md-icon-button> <!--?lit$0157429536$-->
      </div><!----><div class="left-pane-button">
        <!--?lit$0157429536$--><md-icon-button toggle="" command="open-user-secrets" aria-label="Secrets" title="Secrets" role="presentation" value=""><template shadowrootmode="open" shadowrootdelegatesfocus><!----><button id="button" class="icon-button standard" aria-label="Secrets" aria-pressed="false">
        <!--?lit$0157429536$--><md-focus-ring part="focus-ring" for="button" aria-hidden="true"><template shadowrootmode="open"><!----></template></md-focus-ring>
        <!--?lit$0157429536$--><md-ripple aria-hidden="true"><template shadowrootmode="open"><!----><div class="surface"></div></template></md-ripple>
        <!--?lit$0157429536$--><span class="icon"><slot></slot></span>
        <!--?lit$0157429536$-->
        <!--?lit$0157429536$--><span class="touch"></span>
        <!--?lit$0157429536$-->
  </button></template>
          <md-icon aria-hidden="true"><template shadowrootmode="open"><!----><slot></slot></template><!--?lit$0157429536$-->vpn_key</md-icon>
        </md-icon-button> <!--?lit$0157429536$-->
      </div><!----><div class="left-pane-button">
        <!--?lit$0157429536$--><md-icon-button toggle="" command="show-files" aria-label="Files" title="Files" role="presentation" value=""><template shadowrootmode="open" shadowrootdelegatesfocus><!----><button id="button" class="icon-button standard" aria-label="Files" aria-pressed="false">
        <!--?lit$0157429536$--><md-focus-ring part="focus-ring" for="button" aria-hidden="true"><template shadowrootmode="open"><!----></template></md-focus-ring>
        <!--?lit$0157429536$--><md-ripple aria-hidden="true"><template shadowrootmode="open"><!----><div class="surface"></div></template></md-ripple>
        <!--?lit$0157429536$--><span class="icon"><slot></slot></span>
        <!--?lit$0157429536$-->
        <!--?lit$0157429536$--><span class="touch"></span>
        <!--?lit$0157429536$-->
  </button></template>
          <md-icon aria-hidden="true"><template shadowrootmode="open"><!----><slot></slot></template><!--?lit$0157429536$-->folder</md-icon>
        </md-icon-button> <!--?lit$0157429536$-->
      </div></div>
        <div class="left-pane-bottom"><!----><div class="left-pane-button">
        <!--?lit$0157429536$--><md-icon-button command="snippets" aria-label="Code snippets" title="Code snippets" role="presentation" value=""><template shadowrootmode="open" shadowrootdelegatesfocus><!----><button id="button" class="icon-button  standard " aria-label="Code snippets">
        <!--?lit$0157429536$--><md-focus-ring part="focus-ring" for="button" aria-hidden="true"><template shadowrootmode="open"><!----></template></md-focus-ring>
        <!--?lit$0157429536$--><md-ripple aria-hidden="true"><template shadowrootmode="open"><!----><div class="surface"></div></template></md-ripple>
        <!--?lit$0157429536$--><span class="icon"><slot></slot></span>
        <!--?lit$0157429536$-->
        <!--?lit$0157429536$--><span class="touch"></span>
        <!--?lit$0157429536$-->
  </button></template>
          <md-icon aria-hidden="true"><template shadowrootmode="open"><!----><slot></slot></template><!--?lit$0157429536$-->code</md-icon>
        </md-icon-button> <!--?lit$0157429536$-->
      </div><!----><div class="left-pane-button">
        <!--?lit$0157429536$--><md-icon-button command="show-command-palette" aria-label="Command palette" title="Command palette" role="presentation" value=""><template shadowrootmode="open" shadowrootdelegatesfocus><!----><button id="button" class="icon-button  standard " aria-label="Command palette">
        <!--?lit$0157429536$--><md-focus-ring part="focus-ring" for="button" aria-hidden="true"><template shadowrootmode="open"><!----></template></md-focus-ring>
        <!--?lit$0157429536$--><md-ripple aria-hidden="true"><template shadowrootmode="open"><!----><div class="surface"></div></template></md-ripple>
        <!--?lit$0157429536$--><span class="icon"><slot></slot></span>
        <!--?lit$0157429536$-->
        <!--?lit$0157429536$--><span class="touch"></span>
        <!--?lit$0157429536$-->
  </button></template>
          <md-icon aria-hidden="true"><template shadowrootmode="open"><!----><slot></slot></template><!--?lit$0157429536$--><svg viewBox="0 0 24 24"><!--?lit$0157429536$-->
      <path d="M21,3H3A2,2,0,0,0,1,5V17a2,2,0,0,0,2,2H21a2,2,0,0,0,2-2V5A2,2,0,0,0,21,3Zm0,2V17H3V5"></path>
      <rect x="5" y="12" width="11" height="2"></rect>
      <rect x="5" y="8" width="11" height="2"></rect>
      <rect x="17" y="8" width="2" height="2"></rect>
      <rect x="17" y="12" width="2" height="2"></rect></svg></md-icon>
        </md-icon-button> <!--?lit$0157429536$-->
      </div><!----><div class="left-pane-button">
        <!--?lit$0157429536$--><md-icon-button command="show-terminal" aria-label="Terminal" title="Terminal" role="presentation" value=""><template shadowrootmode="open" shadowrootdelegatesfocus><!----><button id="button" class="icon-button  standard " aria-label="Terminal">
        <!--?lit$0157429536$--><md-focus-ring part="focus-ring" for="button" aria-hidden="true"><template shadowrootmode="open"><!----></template></md-focus-ring>
        <!--?lit$0157429536$--><md-ripple aria-hidden="true"><template shadowrootmode="open"><!----><div class="surface"></div></template></md-ripple>
        <!--?lit$0157429536$--><span class="icon"><slot></slot></span>
        <!--?lit$0157429536$-->
        <!--?lit$0157429536$--><span class="touch"></span>
        <!--?lit$0157429536$-->
  </button></template>
          <md-icon aria-hidden="true"><template shadowrootmode="open"><!----><slot></slot></template><!--?lit$0157429536$-->terminal</md-icon>
        </md-icon-button> <!--?lit$0157429536$-->
      </div></div>
      </div></colab-left-pane>
        <div class="layout vertical grow">
          <colab-notebook-toolbar id="top-toolbar" class="horizontal layout center noshrink"><!----> <!--?lit$0157429536$-->
          <colab-toolbar-button command="insert-cell-below" icon="add" id="toolbar-add-code"><template shadowrootmode="open"><!----><md-text-button id="button" aria-disabled="false" role="presentation" value="" has-icon=""><template shadowrootmode="open" shadowrootdelegatesfocus><!---->
      <!--?lit$0157429536$-->
      <div class="background"></div>
      <md-focus-ring part="focus-ring" for="button" aria-hidden="true"><template shadowrootmode="open"><!----></template></md-focus-ring>
      <md-ripple for="button" aria-hidden="true"><template shadowrootmode="open"><!----><div class="surface"></div></template></md-ripple>
      <!--?lit$0157429536$--><button id="button" class="button">
      <!--?lit$0157429536$-->
      <span class="touch"></span>
      <!--?lit$0157429536$--><slot name="icon"></slot>
      <span class="label"><slot></slot></span>
      <!--?lit$0157429536$-->
    
    </button>
    </template>
        <!--?lit$0157429536$--><md-icon slot="icon" aria-hidden="true"><template shadowrootmode="open"><!----><slot></slot></template><!--?lit$0157429536$-->add</md-icon>
        <span class="button-content"><slot></slot></span>
        <!--?lit$0157429536$--><span class="screenreader-only"><!--?lit$0157429536$-->Insert code cell below <!--?lit$0157429536$-->Ctrl+M B</span>
      </md-text-button>
      <!--?lit$0157429536$--> <colab-tooltip-trigger for="button" aria-hidden="true" id="tooltip" message="Insert code cell below" shortcut="Ctrl+M B"><template shadowrootmode="open"><!----><!--?lit$0157429536$--><!----><div><!--?lit$0157429536$-->Insert code cell below</div><!----><!--?--></template>
          </colab-tooltip-trigger><!--?--></template>
            <!--?lit$0157429536$-->Code
          </colab-toolbar-button>
          <colab-toolbar-button command="add-text" icon="add" id="toolbar-add-text"><template shadowrootmode="open"><!----><md-text-button id="button" aria-disabled="false" role="presentation" value="" has-icon=""><template shadowrootmode="open" shadowrootdelegatesfocus><!---->
      <!--?lit$0157429536$-->
      <div class="background"></div>
      <md-focus-ring part="focus-ring" for="button" aria-hidden="true"><template shadowrootmode="open"><!----></template></md-focus-ring>
      <md-ripple for="button" aria-hidden="true"><template shadowrootmode="open"><!----><div class="surface"></div></template></md-ripple>
      <!--?lit$0157429536$--><button id="button" class="button">
      <!--?lit$0157429536$-->
      <span class="touch"></span>
      <!--?lit$0157429536$--><slot name="icon"></slot>
      <span class="label"><slot></slot></span>
      <!--?lit$0157429536$-->
    
    </button>
    </template>
        <!--?lit$0157429536$--><md-icon slot="icon" aria-hidden="true"><template shadowrootmode="open"><!----><slot></slot></template><!--?lit$0157429536$-->add</md-icon>
        <span class="button-content"><slot></slot></span>
        <!--?lit$0157429536$--><span class="screenreader-only"><!--?lit$0157429536$-->Add text cell <!--?lit$0157429536$--></span>
      </md-text-button>
      <!--?lit$0157429536$--> <colab-tooltip-trigger for="button" aria-hidden="true" id="tooltip" message="Add text cell" shortcut=""><template shadowrootmode="open"><!----><!--?lit$0157429536$--><!----><div><!--?lit$0157429536$-->Add text cell</div><!----><!--?--></template>
          </colab-tooltip-trigger><!--?--></template>
            <!--?lit$0157429536$-->Text
          </colab-toolbar-button>
          <!--?lit$0157429536$-->
        
    <!--?lit$0157429536$-->
    <!--?lit$0157429536$-->
    <!--?lit$0157429536$-->
    <!--?lit$0157429536$--> <span class="collapsed-options">
          <colab-last-saved-indicator aria-live="polite" aria-atomic="true" title=""><template shadowrootmode="open"><!----><button class=" save-message "><!--?lit$0157429536$-->Saving...</button></template></colab-last-saved-indicator>
        </span>

    <span class="flex"></span>
    <!--?lit$0157429536$--><colab-connect-warning-button><template shadowrootmode="open"><!----><!--?lit$0157429536$--><!--?--><!--?--></template></colab-connect-warning-button>
    <!--?lit$0157429536$--><!--?lit$0157429536$--><colab-connect-button><template shadowrootmode="open"><!----> <!--?lit$0157429536$--><md-icon-button id="connect-icon" class="big-icon icon-okay" aria-label="Focus the last run cell" role="presentation" value=""><template shadowrootmode="open" shadowrootdelegatesfocus><!----><button id="button" class="icon-button  standard " aria-label="Focus the last run cell">
        <!--?lit$0157429536$--><md-focus-ring part="focus-ring" for="button" aria-hidden="true"><template shadowrootmode="open"><!----></template></md-focus-ring>
        <!--?lit$0157429536$--><md-ripple aria-hidden="true"><template shadowrootmode="open"><!----><div class="surface   "></div></template></md-ripple>
        <!--?lit$0157429536$--><span class="icon"><slot></slot></span>
        <!--?lit$0157429536$-->
        <!--?lit$0157429536$--><span class="touch"></span>
        <!--?lit$0157429536$-->
  </button></template>
            <md-icon aria-hidden="true"><template shadowrootmode="open"><!----><slot></slot></template><!--?lit$0157429536$-->done</md-icon>
          </md-icon-button>
          <colab-tooltip-trigger for="connect-icon" id="connect-icon-tooltip" aria-hidden="true" message="Focus the last run cell"><template shadowrootmode="open"><!----><!--?lit$0157429536$--><!----><div><!--?lit$0157429536$-->Focus the last run cell</div><!----><!--?--></template>
          </colab-tooltip-trigger>
      <colab-toolbar-button id="connect" tooltipid="colab-connect-tooltip" tooltiptext="Connected to

          Python 3 Google Compute Engine backend

          

RAM: 1.13 GB/12.67 GB
Disk: 24.48 GB/107.72 GB"><template shadowrootmode="open"><!----><md-text-button id="button" aria-disabled="false" role="presentation" value=""><template shadowrootmode="open" shadowrootdelegatesfocus><!---->
      <!--?lit$0157429536$-->
      <div class="background"></div>
      <md-focus-ring part="focus-ring" for="button" aria-hidden="true"><template shadowrootmode="open"><!----></template></md-focus-ring>
      <md-ripple for="button" aria-hidden="true"><template shadowrootmode="open"><!----><div class="surface   "></div></template></md-ripple>
      <!--?lit$0157429536$--><button id="button" class="button">
      <!--?lit$0157429536$-->
      <span class="touch"></span>
      <!--?lit$0157429536$--><slot name="icon"></slot>
      <span class="label"><slot></slot></span>
      <!--?lit$0157429536$-->
    
    </button>
    </template>
        <!--?lit$0157429536$-->
        <span class="button-content"><slot></slot></span>
        <!--?lit$0157429536$--><span class="screenreader-only"><!--?lit$0157429536$-->Connected to

          Python 3 Google Compute Engine backend

          

RAM: 1.13 GB/12.67 GB
Disk: 24.48 GB/107.72 GB <!--?lit$0157429536$--></span>
      </md-text-button>
      <!--?lit$0157429536$--> <colab-tooltip-trigger for="button" aria-hidden="true" id="colab-connect-tooltip" message="Connected to

          Python 3 Google Compute Engine backend

          

RAM: 1.13 GB/12.67 GB
Disk: 24.48 GB/107.72 GB" shortcut=""><template shadowrootmode="open"><!----><!--?lit$0157429536$--><!----><div><!--?lit$0157429536$-->Connected to</div><!----><!----><div><!--?lit$0157429536$--></div><!----><!----><div><!--?lit$0157429536$-->          Python 3 Google Compute Engine backend</div><!----><!----><div><!--?lit$0157429536$--></div><!----><!----><div><!--?lit$0157429536$-->          </div><!----><!----><div><!--?lit$0157429536$--></div><!----><!----><div><!--?lit$0157429536$-->RAM: 1.13 GB/12.67 GB</div><!----><!----><div><!--?lit$0157429536$-->Disk: 24.48 GB/107.72 GB</div><!----><!--?--></template>
          </colab-tooltip-trigger><!--?--></template>
        <!--?lit$0157429536$--> <div id="connect-button-resource-display">
        <!--?lit$0157429536$--><colab-usage-sparkline class="ram" label="RAM"><template shadowrootmode="open"><!---->
      <div class="label"><!--?lit$0157429536$-->RAM</div>
      <!--?lit$0157429536$-->
      <canvas height="14" width="20"></canvas>
    </template></colab-usage-sparkline>
        <!--?lit$0157429536$--><colab-usage-sparkline class="disk" label="Disk"><template shadowrootmode="open"><!---->
      <div class="label"><!--?lit$0157429536$-->Disk</div>
      <!--?lit$0157429536$-->
      <canvas height="14" width="20"></canvas>
    </template></colab-usage-sparkline>
      </div>
      </colab-toolbar-button>
      <!--?lit$0157429536$--> <md-icon-button id="connect-dropdown" aria-label="Additional connection options" role="presentation" value=""><template shadowrootmode="open" shadowrootdelegatesfocus><!----><button id="button" class="icon-button  standard " aria-label="Additional connection options">
        <!--?lit$0157429536$--><md-focus-ring part="focus-ring" for="button" aria-hidden="true"><template shadowrootmode="open"><!----></template></md-focus-ring>
        <!--?lit$0157429536$--><md-ripple aria-hidden="true"><template shadowrootmode="open"><!----><div class="surface   "></div></template></md-ripple>
        <!--?lit$0157429536$--><span class="icon"><slot></slot></span>
        <!--?lit$0157429536$-->
        <!--?lit$0157429536$--><span class="touch"></span>
        <!--?lit$0157429536$-->
  </button></template>
        <md-icon aria-hidden="true"><template shadowrootmode="open"><!----><slot></slot></template>arrow_drop_down</md-icon>
      </md-icon-button>
      <colab-tooltip-trigger for="connect-dropdown" id="connect-dropdown-tooltip" aria-hidden="true" message="Additional connection options"><template shadowrootmode="open"><!----><!--?lit$0157429536$--><!----><div><!--?lit$0157429536$-->Additional connection options</div><!----><!--?--></template>
      </colab-tooltip-trigger><!--?--></template></colab-connect-button><!--?-->
    <!--?lit$0157429536$--> <span class="colab-separator"></span>
          <colab-toolbar-button icon="supervised_user_circle" command="show-chat"><template shadowrootmode="open"><!----><md-text-button id="button" aria-disabled="false" role="presentation" value="" has-icon=""><template shadowrootmode="open" shadowrootdelegatesfocus><!---->
      <!--?lit$0157429536$-->
      <div class="background"></div>
      <md-focus-ring part="focus-ring" for="button" aria-hidden="true"><template shadowrootmode="open"><!----></template></md-focus-ring>
      <md-ripple for="button" aria-hidden="true"><template shadowrootmode="open"><!----><div class="surface   "></div></template></md-ripple>
      <!--?lit$0157429536$--><button id="button" class="button">
      <!--?lit$0157429536$-->
      <span class="touch"></span>
      <!--?lit$0157429536$--><slot name="icon"></slot>
      <span class="label"><slot></slot></span>
      <!--?lit$0157429536$-->
    
    </button>
    </template>
        <!--?lit$0157429536$--><md-icon slot="icon" aria-hidden="true"><template shadowrootmode="open"><!----><slot></slot></template><!--?lit$0157429536$-->supervised_user_circle</md-icon>
        <span class="button-content"><slot></slot></span>
        <!--?lit$0157429536$--><span class="screenreader-only"><!--?lit$0157429536$--> <!--?lit$0157429536$--></span>
      </md-text-button>
      <!--?lit$0157429536$--><!--?--></template>
            <!--?lit$0157429536$-->Colab AI
          </colab-toolbar-button>
    <!--?lit$0157429536$-->
    <span class="collapsed-options">
      <!--?lit$0157429536$--><span class="colab-separator"></span>
      <!--?lit$0157429536$--> <md-icon-button command="share" title="Share notebook" aria-label="Share notebook" role="presentation" value=""><template shadowrootmode="open" shadowrootdelegatesfocus><!----><button id="button" class="icon-button  standard " aria-label="Share notebook">
        <!--?lit$0157429536$--><md-focus-ring part="focus-ring" for="button" aria-hidden="true"><template shadowrootmode="open"><!----></template></md-focus-ring>
        <!--?lit$0157429536$--><md-ripple aria-hidden="true"><template shadowrootmode="open"><!----><div class="surface   "></div></template></md-ripple>
        <!--?lit$0157429536$--><span class="icon"><slot></slot></span>
        <!--?lit$0157429536$-->
        <!--?lit$0157429536$--><span class="touch"></span>
        <!--?lit$0157429536$-->
  </button></template>
            <md-icon filled="" aria-hidden="true"><template shadowrootmode="open"><!----><slot></slot></template><!--?lit$0157429536$-->people</md-icon>
          </md-icon-button><md-icon-button command="preferences" aria-label="Open settings" title="Open settings" role="presentation" value=""><template shadowrootmode="open" shadowrootdelegatesfocus><!----><button id="button" class="icon-button  standard " aria-label="Open settings">
        <!--?lit$0157429536$--><md-focus-ring part="focus-ring" for="button" aria-hidden="true"><template shadowrootmode="open"><!----></template></md-focus-ring>
        <!--?lit$0157429536$--><md-ripple aria-hidden="true"><template shadowrootmode="open"><!----><div class="surface"></div></template></md-ripple>
        <!--?lit$0157429536$--><span class="icon"><slot></slot></span>
        <!--?lit$0157429536$-->
        <!--?lit$0157429536$--><span class="touch"></span>
        <!--?lit$0157429536$-->
  </button></template>
        <md-icon filled="" aria-hidden="true"><template shadowrootmode="open"><!----><slot></slot></template>settings</md-icon>
      </md-icon-button>
    </span>
    <span class="colab-separator"></span>
    <!--?lit$0157429536$--><md-icon-button toggle="" command="toggle-header" id="toggle-header-button" aria-label="Toggle header visibility" role="presentation" aria-describedby="toggle-header-button-tooltip" value=""><template shadowrootmode="open" shadowrootdelegatesfocus><!----><button id="button" class="icon-button standard" aria-label="Toggle header visibility" aria-pressed="false">
        <!--?lit$0157429536$--><md-focus-ring part="focus-ring" for="button" aria-hidden="true"><template shadowrootmode="open"><!----></template></md-focus-ring>
        <!--?lit$0157429536$--><md-ripple aria-hidden="true"><template shadowrootmode="open"><!----><div class="surface"></div></template></md-ripple>
        <!--?lit$0157429536$--><span class="icon"><slot></slot></span>
        <!--?lit$0157429536$-->
        <!--?lit$0157429536$--><span class="touch"></span>
        <!--?lit$0157429536$-->
  </button></template>
    <md-icon aria-hidden="true"><template shadowrootmode="open"><!----><slot></slot></template>expand_less</md-icon>
    <md-icon slot="selected" aria-hidden="true"><template shadowrootmode="open"><!----><slot></slot></template>expand_more</md-icon>
  </md-icon-button><colab-tooltip-trigger aria-hidden="true" for="toggle-header-button" id="toggle-header-button-tooltip"><template shadowrootmode="open"><!----><!--?lit$0157429536$--><!----><div><!--?lit$0157429536$-->Toggle header visibility</div><!----><!--?--></template>
        </colab-tooltip-trigger><!--?--></colab-notebook-toolbar><colab-tab-layout-container class="layout horizontal grow flexible-tabs"><!----> <div class="layout horizontal tab-pane-parent">
      <!--?lit$0157429536$--> <div class="layout vertical tab-pane-parent">
      <!--?lit$0157429536$--><colab-tab-pane class="layout vertical grow no-header focused" align="horizontal"><!----> <div class="layout vertical grow">
    <div class="tab-pane-header layout horizontal noshrink">
      <md-tabs><template shadowrootmode="open"><!---->
      <div class="tabs">
        <slot></slot>
      </div>
      <md-divider part="divider"><template shadowrootmode="open"><!----></template></md-divider>
    </template><md-primary-tab noink="" title="" aria-labelledby="tab-title-j-eJpjv0o6ic" class="selected-tab" tabindex="0" md-tab="" active=""><template shadowrootmode="open"><!----><div class="button" role="presentation">
      <md-focus-ring part="focus-ring" inward="" aria-hidden="true"><template shadowrootmode="open"><!----></template></md-focus-ring>
      <md-elevation part="elevation" aria-hidden="true"><template shadowrootmode="open"><!----><span class="shadow"></span></template></md-elevation>
      <md-ripple aria-hidden="true"><template shadowrootmode="open"><!----><div class="surface   "></div></template></md-ripple>
      <div role="presentation" class="content  has-label stacked ">
        <slot name="icon"></slot>
        <slot></slot>
        <!--?lit$0157429536$--><div class="indicator"></div>
      </div>
      <!--?lit$0157429536$-->
    </div></template>
          <div class="colab-tab-header">
            <span class="colab-tab-title" id="tab-title-j-eJpjv0o6ic"><!--?lit$0157429536$--><!--?lit$0157429536$-->Notebook<!--?--></span>
            <!--?lit$0157429536$-->
          </div>
        </md-primary-tab></md-tabs>
      <div class="layout grow"></div>
      <!--?lit$0157429536$--> <md-icon-button title="Show more" aria-label="Show more" role="presentation" value=""><template shadowrootmode="open" shadowrootdelegatesfocus><!----><button id="button" class="icon-button  standard " aria-label="Show more">
        <!--?lit$0157429536$--><md-focus-ring part="focus-ring" for="button" aria-hidden="true"><template shadowrootmode="open"><!----></template></md-focus-ring>
        <!--?lit$0157429536$--><md-ripple aria-hidden="true"><template shadowrootmode="open"><!----><div class="surface   "></div></template></md-ripple>
        <!--?lit$0157429536$--><span class="icon"><slot></slot></span>
        <!--?lit$0157429536$-->
        <!--?lit$0157429536$--><span class="touch"></span>
        <!--?lit$0157429536$-->
  </button></template>
    <md-icon aria-hidden="true"><template shadowrootmode="open"><!----><slot></slot></template>more_horiz</md-icon>
  </md-icon-button>
    </div>
    <div class="layout vertical grow tab-pane-container"> <colab-tab class="layout vertical grow notebook-tab-content selected-tab"><!----> <div class="overflow-flexbox-workaround">
      <colab-shaded-scroller ignore-dom-changes="" tabindex="-1" role="main" class="notebook-container" aria-label="Notebook">
        <div class="notebook-scrolling-horizontal-container">
          <div class="notebook-scrolling-horizontal">
            <div class="notebook-content-background">
              <!--?lit$0157429536$-->
              <div class="notebook-content ">
                <!--?lit$0157429536$--><div class="add-cell">
      <div class="add-cell-buttons">
        <md-outlined-button class="add-code add-button" aria-label="Add code cell
Ctrl+M B" title="Add code cell
Ctrl+M B" role="presentation" value="" has-icon=""><template shadowrootmode="open" shadowrootdelegatesfocus><!---->
      <!--?lit$0157429536$--><div class="outline"></div>
      <div class="background"></div>
      <md-focus-ring part="focus-ring" for="button" aria-hidden="true"><template shadowrootmode="open"><!----></template></md-focus-ring>
      <md-ripple for="button" aria-hidden="true"><template shadowrootmode="open"><!----><div class="surface   "></div></template></md-ripple>
      <!--?lit$0157429536$--><button id="button" class="button" aria-label="Add code cell
Ctrl+M B">
      <!--?lit$0157429536$-->
      <span class="touch"></span>
      <!--?lit$0157429536$--><slot name="icon"></slot>
      <span class="label"><slot></slot></span>
      <!--?lit$0157429536$-->
    
    </button>
    </template>
          <md-icon slot="icon" aria-hidden="true"><template shadowrootmode="open"><!----><slot></slot></template>add</md-icon>
          <!--?lit$0157429536$-->Code
        </md-outlined-button>
        <md-outlined-button class="add-text add-button" aria-label="Add text cell" title="Add text cell" role="presentation" value="" has-icon=""><template shadowrootmode="open" shadowrootdelegatesfocus><!---->
      <!--?lit$0157429536$--><div class="outline"></div>
      <div class="background"></div>
      <md-focus-ring part="focus-ring" for="button" aria-hidden="true"><template shadowrootmode="open"><!----></template></md-focus-ring>
      <md-ripple for="button" aria-hidden="true"><template shadowrootmode="open"><!----><div class="surface   "></div></template></md-ripple>
      <!--?lit$0157429536$--><button id="button" class="button" aria-label="Add text cell">
      <!--?lit$0157429536$-->
      <span class="touch"></span>
      <!--?lit$0157429536$--><slot name="icon"></slot>
      <span class="label"><slot></slot></span>
      <!--?lit$0157429536$-->
    
    </button>
    </template>
          <md-icon slot="icon" aria-hidden="true"><template shadowrootmode="open"><!----><slot></slot></template>add</md-icon>
          <!--?lit$0157429536$-->Text
        </md-outlined-button>
        <!--?lit$0157429536$-->
      </div><hr>
    </div>
                <div class="notebook-cell-list"><div class="cell text" id="cell-4D7SEwngd-V9" tabindex="-1" role="region" aria-label="Cell 0: Text cell: " style=""><div class="cell-tag-editor sticky"></div><div class="cell-toolbar sticky"></div><div class="main-content" elevation="0"><div class="cell-contents"><div class="cell-mask"></div><span class="imported-info-area"></span><!----> <div class="toolbar-root"></div>
      <div class="editor-container horizontal">
        <div class="editor-root"></div>
        <div class="text-top-div">
          <div class="markdown"><span><p>CREDIT CARD FRAUD TRANSACTION DETECTION MODEL
TECHNOHACKS EDUTECH OFFICIAL INTERNSHIP PROGRAM: (Batch:33, March 2024)</p>
<p>Problem Statement: Use a dataset of credit card transactions and build a model that can identify potentially fraudulent transactions</p>
<p>IMPORTING LIBARIES:</p>
</span></div>
        </div>
      </div>

      <div class="section-header" style="display: none;">
        <colab-run-button role="button" aria-label="Run cell"><template shadowrootmode="open"><!----> <div class="cell-execution">
      <div class="execution-count"><!--?lit$0157429536$-->[ ]</div>
      <div class="cell-execution-indicator"> <!--?lit$0157429536$-->
<svg xmlns="http://www.w3.org/2000/svg" viewBox="0 0 24 24">
  <!--?lit$0157429536$-->
  <mask id="playSymbolMask">
    <rect width="100%" height="100%" fill="white"></rect>
    <polygon points="10,8 17,12 10,16" fill="black"></polygon>
  </mask>
  <circle cx="12" cy="12" r="7.8" mask="url(#playSymbolMask)" id="filledCircle"></circle>
</svg> </div>
      <!--?lit$0157429536$--><!--?-->
    </div></template></colab-run-button>
        <div class="section-header-container" title="click to expand">↳ 0 cells hidden</div>
      </div></div></div><div class="add-cell">
      <div class="add-cell-buttons">
        <md-outlined-button class="add-code add-button" aria-label="Add code cell
Ctrl+M B" title="Add code cell
Ctrl+M B" role="presentation" value="" has-icon=""><template shadowrootmode="open" shadowrootdelegatesfocus><!---->
      <!--?lit$0157429536$--><div class="outline"></div>
      <div class="background"></div>
      <md-focus-ring part="focus-ring" for="button" aria-hidden="true"><template shadowrootmode="open"><!----></template></md-focus-ring>
      <md-ripple for="button" aria-hidden="true"><template shadowrootmode="open"><!----><div class="surface   "></div></template></md-ripple>
      <!--?lit$0157429536$--><button id="button" class="button" aria-label="Add code cell
Ctrl+M B">
      <!--?lit$0157429536$-->
      <span class="touch"></span>
      <!--?lit$0157429536$--><slot name="icon"></slot>
      <span class="label"><slot></slot></span>
      <!--?lit$0157429536$-->
    
    </button>
    </template>
          <md-icon slot="icon" aria-hidden="true"><template shadowrootmode="open"><!----><slot></slot></template>add</md-icon>
          <!--?lit$0157429536$-->Code
        </md-outlined-button>
        <md-outlined-button class="add-text add-button" aria-label="Add text cell" title="Add text cell" role="presentation" value="" has-icon=""><template shadowrootmode="open" shadowrootdelegatesfocus><!---->
      <!--?lit$0157429536$--><div class="outline"></div>
      <div class="background"></div>
      <md-focus-ring part="focus-ring" for="button" aria-hidden="true"><template shadowrootmode="open"><!----></template></md-focus-ring>
      <md-ripple for="button" aria-hidden="true"><template shadowrootmode="open"><!----><div class="surface   "></div></template></md-ripple>
      <!--?lit$0157429536$--><button id="button" class="button" aria-label="Add text cell">
      <!--?lit$0157429536$-->
      <span class="touch"></span>
      <!--?lit$0157429536$--><slot name="icon"></slot>
      <span class="label"><slot></slot></span>
      <!--?lit$0157429536$-->
    
    </button>
    </template>
          <md-icon slot="icon" aria-hidden="true"><template shadowrootmode="open"><!----><slot></slot></template>add</md-icon>
          <!--?lit$0157429536$-->Text
        </md-outlined-button>
        <!--?lit$0157429536$-->
      </div><hr>
    </div></div><div class="cell code icon-scrolling" id="cell-5iF7_fOoeI5d" tabindex="-1" role="region" aria-label="Cell 1: Code cell: " style=""><div class="cell-tag-editor sticky"></div><div class="cell-toolbar sticky"></div><div class="main-content" elevation="0"><div class="cell-contents"><div class="cell-mask"></div><span class="imported-info-area"></span><div class="codecell-input-output">
      <div class="inputarea horizontal layout code">
        <div class="cell-gutter">
          <!-- Bounding range for vertical scrolling of icons -->
          <div class="cell-execution-container">
            <colab-run-button title="Run cell (Ctrl+Enter)
cell executed since last change" role="button" aria-label="Run cell"><template shadowrootmode="open"><!----> <div class="cell-execution">
      <div class="execution-count"><!--?lit$0157429536$-->[1]</div>
      <div class="cell-execution-indicator"> <!--?lit$0157429536$-->
<svg xmlns="http://www.w3.org/2000/svg" viewBox="0 0 24 24">
  <!--?lit$0157429536$-->
  <mask id="playSymbolMask">
    <rect width="100%" height="100%" fill="white"></rect>
    <polygon points="10,8 17,12 10,16" fill="black"></polygon>
  </mask>
  <circle cx="12" cy="12" r="7.8" mask="url(#playSymbolMask)" id="filledCircle"></circle>
</svg> </div>
      <!--?lit$0157429536$--><div id="status">
      <md-icon aria-hidden="true"><template shadowrootmode="open"><!----><slot></slot></template><!--?lit$0157429536$--><svg viewBox="0 0 24 24"><!--?lit$0157429536$--><path d="M9 16.17L4.83 12l-1.42 1.41L9 19 21 7l-1.41-1.41z"></path></svg></md-icon>
      <div><!--?lit$0157429536$--></div>
    </div>
    </div></template></colab-run-button>
          </div>
        </div>
      <div class="editor flex lazy-editor" style=""><pre class="lazy-virtualized" style="font-size: 14px; line-height: 19px;"><pre class="lazy-gutter"></pre><pre class="monaco-colorized colab-dark colab-dark colab-dark colab-dark" data-lang="notebook-python"><span><span class="mtk18">import</span><span class="mtk1">&nbsp;numpy&nbsp;</span><span class="mtk18">as</span><span class="mtk1">&nbsp;np</span></span><br><span><span class="mtk18">import</span><span class="mtk1">&nbsp;pandas&nbsp;</span><span class="mtk18">as</span><span class="mtk1">&nbsp;pd</span></span><br><span><span class="mtk18">from</span><span class="mtk1">&nbsp;sklearn.model_selection&nbsp;</span><span class="mtk18">import</span><span class="mtk1">&nbsp;train_test_split</span></span><br><span><span class="mtk18">from</span><span class="mtk1">&nbsp;sklearn.linear_model&nbsp;</span><span class="mtk18">import</span><span class="mtk1">&nbsp;LogisticRegression</span></span><br><span><span class="mtk18">from</span><span class="mtk1">&nbsp;sklearn.metrics&nbsp;</span><span class="mtk18">import</span><span class="mtk1">&nbsp;accuracy_score</span></span><br></pre><colab-read-only-cell-placeholder style="display: none;"><template shadowrootmode="open"><!----><div><!--?lit$0157429536$-->Start coding or <span tabindex="0" role="button" class="link">generate</span> with AI.</div></template></colab-read-only-cell-placeholder></pre></div><colab-form class="formview vertical layout flex"><div class="widget-area vertical layout"></div></colab-form></div>
    <div class="output"><!----> <div class="output-header"> </div>
        <div class="output-content" style="display: none;">
          <div class="output-info"> </div>
          <div class="output-iframe-container">
            <div class="output-iframe-sizer"> </div>
          </div>
        </div></div></div><colab-cell-next-steps><template shadowrootmode="open"><!----></template></colab-cell-next-steps></div></div><div class="add-cell">
      <div class="add-cell-buttons">
        <md-outlined-button class="add-code add-button" aria-label="Add code cell
Ctrl+M B" title="Add code cell
Ctrl+M B" role="presentation" value="" has-icon=""><template shadowrootmode="open" shadowrootdelegatesfocus><!---->
      <!--?lit$0157429536$--><div class="outline"></div>
      <div class="background"></div>
      <md-focus-ring part="focus-ring" for="button" aria-hidden="true"><template shadowrootmode="open"><!----></template></md-focus-ring>
      <md-ripple for="button" aria-hidden="true"><template shadowrootmode="open"><!----><div class="surface   "></div></template></md-ripple>
      <!--?lit$0157429536$--><button id="button" class="button" aria-label="Add code cell
Ctrl+M B">
      <!--?lit$0157429536$-->
      <span class="touch"></span>
      <!--?lit$0157429536$--><slot name="icon"></slot>
      <span class="label"><slot></slot></span>
      <!--?lit$0157429536$-->
    
    </button>
    </template>
          <md-icon slot="icon" aria-hidden="true"><template shadowrootmode="open"><!----><slot></slot></template>add</md-icon>
          <!--?lit$0157429536$-->Code
        </md-outlined-button>
        <md-outlined-button class="add-text add-button" aria-label="Add text cell" title="Add text cell" role="presentation" value="" has-icon=""><template shadowrootmode="open" shadowrootdelegatesfocus><!---->
      <!--?lit$0157429536$--><div class="outline"></div>
      <div class="background"></div>
      <md-focus-ring part="focus-ring" for="button" aria-hidden="true"><template shadowrootmode="open"><!----></template></md-focus-ring>
      <md-ripple for="button" aria-hidden="true"><template shadowrootmode="open"><!----><div class="surface   "></div></template></md-ripple>
      <!--?lit$0157429536$--><button id="button" class="button" aria-label="Add text cell">
      <!--?lit$0157429536$-->
      <span class="touch"></span>
      <!--?lit$0157429536$--><slot name="icon"></slot>
      <span class="label"><slot></slot></span>
      <!--?lit$0157429536$-->
    
    </button>
    </template>
          <md-icon slot="icon" aria-hidden="true"><template shadowrootmode="open"><!----><slot></slot></template>add</md-icon>
          <!--?lit$0157429536$-->Text
        </md-outlined-button>
        <!--?lit$0157429536$-->
      </div><hr>
    </div></div><div class="cell code code-has-output icon-scrolling" id="cell-UqQjKuLoihtL" tabindex="-1" role="region" aria-label="Cell 2: Code cell: " style=""><div class="cell-tag-editor sticky"></div><div class="cell-toolbar sticky"></div><div class="main-content" elevation="0"><div class="cell-contents"><div class="cell-mask"></div><span class="imported-info-area"></span><div class="codecell-input-output">
      <div class="inputarea horizontal layout code">
        <div class="cell-gutter">
          <!-- Bounding range for vertical scrolling of icons -->
          <div class="cell-execution-container">
            <colab-run-button title="Run cell (Ctrl+Enter)
cell executed since last change

executed by Srinivasulu K
1:21 PM (46 minutes ago)
executed in 8.079s" role="button" aria-label="Run cell"><template shadowrootmode="open"><!----> <div class="cell-execution">
      <div class="execution-count"><!--?lit$0157429536$-->[14]</div>
      <div class="cell-execution-indicator"> <!--?lit$0157429536$-->
<svg xmlns="http://www.w3.org/2000/svg" viewBox="0 0 24 24">
  <!--?lit$0157429536$-->
  <mask id="playSymbolMask">
    <rect width="100%" height="100%" fill="white"></rect>
    <polygon points="10,8 17,12 10,16" fill="black"></polygon>
  </mask>
  <circle cx="12" cy="12" r="7.8" mask="url(#playSymbolMask)" id="filledCircle"></circle>
</svg> </div>
      <!--?lit$0157429536$--><div id="status">
      <md-icon aria-hidden="true"><template shadowrootmode="open"><!----><slot></slot></template><!--?lit$0157429536$--><svg viewBox="0 0 24 24"><!--?lit$0157429536$--><path d="M9 16.17L4.83 12l-1.42 1.41L9 19 21 7l-1.41-1.41z"></path></svg></md-icon>
      <div><!--?lit$0157429536$-->8s</div>
    </div>
    </div></template></colab-run-button>
          </div>
        </div>
      <div class="editor flex lazy-editor" style=""><pre class="lazy-virtualized" style="font-size: 14px; line-height: 19px;"><pre class="lazy-gutter"></pre><pre class="monaco-colorized colab-dark colab-dark colab-dark colab-dark" data-lang="notebook-python"><span><span class="mtk17">!</span><span class="mtk1">pip&nbsp;install&nbsp;pandas</span></span><br><span><span></span></span><br></pre><colab-read-only-cell-placeholder style="display: none;"><template shadowrootmode="open"><!----><div><!--?lit$0157429536$-->Start coding or <span tabindex="0" role="button" class="link">generate</span> with AI.</div></template></colab-read-only-cell-placeholder></pre></div><colab-form class="formview vertical layout flex"><div class="widget-area vertical layout"></div></colab-form></div>
    <div class="output"><!----> <div class="output-header"> </div>
        <div class="output-content">
          <div class="output-info"><colab-output-info title="Clear output

executed by Srinivasulu K
1:21 PM (27 minutes ago)
executed in 8.079s" hovering=""><template shadowrootmode="open"><!----> <md-icon class="collaborator output" alt="Execution output" aria-hidden="true"><template shadowrootmode="open"><!----><slot></slot></template><!--?lit$0157429536$-->output</md-icon>
      <!--?lit$0157429536$--> <mwc-icon-button icon="cancel" command="clear-focused-or-selected-outputs" alt="Clear output"><template shadowrootmode="open"><!----><button class="mdc-icon-button mdc-icon-button--display-flex" aria-label="cancel"><!--?lit$0157429536$-->
    <!--?lit$0157429536$--><i class="material-icons"><!--?lit$0157429536$-->cancel</i>
    <span><slot></slot></span>
  </button></template>
          </mwc-icon-button><!--?--></template></colab-output-info></div>
          <div class="output-iframe-container">
            <div class="output-iframe-sizer"> <div><div><colab-static-output-renderer tabindex="0" role="group"><div><div class="stream output_text"><pre>Requirement already satisfied: pandas in /usr/local/lib/python3.10/dist-packages (2.0.3)
Requirement already satisfied: python-dateutil&gt;=2.8.2 in /usr/local/lib/python3.10/dist-packages (from pandas) (2.8.2)
Requirement already satisfied: pytz&gt;=2020.1 in /usr/local/lib/python3.10/dist-packages (from pandas) (2023.4)
Requirement already satisfied: tzdata&gt;=2022.1 in /usr/local/lib/python3.10/dist-packages (from pandas) (2024.1)
Requirement already satisfied: numpy&gt;=1.21.0 in /usr/local/lib/python3.10/dist-packages (from pandas) (1.25.2)
Requirement already satisfied: six&gt;=1.5 in /usr/local/lib/python3.10/dist-packages (from python-dateutil&gt;=2.8.2-&gt;pandas) (1.16.0)
</pre></div></div><div></div></colab-static-output-renderer></div></div></div>
          </div>
        </div></div></div><colab-cell-next-steps><template shadowrootmode="open"><!----></template></colab-cell-next-steps></div></div><div class="add-cell">
      <hr>
    </div></div><div class="cell code icon-scrolling" id="cell-UmnrsZUQios1" tabindex="-1" role="region" aria-label="Cell 3: Code cell: " style=""><div class="cell-tag-editor sticky"></div><div class="cell-toolbar sticky"></div><div class="main-content" elevation="0"><div class="cell-contents"><div class="cell-mask"></div><span class="imported-info-area"></span><div class="codecell-input-output">
      <div class="inputarea horizontal layout code">
        <div class="cell-gutter">
          <!-- Bounding range for vertical scrolling of icons -->
          <div class="cell-execution-container">
            <colab-run-button title="Run cell (Ctrl+Enter)
cell executed since last change" role="button" aria-label="Run cell"><template shadowrootmode="open"><!----> <div class="cell-execution">
      <div class="execution-count"><!--?lit$0157429536$-->[15]</div>
      <div class="cell-execution-indicator"> <!--?lit$0157429536$-->
<svg xmlns="http://www.w3.org/2000/svg" viewBox="0 0 24 24">
  <!--?lit$0157429536$-->
  <mask id="playSymbolMask">
    <rect width="100%" height="100%" fill="white"></rect>
    <polygon points="10,8 17,12 10,16" fill="black"></polygon>
  </mask>
  <circle cx="12" cy="12" r="7.8" mask="url(#playSymbolMask)" id="filledCircle"></circle>
</svg> </div>
      <!--?lit$0157429536$--><div id="status">
      <md-icon aria-hidden="true"><template shadowrootmode="open"><!----><slot></slot></template><!--?lit$0157429536$--><svg viewBox="0 0 24 24"><!--?lit$0157429536$--><path d="M9 16.17L4.83 12l-1.42 1.41L9 19 21 7l-1.41-1.41z"></path></svg></md-icon>
      <div><!--?lit$0157429536$--></div>
    </div>
    </div></template></colab-run-button>
          </div>
        </div>
      <div class="editor flex lazy-editor" style=""><pre class="lazy-virtualized" style="font-size: 14px; line-height: 19px;"><pre class="lazy-gutter"></pre><pre class="monaco-colorized colab-dark colab-dark colab-dark colab-dark" data-lang="notebook-python"><span><span class="mtk18">import</span><span class="mtk1">&nbsp;pandas&nbsp;</span><span class="mtk18">as</span><span class="mtk1">&nbsp;pd</span></span><br></pre><colab-read-only-cell-placeholder style="display: none;"><template shadowrootmode="open"><!----><div><!--?lit$0157429536$-->Start coding or <span tabindex="0" role="button" class="link">generate</span> with AI.</div></template></colab-read-only-cell-placeholder></pre></div><colab-form class="formview vertical layout flex"><div class="widget-area vertical layout"></div></colab-form></div>
    <div class="output"><!----> <div class="output-header"> </div>
        <div class="output-content" style="display: none;">
          <div class="output-info"> </div>
          <div class="output-iframe-container">
            <div class="output-iframe-sizer"> </div>
          </div>
        </div></div></div><colab-cell-next-steps><template shadowrootmode="open"><!----></template></colab-cell-next-steps></div></div><div class="add-cell">
      <div class="add-cell-buttons">
        <md-outlined-button class="add-code add-button" aria-label="Add code cell
Ctrl+M B" title="Add code cell
Ctrl+M B" role="presentation" value="" has-icon=""><template shadowrootmode="open" shadowrootdelegatesfocus><!---->
      <!--?lit$0157429536$--><div class="outline"></div>
      <div class="background"></div>
      <md-focus-ring part="focus-ring" for="button" aria-hidden="true"><template shadowrootmode="open"><!----></template></md-focus-ring>
      <md-ripple for="button" aria-hidden="true"><template shadowrootmode="open"><!----><div class="surface   "></div></template></md-ripple>
      <!--?lit$0157429536$--><button id="button" class="button" aria-label="Add code cell
Ctrl+M B">
      <!--?lit$0157429536$-->
      <span class="touch"></span>
      <!--?lit$0157429536$--><slot name="icon"></slot>
      <span class="label"><slot></slot></span>
      <!--?lit$0157429536$-->
    
    </button>
    </template>
          <md-icon slot="icon" aria-hidden="true"><template shadowrootmode="open"><!----><slot></slot></template>add</md-icon>
          <!--?lit$0157429536$-->Code
        </md-outlined-button>
        <md-outlined-button class="add-text add-button" aria-label="Add text cell" title="Add text cell" role="presentation" value="" has-icon=""><template shadowrootmode="open" shadowrootdelegatesfocus><!---->
      <!--?lit$0157429536$--><div class="outline"></div>
      <div class="background"></div>
      <md-focus-ring part="focus-ring" for="button" aria-hidden="true"><template shadowrootmode="open"><!----></template></md-focus-ring>
      <md-ripple for="button" aria-hidden="true"><template shadowrootmode="open"><!----><div class="surface   "></div></template></md-ripple>
      <!--?lit$0157429536$--><button id="button" class="button" aria-label="Add text cell">
      <!--?lit$0157429536$-->
      <span class="touch"></span>
      <!--?lit$0157429536$--><slot name="icon"></slot>
      <span class="label"><slot></slot></span>
      <!--?lit$0157429536$-->
    
    </button>
    </template>
          <md-icon slot="icon" aria-hidden="true"><template shadowrootmode="open"><!----><slot></slot></template>add</md-icon>
          <!--?lit$0157429536$-->Text
        </md-outlined-button>
        <!--?lit$0157429536$-->
      </div><hr>
    </div></div><div class="cell code icon-scrolling" id="cell-ULpa_QDQhAyZ" tabindex="-1" role="region" aria-label="Cell 4: Code cell: " style=""><div class="cell-tag-editor sticky"></div><div class="cell-toolbar sticky"></div><div class="main-content" elevation="0"><div class="cell-contents"><div class="cell-mask"></div><span class="imported-info-area"></span><div class="codecell-input-output">
      <div class="inputarea horizontal layout code">
        <div class="cell-gutter">
          <!-- Bounding range for vertical scrolling of icons -->
          <div class="cell-execution-container">
            <colab-run-button title="Run cell (Ctrl+Enter)
cell executed since last change" role="button" aria-label="Run cell"><template shadowrootmode="open"><!----> <div class="cell-execution">
      <div class="execution-count"><!--?lit$0157429536$-->[18]</div>
      <div class="cell-execution-indicator"> <!--?lit$0157429536$-->
<svg xmlns="http://www.w3.org/2000/svg" viewBox="0 0 24 24">
  <!--?lit$0157429536$-->
  <mask id="playSymbolMask">
    <rect width="100%" height="100%" fill="white"></rect>
    <polygon points="10,8 17,12 10,16" fill="black"></polygon>
  </mask>
  <circle cx="12" cy="12" r="7.8" mask="url(#playSymbolMask)" id="filledCircle"></circle>
</svg> </div>
      <!--?lit$0157429536$--><div id="status">
      <md-icon aria-hidden="true"><template shadowrootmode="open"><!----><slot></slot></template><!--?lit$0157429536$--><svg viewBox="0 0 24 24"><!--?lit$0157429536$--><path d="M9 16.17L4.83 12l-1.42 1.41L9 19 21 7l-1.41-1.41z"></path></svg></md-icon>
      <div><!--?lit$0157429536$--></div>
    </div>
    </div></template></colab-run-button>
          </div>
        </div>
      <div class="editor flex lazy-editor" style=""><pre class="lazy-virtualized" style="font-size: 14px; line-height: 19px;"><pre class="lazy-gutter"></pre><pre class="monaco-colorized colab-dark colab-dark colab-dark colab-dark" data-lang="notebook-python"><span><span class="mtk1">file_path&nbsp;=&nbsp;</span><span class="mtk5">'/content/creditcard.csv'</span></span><br><span><span class="mtk1">credit_card_data&nbsp;=&nbsp;pd.read_csv</span><span class="mtk12">(</span><span class="mtk1">file_path</span><span class="mtk12">)</span></span><br></pre><colab-read-only-cell-placeholder style="display: none;"><template shadowrootmode="open"><!----><div><!--?lit$0157429536$-->Start coding or <span tabindex="0" role="button" class="link">generate</span> with AI.</div></template></colab-read-only-cell-placeholder></pre></div><colab-form class="formview vertical layout flex"><div class="widget-area vertical layout"></div></colab-form></div>
    <div class="output"><!----> <div class="output-header"> </div>
        <div class="output-content" style="display: none;">
          <div class="output-info"> </div>
          <div class="output-iframe-container">
            <div class="output-iframe-sizer"> </div>
          </div>
        </div></div></div><colab-cell-next-steps><template shadowrootmode="open"><!----></template></colab-cell-next-steps></div></div><div class="add-cell">
      <div class="add-cell-buttons">
        <md-outlined-button class="add-code add-button" aria-label="Add code cell
Ctrl+M B" title="Add code cell
Ctrl+M B" role="presentation" value="" has-icon=""><template shadowrootmode="open" shadowrootdelegatesfocus><!---->
      <!--?lit$0157429536$--><div class="outline"></div>
      <div class="background"></div>
      <md-focus-ring part="focus-ring" for="button" aria-hidden="true"><template shadowrootmode="open"><!----></template></md-focus-ring>
      <md-ripple for="button" aria-hidden="true"><template shadowrootmode="open"><!----><div class="surface   "></div></template></md-ripple>
      <!--?lit$0157429536$--><button id="button" class="button" aria-label="Add code cell
Ctrl+M B">
      <!--?lit$0157429536$-->
      <span class="touch"></span>
      <!--?lit$0157429536$--><slot name="icon"></slot>
      <span class="label"><slot></slot></span>
      <!--?lit$0157429536$-->
    
    </button>
    </template>
          <md-icon slot="icon" aria-hidden="true"><template shadowrootmode="open"><!----><slot></slot></template>add</md-icon>
          <!--?lit$0157429536$-->Code
        </md-outlined-button>
        <md-outlined-button class="add-text add-button" aria-label="Add text cell" title="Add text cell" role="presentation" value="" has-icon=""><template shadowrootmode="open" shadowrootdelegatesfocus><!---->
      <!--?lit$0157429536$--><div class="outline"></div>
      <div class="background"></div>
      <md-focus-ring part="focus-ring" for="button" aria-hidden="true"><template shadowrootmode="open"><!----></template></md-focus-ring>
      <md-ripple for="button" aria-hidden="true"><template shadowrootmode="open"><!----><div class="surface   "></div></template></md-ripple>
      <!--?lit$0157429536$--><button id="button" class="button" aria-label="Add text cell">
      <!--?lit$0157429536$-->
      <span class="touch"></span>
      <!--?lit$0157429536$--><slot name="icon"></slot>
      <span class="label"><slot></slot></span>
      <!--?lit$0157429536$-->
    
    </button>
    </template>
          <md-icon slot="icon" aria-hidden="true"><template shadowrootmode="open"><!----><slot></slot></template>add</md-icon>
          <!--?lit$0157429536$-->Text
        </md-outlined-button>
        <!--?lit$0157429536$-->
      </div><hr>
    </div></div><div class="cell code code-has-output icon-scrolling" id="cell-PdDMhYYr5PgJ" tabindex="-1" role="region" aria-label="Cell 5: Code cell: " style=""><div class="cell-tag-editor sticky"></div><div class="cell-toolbar sticky"></div><div class="main-content" elevation="0"><div class="cell-contents"><div class="cell-mask"></div><span class="imported-info-area"></span><div class="codecell-input-output">
      <div class="inputarea horizontal layout code">
        <div class="cell-gutter">
          <!-- Bounding range for vertical scrolling of icons -->
          <div class="cell-execution-container">
            <colab-run-button title="Run cell (Ctrl+Enter)
cell executed since last change

executed by Srinivasulu K
1:17 PM (51 minutes ago)
executed in 10.043s" role="button" aria-label="Run cell"><template shadowrootmode="open"><!----> <div class="cell-execution">
      <div class="execution-count"><!--?lit$0157429536$-->[9]</div>
      <div class="cell-execution-indicator"> <!--?lit$0157429536$-->
<svg xmlns="http://www.w3.org/2000/svg" viewBox="0 0 24 24">
  <!--?lit$0157429536$-->
  <mask id="playSymbolMask">
    <rect width="100%" height="100%" fill="white"></rect>
    <polygon points="10,8 17,12 10,16" fill="black"></polygon>
  </mask>
  <circle cx="12" cy="12" r="7.8" mask="url(#playSymbolMask)" id="filledCircle"></circle>
</svg> </div>
      <!--?lit$0157429536$--><div id="status">
      <md-icon aria-hidden="true"><template shadowrootmode="open"><!----><slot></slot></template><!--?lit$0157429536$--><svg viewBox="0 0 24 24"><!--?lit$0157429536$--><path d="M9 16.17L4.83 12l-1.42 1.41L9 19 21 7l-1.41-1.41z"></path></svg></md-icon>
      <div><!--?lit$0157429536$-->10s</div>
    </div>
    </div></template></colab-run-button>
          </div>
        </div>
      <div class="editor flex lazy-editor" style=""><pre class="lazy-virtualized" style="font-size: 14px; line-height: 19px;"><pre class="lazy-gutter"></pre><pre class="monaco-colorized colab-dark colab-dark colab-dark colab-dark" data-lang="notebook-python"><span><span class="mtk17">!</span><span class="mtk1">pip&nbsp;install&nbsp;tidyverse</span></span><br><span><span></span></span><br></pre><colab-read-only-cell-placeholder style="display: none;"><template shadowrootmode="open"><!----><div><!--?lit$0157429536$-->Start coding or <span tabindex="0" role="button" class="link">generate</span> with AI.</div></template></colab-read-only-cell-placeholder></pre></div><colab-form class="formview vertical layout flex"><div class="widget-area vertical layout"></div></colab-form></div>
    <div class="output"><!----> <div class="output-header"> </div>
        <div class="output-content">
          <div class="output-info"><colab-output-info title="Clear output

executed by Srinivasulu K
1:17 PM (31 minutes ago)
executed in 10.043s" hovering=""><template shadowrootmode="open"><!----> <md-icon class="collaborator output" alt="Execution output" aria-hidden="true"><template shadowrootmode="open"><!----><slot></slot></template><!--?lit$0157429536$-->output</md-icon>
      <!--?lit$0157429536$--> <mwc-icon-button icon="cancel" command="clear-focused-or-selected-outputs" alt="Clear output"><template shadowrootmode="open"><!----><button class="mdc-icon-button mdc-icon-button--display-flex" aria-label="cancel"><!--?lit$0157429536$-->
    <!--?lit$0157429536$--><i class="material-icons"><!--?lit$0157429536$-->cancel</i>
    <span><slot></slot></span>
  </button></template>
          </mwc-icon-button><!--?--></template></colab-output-info></div>
          <div class="output-iframe-container">
            <div class="output-iframe-sizer"> <div><div><colab-static-output-renderer tabindex="0" role="group"><div><div class="stream output_text"><pre>Collecting tidyverse
  Downloading tidyverse-0.1.0-py3-none-any.whl (1.1 kB)
Collecting plotnine&lt;0.11.0,&gt;=0.10.1 (from tidyverse)
  Downloading plotnine-0.10.1-py3-none-any.whl (1.2 MB)
     <span style="color: var(--ansi-bright-black);">━━━━━━━━━━━━━━━━━━━━━━━━━━━━━━━━━━━━━━━━</span><span> </span><span style="color: var(--ansi-green);">1.2/1.2 MB</span><span> </span><span style="color: var(--ansi-red);">6.1 MB/s</span><span> eta </span><span style="color: var(--ansi-cyan);">0:00:00</span><span>
</span>Collecting siuba&lt;0.4.0,&gt;=0.3.0 (from tidyverse)
  Downloading siuba-0.3.0-py3-none-any.whl (142 kB)
     <span style="color: var(--ansi-bright-black);">━━━━━━━━━━━━━━━━━━━━━━━━━━━━━━━━━━━━━━━━</span><span> </span><span style="color: var(--ansi-green);">142.1/142.1 kB</span><span> </span><span style="color: var(--ansi-red);">13.6 MB/s</span><span> eta </span><span style="color: var(--ansi-cyan);">0:00:00</span><span>
</span>Requirement already satisfied: matplotlib&gt;=3.5.0 in /usr/local/lib/python3.10/dist-packages (from plotnine&lt;0.11.0,&gt;=0.10.1-&gt;tidyverse) (3.7.1)
Requirement already satisfied: mizani&gt;=0.8.1 in /usr/local/lib/python3.10/dist-packages (from plotnine&lt;0.11.0,&gt;=0.10.1-&gt;tidyverse) (0.9.3)
Requirement already satisfied: numpy&gt;=1.19.0 in /usr/local/lib/python3.10/dist-packages (from plotnine&lt;0.11.0,&gt;=0.10.1-&gt;tidyverse) (1.25.2)
Requirement already satisfied: pandas&gt;=1.3.5 in /usr/local/lib/python3.10/dist-packages (from plotnine&lt;0.11.0,&gt;=0.10.1-&gt;tidyverse) (2.0.3)
Requirement already satisfied: patsy&gt;=0.5.1 in /usr/local/lib/python3.10/dist-packages (from plotnine&lt;0.11.0,&gt;=0.10.1-&gt;tidyverse) (0.5.6)
Requirement already satisfied: scipy&gt;=1.5.0 in /usr/local/lib/python3.10/dist-packages (from plotnine&lt;0.11.0,&gt;=0.10.1-&gt;tidyverse) (1.11.4)
Requirement already satisfied: statsmodels&gt;=0.13.2 in /usr/local/lib/python3.10/dist-packages (from plotnine&lt;0.11.0,&gt;=0.10.1-&gt;tidyverse) (0.14.1)
Requirement already satisfied: SQLAlchemy&gt;=1.2.19 in /usr/local/lib/python3.10/dist-packages (from siuba&lt;0.4.0,&gt;=0.3.0-&gt;tidyverse) (2.0.29)
Requirement already satisfied: PyYAML&gt;=3.0.0 in /usr/local/lib/python3.10/dist-packages (from siuba&lt;0.4.0,&gt;=0.3.0-&gt;tidyverse) (6.0.1)
Requirement already satisfied: contourpy&gt;=1.0.1 in /usr/local/lib/python3.10/dist-packages (from matplotlib&gt;=3.5.0-&gt;plotnine&lt;0.11.0,&gt;=0.10.1-&gt;tidyverse) (1.2.0)
Requirement already satisfied: cycler&gt;=0.10 in /usr/local/lib/python3.10/dist-packages (from matplotlib&gt;=3.5.0-&gt;plotnine&lt;0.11.0,&gt;=0.10.1-&gt;tidyverse) (0.12.1)
Requirement already satisfied: fonttools&gt;=4.22.0 in /usr/local/lib/python3.10/dist-packages (from matplotlib&gt;=3.5.0-&gt;plotnine&lt;0.11.0,&gt;=0.10.1-&gt;tidyverse) (4.50.0)
Requirement already satisfied: kiwisolver&gt;=1.0.1 in /usr/local/lib/python3.10/dist-packages (from matplotlib&gt;=3.5.0-&gt;plotnine&lt;0.11.0,&gt;=0.10.1-&gt;tidyverse) (1.4.5)
Requirement already satisfied: packaging&gt;=20.0 in /usr/local/lib/python3.10/dist-packages (from matplotlib&gt;=3.5.0-&gt;plotnine&lt;0.11.0,&gt;=0.10.1-&gt;tidyverse) (24.0)
Requirement already satisfied: pillow&gt;=6.2.0 in /usr/local/lib/python3.10/dist-packages (from matplotlib&gt;=3.5.0-&gt;plotnine&lt;0.11.0,&gt;=0.10.1-&gt;tidyverse) (9.4.0)
Requirement already satisfied: pyparsing&gt;=2.3.1 in /usr/local/lib/python3.10/dist-packages (from matplotlib&gt;=3.5.0-&gt;plotnine&lt;0.11.0,&gt;=0.10.1-&gt;tidyverse) (3.1.2)
Requirement already satisfied: python-dateutil&gt;=2.7 in /usr/local/lib/python3.10/dist-packages (from matplotlib&gt;=3.5.0-&gt;plotnine&lt;0.11.0,&gt;=0.10.1-&gt;tidyverse) (2.8.2)
Requirement already satisfied: pytz&gt;=2020.1 in /usr/local/lib/python3.10/dist-packages (from pandas&gt;=1.3.5-&gt;plotnine&lt;0.11.0,&gt;=0.10.1-&gt;tidyverse) (2023.4)
Requirement already satisfied: tzdata&gt;=2022.1 in /usr/local/lib/python3.10/dist-packages (from pandas&gt;=1.3.5-&gt;plotnine&lt;0.11.0,&gt;=0.10.1-&gt;tidyverse) (2024.1)
Requirement already satisfied: six in /usr/local/lib/python3.10/dist-packages (from patsy&gt;=0.5.1-&gt;plotnine&lt;0.11.0,&gt;=0.10.1-&gt;tidyverse) (1.16.0)
Requirement already satisfied: typing-extensions&gt;=4.6.0 in /usr/local/lib/python3.10/dist-packages (from SQLAlchemy&gt;=1.2.19-&gt;siuba&lt;0.4.0,&gt;=0.3.0-&gt;tidyverse) (4.10.0)
Requirement already satisfied: greenlet!=0.4.17 in /usr/local/lib/python3.10/dist-packages (from SQLAlchemy&gt;=1.2.19-&gt;siuba&lt;0.4.0,&gt;=0.3.0-&gt;tidyverse) (3.0.3)
Installing collected packages: siuba, plotnine, tidyverse
  Attempting uninstall: plotnine
    Found existing installation: plotnine 0.12.4
    Uninstalling plotnine-0.12.4:
      Successfully uninstalled plotnine-0.12.4
Successfully installed plotnine-0.10.1 siuba-0.3.0 tidyverse-0.1.0
</pre></div></div><div></div></colab-static-output-renderer></div></div></div>
          </div>
        </div></div></div><colab-cell-next-steps><template shadowrootmode="open"><!----></template></colab-cell-next-steps></div></div><div class="add-cell">
      <hr>
    </div></div><div class="cell code code-has-output icon-scrolling" id="cell-L31DVNIlkocs" tabindex="-1" role="region" aria-label="Cell 6: Code cell: " style=""><div class="cell-tag-editor sticky"></div><div class="cell-toolbar sticky"></div><div class="main-content" elevation="0"><div class="cell-contents"><div class="cell-mask"></div><span class="imported-info-area"></span><div class="codecell-input-output">
      <div class="inputarea horizontal layout code">
        <div class="cell-gutter">
          <!-- Bounding range for vertical scrolling of icons -->
          <div class="cell-execution-container">
            <colab-run-button title="Run cell (Ctrl+Enter)
cell executed since last change

executed by Srinivasulu K
1:30 PM (37 minutes ago)
executed in 0.45s" role="button" aria-label="Run cell"><template shadowrootmode="open"><!----> <div class="cell-execution">
      <div class="execution-count"><!--?lit$0157429536$-->[19]</div>
      <div class="cell-execution-indicator"> <!--?lit$0157429536$-->
<svg xmlns="http://www.w3.org/2000/svg" viewBox="0 0 24 24">
  <!--?lit$0157429536$-->
  <mask id="playSymbolMask">
    <rect width="100%" height="100%" fill="white"></rect>
    <polygon points="10,8 17,12 10,16" fill="black"></polygon>
  </mask>
  <circle cx="12" cy="12" r="7.8" mask="url(#playSymbolMask)" id="filledCircle"></circle>
</svg> </div>
      <!--?lit$0157429536$--><div id="status">
      <md-icon aria-hidden="true"><template shadowrootmode="open"><!----><slot></slot></template><!--?lit$0157429536$--><svg viewBox="0 0 24 24"><!--?lit$0157429536$--><path d="M9 16.17L4.83 12l-1.42 1.41L9 19 21 7l-1.41-1.41z"></path></svg></md-icon>
      <div><!--?lit$0157429536$-->0s</div>
    </div>
    </div></template></colab-run-button>
          </div>
        </div>
      <div class="editor flex lazy-editor" style=""><pre class="lazy-virtualized" style="font-size: 14px; line-height: 19px;"><pre class="lazy-gutter"></pre><pre class="monaco-colorized colab-dark colab-dark colab-dark colab-dark colab-dark" data-lang="notebook-python"><span><span class="mtk1">credit_card_data.head</span><span class="mtk12">()</span></span><br></pre><colab-read-only-cell-placeholder style="display: none;"><template shadowrootmode="open"><!----><div><!--?lit$0157429536$-->Start coding or <span tabindex="0" role="button" class="link">generate</span> with AI.</div></template></colab-read-only-cell-placeholder></pre></div><colab-form class="formview vertical layout flex"><div class="widget-area vertical layout"></div></colab-form></div>
    <div class="output"><!----> <div class="output-header"> </div>
        <div class="output-content">
          <div class="output-info"><colab-output-info title="Clear output

executed by Srinivasulu K
1:30 PM (18 minutes ago)
executed in 0.45s" hovering=""><template shadowrootmode="open"><!----> <md-icon class="collaborator output" alt="Execution output" aria-hidden="true"><template shadowrootmode="open"><!----><slot></slot></template><!--?lit$0157429536$-->output</md-icon>
      <!--?lit$0157429536$--> <mwc-icon-button icon="cancel" command="clear-focused-or-selected-outputs" alt="Clear output"><template shadowrootmode="open"><!----><button class="mdc-icon-button mdc-icon-button--display-flex" aria-label="cancel"><!--?lit$0157429536$-->
    <!--?lit$0157429536$--><i class="material-icons"><!--?lit$0157429536$-->cancel</i>
    <span><slot></slot></span>
  </button></template>
          </mwc-icon-button><!--?--></template></colab-output-info></div>
          <div class="output-iframe-container">
            <div class="output-iframe-sizer"> <div style=""><div class="outputview" style="height: 255px;"><colab-dom-lifecycle-events style="display: none;"></colab-dom-lifecycle-events><iframe allow="" sandbox="allow-downloads allow-forms allow-pointer-lock allow-popups allow-same-origin allow-scripts allow-storage-access-by-user-activation allow-popups-to-escape-sandbox" src="./CreditCardFraudDetection_files/outputframe.html" class="" style="height: 255px;"></iframe></div></div></div>
          </div>
        </div></div></div><colab-cell-next-steps><template shadowrootmode="open"><!----></template></colab-cell-next-steps></div></div><div class="add-cell">
      <div class="add-cell-buttons">
        <md-outlined-button class="add-code add-button" aria-label="Add code cell
Ctrl+M B" title="Add code cell
Ctrl+M B" role="presentation" value="" has-icon=""><template shadowrootmode="open" shadowrootdelegatesfocus><!---->
      <!--?lit$0157429536$--><div class="outline"></div>
      <div class="background"></div>
      <md-focus-ring part="focus-ring" for="button" aria-hidden="true"><template shadowrootmode="open"><!----></template></md-focus-ring>
      <md-ripple for="button" aria-hidden="true"><template shadowrootmode="open"><!----><div class="surface   "></div></template></md-ripple>
      <!--?lit$0157429536$--><button id="button" class="button" aria-label="Add code cell
Ctrl+M B">
      <!--?lit$0157429536$-->
      <span class="touch"></span>
      <!--?lit$0157429536$--><slot name="icon"></slot>
      <span class="label"><slot></slot></span>
      <!--?lit$0157429536$-->
    
    </button>
    </template>
          <md-icon slot="icon" aria-hidden="true"><template shadowrootmode="open"><!----><slot></slot></template>add</md-icon>
          <!--?lit$0157429536$-->Code
        </md-outlined-button>
        <md-outlined-button class="add-text add-button" aria-label="Add text cell" title="Add text cell" role="presentation" value="" has-icon=""><template shadowrootmode="open" shadowrootdelegatesfocus><!---->
      <!--?lit$0157429536$--><div class="outline"></div>
      <div class="background"></div>
      <md-focus-ring part="focus-ring" for="button" aria-hidden="true"><template shadowrootmode="open"><!----></template></md-focus-ring>
      <md-ripple for="button" aria-hidden="true"><template shadowrootmode="open"><!----><div class="surface   "></div></template></md-ripple>
      <!--?lit$0157429536$--><button id="button" class="button" aria-label="Add text cell">
      <!--?lit$0157429536$-->
      <span class="touch"></span>
      <!--?lit$0157429536$--><slot name="icon"></slot>
      <span class="label"><slot></slot></span>
      <!--?lit$0157429536$-->
    
    </button>
    </template>
          <md-icon slot="icon" aria-hidden="true"><template shadowrootmode="open"><!----><slot></slot></template>add</md-icon>
          <!--?lit$0157429536$-->Text
        </md-outlined-button>
        <!--?lit$0157429536$-->
      </div><hr>
    </div></div><div class="cell code code-has-output icon-scrolling" id="cell-Pl2GnAogkv_O" tabindex="-1" role="region" aria-label="Cell 7: Code cell: " style=""><div class="cell-tag-editor sticky"></div><div class="cell-toolbar sticky"></div><div class="main-content" elevation="0"><div class="cell-contents"><div class="cell-mask"></div><span class="imported-info-area"></span><div class="codecell-input-output">
      <div class="inputarea horizontal layout code">
        <div class="cell-gutter">
          <!-- Bounding range for vertical scrolling of icons -->
          <div class="cell-execution-container">
            <colab-run-button title="Run cell (Ctrl+Enter)
cell executed since last change

executed by Srinivasulu K
1:30 PM (37 minutes ago)
executed in 0.404s" role="button" aria-label="Run cell"><template shadowrootmode="open"><!----> <div class="cell-execution">
      <div class="execution-count"><!--?lit$0157429536$-->[20]</div>
      <div class="cell-execution-indicator"> <!--?lit$0157429536$-->
<svg xmlns="http://www.w3.org/2000/svg" viewBox="0 0 24 24">
  <!--?lit$0157429536$-->
  <mask id="playSymbolMask">
    <rect width="100%" height="100%" fill="white"></rect>
    <polygon points="10,8 17,12 10,16" fill="black"></polygon>
  </mask>
  <circle cx="12" cy="12" r="7.8" mask="url(#playSymbolMask)" id="filledCircle"></circle>
</svg> </div>
      <!--?lit$0157429536$--><div id="status">
      <md-icon aria-hidden="true"><template shadowrootmode="open"><!----><slot></slot></template><!--?lit$0157429536$--><svg viewBox="0 0 24 24"><!--?lit$0157429536$--><path d="M9 16.17L4.83 12l-1.42 1.41L9 19 21 7l-1.41-1.41z"></path></svg></md-icon>
      <div><!--?lit$0157429536$-->0s</div>
    </div>
    </div></template></colab-run-button>
          </div>
        </div>
      <div class="editor flex lazy-editor" style=""><pre class="lazy-virtualized" style="font-size: 14px; line-height: 19px;"><pre class="lazy-gutter"></pre><pre class="monaco-colorized colab-dark colab-dark colab-dark colab-dark colab-dark" data-lang="notebook-python"><span><span class="mtk1">credit_card_data.tail</span><span class="mtk12">()</span></span><br></pre><colab-read-only-cell-placeholder style="display: none;"><template shadowrootmode="open"><!----><div><!--?lit$0157429536$-->Start coding or <span tabindex="0" role="button" class="link">generate</span> with AI.</div></template></colab-read-only-cell-placeholder></pre></div><colab-form class="formview vertical layout flex"><div class="widget-area vertical layout"></div></colab-form></div>
    <div class="output"><!----> <div class="output-header"> </div>
        <div class="output-content">
          <div class="output-info"><colab-output-info title="Clear output

executed by Srinivasulu K
1:30 PM (18 minutes ago)
executed in 0.404s" hovering=""><template shadowrootmode="open"><!----> <md-icon class="collaborator output" alt="Execution output" aria-hidden="true"><template shadowrootmode="open"><!----><slot></slot></template><!--?lit$0157429536$-->output</md-icon>
      <!--?lit$0157429536$--> <mwc-icon-button icon="cancel" command="clear-focused-or-selected-outputs" alt="Clear output"><template shadowrootmode="open"><!----><button class="mdc-icon-button mdc-icon-button--display-flex" aria-label="cancel"><!--?lit$0157429536$-->
    <!--?lit$0157429536$--><i class="material-icons"><!--?lit$0157429536$-->cancel</i>
    <span><slot></slot></span>
  </button></template>
          </mwc-icon-button><!--?--></template></colab-output-info></div>
          <div class="output-iframe-container">
            <div class="output-iframe-sizer"> <div style=""><div class="outputview" style="height: 255px;"><colab-dom-lifecycle-events style="display: none;"></colab-dom-lifecycle-events><iframe allow="" sandbox="allow-downloads allow-forms allow-pointer-lock allow-popups allow-same-origin allow-scripts allow-storage-access-by-user-activation allow-popups-to-escape-sandbox" src="./CreditCardFraudDetection_files/outputframe(1).html" class="" style="height: 255px;"></iframe></div></div></div>
          </div>
        </div></div></div><colab-cell-next-steps><template shadowrootmode="open"><!----></template></colab-cell-next-steps></div></div><div class="add-cell">
      <div class="add-cell-buttons">
        <md-outlined-button class="add-code add-button" aria-label="Add code cell
Ctrl+M B" title="Add code cell
Ctrl+M B" role="presentation" value="" has-icon=""><template shadowrootmode="open" shadowrootdelegatesfocus><!---->
      <!--?lit$0157429536$--><div class="outline"></div>
      <div class="background"></div>
      <md-focus-ring part="focus-ring" for="button" aria-hidden="true"><template shadowrootmode="open"><!----></template></md-focus-ring>
      <md-ripple for="button" aria-hidden="true"><template shadowrootmode="open"><!----><div class="surface"></div></template></md-ripple>
      <!--?lit$0157429536$--><button id="button" class="button" aria-label="Add code cell
Ctrl+M B">
      <!--?lit$0157429536$-->
      <span class="touch"></span>
      <!--?lit$0157429536$--><slot name="icon"></slot>
      <span class="label"><slot></slot></span>
      <!--?lit$0157429536$-->
    
    </button>
    </template>
          <md-icon slot="icon" aria-hidden="true"><template shadowrootmode="open"><!----><slot></slot></template>add</md-icon>
          <!--?lit$0157429536$-->Code
        </md-outlined-button>
        <md-outlined-button class="add-text add-button" aria-label="Add text cell" title="Add text cell" role="presentation" value="" has-icon=""><template shadowrootmode="open" shadowrootdelegatesfocus><!---->
      <!--?lit$0157429536$--><div class="outline"></div>
      <div class="background"></div>
      <md-focus-ring part="focus-ring" for="button" aria-hidden="true"><template shadowrootmode="open"><!----></template></md-focus-ring>
      <md-ripple for="button" aria-hidden="true"><template shadowrootmode="open"><!----><div class="surface   "></div></template></md-ripple>
      <!--?lit$0157429536$--><button id="button" class="button" aria-label="Add text cell">
      <!--?lit$0157429536$-->
      <span class="touch"></span>
      <!--?lit$0157429536$--><slot name="icon"></slot>
      <span class="label"><slot></slot></span>
      <!--?lit$0157429536$-->
    
    </button>
    </template>
          <md-icon slot="icon" aria-hidden="true"><template shadowrootmode="open"><!----><slot></slot></template>add</md-icon>
          <!--?lit$0157429536$-->Text
        </md-outlined-button>
        <!--?lit$0157429536$-->
      </div><hr>
    </div></div><div class="cell code code-has-output icon-scrolling" id="cell-3GzuNxa4kyeW" tabindex="-1" role="region" aria-label="Cell 8: Code cell: " style=""><div class="cell-tag-editor sticky"></div><div class="cell-toolbar sticky"></div><div class="main-content" elevation="0"><div class="cell-contents"><div class="cell-mask"></div><span class="imported-info-area"></span><div class="codecell-input-output">
      <div class="inputarea horizontal layout code">
        <div class="cell-gutter">
          <!-- Bounding range for vertical scrolling of icons -->
          <div class="cell-execution-container">
            <colab-run-button title="Run cell (Ctrl+Enter)
cell executed since last change

executed by Srinivasulu K
1:31 PM (37 minutes ago)
executed in 0.407s" role="button" aria-label="Run cell"><template shadowrootmode="open"><!----> <div class="cell-execution">
      <div class="execution-count"><!--?lit$0157429536$-->[21]</div>
      <div class="cell-execution-indicator"> <!--?lit$0157429536$-->
<svg xmlns="http://www.w3.org/2000/svg" viewBox="0 0 24 24">
  <!--?lit$0157429536$-->
  <mask id="playSymbolMask">
    <rect width="100%" height="100%" fill="white"></rect>
    <polygon points="10,8 17,12 10,16" fill="black"></polygon>
  </mask>
  <circle cx="12" cy="12" r="7.8" mask="url(#playSymbolMask)" id="filledCircle"></circle>
</svg> </div>
      <!--?lit$0157429536$--><div id="status">
      <md-icon aria-hidden="true"><template shadowrootmode="open"><!----><slot></slot></template><!--?lit$0157429536$--><svg viewBox="0 0 24 24"><!--?lit$0157429536$--><path d="M9 16.17L4.83 12l-1.42 1.41L9 19 21 7l-1.41-1.41z"></path></svg></md-icon>
      <div><!--?lit$0157429536$-->0s</div>
    </div>
    </div></template></colab-run-button>
          </div>
        </div>
      <div class="editor flex lazy-editor" style=""><pre class="lazy-virtualized" style="font-size: 14px; line-height: 19px;"><pre class="lazy-gutter"></pre><pre class="monaco-colorized colab-dark colab-dark colab-dark colab-dark colab-dark" data-lang="notebook-python"><span><span class="mtk1">credit_card_data.info</span><span class="mtk12">()</span></span><br></pre><colab-read-only-cell-placeholder style="display: none;"><template shadowrootmode="open"><!----><div><!--?lit$0157429536$-->Start coding or <span tabindex="0" role="button" class="link">generate</span> with AI.</div></template></colab-read-only-cell-placeholder></pre></div><colab-form class="formview vertical layout flex"><div class="widget-area vertical layout"></div></colab-form></div>
    <div class="output"><!----> <div class="output-header"> </div>
        <div class="output-content">
          <div class="output-info"><colab-output-info title="Clear output

executed by Srinivasulu K
1:31 PM (17 minutes ago)
executed in 0.407s" hovering=""><template shadowrootmode="open"><!----> <md-icon class="collaborator output" alt="Execution output" aria-hidden="true"><template shadowrootmode="open"><!----><slot></slot></template><!--?lit$0157429536$-->output</md-icon>
      <!--?lit$0157429536$--> <mwc-icon-button icon="cancel" command="clear-focused-or-selected-outputs" alt="Clear output"><template shadowrootmode="open"><!----><button class="mdc-icon-button mdc-icon-button--display-flex" aria-label="cancel"><!--?lit$0157429536$-->
    <!--?lit$0157429536$--><i class="material-icons"><!--?lit$0157429536$-->cancel</i>
    <span><slot></slot></span>
  </button></template>
          </mwc-icon-button><!--?--></template></colab-output-info></div>
          <div class="output-iframe-container">
            <div class="output-iframe-sizer"> <div><div><colab-static-output-renderer tabindex="0" role="group"><div><div class="stream output_text"><pre>&lt;class 'pandas.core.frame.DataFrame'&gt;
RangeIndex: 13954 entries, 0 to 13953
Data columns (total 31 columns):
 #   Column  Non-Null Count  Dtype  
---  ------  --------------  -----  
 0   Time    13954 non-null  int64  
 1   V1      13954 non-null  float64
 2   V2      13954 non-null  float64
 3   V3      13954 non-null  float64
 4   V4      13954 non-null  float64
 5   V5      13954 non-null  float64
 6   V6      13954 non-null  float64
 7   V7      13954 non-null  float64
 8   V8      13954 non-null  float64
 9   V9      13954 non-null  float64
 10  V10     13954 non-null  float64
 11  V11     13954 non-null  float64
 12  V12     13954 non-null  float64
 13  V13     13954 non-null  float64
 14  V14     13954 non-null  float64
 15  V15     13954 non-null  float64
 16  V16     13954 non-null  float64
 17  V17     13954 non-null  float64
 18  V18     13954 non-null  float64
 19  V19     13954 non-null  float64
 20  V20     13954 non-null  float64
 21  V21     13954 non-null  float64
 22  V22     13954 non-null  float64
 23  V23     13954 non-null  float64
 24  V24     13954 non-null  float64
 25  V25     13954 non-null  float64
 26  V26     13954 non-null  float64
 27  V27     13954 non-null  float64
 28  V28     13954 non-null  float64
 29  Amount  13953 non-null  float64
 30  Class   13953 non-null  float64
dtypes: float64(30), int64(1)
memory usage: 3.3 MB
</pre></div></div><div></div></colab-static-output-renderer></div></div></div>
          </div>
        </div></div></div><colab-cell-next-steps><template shadowrootmode="open"><!----></template></colab-cell-next-steps></div></div><div class="add-cell">
      <div class="add-cell-buttons">
        <md-outlined-button class="add-code add-button" aria-label="Add code cell
Ctrl+M B" title="Add code cell
Ctrl+M B" role="presentation" value="" has-icon=""><template shadowrootmode="open" shadowrootdelegatesfocus><!---->
      <!--?lit$0157429536$--><div class="outline"></div>
      <div class="background"></div>
      <md-focus-ring part="focus-ring" for="button" aria-hidden="true"><template shadowrootmode="open"><!----></template></md-focus-ring>
      <md-ripple for="button" aria-hidden="true"><template shadowrootmode="open"><!----><div class="surface   "></div></template></md-ripple>
      <!--?lit$0157429536$--><button id="button" class="button" aria-label="Add code cell
Ctrl+M B">
      <!--?lit$0157429536$-->
      <span class="touch"></span>
      <!--?lit$0157429536$--><slot name="icon"></slot>
      <span class="label"><slot></slot></span>
      <!--?lit$0157429536$-->
    
    </button>
    </template>
          <md-icon slot="icon" aria-hidden="true"><template shadowrootmode="open"><!----><slot></slot></template>add</md-icon>
          <!--?lit$0157429536$-->Code
        </md-outlined-button>
        <md-outlined-button class="add-text add-button" aria-label="Add text cell" title="Add text cell" role="presentation" value="" has-icon=""><template shadowrootmode="open" shadowrootdelegatesfocus><!---->
      <!--?lit$0157429536$--><div class="outline"></div>
      <div class="background"></div>
      <md-focus-ring part="focus-ring" for="button" aria-hidden="true"><template shadowrootmode="open"><!----></template></md-focus-ring>
      <md-ripple for="button" aria-hidden="true"><template shadowrootmode="open"><!----><div class="surface   "></div></template></md-ripple>
      <!--?lit$0157429536$--><button id="button" class="button" aria-label="Add text cell">
      <!--?lit$0157429536$-->
      <span class="touch"></span>
      <!--?lit$0157429536$--><slot name="icon"></slot>
      <span class="label"><slot></slot></span>
      <!--?lit$0157429536$-->
    
    </button>
    </template>
          <md-icon slot="icon" aria-hidden="true"><template shadowrootmode="open"><!----><slot></slot></template>add</md-icon>
          <!--?lit$0157429536$-->Text
        </md-outlined-button>
        <!--?lit$0157429536$-->
      </div><hr>
    </div></div><div class="cell code code-has-output icon-scrolling" id="cell-86sJXEi9k6cM" tabindex="-1" role="region" aria-label="Cell 9: Code cell: " style=""><div class="cell-tag-editor sticky"></div><div class="cell-toolbar sticky"></div><div class="main-content" elevation="0"><div class="cell-contents"><div class="cell-mask"></div><span class="imported-info-area"></span><div class="codecell-input-output">
      <div class="inputarea horizontal layout code">
        <div class="cell-gutter">
          <!-- Bounding range for vertical scrolling of icons -->
          <div class="cell-execution-container">
            <colab-run-button title="Run cell (Ctrl+Enter)
cell executed since last change

executed by Srinivasulu K
1:31 PM (36 minutes ago)
executed in 0.415s" role="button" aria-label="Run cell"><template shadowrootmode="open"><!----> <div class="cell-execution">
      <div class="execution-count"><!--?lit$0157429536$-->[22]</div>
      <div class="cell-execution-indicator"> <!--?lit$0157429536$-->
<svg xmlns="http://www.w3.org/2000/svg" viewBox="0 0 24 24">
  <!--?lit$0157429536$-->
  <mask id="playSymbolMask">
    <rect width="100%" height="100%" fill="white"></rect>
    <polygon points="10,8 17,12 10,16" fill="black"></polygon>
  </mask>
  <circle cx="12" cy="12" r="7.8" mask="url(#playSymbolMask)" id="filledCircle"></circle>
</svg> </div>
      <!--?lit$0157429536$--><div id="status">
      <md-icon aria-hidden="true"><template shadowrootmode="open"><!----><slot></slot></template><!--?lit$0157429536$--><svg viewBox="0 0 24 24"><!--?lit$0157429536$--><path d="M9 16.17L4.83 12l-1.42 1.41L9 19 21 7l-1.41-1.41z"></path></svg></md-icon>
      <div><!--?lit$0157429536$-->0s</div>
    </div>
    </div></template></colab-run-button>
          </div>
        </div>
      <div class="editor flex lazy-editor" style=""><pre class="lazy-virtualized" style="font-size: 14px; line-height: 19px;"><pre class="lazy-gutter"></pre><pre class="monaco-colorized colab-dark colab-dark colab-dark colab-dark colab-dark" data-lang="notebook-python"><span><span class="mtk1">credit_card_data.isnull</span><span class="mtk12">()</span><span class="mtk1">.</span><span class="mtk15">sum</span><span class="mtk12">()</span></span><br></pre><colab-read-only-cell-placeholder style="display: none;"><template shadowrootmode="open"><!----><div><!--?lit$0157429536$-->Start coding or <span tabindex="0" role="button" class="link">generate</span> with AI.</div></template></colab-read-only-cell-placeholder></pre></div><colab-form class="formview vertical layout flex"><div class="widget-area vertical layout"></div></colab-form></div>
    <div class="output"><!----> <div class="output-header"> </div>
        <div class="output-content">
          <div class="output-info"><colab-output-info title="Clear output

executed by Srinivasulu K
1:31 PM (17 minutes ago)
executed in 0.415s" hovering=""><template shadowrootmode="open"><!----> <md-icon class="collaborator output" alt="Execution output" aria-hidden="true"><template shadowrootmode="open"><!----><slot></slot></template><!--?lit$0157429536$-->output</md-icon>
      <!--?lit$0157429536$--> <mwc-icon-button icon="cancel" command="clear-focused-or-selected-outputs" alt="Clear output"><template shadowrootmode="open"><!----><button class="mdc-icon-button mdc-icon-button--display-flex" aria-label="cancel"><!--?lit$0157429536$-->
    <!--?lit$0157429536$--><i class="material-icons"><!--?lit$0157429536$-->cancel</i>
    <span><slot></slot></span>
  </button></template>
          </mwc-icon-button><!--?--></template></colab-output-info></div>
          <div class="output-iframe-container">
            <div class="output-iframe-sizer"> <div><div><colab-static-output-renderer tabindex="0" role="group"><div><div class="execute_result output_text"><pre>Time      0
V1        0
V2        0
V3        0
V4        0
V5        0
V6        0
V7        0
V8        0
V9        0
V10       0
V11       0
V12       0
V13       0
V14       0
V15       0
V16       0
V17       0
V18       0
V19       0
V20       0
V21       0
V22       0
V23       0
V24       0
V25       0
V26       0
V27       0
V28       0
Amount    1
Class     1
dtype: int64</pre></div></div><div></div></colab-static-output-renderer></div></div></div>
          </div>
        </div></div></div><colab-cell-next-steps><template shadowrootmode="open"><!----></template></colab-cell-next-steps></div></div><div class="add-cell">
      <hr>
    </div></div><div class="cell text" id="cell-BTv8ObwvlCtO" tabindex="-1" role="region" aria-label="Cell 10: Text cell: " style=""><div class="cell-tag-editor sticky"></div><div class="cell-toolbar sticky"></div><div class="main-content" elevation="0"><div class="cell-contents"><div class="cell-mask"></div><span class="imported-info-area"></span><!----> <div class="toolbar-root"></div>
      <div class="editor-container horizontal">
        <div class="editor-root"></div>
        <div class="text-top-div">
          <div class="markdown"><span><p>We are having null values replace it my mean using fillna</p>
</span></div>
        </div>
      </div>

      <div class="section-header" style="display: none;">
        <colab-run-button role="button" aria-label="Run cell"><template shadowrootmode="open"><!----> <div class="cell-execution">
      <div class="execution-count"><!--?lit$0157429536$-->[ ]</div>
      <div class="cell-execution-indicator"> <!--?lit$0157429536$-->
<svg xmlns="http://www.w3.org/2000/svg" viewBox="0 0 24 24">
  <!--?lit$0157429536$-->
  <mask id="playSymbolMask">
    <rect width="100%" height="100%" fill="white"></rect>
    <polygon points="10,8 17,12 10,16" fill="black"></polygon>
  </mask>
  <circle cx="12" cy="12" r="7.8" mask="url(#playSymbolMask)" id="filledCircle"></circle>
</svg> </div>
      <!--?lit$0157429536$--><!--?-->
    </div></template></colab-run-button>
        <div class="section-header-container" title="click to expand">↳ 0 cells hidden</div>
      </div></div></div><div class="add-cell">
      <div class="add-cell-buttons">
        <md-outlined-button class="add-code add-button" aria-label="Add code cell
Ctrl+M B" title="Add code cell
Ctrl+M B" role="presentation" value="" has-icon=""><template shadowrootmode="open" shadowrootdelegatesfocus><!---->
      <!--?lit$0157429536$--><div class="outline"></div>
      <div class="background"></div>
      <md-focus-ring part="focus-ring" for="button" aria-hidden="true"><template shadowrootmode="open"><!----></template></md-focus-ring>
      <md-ripple for="button" aria-hidden="true"><template shadowrootmode="open"><!----><div class="surface"></div></template></md-ripple>
      <!--?lit$0157429536$--><button id="button" class="button" aria-label="Add code cell
Ctrl+M B">
      <!--?lit$0157429536$-->
      <span class="touch"></span>
      <!--?lit$0157429536$--><slot name="icon"></slot>
      <span class="label"><slot></slot></span>
      <!--?lit$0157429536$-->
    
    </button>
    </template>
          <md-icon slot="icon" aria-hidden="true"><template shadowrootmode="open"><!----><slot></slot></template>add</md-icon>
          <!--?lit$0157429536$-->Code
        </md-outlined-button>
        <md-outlined-button class="add-text add-button" aria-label="Add text cell" title="Add text cell" role="presentation" value="" has-icon=""><template shadowrootmode="open" shadowrootdelegatesfocus><!---->
      <!--?lit$0157429536$--><div class="outline"></div>
      <div class="background"></div>
      <md-focus-ring part="focus-ring" for="button" aria-hidden="true"><template shadowrootmode="open"><!----></template></md-focus-ring>
      <md-ripple for="button" aria-hidden="true"><template shadowrootmode="open"><!----><div class="surface   "></div></template></md-ripple>
      <!--?lit$0157429536$--><button id="button" class="button" aria-label="Add text cell">
      <!--?lit$0157429536$-->
      <span class="touch"></span>
      <!--?lit$0157429536$--><slot name="icon"></slot>
      <span class="label"><slot></slot></span>
      <!--?lit$0157429536$-->
    
    </button>
    </template>
          <md-icon slot="icon" aria-hidden="true"><template shadowrootmode="open"><!----><slot></slot></template>add</md-icon>
          <!--?lit$0157429536$-->Text
        </md-outlined-button>
        <!--?lit$0157429536$-->
      </div><hr>
    </div></div><div class="cell code icon-scrolling" id="cell-mswV4PP6lEXc" tabindex="-1" role="region" aria-label="Cell 11: Code cell: " style=""><div class="cell-tag-editor sticky"></div><div class="cell-toolbar sticky"></div><div class="main-content" elevation="0"><div class="cell-contents"><div class="cell-mask"></div><span class="imported-info-area"></span><div class="codecell-input-output">
      <div class="inputarea horizontal layout code">
        <div class="cell-gutter">
          <!-- Bounding range for vertical scrolling of icons -->
          <div class="cell-execution-container">
            <colab-run-button title="Run cell (Ctrl+Enter)
cell executed since last change" role="button" aria-label="Run cell"><template shadowrootmode="open"><!----> <div class="cell-execution">
      <div class="execution-count"><!--?lit$0157429536$-->[23]</div>
      <div class="cell-execution-indicator"> <!--?lit$0157429536$-->
<svg xmlns="http://www.w3.org/2000/svg" viewBox="0 0 24 24">
  <!--?lit$0157429536$-->
  <mask id="playSymbolMask">
    <rect width="100%" height="100%" fill="white"></rect>
    <polygon points="10,8 17,12 10,16" fill="black"></polygon>
  </mask>
  <circle cx="12" cy="12" r="7.8" mask="url(#playSymbolMask)" id="filledCircle"></circle>
</svg> </div>
      <!--?lit$0157429536$--><div id="status">
      <md-icon aria-hidden="true"><template shadowrootmode="open"><!----><slot></slot></template><!--?lit$0157429536$--><svg viewBox="0 0 24 24"><!--?lit$0157429536$--><path d="M9 16.17L4.83 12l-1.42 1.41L9 19 21 7l-1.41-1.41z"></path></svg></md-icon>
      <div><!--?lit$0157429536$--></div>
    </div>
    </div></template></colab-run-button>
          </div>
        </div>
      <div class="editor flex lazy-editor" style=""><pre class="lazy-virtualized" style="font-size: 14px; line-height: 19px;"><pre class="lazy-gutter"></pre><pre class="monaco-colorized colab-dark colab-dark colab-dark colab-dark colab-dark" data-lang="notebook-python"><span><span class="mtk1">credit_card_data.fillna</span><span class="mtk12">(</span><span class="mtk1">credit_card_data.mean</span><span class="mtk12">(),</span><span class="mtk1">&nbsp;inplace=</span><span class="mtk9">True</span><span class="mtk12">)</span></span><br></pre><colab-read-only-cell-placeholder style="display: none;"><template shadowrootmode="open"><!----><div><!--?lit$0157429536$-->Start coding or <span tabindex="0" role="button" class="link">generate</span> with AI.</div></template></colab-read-only-cell-placeholder></pre></div><colab-form class="formview vertical layout flex"><div class="widget-area vertical layout"></div></colab-form></div>
    <div class="output"><!----> <div class="output-header"> </div>
        <div class="output-content" style="display: none;">
          <div class="output-info"> </div>
          <div class="output-iframe-container">
            <div class="output-iframe-sizer"> </div>
          </div>
        </div></div></div><colab-cell-next-steps><template shadowrootmode="open"><!----></template></colab-cell-next-steps></div></div><div class="add-cell">
      <div class="add-cell-buttons">
        <md-outlined-button class="add-code add-button" aria-label="Add code cell
Ctrl+M B" title="Add code cell
Ctrl+M B" role="presentation" value="" has-icon=""><template shadowrootmode="open" shadowrootdelegatesfocus><!---->
      <!--?lit$0157429536$--><div class="outline"></div>
      <div class="background"></div>
      <md-focus-ring part="focus-ring" for="button" aria-hidden="true"><template shadowrootmode="open"><!----></template></md-focus-ring>
      <md-ripple for="button" aria-hidden="true"><template shadowrootmode="open"><!----><div class="surface"></div></template></md-ripple>
      <!--?lit$0157429536$--><button id="button" class="button" aria-label="Add code cell
Ctrl+M B">
      <!--?lit$0157429536$-->
      <span class="touch"></span>
      <!--?lit$0157429536$--><slot name="icon"></slot>
      <span class="label"><slot></slot></span>
      <!--?lit$0157429536$-->
    
    </button>
    </template>
          <md-icon slot="icon" aria-hidden="true"><template shadowrootmode="open"><!----><slot></slot></template>add</md-icon>
          <!--?lit$0157429536$-->Code
        </md-outlined-button>
        <md-outlined-button class="add-text add-button" aria-label="Add text cell" title="Add text cell" role="presentation" value="" has-icon=""><template shadowrootmode="open" shadowrootdelegatesfocus><!---->
      <!--?lit$0157429536$--><div class="outline"></div>
      <div class="background"></div>
      <md-focus-ring part="focus-ring" for="button" aria-hidden="true"><template shadowrootmode="open"><!----></template></md-focus-ring>
      <md-ripple for="button" aria-hidden="true"><template shadowrootmode="open"><!----><div class="surface   "></div></template></md-ripple>
      <!--?lit$0157429536$--><button id="button" class="button" aria-label="Add text cell">
      <!--?lit$0157429536$-->
      <span class="touch"></span>
      <!--?lit$0157429536$--><slot name="icon"></slot>
      <span class="label"><slot></slot></span>
      <!--?lit$0157429536$-->
    
    </button>
    </template>
          <md-icon slot="icon" aria-hidden="true"><template shadowrootmode="open"><!----><slot></slot></template>add</md-icon>
          <!--?lit$0157429536$-->Text
        </md-outlined-button>
        <!--?lit$0157429536$-->
      </div><hr>
    </div></div><div class="cell code code-has-output icon-scrolling" id="cell-TpNJ_mqWlNyK" tabindex="-1" role="region" aria-label="Cell 12: Code cell: " style=""><div class="cell-tag-editor sticky"></div><div class="cell-toolbar sticky"></div><div class="main-content" elevation="0"><div class="cell-contents"><div class="cell-mask"></div><span class="imported-info-area"></span><div class="codecell-input-output">
      <div class="inputarea horizontal layout code">
        <div class="cell-gutter">
          <!-- Bounding range for vertical scrolling of icons -->
          <div class="cell-execution-container">
            <colab-run-button title="Run cell (Ctrl+Enter)
cell executed since last change

executed by Srinivasulu K
1:32 PM (35 minutes ago)
executed in 0.386s" role="button" aria-label="Run cell"><template shadowrootmode="open"><!----> <div class="cell-execution">
      <div class="execution-count"><!--?lit$0157429536$-->[24]</div>
      <div class="cell-execution-indicator"> <!--?lit$0157429536$-->
<svg xmlns="http://www.w3.org/2000/svg" viewBox="0 0 24 24">
  <!--?lit$0157429536$-->
  <mask id="playSymbolMask">
    <rect width="100%" height="100%" fill="white"></rect>
    <polygon points="10,8 17,12 10,16" fill="black"></polygon>
  </mask>
  <circle cx="12" cy="12" r="7.8" mask="url(#playSymbolMask)" id="filledCircle"></circle>
</svg> </div>
      <!--?lit$0157429536$--><div id="status">
      <md-icon aria-hidden="true"><template shadowrootmode="open"><!----><slot></slot></template><!--?lit$0157429536$--><svg viewBox="0 0 24 24"><!--?lit$0157429536$--><path d="M9 16.17L4.83 12l-1.42 1.41L9 19 21 7l-1.41-1.41z"></path></svg></md-icon>
      <div><!--?lit$0157429536$-->0s</div>
    </div>
    </div></template></colab-run-button>
          </div>
        </div>
      <div class="editor flex lazy-editor" style=""><pre class="lazy-virtualized" style="font-size: 14px; line-height: 19px;"><pre class="lazy-gutter"></pre><pre class="monaco-colorized colab-dark colab-dark colab-dark colab-dark colab-dark" data-lang="notebook-python"><span><span class="mtk1">credit_card_data.isnull</span><span class="mtk12">()</span><span class="mtk1">.</span><span class="mtk15">sum</span><span class="mtk12">()</span></span><br></pre><colab-read-only-cell-placeholder style="display: none;"><template shadowrootmode="open"><!----><div><!--?lit$0157429536$-->Start coding or <span tabindex="0" role="button" class="link">generate</span> with AI.</div></template></colab-read-only-cell-placeholder></pre></div><colab-form class="formview vertical layout flex"><div class="widget-area vertical layout"></div></colab-form></div>
    <div class="output"><!----> <div class="output-header"> </div>
        <div class="output-content">
          <div class="output-info"><colab-output-info title="Clear output

executed by Srinivasulu K
1:32 PM (16 minutes ago)
executed in 0.386s" hovering=""><template shadowrootmode="open"><!----> <md-icon class="collaborator output" alt="Execution output" aria-hidden="true"><template shadowrootmode="open"><!----><slot></slot></template><!--?lit$0157429536$-->output</md-icon>
      <!--?lit$0157429536$--> <mwc-icon-button icon="cancel" command="clear-focused-or-selected-outputs" alt="Clear output"><template shadowrootmode="open"><!----><button class="mdc-icon-button mdc-icon-button--display-flex" aria-label="cancel"><!--?lit$0157429536$-->
    <!--?lit$0157429536$--><i class="material-icons"><!--?lit$0157429536$-->cancel</i>
    <span><slot></slot></span>
  </button></template>
          </mwc-icon-button><!--?--></template></colab-output-info></div>
          <div class="output-iframe-container">
            <div class="output-iframe-sizer"> <div><div><colab-static-output-renderer tabindex="0" role="group"><div><div class="execute_result output_text"><pre>Time      0
V1        0
V2        0
V3        0
V4        0
V5        0
V6        0
V7        0
V8        0
V9        0
V10       0
V11       0
V12       0
V13       0
V14       0
V15       0
V16       0
V17       0
V18       0
V19       0
V20       0
V21       0
V22       0
V23       0
V24       0
V25       0
V26       0
V27       0
V28       0
Amount    0
Class     0
dtype: int64</pre></div></div><div></div></colab-static-output-renderer></div></div></div>
          </div>
        </div></div></div><colab-cell-next-steps><template shadowrootmode="open"><!----></template></colab-cell-next-steps></div></div><div class="add-cell">
      <hr>
    </div></div><div class="cell text" id="cell-jhUnjCzKlSPX" tabindex="-1" role="region" aria-label="Cell 13: Text cell: " style=""><div class="cell-tag-editor sticky"></div><div class="cell-toolbar sticky"></div><div class="main-content" elevation="0"><div class="cell-contents"><div class="cell-mask"></div><span class="imported-info-area"></span><!----> <div class="toolbar-root"></div>
      <div class="editor-container horizontal">
        <div class="editor-root"></div>
        <div class="text-top-div">
          <div class="markdown"><span><p>BINARY CLASSIFICATION</p>
<p>After making these adjustments, you should have a 'Class' column with only binary values (0 or 1), where 0 represents non-fraudulent transactions, and 1 represents fraudulent transactions.</p>
</span></div>
        </div>
      </div>

      <div class="section-header" style="display: none;">
        <colab-run-button role="button" aria-label="Run cell"><template shadowrootmode="open"><!----> <div class="cell-execution">
      <div class="execution-count"><!--?lit$0157429536$-->[ ]</div>
      <div class="cell-execution-indicator"> <!--?lit$0157429536$-->
<svg xmlns="http://www.w3.org/2000/svg" viewBox="0 0 24 24">
  <!--?lit$0157429536$-->
  <mask id="playSymbolMask">
    <rect width="100%" height="100%" fill="white"></rect>
    <polygon points="10,8 17,12 10,16" fill="black"></polygon>
  </mask>
  <circle cx="12" cy="12" r="7.8" mask="url(#playSymbolMask)" id="filledCircle"></circle>
</svg> </div>
      <!--?lit$0157429536$--><!--?-->
    </div></template></colab-run-button>
        <div class="section-header-container" title="click to expand">↳ 0 cells hidden</div>
      </div></div></div><div class="add-cell">
      <div class="add-cell-buttons">
        <md-outlined-button class="add-code add-button" aria-label="Add code cell
Ctrl+M B" title="Add code cell
Ctrl+M B" role="presentation" value="" has-icon=""><template shadowrootmode="open" shadowrootdelegatesfocus><!---->
      <!--?lit$0157429536$--><div class="outline"></div>
      <div class="background"></div>
      <md-focus-ring part="focus-ring" for="button" aria-hidden="true"><template shadowrootmode="open"><!----></template></md-focus-ring>
      <md-ripple for="button" aria-hidden="true"><template shadowrootmode="open"><!----><div class="surface   "></div></template></md-ripple>
      <!--?lit$0157429536$--><button id="button" class="button" aria-label="Add code cell
Ctrl+M B">
      <!--?lit$0157429536$-->
      <span class="touch"></span>
      <!--?lit$0157429536$--><slot name="icon"></slot>
      <span class="label"><slot></slot></span>
      <!--?lit$0157429536$-->
    
    </button>
    </template>
          <md-icon slot="icon" aria-hidden="true"><template shadowrootmode="open"><!----><slot></slot></template>add</md-icon>
          <!--?lit$0157429536$-->Code
        </md-outlined-button>
        <md-outlined-button class="add-text add-button" aria-label="Add text cell" title="Add text cell" role="presentation" value="" has-icon=""><template shadowrootmode="open" shadowrootdelegatesfocus><!---->
      <!--?lit$0157429536$--><div class="outline"></div>
      <div class="background"></div>
      <md-focus-ring part="focus-ring" for="button" aria-hidden="true"><template shadowrootmode="open"><!----></template></md-focus-ring>
      <md-ripple for="button" aria-hidden="true"><template shadowrootmode="open"><!----><div class="surface   "></div></template></md-ripple>
      <!--?lit$0157429536$--><button id="button" class="button" aria-label="Add text cell">
      <!--?lit$0157429536$-->
      <span class="touch"></span>
      <!--?lit$0157429536$--><slot name="icon"></slot>
      <span class="label"><slot></slot></span>
      <!--?lit$0157429536$-->
    
    </button>
    </template>
          <md-icon slot="icon" aria-hidden="true"><template shadowrootmode="open"><!----><slot></slot></template>add</md-icon>
          <!--?lit$0157429536$-->Text
        </md-outlined-button>
        <!--?lit$0157429536$-->
      </div><hr>
    </div></div><div class="cell code icon-scrolling" id="cell-zyaZ4VurlT2k" tabindex="-1" role="region" aria-label="Cell 14: Code cell: " style=""><div class="cell-tag-editor sticky"></div><div class="cell-toolbar sticky"></div><div class="main-content" elevation="0"><div class="cell-contents"><div class="cell-mask"></div><span class="imported-info-area"></span><div class="codecell-input-output">
      <div class="inputarea horizontal layout code">
        <div class="cell-gutter">
          <!-- Bounding range for vertical scrolling of icons -->
          <div class="cell-execution-container">
            <colab-run-button title="Run cell (Ctrl+Enter)
cell executed since last change" role="button" aria-label="Run cell"><template shadowrootmode="open"><!----> <div class="cell-execution">
      <div class="execution-count"><!--?lit$0157429536$-->[25]</div>
      <div class="cell-execution-indicator"> <!--?lit$0157429536$-->
<svg xmlns="http://www.w3.org/2000/svg" viewBox="0 0 24 24">
  <!--?lit$0157429536$-->
  <mask id="playSymbolMask">
    <rect width="100%" height="100%" fill="white"></rect>
    <polygon points="10,8 17,12 10,16" fill="black"></polygon>
  </mask>
  <circle cx="12" cy="12" r="7.8" mask="url(#playSymbolMask)" id="filledCircle"></circle>
</svg> </div>
      <!--?lit$0157429536$--><div id="status">
      <md-icon aria-hidden="true"><template shadowrootmode="open"><!----><slot></slot></template><!--?lit$0157429536$--><svg viewBox="0 0 24 24"><!--?lit$0157429536$--><path d="M9 16.17L4.83 12l-1.42 1.41L9 19 21 7l-1.41-1.41z"></path></svg></md-icon>
      <div><!--?lit$0157429536$--></div>
    </div>
    </div></template></colab-run-button>
          </div>
        </div>
      <div class="editor flex lazy-editor" style=""><pre class="lazy-virtualized" style="font-size: 14px; line-height: 19px;"><pre class="lazy-gutter"></pre><pre class="monaco-colorized colab-dark colab-dark colab-dark colab-dark colab-dark" data-lang="notebook-python"><span><span class="mtk1">credit_card_data</span><span class="mtk12">[</span><span class="mtk5">'Class'</span><span class="mtk12">]</span><span class="mtk1">&nbsp;=&nbsp;credit_card_data</span><span class="mtk12">[</span><span class="mtk5">'Class'</span><span class="mtk12">]</span><span class="mtk1">.astype</span><span class="mtk12">(</span><span class="mtk14">int</span><span class="mtk12">)</span></span><br><span><span class="mtk1">credit_card_data&nbsp;=&nbsp;credit_card_data</span><span class="mtk12">[(</span><span class="mtk1">credit_card_data</span><span class="mtk12">[</span><span class="mtk5">'Class'</span><span class="mtk12">]</span><span class="mtk1">&nbsp;==&nbsp;</span><span class="mtk6">0</span><span class="mtk12">)</span><span class="mtk1">&nbsp;|&nbsp;</span><span class="mtk12">(</span><span class="mtk1">credit_card_data</span><span class="mtk12">[</span><span class="mtk5">'Class'</span><span class="mtk12">]</span><span class="mtk1">&nbsp;==&nbsp;</span><span class="mtk6">1</span><span class="mtk12">)]</span></span><br></pre><colab-read-only-cell-placeholder style="display: none;"><template shadowrootmode="open"><!----><div><!--?lit$0157429536$-->Start coding or <span tabindex="0" role="button" class="link">generate</span> with AI.</div></template></colab-read-only-cell-placeholder></pre></div><colab-form class="formview vertical layout flex"><div class="widget-area vertical layout"></div></colab-form></div>
    <div class="output"><!----> <div class="output-header"> </div>
        <div class="output-content" style="display: none;">
          <div class="output-info"> </div>
          <div class="output-iframe-container">
            <div class="output-iframe-sizer"> </div>
          </div>
        </div></div></div><colab-cell-next-steps><template shadowrootmode="open"><!----></template></colab-cell-next-steps></div></div><div class="add-cell">
      <hr>
    </div></div><div class="cell code code-has-output icon-scrolling" id="cell-FCklsttFlY9I" tabindex="-1" role="region" aria-label="Cell 15: Code cell: " style=""><div class="cell-tag-editor sticky"></div><div class="cell-toolbar sticky"></div><div class="main-content" elevation="0"><div class="cell-contents"><div class="cell-mask"></div><span class="imported-info-area"></span><div class="codecell-input-output">
      <div class="inputarea horizontal layout code">
        <div class="cell-gutter">
          <!-- Bounding range for vertical scrolling of icons -->
          <div class="cell-execution-container">
            <colab-run-button title="Run cell (Ctrl+Enter)
cell executed since last change

executed by Srinivasulu K
1:33 PM (34 minutes ago)
executed in 0.385s" role="button" aria-label="Run cell"><template shadowrootmode="open"><!----> <div class="cell-execution">
      <div class="execution-count"><!--?lit$0157429536$-->[26]</div>
      <div class="cell-execution-indicator"> <!--?lit$0157429536$-->
<svg xmlns="http://www.w3.org/2000/svg" viewBox="0 0 24 24">
  <!--?lit$0157429536$-->
  <mask id="playSymbolMask">
    <rect width="100%" height="100%" fill="white"></rect>
    <polygon points="10,8 17,12 10,16" fill="black"></polygon>
  </mask>
  <circle cx="12" cy="12" r="7.8" mask="url(#playSymbolMask)" id="filledCircle"></circle>
</svg> </div>
      <!--?lit$0157429536$--><div id="status">
      <md-icon aria-hidden="true"><template shadowrootmode="open"><!----><slot></slot></template><!--?lit$0157429536$--><svg viewBox="0 0 24 24"><!--?lit$0157429536$--><path d="M9 16.17L4.83 12l-1.42 1.41L9 19 21 7l-1.41-1.41z"></path></svg></md-icon>
      <div><!--?lit$0157429536$-->0s</div>
    </div>
    </div></template></colab-run-button>
          </div>
        </div>
      <div class="editor flex lazy-editor" style=""><pre class="lazy-virtualized" style="font-size: 14px; line-height: 19px;"><pre class="lazy-gutter"></pre><pre class="monaco-colorized colab-dark colab-dark colab-dark colab-dark colab-dark" data-lang="notebook-python"><span><span class="mtk1">credit_card_data</span><span class="mtk12">[</span><span class="mtk5">'Class'</span><span class="mtk12">]</span><span class="mtk1">.value_counts</span><span class="mtk12">()</span></span><br></pre><colab-read-only-cell-placeholder style="display: none;"><template shadowrootmode="open"><!----><div><!--?lit$0157429536$-->Start coding or <span tabindex="0" role="button" class="link">generate</span> with AI.</div></template></colab-read-only-cell-placeholder></pre></div><colab-form class="formview vertical layout flex"><div class="widget-area vertical layout"></div></colab-form></div>
    <div class="output"><!----> <div class="output-header"> </div>
        <div class="output-content">
          <div class="output-info"><colab-output-info title="Clear output

executed by Srinivasulu K
1:33 PM (15 minutes ago)
executed in 0.385s" hovering=""><template shadowrootmode="open"><!----> <md-icon class="collaborator output" alt="Execution output" aria-hidden="true"><template shadowrootmode="open"><!----><slot></slot></template><!--?lit$0157429536$-->output</md-icon>
      <!--?lit$0157429536$--> <mwc-icon-button icon="cancel" command="clear-focused-or-selected-outputs" alt="Clear output"><template shadowrootmode="open"><!----><button class="mdc-icon-button mdc-icon-button--display-flex" aria-label="cancel"><!--?lit$0157429536$-->
    <!--?lit$0157429536$--><i class="material-icons"><!--?lit$0157429536$-->cancel</i>
    <span><slot></slot></span>
  </button></template>
          </mwc-icon-button><!--?--></template></colab-output-info></div>
          <div class="output-iframe-container">
            <div class="output-iframe-sizer"> <div><div><colab-static-output-renderer tabindex="0" role="group"><div><div class="execute_result output_text"><pre>Class
0    13898
1       56
Name: count, dtype: int64</pre></div></div><div></div></colab-static-output-renderer></div></div></div>
          </div>
        </div></div></div><colab-cell-next-steps><template shadowrootmode="open"><!----></template></colab-cell-next-steps></div></div><div class="add-cell">
      <hr>
    </div></div><div class="cell text" id="cell-5qQjdt1Tljuh" tabindex="-1" role="region" aria-label="Cell 16: Text cell: " style=""><div class="cell-tag-editor sticky"></div><div class="cell-toolbar sticky"></div><div class="main-content" elevation="0"><div class="cell-contents"><div class="cell-mask"></div><span class="imported-info-area"></span><!----> <div class="toolbar-root"></div>
      <div class="editor-container horizontal">
        <div class="editor-root"></div>
        <div class="text-top-div">
          <div class="markdown"><span><p>HIGHLY UNBALANCED DATA</p>
</span></div>
        </div>
      </div>

      <div class="section-header" style="display: none;">
        <colab-run-button role="button" aria-label="Run cell"><template shadowrootmode="open"><!----> <div class="cell-execution">
      <div class="execution-count"><!--?lit$0157429536$-->[ ]</div>
      <div class="cell-execution-indicator"> <!--?lit$0157429536$-->
<svg xmlns="http://www.w3.org/2000/svg" viewBox="0 0 24 24">
  <!--?lit$0157429536$-->
  <mask id="playSymbolMask">
    <rect width="100%" height="100%" fill="white"></rect>
    <polygon points="10,8 17,12 10,16" fill="black"></polygon>
  </mask>
  <circle cx="12" cy="12" r="7.8" mask="url(#playSymbolMask)" id="filledCircle"></circle>
</svg> </div>
      <!--?lit$0157429536$--><!--?-->
    </div></template></colab-run-button>
        <div class="section-header-container" title="click to expand">↳ 0 cells hidden</div>
      </div></div></div><div class="add-cell">
      <div class="add-cell-buttons">
        <md-outlined-button class="add-code add-button" aria-label="Add code cell
Ctrl+M B" title="Add code cell
Ctrl+M B" role="presentation" value="" has-icon=""><template shadowrootmode="open" shadowrootdelegatesfocus><!---->
      <!--?lit$0157429536$--><div class="outline"></div>
      <div class="background"></div>
      <md-focus-ring part="focus-ring" for="button" aria-hidden="true"><template shadowrootmode="open"><!----></template></md-focus-ring>
      <md-ripple for="button" aria-hidden="true"><template shadowrootmode="open"><!----><div class="surface   "></div></template></md-ripple>
      <!--?lit$0157429536$--><button id="button" class="button" aria-label="Add code cell
Ctrl+M B">
      <!--?lit$0157429536$-->
      <span class="touch"></span>
      <!--?lit$0157429536$--><slot name="icon"></slot>
      <span class="label"><slot></slot></span>
      <!--?lit$0157429536$-->
    
    </button>
    </template>
          <md-icon slot="icon" aria-hidden="true"><template shadowrootmode="open"><!----><slot></slot></template>add</md-icon>
          <!--?lit$0157429536$-->Code
        </md-outlined-button>
        <md-outlined-button class="add-text add-button" aria-label="Add text cell" title="Add text cell" role="presentation" value="" has-icon=""><template shadowrootmode="open" shadowrootdelegatesfocus><!---->
      <!--?lit$0157429536$--><div class="outline"></div>
      <div class="background"></div>
      <md-focus-ring part="focus-ring" for="button" aria-hidden="true"><template shadowrootmode="open"><!----></template></md-focus-ring>
      <md-ripple for="button" aria-hidden="true"><template shadowrootmode="open"><!----><div class="surface   "></div></template></md-ripple>
      <!--?lit$0157429536$--><button id="button" class="button" aria-label="Add text cell">
      <!--?lit$0157429536$-->
      <span class="touch"></span>
      <!--?lit$0157429536$--><slot name="icon"></slot>
      <span class="label"><slot></slot></span>
      <!--?lit$0157429536$-->
    
    </button>
    </template>
          <md-icon slot="icon" aria-hidden="true"><template shadowrootmode="open"><!----><slot></slot></template>add</md-icon>
          <!--?lit$0157429536$-->Text
        </md-outlined-button>
        <!--?lit$0157429536$-->
      </div><hr>
    </div></div><div class="cell code icon-scrolling" id="cell-Kkah-Ledlk_r" tabindex="-1" role="region" aria-label="Cell 17: Code cell: " style=""><div class="cell-tag-editor sticky"></div><div class="cell-toolbar sticky"></div><div class="main-content" elevation="0"><div class="cell-contents"><div class="cell-mask"></div><span class="imported-info-area"></span><div class="codecell-input-output">
      <div class="inputarea horizontal layout code">
        <div class="cell-gutter">
          <!-- Bounding range for vertical scrolling of icons -->
          <div class="cell-execution-container">
            <colab-run-button title="Run cell (Ctrl+Enter)
cell might have changed since last executed" role="button" aria-label="Run cell"><template shadowrootmode="open"><!----> <div class="cell-execution stale">
      <div class="execution-count"><!--?lit$0157429536$-->[27]</div>
      <div class="cell-execution-indicator"> <!--?lit$0157429536$-->
<svg xmlns="http://www.w3.org/2000/svg" viewBox="0 0 24 24">
  <!--?lit$0157429536$-->
  <mask id="playSymbolMask">
    <rect width="100%" height="100%" fill="white"></rect>
    <polygon points="10,8 17,12 10,16" fill="black"></polygon>
  </mask>
  <circle cx="12" cy="12" r="7.8" mask="url(#playSymbolMask)" id="filledCircle"></circle>
</svg> </div>
      <!--?lit$0157429536$--><!--?-->
    </div></template></colab-run-button>
          </div>
        </div>
      <div class="editor flex lazy-editor" style=""><pre class="lazy-virtualized" style="font-size: 14px; line-height: 19px;"><pre class="lazy-gutter"></pre><pre class="monaco-colorized colab-dark colab-dark colab-dark colab-dark colab-dark" data-lang="notebook-python"><span><span class="mtk8">#&nbsp;separating&nbsp;the&nbsp;data&nbsp;for&nbsp;analysis</span></span><br><span><span class="mtk1">legit&nbsp;=&nbsp;credit_card_data</span><span class="mtk12">[</span><span class="mtk1">credit_card_data.Class&nbsp;==&nbsp;</span><span class="mtk6">0</span><span class="mtk12">]</span></span><br><span><span class="mtk1">fraud&nbsp;=&nbsp;credit_card_data</span><span class="mtk12">[</span><span class="mtk1">credit_card_data.Class&nbsp;==&nbsp;</span><span class="mtk6">1</span><span class="mtk12">]</span></span><br><span><span></span></span><br></pre><colab-read-only-cell-placeholder style="display: none;"><template shadowrootmode="open"><!----><div><!--?lit$0157429536$-->Start coding or <span tabindex="0" role="button" class="link">generate</span> with AI.</div></template></colab-read-only-cell-placeholder></pre></div><colab-form class="formview vertical layout flex"><div class="widget-area vertical layout"></div></colab-form></div>
    <div class="output"><!----> <div class="output-header"> </div>
        <div class="output-content" style="display: none;">
          <div class="output-info"> </div>
          <div class="output-iframe-container">
            <div class="output-iframe-sizer"> </div>
          </div>
        </div></div></div><colab-cell-next-steps><template shadowrootmode="open"><!----></template></colab-cell-next-steps></div></div><div class="add-cell">
      <hr>
    </div></div><div class="cell code code-has-output icon-scrolling" id="cell-7u9TfRwjlqAb" tabindex="-1" role="region" aria-label="Cell 18: Code cell: " style=""><div class="cell-tag-editor sticky"></div><div class="cell-toolbar sticky"></div><div class="main-content" elevation="0"><div class="cell-contents"><div class="cell-mask"></div><span class="imported-info-area"></span><div class="codecell-input-output">
      <div class="inputarea horizontal layout code">
        <div class="cell-gutter">
          <!-- Bounding range for vertical scrolling of icons -->
          <div class="cell-execution-container">
            <colab-run-button title="Run cell (Ctrl+Enter)
cell executed since last change

executed by Srinivasulu K
1:35 PM (33 minutes ago)
executed in 0.368s" role="button" aria-label="Run cell"><template shadowrootmode="open"><!----> <div class="cell-execution">
      <div class="execution-count"><!--?lit$0157429536$-->[28]</div>
      <div class="cell-execution-indicator"> <!--?lit$0157429536$-->
<svg xmlns="http://www.w3.org/2000/svg" viewBox="0 0 24 24">
  <!--?lit$0157429536$-->
  <mask id="playSymbolMask">
    <rect width="100%" height="100%" fill="white"></rect>
    <polygon points="10,8 17,12 10,16" fill="black"></polygon>
  </mask>
  <circle cx="12" cy="12" r="7.8" mask="url(#playSymbolMask)" id="filledCircle"></circle>
</svg> </div>
      <!--?lit$0157429536$--><div id="status">
      <md-icon aria-hidden="true"><template shadowrootmode="open"><!----><slot></slot></template><!--?lit$0157429536$--><svg viewBox="0 0 24 24"><!--?lit$0157429536$--><path d="M9 16.17L4.83 12l-1.42 1.41L9 19 21 7l-1.41-1.41z"></path></svg></md-icon>
      <div><!--?lit$0157429536$-->0s</div>
    </div>
    </div></template></colab-run-button>
          </div>
        </div>
      <div class="editor flex lazy-editor" style=""><pre class="lazy-virtualized" style="font-size: 14px; line-height: 19px;"><pre class="lazy-gutter"></pre><pre class="monaco-colorized colab-dark colab-dark colab-dark colab-dark colab-dark" data-lang="notebook-python"><span><span></span></span><br><span><span class="mtk15">print</span><span class="mtk12">(</span><span class="mtk1">legit.shape</span><span class="mtk12">)</span></span><br><span><span class="mtk15">print</span><span class="mtk12">(</span><span class="mtk1">fraud.shape</span><span class="mtk12">)</span></span><br></pre><colab-read-only-cell-placeholder style="display: none;"><template shadowrootmode="open"><!----><div><!--?lit$0157429536$-->Start coding or <span tabindex="0" role="button" class="link">generate</span> with AI.</div></template></colab-read-only-cell-placeholder></pre></div><colab-form class="formview vertical layout flex"><div class="widget-area vertical layout"></div></colab-form></div>
    <div class="output"><!----> <div class="output-header"> </div>
        <div class="output-content">
          <div class="output-info"><colab-output-info title="Clear output

executed by Srinivasulu K
1:35 PM (13 minutes ago)
executed in 0.368s" hovering=""><template shadowrootmode="open"><!----> <md-icon class="collaborator output" alt="Execution output" aria-hidden="true"><template shadowrootmode="open"><!----><slot></slot></template><!--?lit$0157429536$-->output</md-icon>
      <!--?lit$0157429536$--> <mwc-icon-button icon="cancel" command="clear-focused-or-selected-outputs" alt="Clear output"><template shadowrootmode="open"><!----><button class="mdc-icon-button mdc-icon-button--display-flex" aria-label="cancel"><!--?lit$0157429536$-->
    <!--?lit$0157429536$--><i class="material-icons"><!--?lit$0157429536$-->cancel</i>
    <span><slot></slot></span>
  </button></template>
          </mwc-icon-button><!--?--></template></colab-output-info></div>
          <div class="output-iframe-container">
            <div class="output-iframe-sizer"> <div><div><colab-static-output-renderer tabindex="0" role="group"><div><div class="stream output_text"><pre>(13898, 31)
(56, 31)
</pre></div></div><div></div></colab-static-output-renderer></div></div></div>
          </div>
        </div></div></div><colab-cell-next-steps><template shadowrootmode="open"><!----></template></colab-cell-next-steps></div></div><div class="add-cell">
      <hr>
    </div></div><div class="cell code code-has-output icon-scrolling" id="cell-RGVWMxTKlzIj" tabindex="-1" role="region" aria-label="Cell 19: Code cell: " style=""><div class="cell-tag-editor sticky"></div><div class="cell-toolbar sticky"></div><div class="main-content" elevation="0"><div class="cell-contents"><div class="cell-mask"></div><span class="imported-info-area"></span><div class="codecell-input-output">
      <div class="inputarea horizontal layout code">
        <div class="cell-gutter">
          <!-- Bounding range for vertical scrolling of icons -->
          <div class="cell-execution-container">
            <colab-run-button title="Run cell (Ctrl+Enter)
cell might have changed since last executed

executed by Srinivasulu K
1:35 PM (32 minutes ago)
executed in 0.399s" role="button" aria-label="Run cell"><template shadowrootmode="open"><!----> <div class="cell-execution stale">
      <div class="execution-count"><!--?lit$0157429536$-->[29]</div>
      <div class="cell-execution-indicator"> <!--?lit$0157429536$-->
<svg xmlns="http://www.w3.org/2000/svg" viewBox="0 0 24 24">
  <!--?lit$0157429536$-->
  <mask id="playSymbolMask">
    <rect width="100%" height="100%" fill="white"></rect>
    <polygon points="10,8 17,12 10,16" fill="black"></polygon>
  </mask>
  <circle cx="12" cy="12" r="7.8" mask="url(#playSymbolMask)" id="filledCircle"></circle>
</svg> </div>
      <!--?lit$0157429536$--><!--?-->
    </div></template></colab-run-button>
          </div>
        </div>
      <div class="editor flex lazy-editor" style=""><pre class="lazy-virtualized" style="font-size: 14px; line-height: 19px;"><pre class="lazy-gutter"></pre><pre class="monaco-colorized colab-dark colab-dark colab-dark colab-dark colab-dark" data-lang="notebook-python"><span><span class="mtk8">#&nbsp;statistical&nbsp;measures&nbsp;of&nbsp;the&nbsp;data</span></span><br><span><span class="mtk1">legit.Amount.describe</span><span class="mtk12">()</span></span><br><span><span></span></span><br></pre><colab-read-only-cell-placeholder style="display: none;"><template shadowrootmode="open"><!----><div><!--?lit$0157429536$-->Start coding or <span tabindex="0" role="button" class="link">generate</span> with AI.</div></template></colab-read-only-cell-placeholder></pre></div><colab-form class="formview vertical layout flex"><div class="widget-area vertical layout"></div></colab-form></div>
    <div class="output"><!----> <div class="output-header"> </div>
        <div class="output-content">
          <div class="output-info"><colab-output-info title="Clear output

executed by Srinivasulu K
1:35 PM (13 minutes ago)
executed in 0.399s" hovering=""><template shadowrootmode="open"><!----> <md-icon class="collaborator output" alt="Execution output" aria-hidden="true"><template shadowrootmode="open"><!----><slot></slot></template><!--?lit$0157429536$-->output</md-icon>
      <!--?lit$0157429536$--> <mwc-icon-button icon="cancel" command="clear-focused-or-selected-outputs" alt="Clear output"><template shadowrootmode="open"><!----><button class="mdc-icon-button mdc-icon-button--display-flex" aria-label="cancel"><!--?lit$0157429536$-->
    <!--?lit$0157429536$--><i class="material-icons"><!--?lit$0157429536$-->cancel</i>
    <span><slot></slot></span>
  </button></template>
          </mwc-icon-button><!--?--></template></colab-output-info></div>
          <div class="output-iframe-container">
            <div class="output-iframe-sizer"> <div><div><colab-static-output-renderer tabindex="0" role="group"><div><div class="execute_result output_text"><pre>count    13898.000000
mean        63.773917
std        177.158128
min          0.000000
25%          5.770000
50%         15.900000
75%         52.385000
max       7712.430000
Name: Amount, dtype: float64</pre></div></div><div></div></colab-static-output-renderer></div></div></div>
          </div>
        </div></div></div><colab-cell-next-steps><template shadowrootmode="open"><!----></template></colab-cell-next-steps></div></div><div class="add-cell">
      <div class="add-cell-buttons">
        <md-outlined-button class="add-code add-button" aria-label="Add code cell
Ctrl+M B" title="Add code cell
Ctrl+M B" role="presentation" value="" has-icon=""><template shadowrootmode="open" shadowrootdelegatesfocus><!---->
      <!--?lit$0157429536$--><div class="outline"></div>
      <div class="background"></div>
      <md-focus-ring part="focus-ring" for="button" aria-hidden="true"><template shadowrootmode="open"><!----></template></md-focus-ring>
      <md-ripple for="button" aria-hidden="true"><template shadowrootmode="open"><!----><div class="surface   "></div></template></md-ripple>
      <!--?lit$0157429536$--><button id="button" class="button" aria-label="Add code cell
Ctrl+M B">
      <!--?lit$0157429536$-->
      <span class="touch"></span>
      <!--?lit$0157429536$--><slot name="icon"></slot>
      <span class="label"><slot></slot></span>
      <!--?lit$0157429536$-->
    
    </button>
    </template>
          <md-icon slot="icon" aria-hidden="true"><template shadowrootmode="open"><!----><slot></slot></template>add</md-icon>
          <!--?lit$0157429536$-->Code
        </md-outlined-button>
        <md-outlined-button class="add-text add-button" aria-label="Add text cell" title="Add text cell" role="presentation" value="" has-icon=""><template shadowrootmode="open" shadowrootdelegatesfocus><!---->
      <!--?lit$0157429536$--><div class="outline"></div>
      <div class="background"></div>
      <md-focus-ring part="focus-ring" for="button" aria-hidden="true"><template shadowrootmode="open"><!----></template></md-focus-ring>
      <md-ripple for="button" aria-hidden="true"><template shadowrootmode="open"><!----><div class="surface   "></div></template></md-ripple>
      <!--?lit$0157429536$--><button id="button" class="button" aria-label="Add text cell">
      <!--?lit$0157429536$-->
      <span class="touch"></span>
      <!--?lit$0157429536$--><slot name="icon"></slot>
      <span class="label"><slot></slot></span>
      <!--?lit$0157429536$-->
    
    </button>
    </template>
          <md-icon slot="icon" aria-hidden="true"><template shadowrootmode="open"><!----><slot></slot></template>add</md-icon>
          <!--?lit$0157429536$-->Text
        </md-outlined-button>
        <!--?lit$0157429536$-->
      </div><hr>
    </div></div><div class="cell code code-has-output icon-scrolling" id="cell-LaOPl3pVl3gN" tabindex="-1" role="region" aria-label="Cell 20: Code cell: " style=""><div class="cell-tag-editor sticky"></div><div class="cell-toolbar sticky"></div><div class="main-content" elevation="0"><div class="cell-contents"><div class="cell-mask"></div><span class="imported-info-area"></span><div class="codecell-input-output">
      <div class="inputarea horizontal layout code">
        <div class="cell-gutter">
          <!-- Bounding range for vertical scrolling of icons -->
          <div class="cell-execution-container">
            <colab-run-button title="Run cell (Ctrl+Enter)
cell executed since last change

executed by Srinivasulu K
1:35 PM (32 minutes ago)
executed in 0.378s" role="button" aria-label="Run cell"><template shadowrootmode="open"><!----> <div class="cell-execution">
      <div class="execution-count"><!--?lit$0157429536$-->[30]</div>
      <div class="cell-execution-indicator"> <!--?lit$0157429536$-->
<svg xmlns="http://www.w3.org/2000/svg" viewBox="0 0 24 24">
  <!--?lit$0157429536$-->
  <mask id="playSymbolMask">
    <rect width="100%" height="100%" fill="white"></rect>
    <polygon points="10,8 17,12 10,16" fill="black"></polygon>
  </mask>
  <circle cx="12" cy="12" r="7.8" mask="url(#playSymbolMask)" id="filledCircle"></circle>
</svg> </div>
      <!--?lit$0157429536$--><div id="status">
      <md-icon aria-hidden="true"><template shadowrootmode="open"><!----><slot></slot></template><!--?lit$0157429536$--><svg viewBox="0 0 24 24"><!--?lit$0157429536$--><path d="M9 16.17L4.83 12l-1.42 1.41L9 19 21 7l-1.41-1.41z"></path></svg></md-icon>
      <div><!--?lit$0157429536$-->0s</div>
    </div>
    </div></template></colab-run-button>
          </div>
        </div>
      <div class="editor flex lazy-editor" style=""><pre class="lazy-virtualized" style="font-size: 14px; line-height: 19px;"><pre class="lazy-gutter"></pre><pre class="monaco-colorized colab-dark colab-dark colab-dark colab-dark colab-dark" data-lang="notebook-python"><span><span class="mtk1">fraud.Amount.describe</span><span class="mtk12">()</span></span><br></pre><colab-read-only-cell-placeholder style="display: none;"><template shadowrootmode="open"><!----><div><!--?lit$0157429536$-->Start coding or <span tabindex="0" role="button" class="link">generate</span> with AI.</div></template></colab-read-only-cell-placeholder></pre></div><colab-form class="formview vertical layout flex"><div class="widget-area vertical layout"></div></colab-form></div>
    <div class="output"><!----> <div class="output-header"> </div>
        <div class="output-content">
          <div class="output-info"><colab-output-info title="Clear output

executed by Srinivasulu K
1:35 PM (13 minutes ago)
executed in 0.378s" hovering=""><template shadowrootmode="open"><!----> <md-icon class="collaborator output" alt="Execution output" aria-hidden="true"><template shadowrootmode="open"><!----><slot></slot></template><!--?lit$0157429536$-->output</md-icon>
      <!--?lit$0157429536$--> <mwc-icon-button icon="cancel" command="clear-focused-or-selected-outputs" alt="Clear output"><template shadowrootmode="open"><!----><button class="mdc-icon-button mdc-icon-button--display-flex" aria-label="cancel"><!--?lit$0157429536$-->
    <!--?lit$0157429536$--><i class="material-icons"><!--?lit$0157429536$-->cancel</i>
    <span><slot></slot></span>
  </button></template>
          </mwc-icon-button><!--?--></template></colab-output-info></div>
          <div class="output-iframe-container">
            <div class="output-iframe-sizer"> <div><div><colab-static-output-renderer tabindex="0" role="group"><div><div class="execute_result output_text"><pre>count      56.000000
mean       90.815893
std       310.308450
min         0.000000
25%         1.000000
50%         1.000000
75%         1.025000
max      1809.680000
Name: Amount, dtype: float64</pre></div></div><div></div></colab-static-output-renderer></div></div></div>
          </div>
        </div></div></div><colab-cell-next-steps><template shadowrootmode="open"><!----></template></colab-cell-next-steps></div></div><div class="add-cell">
      <hr>
    </div></div><div class="cell code code-has-output icon-scrolling" id="cell-tpY5AfjNl41h" tabindex="-1" role="region" aria-label="Cell 21: Code cell: " style=""><div class="cell-tag-editor sticky"></div><div class="cell-toolbar sticky"></div><div class="main-content" elevation="0"><div class="cell-contents"><div class="cell-mask"></div><span class="imported-info-area"></span><div class="codecell-input-output">
      <div class="inputarea horizontal layout code">
        <div class="cell-gutter">
          <!-- Bounding range for vertical scrolling of icons -->
          <div class="cell-execution-container">
            <colab-run-button title="Run cell (Ctrl+Enter)
cell executed since last change

executed by Srinivasulu K
1:36 PM (32 minutes ago)
executed in 0.397s" role="button" aria-label="Run cell"><template shadowrootmode="open"><!----> <div class="cell-execution">
      <div class="execution-count"><!--?lit$0157429536$-->[31]</div>
      <div class="cell-execution-indicator"> <!--?lit$0157429536$-->
<svg xmlns="http://www.w3.org/2000/svg" viewBox="0 0 24 24">
  <!--?lit$0157429536$-->
  <mask id="playSymbolMask">
    <rect width="100%" height="100%" fill="white"></rect>
    <polygon points="10,8 17,12 10,16" fill="black"></polygon>
  </mask>
  <circle cx="12" cy="12" r="7.8" mask="url(#playSymbolMask)" id="filledCircle"></circle>
</svg> </div>
      <!--?lit$0157429536$--><div id="status">
      <md-icon aria-hidden="true"><template shadowrootmode="open"><!----><slot></slot></template><!--?lit$0157429536$--><svg viewBox="0 0 24 24"><!--?lit$0157429536$--><path d="M9 16.17L4.83 12l-1.42 1.41L9 19 21 7l-1.41-1.41z"></path></svg></md-icon>
      <div><!--?lit$0157429536$-->0s</div>
    </div>
    </div></template></colab-run-button>
          </div>
        </div>
      <div class="editor flex lazy-editor" style=""><pre class="lazy-virtualized" style="font-size: 14px; line-height: 19px;"><pre class="lazy-gutter"></pre><pre class="monaco-colorized colab-dark colab-dark colab-dark colab-dark colab-dark" data-lang="notebook-python"><span><span class="mtk1">credit_card_data.groupby</span><span class="mtk12">(</span><span class="mtk5">'Class'</span><span class="mtk12">)</span><span class="mtk1">.mean</span><span class="mtk12">()</span></span><br></pre><colab-read-only-cell-placeholder style="display: none;"><template shadowrootmode="open"><!----><div><!--?lit$0157429536$-->Start coding or <span tabindex="0" role="button" class="link">generate</span> with AI.</div></template></colab-read-only-cell-placeholder></pre></div><colab-form class="formview vertical layout flex"><div class="widget-area vertical layout"></div></colab-form></div>
    <div class="output"><!----> <div class="output-header"> </div>
        <div class="output-content">
          <div class="output-info"><colab-output-info title="Clear output

executed by Srinivasulu K
1:36 PM (12 minutes ago)
executed in 0.397s" hovering=""><template shadowrootmode="open"><!----> <md-icon class="collaborator output" alt="Execution output" aria-hidden="true"><template shadowrootmode="open"><!----><slot></slot></template><!--?lit$0157429536$-->output</md-icon>
      <!--?lit$0157429536$--> <mwc-icon-button icon="cancel" command="clear-focused-or-selected-outputs" alt="Clear output"><template shadowrootmode="open"><!----><button class="mdc-icon-button mdc-icon-button--display-flex" aria-label="cancel"><!--?lit$0157429536$-->
    <!--?lit$0157429536$--><i class="material-icons"><!--?lit$0157429536$-->cancel</i>
    <span><slot></slot></span>
  </button></template>
          </mwc-icon-button><!--?--></template></colab-output-info></div>
          <div class="output-iframe-container">
            <div class="output-iframe-sizer"> <div style=""><div class="outputview" style="height: 193px;"><colab-dom-lifecycle-events style="display: none;"></colab-dom-lifecycle-events><iframe allow="" sandbox="allow-downloads allow-forms allow-pointer-lock allow-popups allow-same-origin allow-scripts allow-storage-access-by-user-activation allow-popups-to-escape-sandbox" src="./CreditCardFraudDetection_files/outputframe(2).html" class="" style="height: 193px;"></iframe></div></div></div>
          </div>
        </div></div></div><colab-cell-next-steps><template shadowrootmode="open"><!----></template></colab-cell-next-steps></div></div><div class="add-cell">
      <hr>
    </div></div><div class="cell text" id="cell-je6PMbWRl_gK" tabindex="-1" role="region" aria-label="Cell 22: Text cell: " style=""><div class="cell-tag-editor sticky"></div><div class="cell-toolbar sticky"></div><div class="main-content" elevation="0"><div class="cell-contents"><div class="cell-mask"></div><span class="imported-info-area"></span><!----> <div class="toolbar-root"></div>
      <div class="editor-container horizontal">
        <div class="editor-root"></div>
        <div class="text-top-div">
          <div class="markdown"><span><p>TRY TO BALANCE DATASET:</p>
<p>*Isolation Forest is a powerful tool for anomaly (Outliers) detection *</p>
</span></div>
        </div>
      </div>

      <div class="section-header" style="display: none;">
        <colab-run-button role="button" aria-label="Run cell"><template shadowrootmode="open"><!----> <div class="cell-execution">
      <div class="execution-count"><!--?lit$0157429536$-->[ ]</div>
      <div class="cell-execution-indicator"> <!--?lit$0157429536$-->
<svg xmlns="http://www.w3.org/2000/svg" viewBox="0 0 24 24">
  <!--?lit$0157429536$-->
  <mask id="playSymbolMask">
    <rect width="100%" height="100%" fill="white"></rect>
    <polygon points="10,8 17,12 10,16" fill="black"></polygon>
  </mask>
  <circle cx="12" cy="12" r="7.8" mask="url(#playSymbolMask)" id="filledCircle"></circle>
</svg> </div>
      <!--?lit$0157429536$--><!--?-->
    </div></template></colab-run-button>
        <div class="section-header-container" title="click to expand">↳ 0 cells hidden</div>
      </div></div></div><div class="add-cell">
      <hr>
    </div></div><div class="cell code icon-scrolling" id="cell-R3aBEDYymANr" tabindex="-1" role="region" aria-label="Cell 23: Code cell: " style=""><div class="cell-tag-editor sticky"></div><div class="cell-toolbar sticky"></div><div class="main-content" elevation="0"><div class="cell-contents"><div class="cell-mask"></div><span class="imported-info-area"></span><div class="codecell-input-output">
      <div class="inputarea horizontal layout code">
        <div class="cell-gutter">
          <!-- Bounding range for vertical scrolling of icons -->
          <div class="cell-execution-container">
            <colab-run-button title="Run cell (Ctrl+Enter)
cell executed since last change" role="button" aria-label="Run cell"><template shadowrootmode="open"><!----> <div class="cell-execution">
      <div class="execution-count"><!--?lit$0157429536$-->[32]</div>
      <div class="cell-execution-indicator"> <!--?lit$0157429536$-->
<svg xmlns="http://www.w3.org/2000/svg" viewBox="0 0 24 24">
  <!--?lit$0157429536$-->
  <mask id="playSymbolMask">
    <rect width="100%" height="100%" fill="white"></rect>
    <polygon points="10,8 17,12 10,16" fill="black"></polygon>
  </mask>
  <circle cx="12" cy="12" r="7.8" mask="url(#playSymbolMask)" id="filledCircle"></circle>
</svg> </div>
      <!--?lit$0157429536$--><div id="status">
      <md-icon aria-hidden="true"><template shadowrootmode="open"><!----><slot></slot></template><!--?lit$0157429536$--><svg viewBox="0 0 24 24"><!--?lit$0157429536$--><path d="M9 16.17L4.83 12l-1.42 1.41L9 19 21 7l-1.41-1.41z"></path></svg></md-icon>
      <div><!--?lit$0157429536$--></div>
    </div>
    </div></template></colab-run-button>
          </div>
        </div>
      <div class="editor flex lazy-editor" style=""><pre class="lazy-virtualized" style="font-size: 14px; line-height: 19px;"><pre class="lazy-gutter"></pre><pre class="monaco-colorized colab-dark colab-dark colab-dark colab-dark colab-dark" data-lang="notebook-python"><span><span class="mtk18">import</span><span class="mtk1">&nbsp;pandas&nbsp;</span><span class="mtk18">as</span><span class="mtk1">&nbsp;pd</span></span><br><span><span class="mtk18">from</span><span class="mtk1">&nbsp;sklearn.ensemble&nbsp;</span><span class="mtk18">import</span><span class="mtk1">&nbsp;IsolationForest</span></span><br><span><span></span></span><br><span><span class="mtk8">#&nbsp;Separate&nbsp;the&nbsp;features&nbsp;(X)&nbsp;and&nbsp;target&nbsp;(y)</span></span><br><span><span class="mtk1">X&nbsp;=&nbsp;credit_card_data.drop</span><span class="mtk12">(</span><span class="mtk5">'Class'</span><span class="mtk12">,</span><span class="mtk1">&nbsp;axis=</span><span class="mtk6">1</span><span class="mtk12">)</span></span><br><span><span class="mtk1">y&nbsp;=&nbsp;credit_card_data</span><span class="mtk12">[</span><span class="mtk5">'Class'</span><span class="mtk12">]</span></span><br><span><span></span></span><br><span><span class="mtk8">#&nbsp;Instantiate&nbsp;the&nbsp;Isolation&nbsp;Forest&nbsp;model</span></span><br><span><span class="mtk1">isolation_forest&nbsp;=&nbsp;IsolationForest</span><span class="mtk12">(</span><span class="mtk1">contamination=</span><span class="mtk5">'auto'</span><span class="mtk12">,</span><span class="mtk1">&nbsp;random_state=</span><span class="mtk6">42</span><span class="mtk12">)</span></span><br><span><span></span></span><br><span><span class="mtk8">#&nbsp;Fit&nbsp;the&nbsp;model&nbsp;to&nbsp;the&nbsp;data</span></span><br><span><span class="mtk1">isolation_forest.fit</span><span class="mtk12">(</span><span class="mtk1">X</span><span class="mtk12">)</span></span><br><span><span></span></span><br><span><span class="mtk8">#&nbsp;Predict&nbsp;outliers&nbsp;(fraudulent&nbsp;transactions)</span></span><br><span><span class="mtk1">y_pred&nbsp;=&nbsp;isolation_forest.predict</span><span class="mtk12">(</span><span class="mtk1">X</span><span class="mtk12">)</span></span><br><span><span></span></span><br><span><span class="mtk8">#&nbsp;Convert&nbsp;predictions&nbsp;to&nbsp;binary&nbsp;labels&nbsp;(1&nbsp;for&nbsp;inli</span><span class="mtk8">ers,&nbsp;-1&nbsp;for&nbsp;outliers)</span></span><br><span><span class="mtk1">y_pred_labels&nbsp;=&nbsp;</span><span class="mtk12">[</span><span class="mtk6">1</span><span class="mtk1">&nbsp;</span><span class="mtk18">if</span><span class="mtk1">&nbsp;p&nbsp;==&nbsp;</span><span class="mtk6">1</span><span class="mtk1">&nbsp;</span><span class="mtk18">else</span><span class="mtk1">&nbsp;</span><span class="mtk6">0</span><span class="mtk1">&nbsp;</span><span class="mtk18">for</span><span class="mtk1">&nbsp;p&nbsp;</span><span class="mtk17">in</span><span class="mtk1">&nbsp;y_pred</span><span class="mtk12">]</span></span><br><span><span></span></span><br><span><span class="mtk8">#&nbsp;Combine&nbsp;the&nbsp;predicted&nbsp;labels&nbsp;with&nbsp;the&nbsp;original&nbsp;d</span><span class="mtk8">ata&nbsp;for&nbsp;further&nbsp;analysis</span></span><br><span><span class="mtk1">credit_card_data</span><span class="mtk12">[</span><span class="mtk5">'Anomaly'</span><span class="mtk12">]</span><span class="mtk1">&nbsp;=&nbsp;y_pred_labels</span></span><br><span><span></span></span><br></pre><colab-read-only-cell-placeholder style="display: none;"><template shadowrootmode="open"><!----><div><!--?lit$0157429536$-->Start coding or <span tabindex="0" role="button" class="link">generate</span> with AI.</div></template></colab-read-only-cell-placeholder></pre></div><colab-form class="formview vertical layout flex"><div class="widget-area vertical layout"></div></colab-form></div>
    <div class="output"><!----> <div class="output-header"> </div>
        <div class="output-content" style="display: none;">
          <div class="output-info"> </div>
          <div class="output-iframe-container">
            <div class="output-iframe-sizer"> </div>
          </div>
        </div></div></div><colab-cell-next-steps><template shadowrootmode="open"><!----></template></colab-cell-next-steps></div></div><div class="add-cell">
      <div class="add-cell-buttons">
        <md-outlined-button class="add-code add-button" aria-label="Add code cell
Ctrl+M B" title="Add code cell
Ctrl+M B" role="presentation" value="" has-icon=""><template shadowrootmode="open" shadowrootdelegatesfocus><!---->
      <!--?lit$0157429536$--><div class="outline"></div>
      <div class="background"></div>
      <md-focus-ring part="focus-ring" for="button" aria-hidden="true"><template shadowrootmode="open"><!----></template></md-focus-ring>
      <md-ripple for="button" aria-hidden="true"><template shadowrootmode="open"><!----><div class="surface   "></div></template></md-ripple>
      <!--?lit$0157429536$--><button id="button" class="button" aria-label="Add code cell
Ctrl+M B">
      <!--?lit$0157429536$-->
      <span class="touch"></span>
      <!--?lit$0157429536$--><slot name="icon"></slot>
      <span class="label"><slot></slot></span>
      <!--?lit$0157429536$-->
    
    </button>
    </template>
          <md-icon slot="icon" aria-hidden="true"><template shadowrootmode="open"><!----><slot></slot></template>add</md-icon>
          <!--?lit$0157429536$-->Code
        </md-outlined-button>
        <md-outlined-button class="add-text add-button" aria-label="Add text cell" title="Add text cell" role="presentation" value="" has-icon=""><template shadowrootmode="open" shadowrootdelegatesfocus><!---->
      <!--?lit$0157429536$--><div class="outline"></div>
      <div class="background"></div>
      <md-focus-ring part="focus-ring" for="button" aria-hidden="true"><template shadowrootmode="open"><!----></template></md-focus-ring>
      <md-ripple for="button" aria-hidden="true"><template shadowrootmode="open"><!----><div class="surface   "></div></template></md-ripple>
      <!--?lit$0157429536$--><button id="button" class="button" aria-label="Add text cell">
      <!--?lit$0157429536$-->
      <span class="touch"></span>
      <!--?lit$0157429536$--><slot name="icon"></slot>
      <span class="label"><slot></slot></span>
      <!--?lit$0157429536$-->
    
    </button>
    </template>
          <md-icon slot="icon" aria-hidden="true"><template shadowrootmode="open"><!----><slot></slot></template>add</md-icon>
          <!--?lit$0157429536$-->Text
        </md-outlined-button>
        <!--?lit$0157429536$-->
      </div><hr>
    </div></div><div class="cell code icon-scrolling" id="cell-qTbr0ec2mFz3" tabindex="-1" role="region" aria-label="Cell 24: Code cell: " style=""><div class="cell-tag-editor sticky"></div><div class="cell-toolbar sticky"></div><div class="main-content" elevation="0"><div class="cell-contents"><div class="cell-mask"></div><span class="imported-info-area"></span><div class="codecell-input-output">
      <div class="inputarea horizontal layout code">
        <div class="cell-gutter">
          <!-- Bounding range for vertical scrolling of icons -->
          <div class="cell-execution-container">
            <colab-run-button title="Run cell (Ctrl+Enter)
cell executed since last change" role="button" aria-label="Run cell"><template shadowrootmode="open"><!----> <div class="cell-execution">
      <div class="execution-count"><!--?lit$0157429536$-->[33]</div>
      <div class="cell-execution-indicator"> <!--?lit$0157429536$-->
<svg xmlns="http://www.w3.org/2000/svg" viewBox="0 0 24 24">
  <!--?lit$0157429536$-->
  <mask id="playSymbolMask">
    <rect width="100%" height="100%" fill="white"></rect>
    <polygon points="10,8 17,12 10,16" fill="black"></polygon>
  </mask>
  <circle cx="12" cy="12" r="7.8" mask="url(#playSymbolMask)" id="filledCircle"></circle>
</svg> </div>
      <!--?lit$0157429536$--><div id="status">
      <md-icon aria-hidden="true"><template shadowrootmode="open"><!----><slot></slot></template><!--?lit$0157429536$--><svg viewBox="0 0 24 24"><!--?lit$0157429536$--><path d="M9 16.17L4.83 12l-1.42 1.41L9 19 21 7l-1.41-1.41z"></path></svg></md-icon>
      <div><!--?lit$0157429536$--></div>
    </div>
    </div></template></colab-run-button>
          </div>
        </div>
      <div class="editor flex lazy-editor" style=""><pre class="lazy-virtualized" style="font-size: 14px; line-height: 19px;"><pre class="lazy-gutter"></pre><pre class="monaco-colorized colab-dark colab-dark colab-dark colab-dark colab-dark colab-dark" data-lang="notebook-python"><span><span></span></span><br><span><span class="mtk8">#&nbsp;Separate&nbsp;the&nbsp;data&nbsp;into&nbsp;legitimate&nbsp;(non-fraudulen</span><span class="mtk8">t)&nbsp;and&nbsp;potential&nbsp;fraudulent&nbsp;transactions</span></span><br><span><span class="mtk1">legit_transactions&nbsp;=&nbsp;credit_card_data</span><span class="mtk12">[</span><span class="mtk1">credit_card_data</span><span class="mtk12">[</span><span class="mtk5">'Anomaly'</span><span class="mtk12">]</span><span class="mtk1">&nbsp;==&nbsp;</span><span class="mtk6">1</span><span class="mtk12">]</span></span><br><span><span class="mtk1">potential_fraud_transactions&nbsp;=&nbsp;credit_card_data</span><span class="mtk12">[</span><span class="mtk1">credit_card_data</span><span class="mtk12">[</span><span class="mtk5">'Anomaly'</span><span class="mtk12">]</span><span class="mtk1">&nbsp;==&nbsp;</span><span class="mtk6">0</span><span class="mtk12">]</span></span><br><span><span></span></span><br></pre><colab-read-only-cell-placeholder style="display: none;"><template shadowrootmode="open"><!----><div><!--?lit$0157429536$-->Start coding or <span tabindex="0" role="button" class="link">generate</span> with AI.</div></template></colab-read-only-cell-placeholder></pre></div><colab-form class="formview vertical layout flex"><div class="widget-area vertical layout"></div></colab-form></div>
    <div class="output"><!----> <div class="output-header"> </div>
        <div class="output-content" style="display: none;">
          <div class="output-info"> </div>
          <div class="output-iframe-container">
            <div class="output-iframe-sizer"> </div>
          </div>
        </div></div></div><colab-cell-next-steps><template shadowrootmode="open"><!----></template></colab-cell-next-steps></div></div><div class="add-cell">
      <hr>
    </div></div><div class="cell text" id="cell-E73yjYclmL_K" tabindex="-1" role="region" aria-label="Cell 25: Text cell: " style=""><div class="cell-tag-editor sticky"></div><div class="cell-toolbar sticky"></div><div class="main-content" elevation="0"><div class="cell-contents"><div class="cell-mask"></div><span class="imported-info-area"></span><!----> <div class="toolbar-root"></div>
      <div class="editor-container horizontal">
        <div class="editor-root"></div>
        <div class="text-top-div">
          <div class="markdown"><span><p>print("Shape of legit_transactions:", legit_transactions.shape)
print("Shape of potential_fraud_transactions:", potential_fraud_transactions.shape)</p>
</span></div>
        </div>
      </div>

      <div class="section-header" style="display: none;">
        <colab-run-button role="button" aria-label="Run cell"><template shadowrootmode="open"><!----> <div class="cell-execution">
      <div class="execution-count"><!--?lit$0157429536$-->[ ]</div>
      <div class="cell-execution-indicator"> <!--?lit$0157429536$-->
<svg xmlns="http://www.w3.org/2000/svg" viewBox="0 0 24 24">
  <!--?lit$0157429536$-->
  <mask id="playSymbolMask">
    <rect width="100%" height="100%" fill="white"></rect>
    <polygon points="10,8 17,12 10,16" fill="black"></polygon>
  </mask>
  <circle cx="12" cy="12" r="7.8" mask="url(#playSymbolMask)" id="filledCircle"></circle>
</svg> </div>
      <!--?lit$0157429536$--><!--?-->
    </div></template></colab-run-button>
        <div class="section-header-container" title="click to expand">↳ 0 cells hidden</div>
      </div></div></div><div class="add-cell">
      <hr>
    </div></div><div class="cell text" id="cell-rig9Q1lQompg" tabindex="-1" role="region" aria-label="Cell 26: Text cell: " style=""><div class="cell-tag-editor sticky"></div><div class="cell-toolbar sticky"></div><div class="main-content" elevation="0"><div class="cell-contents"><div class="cell-mask"></div><span class="imported-info-area"></span><!----> <div class="toolbar-root"></div>
      <div class="editor-container horizontal">
        <div class="editor-root"></div>
        <div class="text-top-div">
          <div class="markdown"><span><p>DATA AUGMENTATION:</p>
</span></div>
        </div>
      </div>

      <div class="section-header" style="display: none;">
        <colab-run-button role="button" aria-label="Run cell"><template shadowrootmode="open"><!----> <div class="cell-execution">
      <div class="execution-count"><!--?lit$0157429536$-->[ ]</div>
      <div class="cell-execution-indicator"> <!--?lit$0157429536$-->
<svg xmlns="http://www.w3.org/2000/svg" viewBox="0 0 24 24">
  <!--?lit$0157429536$-->
  <mask id="playSymbolMask">
    <rect width="100%" height="100%" fill="white"></rect>
    <polygon points="10,8 17,12 10,16" fill="black"></polygon>
  </mask>
  <circle cx="12" cy="12" r="7.8" mask="url(#playSymbolMask)" id="filledCircle"></circle>
</svg> </div>
      <!--?lit$0157429536$--><!--?-->
    </div></template></colab-run-button>
        <div class="section-header-container" title="click to expand">↳ 0 cells hidden</div>
      </div></div></div><div class="add-cell">
      <div class="add-cell-buttons">
        <md-outlined-button class="add-code add-button" aria-label="Add code cell
Ctrl+M B" title="Add code cell
Ctrl+M B" role="presentation" value="" has-icon=""><template shadowrootmode="open" shadowrootdelegatesfocus><!---->
      <!--?lit$0157429536$--><div class="outline"></div>
      <div class="background"></div>
      <md-focus-ring part="focus-ring" for="button" aria-hidden="true"><template shadowrootmode="open"><!----></template></md-focus-ring>
      <md-ripple for="button" aria-hidden="true"><template shadowrootmode="open"><!----><div class="surface   "></div></template></md-ripple>
      <!--?lit$0157429536$--><button id="button" class="button" aria-label="Add code cell
Ctrl+M B">
      <!--?lit$0157429536$-->
      <span class="touch"></span>
      <!--?lit$0157429536$--><slot name="icon"></slot>
      <span class="label"><slot></slot></span>
      <!--?lit$0157429536$-->
    
    </button>
    </template>
          <md-icon slot="icon" aria-hidden="true"><template shadowrootmode="open"><!----><slot></slot></template>add</md-icon>
          <!--?lit$0157429536$-->Code
        </md-outlined-button>
        <md-outlined-button class="add-text add-button" aria-label="Add text cell" title="Add text cell" role="presentation" value="" has-icon=""><template shadowrootmode="open" shadowrootdelegatesfocus><!---->
      <!--?lit$0157429536$--><div class="outline"></div>
      <div class="background"></div>
      <md-focus-ring part="focus-ring" for="button" aria-hidden="true"><template shadowrootmode="open"><!----></template></md-focus-ring>
      <md-ripple for="button" aria-hidden="true"><template shadowrootmode="open"><!----><div class="surface   "></div></template></md-ripple>
      <!--?lit$0157429536$--><button id="button" class="button" aria-label="Add text cell">
      <!--?lit$0157429536$-->
      <span class="touch"></span>
      <!--?lit$0157429536$--><slot name="icon"></slot>
      <span class="label"><slot></slot></span>
      <!--?lit$0157429536$-->
    
    </button>
    </template>
          <md-icon slot="icon" aria-hidden="true"><template shadowrootmode="open"><!----><slot></slot></template>add</md-icon>
          <!--?lit$0157429536$-->Text
        </md-outlined-button>
        <!--?lit$0157429536$-->
      </div><hr>
    </div></div><div class="cell code icon-scrolling" id="cell-hgPdwV__olpr" tabindex="-1" role="region" aria-label="Cell 27: Code cell: " style=""><div class="cell-tag-editor sticky"></div><div class="cell-toolbar sticky"></div><div class="main-content" elevation="0"><div class="cell-contents"><div class="cell-mask"></div><span class="imported-info-area"></span><div class="codecell-input-output">
      <div class="inputarea horizontal layout code">
        <div class="cell-gutter">
          <!-- Bounding range for vertical scrolling of icons -->
          <div class="cell-execution-container">
            <colab-run-button title="Run cell (Ctrl+Enter)
cell executed since last change

executed by Srinivasulu K
1:49 PM (19 minutes ago)
executed in 0.008s" role="button" aria-label="Run cell"><template shadowrootmode="open"><!----> <div class="cell-execution">
      <div class="execution-count"><!--?lit$0157429536$-->[34]</div>
      <div class="cell-execution-indicator"> <!--?lit$0157429536$-->
<svg xmlns="http://www.w3.org/2000/svg" viewBox="0 0 24 24">
  <!--?lit$0157429536$-->
  <mask id="playSymbolMask">
    <rect width="100%" height="100%" fill="white"></rect>
    <polygon points="10,8 17,12 10,16" fill="black"></polygon>
  </mask>
  <circle cx="12" cy="12" r="7.8" mask="url(#playSymbolMask)" id="filledCircle"></circle>
</svg> </div>
      <!--?lit$0157429536$--><div id="status">
      <md-icon aria-hidden="true"><template shadowrootmode="open"><!----><slot></slot></template><!--?lit$0157429536$--><svg viewBox="0 0 24 24"><!--?lit$0157429536$--><path d="M9 16.17L4.83 12l-1.42 1.41L9 19 21 7l-1.41-1.41z"></path></svg></md-icon>
      <div><!--?lit$0157429536$-->0s</div>
    </div>
    </div></template></colab-run-button>
          </div>
        </div>
      <div class="editor flex lazy-editor" style=""><pre class="lazy-virtualized" style="font-size: 14px; line-height: 19px;"><pre class="lazy-gutter"></pre><pre class="monaco-colorized colab-dark colab-dark colab-dark" data-lang="notebook-python"><span><span class="mtk18">import</span><span class="mtk1">&nbsp;pandas&nbsp;</span><span class="mtk18">as</span><span class="mtk1">&nbsp;pd</span></span><br><span><span class="mtk18">import</span><span class="mtk1">&nbsp;numpy&nbsp;</span><span class="mtk18">as</span><span class="mtk1">&nbsp;np</span></span><br><span><span class="mtk18">from</span><span class="mtk1">&nbsp;imblearn.under_sampling&nbsp;</span><span class="mtk18">import</span><span class="mtk1">&nbsp;RandomUnderSampler</span></span><br><span><span class="mtk8">#&nbsp;Separate&nbsp;the&nbsp;features&nbsp;(X)&nbsp;and&nbsp;target&nbsp;(y)&nbsp;for&nbsp;bot</span><span class="mtk8">h&nbsp;legit&nbsp;and&nbsp;potential&nbsp;fraud&nbsp;transactions</span></span><br><span><span class="mtk1">X_legit&nbsp;=&nbsp;legit_transactions.drop</span><span class="mtk12">(</span><span class="mtk5">'Class'</span><span class="mtk12">,</span><span class="mtk1">&nbsp;axis=</span><span class="mtk6">1</span><span class="mtk12">)</span></span><br><span><span class="mtk1">y_legit&nbsp;=&nbsp;legit_transactions</span><span class="mtk12">[</span><span class="mtk5">'Class'</span><span class="mtk12">]</span></span><br><span><span></span></span><br><span><span class="mtk1">X_fraud&nbsp;=&nbsp;potential_fraud_transactions.drop</span><span class="mtk12">(</span><span class="mtk5">'Class'</span><span class="mtk12">,</span><span class="mtk1">&nbsp;axis=</span><span class="mtk6">1</span><span class="mtk12">)</span></span><br><span><span class="mtk1">y_fraud&nbsp;=&nbsp;potential_fraud_transactions</span><span class="mtk12">[</span><span class="mtk5">'Class'</span><span class="mtk12">]</span></span><br><span><span class="mtk1">desired_fraud_samples&nbsp;=&nbsp;</span><span class="mtk6">300</span></span><br><span><span class="mtk1">additional_fraud_samples_needed&nbsp;=&nbsp;desired_fraud_sa</span><span class="mtk1">mples&nbsp;-&nbsp;</span><span class="mtk15">len</span><span class="mtk12">(</span><span class="mtk1">X_fraud</span><span class="mtk12">)</span></span><br><span><span></span></span><br><span><span class="mtk8">#&nbsp;Create&nbsp;additional&nbsp;samples&nbsp;through&nbsp;data&nbsp;augmentat</span><span class="mtk8">ion&nbsp;(example:&nbsp;random&nbsp;perturbations)</span></span><br><span><span class="mtk1">augmented_fraud_samples&nbsp;=&nbsp;</span><span class="mtk12">[]</span></span><br><span><span class="mtk18">for</span><span class="mtk1">&nbsp;_&nbsp;</span><span class="mtk17">in</span><span class="mtk1">&nbsp;</span><span class="mtk15">range</span><span class="mtk12">(</span><span class="mtk1">additional_fraud_samples_needed</span><span class="mtk12">):</span></span><br><span><span class="mtk1">&nbsp;&nbsp;&nbsp;&nbsp;random_idx&nbsp;=&nbsp;np.random.randint</span><span class="mtk12">(</span><span class="mtk6">0</span><span class="mtk12">,</span><span class="mtk1">&nbsp;</span><span class="mtk15">len</span><span class="mtk12">(</span><span class="mtk1">X_fraud</span><span class="mtk12">))</span></span><br><span><span class="mtk1">&nbsp;&nbsp;&nbsp;&nbsp;new_sample&nbsp;=&nbsp;X_fraud.iloc</span><span class="mtk12">[</span><span class="mtk1">random_idx</span><span class="mtk12">]</span><span class="mtk1">.copy</span><span class="mtk12">()</span></span><br><span><span class="mtk1">&nbsp;&nbsp;&nbsp;&nbsp;new_sample&nbsp;+=&nbsp;np.random.normal</span><span class="mtk12">(</span><span class="mtk6">0</span><span class="mtk12">,</span><span class="mtk1">&nbsp;</span><span class="mtk6">0.01</span><span class="mtk12">,</span><span class="mtk1">&nbsp;</span><span class="mtk15">len</span><span class="mtk12">(</span><span class="mtk1">new_sample</span><span class="mtk12">))</span></span><br><span><span class="mtk1">&nbsp;&nbsp;&nbsp;&nbsp;augmented_fraud_samples.append</span><span class="mtk12">(</span><span class="mtk1">new_sample</span><span class="mtk12">)</span></span><br><span><span></span></span><br><span><span class="mtk8">#&nbsp;Convert&nbsp;the&nbsp;augmented&nbsp;samples&nbsp;list&nbsp;to&nbsp;a&nbsp;DataFram</span><span class="mtk8">e</span></span><br><span><span class="mtk1">augmented_fraud_transactions&nbsp;=&nbsp;pd.DataFrame</span><span class="mtk12">(</span><span class="mtk1">augmented_fraud_samples</span><span class="mtk12">,</span><span class="mtk1">&nbsp;columns=X_fraud.columns</span><span class="mtk12">)</span></span><br></pre><colab-read-only-cell-placeholder style="display: none;"><template shadowrootmode="open"><!----><div><!--?lit$0157429536$-->Start coding or <span tabindex="0" role="button" class="link">generate</span> with AI.</div></template></colab-read-only-cell-placeholder></pre></div><colab-form class="formview vertical layout flex"><div class="widget-area vertical layout"></div></colab-form></div>
    <div class="output"><!----> <div class="output-header"> </div>
        <div class="output-content" style="display: none;">
          <div class="output-info"><colab-output-info title="Clear output

executed by Srinivasulu K
1:49 PM (0 minutes ago)
executed in 0.008s" hovering=""><template shadowrootmode="open"><!----> <md-icon class="collaborator output" alt="Execution output" aria-hidden="true"><template shadowrootmode="open"><!----><slot></slot></template><!--?lit$0157429536$-->output</md-icon>
      <!--?lit$0157429536$--> <mwc-icon-button icon="cancel" command="clear-focused-or-selected-outputs" alt="Clear output"><template shadowrootmode="open"><!----><button class="mdc-icon-button mdc-icon-button--display-flex" aria-label="cancel"><!--?lit$0157429536$-->
    <!--?lit$0157429536$--><i class="material-icons"><!--?lit$0157429536$-->cancel</i>
    <span><slot></slot></span>
  </button></template>
          </mwc-icon-button><!--?--></template></colab-output-info></div>
          <div class="output-iframe-container">
            <div class="output-iframe-sizer" style="min-height: 0px;"> <div><div><colab-static-output-renderer tabindex="0" role="group"><div></div><div></div></colab-static-output-renderer></div></div><div><div></div></div></div>
          </div>
        </div></div></div><colab-cell-next-steps><template shadowrootmode="open"><!----></template></colab-cell-next-steps></div></div><div class="add-cell">
      <div class="add-cell-buttons">
        <md-outlined-button class="add-code add-button" aria-label="Add code cell
Ctrl+M B" title="Add code cell
Ctrl+M B" role="presentation" value="" has-icon=""><template shadowrootmode="open" shadowrootdelegatesfocus><!---->
      <!--?lit$0157429536$--><div class="outline"></div>
      <div class="background"></div>
      <md-focus-ring part="focus-ring" for="button" aria-hidden="true"><template shadowrootmode="open"><!----></template></md-focus-ring>
      <md-ripple for="button" aria-hidden="true"><template shadowrootmode="open"><!----><div class="surface"></div></template></md-ripple>
      <!--?lit$0157429536$--><button id="button" class="button" aria-label="Add code cell
Ctrl+M B">
      <!--?lit$0157429536$-->
      <span class="touch"></span>
      <!--?lit$0157429536$--><slot name="icon"></slot>
      <span class="label"><slot></slot></span>
      <!--?lit$0157429536$-->
    
    </button>
    </template>
          <md-icon slot="icon" aria-hidden="true"><template shadowrootmode="open"><!----><slot></slot></template>add</md-icon>
          <!--?lit$0157429536$-->Code
        </md-outlined-button>
        <md-outlined-button class="add-text add-button" aria-label="Add text cell" title="Add text cell" role="presentation" value="" has-icon=""><template shadowrootmode="open" shadowrootdelegatesfocus><!---->
      <!--?lit$0157429536$--><div class="outline"></div>
      <div class="background"></div>
      <md-focus-ring part="focus-ring" for="button" aria-hidden="true"><template shadowrootmode="open"><!----></template></md-focus-ring>
      <md-ripple for="button" aria-hidden="true"><template shadowrootmode="open"><!----><div class="surface   "></div></template></md-ripple>
      <!--?lit$0157429536$--><button id="button" class="button" aria-label="Add text cell">
      <!--?lit$0157429536$-->
      <span class="touch"></span>
      <!--?lit$0157429536$--><slot name="icon"></slot>
      <span class="label"><slot></slot></span>
      <!--?lit$0157429536$-->
    
    </button>
    </template>
          <md-icon slot="icon" aria-hidden="true"><template shadowrootmode="open"><!----><slot></slot></template>add</md-icon>
          <!--?lit$0157429536$-->Text
        </md-outlined-button>
        <!--?lit$0157429536$-->
      </div><hr>
    </div></div><div class="cell code icon-scrolling code-has-output" id="cell-GhhUtCJnpD3n" tabindex="-1" role="region" aria-label="Cell 28: Code cell: " style="opacity: 1;"><div class="cell-tag-editor sticky"></div><div class="cell-toolbar sticky"></div><div class="main-content" elevation="0"><div class="cell-contents"><div class="cell-mask"></div><span class="imported-info-area"></span><div class="codecell-input-output">
      <div class="inputarea horizontal layout code">
        <div class="cell-gutter">
          <!-- Bounding range for vertical scrolling of icons -->
          <div class="cell-execution-container">
            <colab-run-button title="Run cell (Ctrl+Enter)
cell executed since last change

executed by Srinivasulu K
1:49 PM (18 minutes ago)
executed in 0.435s" role="button" aria-label="Run cell"><template shadowrootmode="open"><!----> <div class="cell-execution">
      <div class="execution-count"><!--?lit$0157429536$-->[35]</div>
      <div class="cell-execution-indicator"> <!--?lit$0157429536$-->
<svg xmlns="http://www.w3.org/2000/svg" viewBox="0 0 24 24">
  <!--?lit$0157429536$-->
  <mask id="playSymbolMask">
    <rect width="100%" height="100%" fill="white"></rect>
    <polygon points="10,8 17,12 10,16" fill="black"></polygon>
  </mask>
  <circle cx="12" cy="12" r="7.8" mask="url(#playSymbolMask)" id="filledCircle"></circle>
</svg> </div>
      <!--?lit$0157429536$--><div id="status">
      <md-icon aria-hidden="true"><template shadowrootmode="open"><!----><slot></slot></template><!--?lit$0157429536$--><svg viewBox="0 0 24 24"><!--?lit$0157429536$--><path d="M9 16.17L4.83 12l-1.42 1.41L9 19 21 7l-1.41-1.41z"></path></svg></md-icon>
      <div><!--?lit$0157429536$-->0s</div>
    </div>
    </div></template></colab-run-button>
          </div>
        </div>
      <div class="editor flex lazy-editor" style=""><pre class="lazy-virtualized" style="font-size: 14px; line-height: 19px;"><pre class="lazy-gutter"></pre><pre class="monaco-colorized colab-dark colab-dark colab-dark" data-lang="notebook-python"><span><span class="mtk15">print</span><span class="mtk12">(</span><span class="mtk1">augmented_fraud_transactions.shape</span><span class="mtk12">)</span></span><br></pre><colab-read-only-cell-placeholder style="display: none;"><template shadowrootmode="open"><!----><div><!--?lit$0157429536$-->Start coding or <span tabindex="0" role="button" class="link">generate</span> with AI.</div></template></colab-read-only-cell-placeholder></pre></div><colab-form class="formview vertical layout flex"><div class="widget-area vertical layout"></div></colab-form></div>
    <div class="output"><!----> <div class="output-header"> </div>
        <div class="output-content" style="">
          <div class="output-info"><colab-output-info title="Clear output

executed by Srinivasulu K
1:49 PM (0 minutes ago)
executed in 0.435s" hovering=""><template shadowrootmode="open"><!----> <md-icon class="collaborator output" alt="Execution output" aria-hidden="true"><template shadowrootmode="open"><!----><slot></slot></template><!--?lit$0157429536$-->output</md-icon>
      <!--?lit$0157429536$--> <mwc-icon-button icon="cancel" command="clear-focused-or-selected-outputs" alt="Clear output"><template shadowrootmode="open"><!----><button class="mdc-icon-button mdc-icon-button--display-flex" aria-label="cancel"><!--?lit$0157429536$-->
    <!--?lit$0157429536$--><i class="material-icons"><!--?lit$0157429536$-->cancel</i>
    <span><slot></slot></span>
  </button></template>
          </mwc-icon-button><!--?--></template></colab-output-info></div>
          <div class="output-iframe-container">
            <div class="output-iframe-sizer" style="min-height: 0px;"> <div><div><colab-static-output-renderer tabindex="0" role="group"><div><div class="stream output-id-1 output_text"><pre>(0, 31)
</pre></div></div><div></div></colab-static-output-renderer></div></div></div>
          </div>
        </div></div></div><colab-cell-next-steps><template shadowrootmode="open"><!----></template></colab-cell-next-steps></div></div><div class="add-cell">
      <div class="add-cell-buttons">
        <md-outlined-button class="add-code add-button" aria-label="Add code cell
Ctrl+M B" title="Add code cell
Ctrl+M B" role="presentation" value="" has-icon=""><template shadowrootmode="open" shadowrootdelegatesfocus><!---->
      <!--?lit$0157429536$--><div class="outline"></div>
      <div class="background"></div>
      <md-focus-ring part="focus-ring" for="button" aria-hidden="true"><template shadowrootmode="open"><!----></template></md-focus-ring>
      <md-ripple for="button" aria-hidden="true"><template shadowrootmode="open"><!----><div class="surface"></div></template></md-ripple>
      <!--?lit$0157429536$--><button id="button" class="button" aria-label="Add code cell
Ctrl+M B">
      <!--?lit$0157429536$-->
      <span class="touch"></span>
      <!--?lit$0157429536$--><slot name="icon"></slot>
      <span class="label"><slot></slot></span>
      <!--?lit$0157429536$-->
    
    </button>
    </template>
          <md-icon slot="icon" aria-hidden="true"><template shadowrootmode="open"><!----><slot></slot></template>add</md-icon>
          <!--?lit$0157429536$-->Code
        </md-outlined-button>
        <md-outlined-button class="add-text add-button" aria-label="Add text cell" title="Add text cell" role="presentation" value="" has-icon=""><template shadowrootmode="open" shadowrootdelegatesfocus><!---->
      <!--?lit$0157429536$--><div class="outline"></div>
      <div class="background"></div>
      <md-focus-ring part="focus-ring" for="button" aria-hidden="true"><template shadowrootmode="open"><!----></template></md-focus-ring>
      <md-ripple for="button" aria-hidden="true"><template shadowrootmode="open"><!----><div class="surface   "></div></template></md-ripple>
      <!--?lit$0157429536$--><button id="button" class="button" aria-label="Add text cell">
      <!--?lit$0157429536$-->
      <span class="touch"></span>
      <!--?lit$0157429536$--><slot name="icon"></slot>
      <span class="label"><slot></slot></span>
      <!--?lit$0157429536$-->
    
    </button>
    </template>
          <md-icon slot="icon" aria-hidden="true"><template shadowrootmode="open"><!----><slot></slot></template>add</md-icon>
          <!--?lit$0157429536$-->Text
        </md-outlined-button>
        <!--?lit$0157429536$-->
      </div><hr>
    </div></div><div class="cell code icon-scrolling" id="cell-OijPxOICpJLj" tabindex="-1" role="region" aria-label="Cell 29: Code cell: " style="opacity: 1;"><div class="cell-tag-editor sticky"></div><div class="cell-toolbar sticky"></div><div class="main-content" elevation="0"><div class="cell-contents"><div class="cell-mask"></div><span class="imported-info-area"></span><div class="codecell-input-output">
      <div class="inputarea horizontal layout code">
        <div class="cell-gutter">
          <!-- Bounding range for vertical scrolling of icons -->
          <div class="cell-execution-container">
            <colab-run-button title="Run cell (Ctrl+Enter)
cell executed since last change

executed by Srinivasulu K
1:50 PM (18 minutes ago)
executed in 0.388s" role="button" aria-label="Run cell"><template shadowrootmode="open"><!----> <div class="cell-execution">
      <div class="execution-count"><!--?lit$0157429536$-->[36]</div>
      <div class="cell-execution-indicator"> <!--?lit$0157429536$-->
<svg xmlns="http://www.w3.org/2000/svg" viewBox="0 0 24 24">
  <!--?lit$0157429536$-->
  <mask id="playSymbolMask">
    <rect width="100%" height="100%" fill="white"></rect>
    <polygon points="10,8 17,12 10,16" fill="black"></polygon>
  </mask>
  <circle cx="12" cy="12" r="7.8" mask="url(#playSymbolMask)" id="filledCircle"></circle>
</svg> </div>
      <!--?lit$0157429536$--><div id="status">
      <md-icon aria-hidden="true"><template shadowrootmode="open"><!----><slot></slot></template><!--?lit$0157429536$--><svg viewBox="0 0 24 24"><!--?lit$0157429536$--><path d="M9 16.17L4.83 12l-1.42 1.41L9 19 21 7l-1.41-1.41z"></path></svg></md-icon>
      <div><!--?lit$0157429536$-->0s</div>
    </div>
    </div></template></colab-run-button>
          </div>
        </div>
      <div class="editor flex lazy-editor" style=""><pre class="lazy-virtualized" style="font-size: 14px; line-height: 19px;"><pre class="lazy-gutter"></pre><pre class="monaco-colorized colab-dark colab-dark colab-dark" data-lang="notebook-python"><span><span class="mtk1">legit_sample&nbsp;=&nbsp;legit.sample</span><span class="mtk12">(</span><span class="mtk1">n=</span><span class="mtk6">217</span><span class="mtk12">)</span></span><br><span><span class="mtk1">augmented_fraud_transactions</span><span class="mtk12">[</span><span class="mtk5">'Class'</span><span class="mtk12">]</span><span class="mtk1">&nbsp;=&nbsp;</span><span class="mtk6">1</span></span><br><span><span class="mtk1">&nbsp;&nbsp;&nbsp;&nbsp;&nbsp;</span></span><br></pre><colab-read-only-cell-placeholder style="display: none;"><template shadowrootmode="open"><!----><div><!--?lit$0157429536$-->Start coding or <span tabindex="0" role="button" class="link">generate</span> with AI.</div></template></colab-read-only-cell-placeholder></pre></div><colab-form class="formview vertical layout flex"><div class="widget-area vertical layout"></div></colab-form></div>
    <div class="output"><!----> <div class="output-header"> </div>
        <div class="output-content" style="display: none;">
          <div class="output-info"><colab-output-info title="Clear output

executed by Srinivasulu K
1:50 PM (0 minutes ago)
executed in 0.388s" hovering=""><template shadowrootmode="open"><!----> <md-icon class="collaborator output" alt="Execution output" aria-hidden="true"><template shadowrootmode="open"><!----><slot></slot></template><!--?lit$0157429536$-->output</md-icon>
      <!--?lit$0157429536$--> <mwc-icon-button icon="cancel" command="clear-focused-or-selected-outputs" alt="Clear output"><template shadowrootmode="open"><!----><button class="mdc-icon-button mdc-icon-button--display-flex" aria-label="cancel"><!--?lit$0157429536$-->
    <!--?lit$0157429536$--><i class="material-icons"><!--?lit$0157429536$-->cancel</i>
    <span><slot></slot></span>
  </button></template>
          </mwc-icon-button><!--?--></template></colab-output-info></div>
          <div class="output-iframe-container">
            <div class="output-iframe-sizer" style="min-height: 0px;"> <div><div><colab-static-output-renderer tabindex="0" role="group"><div></div><div></div></colab-static-output-renderer></div></div></div>
          </div>
        </div></div></div><colab-cell-next-steps><template shadowrootmode="open"><!----></template></colab-cell-next-steps></div></div><div class="add-cell">
      <div class="add-cell-buttons">
        <md-outlined-button class="add-code add-button" aria-label="Add code cell
Ctrl+M B" title="Add code cell
Ctrl+M B" role="presentation" value="" has-icon=""><template shadowrootmode="open" shadowrootdelegatesfocus><!---->
      <!--?lit$0157429536$--><div class="outline"></div>
      <div class="background"></div>
      <md-focus-ring part="focus-ring" for="button" aria-hidden="true"><template shadowrootmode="open"><!----></template></md-focus-ring>
      <md-ripple for="button" aria-hidden="true"><template shadowrootmode="open"><!----><div class="surface"></div></template></md-ripple>
      <!--?lit$0157429536$--><button id="button" class="button" aria-label="Add code cell
Ctrl+M B">
      <!--?lit$0157429536$-->
      <span class="touch"></span>
      <!--?lit$0157429536$--><slot name="icon"></slot>
      <span class="label"><slot></slot></span>
      <!--?lit$0157429536$-->
    
    </button>
    </template>
          <md-icon slot="icon" aria-hidden="true"><template shadowrootmode="open"><!----><slot></slot></template>add</md-icon>
          <!--?lit$0157429536$-->Code
        </md-outlined-button>
        <md-outlined-button class="add-text add-button" aria-label="Add text cell" title="Add text cell" role="presentation" value="" has-icon=""><template shadowrootmode="open" shadowrootdelegatesfocus><!---->
      <!--?lit$0157429536$--><div class="outline"></div>
      <div class="background"></div>
      <md-focus-ring part="focus-ring" for="button" aria-hidden="true"><template shadowrootmode="open"><!----></template></md-focus-ring>
      <md-ripple for="button" aria-hidden="true"><template shadowrootmode="open"><!----><div class="surface   "></div></template></md-ripple>
      <!--?lit$0157429536$--><button id="button" class="button" aria-label="Add text cell">
      <!--?lit$0157429536$-->
      <span class="touch"></span>
      <!--?lit$0157429536$--><slot name="icon"></slot>
      <span class="label"><slot></slot></span>
      <!--?lit$0157429536$-->
    
    </button>
    </template>
          <md-icon slot="icon" aria-hidden="true"><template shadowrootmode="open"><!----><slot></slot></template>add</md-icon>
          <!--?lit$0157429536$-->Text
        </md-outlined-button>
        <!--?lit$0157429536$-->
      </div><hr>
    </div></div><div class="cell code icon-scrolling" id="cell-KyveXI53pN9Q" tabindex="-1" role="region" aria-label="Cell 30: Code cell: " style="opacity: 1;"><div class="cell-tag-editor sticky"></div><div class="cell-toolbar sticky"></div><div class="main-content" elevation="0"><div class="cell-contents"><div class="cell-mask"></div><span class="imported-info-area"></span><div class="codecell-input-output">
      <div class="inputarea horizontal layout code">
        <div class="cell-gutter">
          <!-- Bounding range for vertical scrolling of icons -->
          <div class="cell-execution-container">
            <colab-run-button title="Run cell (Ctrl+Enter)
cell executed since last change

executed by Srinivasulu K
1:50 PM (18 minutes ago)
executed in 0.663s" role="button" aria-label="Run cell"><template shadowrootmode="open"><!----> <div class="cell-execution">
      <div class="execution-count"><!--?lit$0157429536$-->[37]</div>
      <div class="cell-execution-indicator"> <!--?lit$0157429536$-->
<svg xmlns="http://www.w3.org/2000/svg" viewBox="0 0 24 24">
  <!--?lit$0157429536$-->
  <mask id="playSymbolMask">
    <rect width="100%" height="100%" fill="white"></rect>
    <polygon points="10,8 17,12 10,16" fill="black"></polygon>
  </mask>
  <circle cx="12" cy="12" r="7.8" mask="url(#playSymbolMask)" id="filledCircle"></circle>
</svg> </div>
      <!--?lit$0157429536$--><div id="status">
      <md-icon aria-hidden="true"><template shadowrootmode="open"><!----><slot></slot></template><!--?lit$0157429536$--><svg viewBox="0 0 24 24"><!--?lit$0157429536$--><path d="M9 16.17L4.83 12l-1.42 1.41L9 19 21 7l-1.41-1.41z"></path></svg></md-icon>
      <div><!--?lit$0157429536$-->0s</div>
    </div>
    </div></template></colab-run-button>
          </div>
        </div>
      <div class="editor flex lazy-editor" style=""><pre class="lazy-virtualized" style="font-size: 14px; line-height: 19px;"><pre class="lazy-gutter"></pre><pre class="monaco-colorized colab-dark colab-dark colab-dark" data-lang="notebook-python"><span><span class="mtk1">balanced_dataset&nbsp;=&nbsp;pd.concat</span><span class="mtk12">([</span><span class="mtk1">legit_sample</span><span class="mtk12">,</span><span class="mtk1">&nbsp;augmented_fraud_transactions</span><span class="mtk12">],</span><span class="mtk1">&nbsp;ignore_index=</span><span class="mtk9">True</span><span class="mtk12">)</span></span><br><span><span class="mtk1">&nbsp;&nbsp;&nbsp;&nbsp;&nbsp;</span></span><br></pre><colab-read-only-cell-placeholder style="display: none;"><template shadowrootmode="open"><!----><div><!--?lit$0157429536$-->Start coding or <span tabindex="0" role="button" class="link">generate</span> with AI.</div></template></colab-read-only-cell-placeholder></pre></div><colab-form class="formview vertical layout flex"><div class="widget-area vertical layout"></div></colab-form></div>
    <div class="output"><!----> <div class="output-header"> </div>
        <div class="output-content" style="display: none;">
          <div class="output-info"><colab-output-info title="Clear output

executed by Srinivasulu K
1:50 PM (0 minutes ago)
executed in 0.663s" hovering=""><template shadowrootmode="open"><!----> <md-icon class="collaborator output" alt="Execution output" aria-hidden="true"><template shadowrootmode="open"><!----><slot></slot></template><!--?lit$0157429536$-->output</md-icon>
      <!--?lit$0157429536$--> <mwc-icon-button icon="cancel" command="clear-focused-or-selected-outputs" alt="Clear output"><template shadowrootmode="open"><!----><button class="mdc-icon-button mdc-icon-button--display-flex" aria-label="cancel"><!--?lit$0157429536$-->
    <!--?lit$0157429536$--><i class="material-icons"><!--?lit$0157429536$-->cancel</i>
    <span><slot></slot></span>
  </button></template>
          </mwc-icon-button><!--?--></template></colab-output-info></div>
          <div class="output-iframe-container">
            <div class="output-iframe-sizer" style="min-height: 0px;"> <div><div><colab-static-output-renderer tabindex="0" role="group"><div></div><div></div></colab-static-output-renderer></div></div></div>
          </div>
        </div></div></div><colab-cell-next-steps><template shadowrootmode="open"><!----></template></colab-cell-next-steps></div></div><div class="add-cell">
      <div class="add-cell-buttons">
        <md-outlined-button class="add-code add-button" aria-label="Add code cell
Ctrl+M B" title="Add code cell
Ctrl+M B" role="presentation" value="" has-icon=""><template shadowrootmode="open" shadowrootdelegatesfocus><!---->
      <!--?lit$0157429536$--><div class="outline"></div>
      <div class="background"></div>
      <md-focus-ring part="focus-ring" for="button" aria-hidden="true"><template shadowrootmode="open"><!----></template></md-focus-ring>
      <md-ripple for="button" aria-hidden="true"><template shadowrootmode="open"><!----><div class="surface"></div></template></md-ripple>
      <!--?lit$0157429536$--><button id="button" class="button" aria-label="Add code cell
Ctrl+M B">
      <!--?lit$0157429536$-->
      <span class="touch"></span>
      <!--?lit$0157429536$--><slot name="icon"></slot>
      <span class="label"><slot></slot></span>
      <!--?lit$0157429536$-->
    
    </button>
    </template>
          <md-icon slot="icon" aria-hidden="true"><template shadowrootmode="open"><!----><slot></slot></template>add</md-icon>
          <!--?lit$0157429536$-->Code
        </md-outlined-button>
        <md-outlined-button class="add-text add-button" aria-label="Add text cell" title="Add text cell" role="presentation" value="" has-icon=""><template shadowrootmode="open" shadowrootdelegatesfocus><!---->
      <!--?lit$0157429536$--><div class="outline"></div>
      <div class="background"></div>
      <md-focus-ring part="focus-ring" for="button" aria-hidden="true"><template shadowrootmode="open"><!----></template></md-focus-ring>
      <md-ripple for="button" aria-hidden="true"><template shadowrootmode="open"><!----><div class="surface   "></div></template></md-ripple>
      <!--?lit$0157429536$--><button id="button" class="button" aria-label="Add text cell">
      <!--?lit$0157429536$-->
      <span class="touch"></span>
      <!--?lit$0157429536$--><slot name="icon"></slot>
      <span class="label"><slot></slot></span>
      <!--?lit$0157429536$-->
    
    </button>
    </template>
          <md-icon slot="icon" aria-hidden="true"><template shadowrootmode="open"><!----><slot></slot></template>add</md-icon>
          <!--?lit$0157429536$-->Text
        </md-outlined-button>
        <!--?lit$0157429536$-->
      </div><hr>
    </div></div><div class="cell code icon-scrolling code-has-output" id="cell-AQGIMoSwpPvK" tabindex="-1" role="region" aria-label="Cell 31: Code cell: " style="opacity: 1;"><div class="cell-tag-editor sticky"></div><div class="cell-toolbar sticky"></div><div class="main-content" elevation="0"><div class="cell-contents"><div class="cell-mask"></div><span class="imported-info-area"></span><div class="codecell-input-output">
      <div class="inputarea horizontal layout code">
        <div class="cell-gutter">
          <!-- Bounding range for vertical scrolling of icons -->
          <div class="cell-execution-container">
            <colab-run-button title="Run cell (Ctrl+Enter)
cell executed since last change

executed by Srinivasulu K
1:50 PM (17 minutes ago)
executed in 0.391s" role="button" aria-label="Run cell"><template shadowrootmode="open"><!----> <div class="cell-execution">
      <div class="execution-count"><!--?lit$0157429536$-->[38]</div>
      <div class="cell-execution-indicator"> <!--?lit$0157429536$-->
<svg xmlns="http://www.w3.org/2000/svg" viewBox="0 0 24 24">
  <!--?lit$0157429536$-->
  <mask id="playSymbolMask">
    <rect width="100%" height="100%" fill="white"></rect>
    <polygon points="10,8 17,12 10,16" fill="black"></polygon>
  </mask>
  <circle cx="12" cy="12" r="7.8" mask="url(#playSymbolMask)" id="filledCircle"></circle>
</svg> </div>
      <!--?lit$0157429536$--><div id="status">
      <md-icon aria-hidden="true"><template shadowrootmode="open"><!----><slot></slot></template><!--?lit$0157429536$--><svg viewBox="0 0 24 24"><!--?lit$0157429536$--><path d="M9 16.17L4.83 12l-1.42 1.41L9 19 21 7l-1.41-1.41z"></path></svg></md-icon>
      <div><!--?lit$0157429536$-->0s</div>
    </div>
    </div></template></colab-run-button>
          </div>
        </div>
      <div class="editor flex lazy-editor" style=""><pre class="lazy-virtualized" style="font-size: 14px; line-height: 19px;"><pre class="lazy-gutter"></pre><pre class="monaco-colorized colab-dark colab-dark" data-lang="notebook-python"><span><span class="mtk15">print</span><span class="mtk12">(</span><span class="mtk1">legit_sample.head</span><span class="mtk12">())</span></span><br><span><span class="mtk1">&nbsp;&nbsp;&nbsp;&nbsp;&nbsp;</span></span><br></pre><colab-read-only-cell-placeholder style="display: none;"><template shadowrootmode="open"><!----><div><!--?lit$0157429536$-->Start coding or <span tabindex="0" role="button" class="link">generate</span> with AI.</div></template></colab-read-only-cell-placeholder></pre></div><colab-form class="formview vertical layout flex"><div class="widget-area vertical layout"></div></colab-form></div>
    <div class="output"><!----> <div class="output-header"> </div>
        <div class="output-content" style="">
          <div class="output-info"><colab-output-info title="Clear output

executed by Srinivasulu K
1:50 PM (16 minutes ago)
executed in 0.391s" hovering=""><template shadowrootmode="open"><!----> <md-icon class="collaborator output" alt="Execution output" aria-hidden="true"><template shadowrootmode="open"><!----><slot></slot></template><!--?lit$0157429536$-->output</md-icon>
      <!--?lit$0157429536$--> <mwc-icon-button icon="cancel" command="clear-focused-or-selected-outputs" alt="Clear output"><template shadowrootmode="open"><!----><button class="mdc-icon-button mdc-icon-button--display-flex" aria-label="cancel"><!--?lit$0157429536$-->
            <mwc-ripple unbounded=""><template shadowrootmode="open"><!---->
        <div class="mdc-ripple-surface mdc-ripple-upgraded mdc-ripple-upgraded--unbounded" style="--mdc-ripple-fg-scale: 1.7142857142857142; --mdc-ripple-fg-size: 14px; --mdc-ripple-left: 5px; --mdc-ripple-top: 5px;"></div></template>
            </mwc-ripple>
    <!--?lit$0157429536$--><i class="material-icons"><!--?lit$0157429536$-->cancel</i>
    <span><slot></slot></span>
  </button></template>
          </mwc-icon-button><!--?--></template></colab-output-info></div>
          <div class="output-iframe-container">
            <div class="output-iframe-sizer" style="min-height: 0px;"> <div><div><colab-static-output-renderer tabindex="0" role="group"><div><div class="stream output-id-1 output_text"><pre>        Time        V1        V2        V3        V4        V5        V6  \
127       80 -0.655264  0.409899  1.289156 -0.325043  0.545669 -0.349811   
7471   10162  1.182880  0.051146  0.841107  0.018382 -0.500300 -0.286042   
10627  17833  0.993725  1.054307 -1.577749  1.537197  1.697540  0.564523   
4064    3724  1.039952 -0.152470  1.390009  1.471145 -0.969043  0.157308   
7163    9387 -5.489814  1.561072  0.726760 -0.476520 -0.024480 -0.703520   

             V7        V8        V9  ...       V21       V22       V23  \
127    0.648240  0.036063  0.078701  ... -0.155727 -0.477390 -0.126525   
7471  -0.415972 -0.024078  1.273732  ... -0.180742 -0.224945  0.138876   
10627  0.210922  0.319476  0.675820  ... -0.190118 -0.153934 -0.084938   
4064  -0.765444  0.196767  2.047291  ... -0.148737 -0.138825 -0.028047   
7163   0.879357 -0.877083  5.499426  ... -1.350095 -0.041123  0.677093   

            V24       V25       V26       V27       V28  Amount  Class  
127   -0.443628 -0.012118  0.143173  0.049783  0.118280   32.51      0  
7471   0.236495 -0.007872  0.862932 -0.079217 -0.006461    4.00      0  
10627 -1.424830  0.458697 -0.220467  0.073157  0.066380   14.99      0  
4064   0.243695  0.317788 -0.465594  0.029132  0.026213   46.80      0  
7163   0.377902  0.886612  0.287220  0.450214  0.050597    0.01      0  

[5 rows x 31 columns]
</pre></div></div><div></div></colab-static-output-renderer></div></div></div>
          </div>
        </div></div></div><colab-cell-next-steps><template shadowrootmode="open"><!----></template></colab-cell-next-steps></div></div><div class="add-cell">
      <div class="add-cell-buttons">
        <md-outlined-button class="add-code add-button" aria-label="Add code cell
Ctrl+M B" title="Add code cell
Ctrl+M B" role="presentation" value="" has-icon=""><template shadowrootmode="open" shadowrootdelegatesfocus><!---->
      <!--?lit$0157429536$--><div class="outline"></div>
      <div class="background"></div>
      <md-focus-ring part="focus-ring" for="button" aria-hidden="true"><template shadowrootmode="open"><!----></template></md-focus-ring>
      <md-ripple for="button" aria-hidden="true"><template shadowrootmode="open"><!----><div class="surface"></div></template></md-ripple>
      <!--?lit$0157429536$--><button id="button" class="button" aria-label="Add code cell
Ctrl+M B">
      <!--?lit$0157429536$-->
      <span class="touch"></span>
      <!--?lit$0157429536$--><slot name="icon"></slot>
      <span class="label"><slot></slot></span>
      <!--?lit$0157429536$-->
    
    </button>
    </template>
          <md-icon slot="icon" aria-hidden="true"><template shadowrootmode="open"><!----><slot></slot></template>add</md-icon>
          <!--?lit$0157429536$-->Code
        </md-outlined-button>
        <md-outlined-button class="add-text add-button" aria-label="Add text cell" title="Add text cell" role="presentation" value="" has-icon=""><template shadowrootmode="open" shadowrootdelegatesfocus><!---->
      <!--?lit$0157429536$--><div class="outline"></div>
      <div class="background"></div>
      <md-focus-ring part="focus-ring" for="button" aria-hidden="true"><template shadowrootmode="open"><!----></template></md-focus-ring>
      <md-ripple for="button" aria-hidden="true"><template shadowrootmode="open"><!----><div class="surface   "></div></template></md-ripple>
      <!--?lit$0157429536$--><button id="button" class="button" aria-label="Add text cell">
      <!--?lit$0157429536$-->
      <span class="touch"></span>
      <!--?lit$0157429536$--><slot name="icon"></slot>
      <span class="label"><slot></slot></span>
      <!--?lit$0157429536$-->
    
    </button>
    </template>
          <md-icon slot="icon" aria-hidden="true"><template shadowrootmode="open"><!----><slot></slot></template>add</md-icon>
          <!--?lit$0157429536$-->Text
        </md-outlined-button>
        <!--?lit$0157429536$-->
      </div><hr>
    </div></div><div class="cell code icon-scrolling code-has-output" id="cell-OwdsW0yfpWPH" tabindex="-1" role="region" aria-label="Cell 32: Code cell: " style="opacity: 1;"><div class="cell-tag-editor sticky"></div><div class="cell-toolbar sticky"></div><div class="main-content" elevation="0"><div class="cell-contents"><div class="cell-mask"></div><span class="imported-info-area"></span><div class="codecell-input-output">
      <div class="inputarea horizontal layout code">
        <div class="cell-gutter">
          <!-- Bounding range for vertical scrolling of icons -->
          <div class="cell-execution-container">
            <colab-run-button title="Run cell (Ctrl+Enter)
cell executed since last change

executed by Srinivasulu K
1:50 PM (17 minutes ago)
executed in 0.4s" role="button" aria-label="Run cell"><template shadowrootmode="open"><!----> <div class="cell-execution">
      <div class="execution-count"><!--?lit$0157429536$-->[39]</div>
      <div class="cell-execution-indicator"> <!--?lit$0157429536$-->
<svg xmlns="http://www.w3.org/2000/svg" viewBox="0 0 24 24">
  <!--?lit$0157429536$-->
  <mask id="playSymbolMask">
    <rect width="100%" height="100%" fill="white"></rect>
    <polygon points="10,8 17,12 10,16" fill="black"></polygon>
  </mask>
  <circle cx="12" cy="12" r="7.8" mask="url(#playSymbolMask)" id="filledCircle"></circle>
</svg> </div>
      <!--?lit$0157429536$--><div id="status">
      <md-icon aria-hidden="true"><template shadowrootmode="open"><!----><slot></slot></template><!--?lit$0157429536$--><svg viewBox="0 0 24 24"><!--?lit$0157429536$--><path d="M9 16.17L4.83 12l-1.42 1.41L9 19 21 7l-1.41-1.41z"></path></svg></md-icon>
      <div><!--?lit$0157429536$-->0s</div>
    </div>
    </div></template></colab-run-button>
          </div>
        </div>
      <div class="editor flex lazy-editor" style=""><div class="editor flex monaco" data-keybinding-context="149" data-mode-id="notebook-python" style="height: 29px; --vscode-editorCodeLens-lineHeight: 16px; --vscode-editorCodeLens-fontSize: 12px; --vscode-editorCodeLens-fontFeatureSettings: &quot;liga&quot; off, &quot;calt&quot; off;"><div class="monaco-editor no-user-select  showUnused showDeprecated vs-dark" role="code" data-uri="inmemory://model/36" style="width: 1411px; height: 29px;"><div data-mprt="3" class="overflow-guard" style="width: 1411px; height: 29px;"><div class="margin" role="presentation" aria-hidden="true" style="position: absolute; contain: strict; will-change: unset; top: 0px; height: 29px; width: 6px;"><div class="glyph-margin" style="left: 0px; width: 0px; height: 29px;"></div><div class="margin-view-zones" role="presentation" aria-hidden="true" style="position: absolute;"></div><div class="margin-view-overlays" role="presentation" aria-hidden="true" style="position: absolute; font-family: monospace, Consolas, &quot;Courier New&quot;, monospace; font-weight: normal; font-size: 14px; font-feature-settings: &quot;liga&quot; 0, &quot;calt&quot; 0; font-variation-settings: normal; line-height: 19px; letter-spacing: 0px; width: 6px; height: 29px;"><div style="position:absolute;top:0px;width:100%;height:19px;"><div class="current-line current-line-margin-both" style="width:6px; height:19px;"></div></div></div><div class="glyph-margin-widgets" style="position: absolute; top: 0px;"></div></div><div class="monaco-scrollable-element editor-scrollable vs-dark" role="presentation" data-mprt="5" style="position: absolute; overflow: hidden; left: 6px; width: 1405px; height: 29px;"><div class="lines-content monaco-editor-background" style="position: absolute; overflow: hidden; width: 1e+06px; height: 29px; contain: strict; will-change: unset; top: 0px; left: 0px;"><div class="view-overlays" role="presentation" aria-hidden="true" style="position: absolute; font-family: monospace, Consolas, &quot;Courier New&quot;, monospace; font-weight: normal; font-size: 14px; font-feature-settings: &quot;liga&quot; 0, &quot;calt&quot; 0; font-variation-settings: normal; line-height: 19px; letter-spacing: 0px; height: 0px; width: 1405px;"><div style="position:absolute;top:0px;width:100%;height:19px;"><div class="current-line" style="width:1405px; height:19px;"></div></div></div><div role="presentation" aria-hidden="true" class="view-rulers"></div><div class="view-zones" role="presentation" aria-hidden="true" style="position: absolute;"></div><div class="view-lines monaco-mouse-cursor-text" role="presentation" aria-hidden="true" data-mprt="7" style="position: absolute; font-family: monospace, Consolas, &quot;Courier New&quot;, monospace; font-weight: normal; font-size: 14px; font-feature-settings: &quot;liga&quot; 0, &quot;calt&quot; 0; font-variation-settings: normal; line-height: 19px; letter-spacing: 0px; width: 1405px; height: 29px;"><div style="top:0px;height:19px;" class="view-line"><span><span class="mtk15">print</span><span class="mtk12 bracket-highlighting-0">(</span><span class="mtk1">augmented_fraud_transactions.head</span><span class="mtk12 bracket-highlighting-1">(</span><span class="mtk12 bracket-highlighting-1">)</span><span class="mtk12 bracket-highlighting-0">)</span></span></div></div><div data-mprt="1" class="contentWidgets" style="position: absolute; top: 0px;"></div><div role="presentation" aria-hidden="true" class="cursors-layer cursor-line-style cursor-solid"><div class="cursor monaco-mouse-cursor-text " style="height: 19px; top: 0px; left: 0px; font-family: monospace, Consolas, &quot;Courier New&quot;, monospace; font-weight: normal; font-size: 14px; font-feature-settings: &quot;liga&quot; 0, &quot;calt&quot; 0; font-variation-settings: normal; line-height: 19px; letter-spacing: 0px; display: block; visibility: hidden; padding-left: 0px; width: 1.6px;"></div></div></div><div role="presentation" aria-hidden="true" class="invisible scrollbar horizontal" style="position: absolute; width: 1391px; height: 10px; left: 0px; bottom: 0px;"><div class="slider" style="position: absolute; top: 0px; left: 0px; height: 10px; transform: translate3d(0px, 0px, 0px); contain: strict; will-change: unset; width: 1391px;"></div></div><canvas class="decorationsOverviewRuler" aria-hidden="true" width="17" height="36" style="position: absolute; transform: translate3d(0px, 0px, 0px); contain: strict; top: 0px; right: 0px; width: 14px; height: 29px; will-change: unset; display: block;"></canvas><div role="presentation" aria-hidden="true" class="invisible scrollbar vertical" style="position: absolute; width: 14px; height: 29px; right: 0px; top: 0px;"><div class="slider" style="position: absolute; top: 0px; left: 0px; width: 14px; transform: translate3d(0px, 0px, 0px); contain: strict; will-change: unset; height: 29px;"></div></div></div><div role="presentation" aria-hidden="true" style="width: 1411px;"></div><textarea data-mprt="6" class="inputarea monaco-mouse-cursor-text" wrap="on" autocorrect="off" autocapitalize="off" autocomplete="off" spellcheck="false" aria-label="Editor content;Press Alt+F1 for Accessibility Options." tabindex="0" role="textbox" aria-roledescription="editor" aria-multiline="true" aria-haspopup="false" aria-autocomplete="both" style="tab-size: 15.3984px; font-family: monospace, Consolas, &quot;Courier New&quot;, monospace; font-weight: normal; font-size: 14px; font-feature-settings: &quot;liga&quot; 0, &quot;calt&quot; 0; font-variation-settings: normal; line-height: 19px; letter-spacing: 0px; top: 0px; left: 6px; width: 1411px; height: 1px;"></textarea><div class="monaco-editor-background textAreaCover" style="position: absolute; top: 0px; left: 0px; width: 0px; height: 0px;"></div><div data-mprt="4" class="overlayWidgets" style="width: 1411px;"><div widgetid="editor.contrib.quickInputWidget" style="position: absolute; top: 0px; right: 50%;"></div></div><div data-mprt="8" class="minimap slider-mouseover" role="presentation" aria-hidden="true" style="position: absolute; left: 0px; width: 0px; height: 29px;"><div class="minimap-shadow-hidden" style="height: 29px;"></div><canvas width="0" height="36" style="position: absolute; left: 0px; width: 0px; height: 29px;"></canvas><canvas class="minimap-decorations-layer" width="0" height="36" style="position: absolute; left: 0px; width: 0px; height: 29px;"></canvas><div class="minimap-slider" style="position: absolute; transform: translate3d(0px, 0px, 0px); contain: strict; width: 0px; will-change: unset;"><div class="minimap-slider-horizontal" style="position: absolute; width: 0px; height: 0px;"></div></div></div><div role="presentation" aria-hidden="true" class="blockDecorations-container"></div></div><div data-mprt="2" class="overflowingContentWidgets"><div widgetid="editor.contrib.resizableContentHoverWidget" style="position: fixed; height: 10px; width: 10px; z-index: 50; display: none; visibility: hidden; max-width: 1536px;"><div class="monaco-sash vertical" style="left: 8px;"></div><div class="monaco-sash vertical" style="left: -2px;"></div><div class="monaco-sash orthogonal-edge-north horizontal" style="top: -2px;"><div class="orthogonal-drag-handle start"></div><div class="orthogonal-drag-handle end"></div></div><div class="monaco-sash orthogonal-edge-south horizontal" style="top: 8px;"><div class="orthogonal-drag-handle start"></div><div class="orthogonal-drag-handle end"></div></div><div class="monaco-hover hidden" tabindex="0" role="tooltip"><div class="monaco-scrollable-element " role="presentation" style="position: relative; overflow: hidden;"><div class="monaco-hover-content" style="overflow: hidden; font-size: 14px; line-height: 1.35714; max-width: 931.26px; max-height: 250px;"></div><div role="presentation" aria-hidden="true" class="invisible scrollbar horizontal" style="position: absolute;"><div class="slider" style="position: absolute; top: 0px; left: 0px; height: 10px; transform: translate3d(0px, 0px, 0px); contain: strict;"></div></div><div role="presentation" aria-hidden="true" class="invisible scrollbar vertical" style="position: absolute;"><div class="slider" style="position: absolute; top: 0px; left: 0px; width: 10px; transform: translate3d(0px, 0px, 0px); contain: strict;"></div></div><div class="shadow"></div><div class="shadow"></div><div class="shadow"></div></div></div></div></div><div class=".in-cell-overflowing"></div></div></div></div><colab-form class="formview vertical layout flex"><div class="widget-area vertical layout"></div></colab-form></div>
    <div class="output"><!----> <div class="output-header"> </div>
        <div class="output-content" style="">
          <div class="output-info"><colab-output-info title="Clear output

executed by Srinivasulu K
1:50 PM (0 minutes ago)
executed in 0.4s" hovering=""><template shadowrootmode="open"><!----> <md-icon class="collaborator output" alt="Execution output" aria-hidden="true"><template shadowrootmode="open"><!----><slot></slot></template><!--?lit$0157429536$-->output</md-icon>
      <!--?lit$0157429536$--> <mwc-icon-button icon="cancel" command="clear-focused-or-selected-outputs" alt="Clear output"><template shadowrootmode="open"><!----><button class="mdc-icon-button mdc-icon-button--display-flex" aria-label="cancel"><!--?lit$0157429536$-->
    <!--?lit$0157429536$--><i class="material-icons"><!--?lit$0157429536$-->cancel</i>
    <span><slot></slot></span>
  </button></template>
          </mwc-icon-button><!--?--></template></colab-output-info></div>
          <div class="output-iframe-container">
            <div class="output-iframe-sizer" style="min-height: 0px;"> <div><div><colab-static-output-renderer tabindex="0" role="group"><div><div class="stream output-id-1 output_text"><pre>Empty DataFrame
Columns: [Time, V1, V2, V3, V4, V5, V6, V7, V8, V9, V10, V11, V12, V13, V14, V15, V16, V17, V18, V19, V20, V21, V22, V23, V24, V25, V26, V27, V28, Amount, Anomaly, Class]
Index: []

[0 rows x 32 columns]
</pre></div></div><div></div></colab-static-output-renderer></div></div></div>
          </div>
        </div></div></div><colab-cell-next-steps><template shadowrootmode="open"><!----></template></colab-cell-next-steps></div></div><div class="add-cell">
      <div class="add-cell-buttons">
        <md-outlined-button class="add-code add-button" aria-label="Add code cell
Ctrl+M B" title="Add code cell
Ctrl+M B" role="presentation" value="" has-icon=""><template shadowrootmode="open" shadowrootdelegatesfocus><!---->
      <!--?lit$0157429536$--><div class="outline"></div>
      <div class="background"></div>
      <md-focus-ring part="focus-ring" for="button" aria-hidden="true"><template shadowrootmode="open"><!----></template></md-focus-ring>
      <md-ripple for="button" aria-hidden="true"><template shadowrootmode="open"><!----><div class="surface"></div></template></md-ripple>
      <!--?lit$0157429536$--><button id="button" class="button" aria-label="Add code cell
Ctrl+M B">
      <!--?lit$0157429536$-->
      <span class="touch"></span>
      <!--?lit$0157429536$--><slot name="icon"></slot>
      <span class="label"><slot></slot></span>
      <!--?lit$0157429536$-->
    
    </button>
    </template>
          <md-icon slot="icon" aria-hidden="true"><template shadowrootmode="open"><!----><slot></slot></template>add</md-icon>
          <!--?lit$0157429536$-->Code
        </md-outlined-button>
        <md-outlined-button class="add-text add-button" aria-label="Add text cell" title="Add text cell" role="presentation" value="" has-icon=""><template shadowrootmode="open" shadowrootdelegatesfocus><!---->
      <!--?lit$0157429536$--><div class="outline"></div>
      <div class="background"></div>
      <md-focus-ring part="focus-ring" for="button" aria-hidden="true"><template shadowrootmode="open"><!----></template></md-focus-ring>
      <md-ripple for="button" aria-hidden="true"><template shadowrootmode="open"><!----><div class="surface   "></div></template></md-ripple>
      <!--?lit$0157429536$--><button id="button" class="button" aria-label="Add text cell">
      <!--?lit$0157429536$-->
      <span class="touch"></span>
      <!--?lit$0157429536$--><slot name="icon"></slot>
      <span class="label"><slot></slot></span>
      <!--?lit$0157429536$-->
    
    </button>
    </template>
          <md-icon slot="icon" aria-hidden="true"><template shadowrootmode="open"><!----><slot></slot></template>add</md-icon>
          <!--?lit$0157429536$-->Text
        </md-outlined-button>
        <!--?lit$0157429536$-->
      </div><hr>
    </div></div><div class="cell code icon-scrolling code-has-output" id="cell-DwkLCxpMpbJh" tabindex="-1" role="region" aria-label="Cell 33: Code cell: " style="opacity: 1;"><div class="cell-tag-editor sticky"></div><div class="cell-toolbar sticky"></div><div class="main-content" elevation="0"><div class="cell-contents"><div class="cell-mask"></div><span class="imported-info-area"></span><div class="codecell-input-output">
      <div class="inputarea horizontal layout code">
        <div class="cell-gutter">
          <!-- Bounding range for vertical scrolling of icons -->
          <div class="cell-execution-container">
            <colab-run-button title="Run cell (Ctrl+Enter)
cell executed since last change

executed by Srinivasulu K
1:51 PM (17 minutes ago)
executed in 0.418s" role="button" aria-label="Run cell"><template shadowrootmode="open"><!----> <div class="cell-execution">
      <div class="execution-count"><!--?lit$0157429536$-->[40]</div>
      <div class="cell-execution-indicator"> <!--?lit$0157429536$-->
<svg xmlns="http://www.w3.org/2000/svg" viewBox="0 0 24 24">
  <!--?lit$0157429536$-->
  <mask id="playSymbolMask">
    <rect width="100%" height="100%" fill="white"></rect>
    <polygon points="10,8 17,12 10,16" fill="black"></polygon>
  </mask>
  <circle cx="12" cy="12" r="7.8" mask="url(#playSymbolMask)" id="filledCircle"></circle>
</svg> </div>
      <!--?lit$0157429536$--><div id="status">
      <md-icon aria-hidden="true"><template shadowrootmode="open"><!----><slot></slot></template><!--?lit$0157429536$--><svg viewBox="0 0 24 24"><!--?lit$0157429536$--><path d="M9 16.17L4.83 12l-1.42 1.41L9 19 21 7l-1.41-1.41z"></path></svg></md-icon>
      <div><!--?lit$0157429536$-->0s</div>
    </div>
    </div></template></colab-run-button>
          </div>
        </div>
      <div class="editor flex lazy-editor" style=""><div class="editor flex monaco" data-keybinding-context="148" data-mode-id="notebook-python" style="height: 29px; --vscode-editorCodeLens-lineHeight: 16px; --vscode-editorCodeLens-fontSize: 12px; --vscode-editorCodeLens-fontFeatureSettings: &quot;liga&quot; off, &quot;calt&quot; off;"><div class="monaco-editor no-user-select  showUnused showDeprecated vs-dark" role="code" data-uri="inmemory://model/37" style="width: 1411px; height: 29px;"><div data-mprt="3" class="overflow-guard" style="width: 1411px; height: 29px;"><div class="margin" role="presentation" aria-hidden="true" style="position: absolute; contain: strict; will-change: unset; top: 0px; height: 29px; width: 6px;"><div class="glyph-margin" style="left: 0px; width: 0px; height: 29px;"></div><div class="margin-view-zones" role="presentation" aria-hidden="true" style="position: absolute;"></div><div class="margin-view-overlays" role="presentation" aria-hidden="true" style="position: absolute; font-family: monospace, Consolas, &quot;Courier New&quot;, monospace; font-weight: normal; font-size: 14px; font-feature-settings: &quot;liga&quot; 0, &quot;calt&quot; 0; font-variation-settings: normal; line-height: 19px; letter-spacing: 0px; width: 6px; height: 29px;"><div style="position:absolute;top:0px;width:100%;height:19px;"><div class="current-line current-line-margin-both" style="width:6px; height:19px;"></div></div></div><div class="glyph-margin-widgets" style="position: absolute; top: 0px;"></div></div><div class="monaco-scrollable-element editor-scrollable vs-dark" role="presentation" data-mprt="5" style="position: absolute; overflow: hidden; left: 6px; width: 1405px; height: 29px;"><div class="lines-content monaco-editor-background" style="position: absolute; overflow: hidden; width: 1e+06px; height: 29px; contain: strict; will-change: unset; top: 0px; left: 0px;"><div class="view-overlays" role="presentation" aria-hidden="true" style="position: absolute; font-family: monospace, Consolas, &quot;Courier New&quot;, monospace; font-weight: normal; font-size: 14px; font-feature-settings: &quot;liga&quot; 0, &quot;calt&quot; 0; font-variation-settings: normal; line-height: 19px; letter-spacing: 0px; height: 0px; width: 1405px;"><div style="position:absolute;top:0px;width:100%;height:19px;"><div class="current-line" style="width:1405px; height:19px;"></div></div></div><div role="presentation" aria-hidden="true" class="view-rulers"></div><div class="view-zones" role="presentation" aria-hidden="true" style="position: absolute;"></div><div class="view-lines monaco-mouse-cursor-text" role="presentation" aria-hidden="true" data-mprt="7" style="position: absolute; font-family: monospace, Consolas, &quot;Courier New&quot;, monospace; font-weight: normal; font-size: 14px; font-feature-settings: &quot;liga&quot; 0, &quot;calt&quot; 0; font-variation-settings: normal; line-height: 19px; letter-spacing: 0px; width: 1405px; height: 29px;"><div style="top:0px;height:19px;" class="view-line"><span><span class="mtk1">balanced_dataset.head</span><span class="mtk12 bracket-highlighting-0">(</span><span class="mtk12 bracket-highlighting-0">)</span></span></div></div><div data-mprt="1" class="contentWidgets" style="position: absolute; top: 0px;"></div><div role="presentation" aria-hidden="true" class="cursors-layer cursor-line-style cursor-solid"><div class="cursor monaco-mouse-cursor-text " style="height: 19px; top: 0px; left: 0px; font-family: monospace, Consolas, &quot;Courier New&quot;, monospace; font-weight: normal; font-size: 14px; font-feature-settings: &quot;liga&quot; 0, &quot;calt&quot; 0; font-variation-settings: normal; line-height: 19px; letter-spacing: 0px; display: block; visibility: hidden; padding-left: 0px; width: 1.6px;"></div></div></div><div role="presentation" aria-hidden="true" class="invisible scrollbar horizontal" style="position: absolute; width: 1391px; height: 10px; left: 0px; bottom: 0px;"><div class="slider" style="position: absolute; top: 0px; left: 0px; height: 10px; transform: translate3d(0px, 0px, 0px); contain: strict; will-change: unset; width: 1391px;"></div></div><canvas class="decorationsOverviewRuler" aria-hidden="true" width="17" height="36" style="position: absolute; transform: translate3d(0px, 0px, 0px); contain: strict; top: 0px; right: 0px; width: 14px; height: 29px; will-change: unset; display: block;"></canvas><div role="presentation" aria-hidden="true" class="invisible scrollbar vertical" style="position: absolute; width: 14px; height: 29px; right: 0px; top: 0px;"><div class="slider" style="position: absolute; top: 0px; left: 0px; width: 14px; transform: translate3d(0px, 0px, 0px); contain: strict; will-change: unset; height: 29px;"></div></div></div><div role="presentation" aria-hidden="true" style="width: 1411px;"></div><textarea data-mprt="6" class="inputarea monaco-mouse-cursor-text" wrap="on" autocorrect="off" autocapitalize="off" autocomplete="off" spellcheck="false" aria-label="Editor content;Press Alt+F1 for Accessibility Options." tabindex="0" role="textbox" aria-roledescription="editor" aria-multiline="true" aria-haspopup="false" aria-autocomplete="both" style="tab-size: 15.3984px; font-family: monospace, Consolas, &quot;Courier New&quot;, monospace; font-weight: normal; font-size: 14px; font-feature-settings: &quot;liga&quot; 0, &quot;calt&quot; 0; font-variation-settings: normal; line-height: 19px; letter-spacing: 0px; top: 0px; left: 6px; width: 1411px; height: 1px;"></textarea><div class="monaco-editor-background textAreaCover" style="position: absolute; top: 0px; left: 0px; width: 0px; height: 0px;"></div><div data-mprt="4" class="overlayWidgets" style="width: 1411px;"><div widgetid="editor.contrib.quickInputWidget" style="position: absolute; top: 0px; right: 50%;"></div></div><div data-mprt="8" class="minimap slider-mouseover" role="presentation" aria-hidden="true" style="position: absolute; left: 0px; width: 0px; height: 29px;"><div class="minimap-shadow-hidden" style="height: 29px;"></div><canvas width="0" height="36" style="position: absolute; left: 0px; width: 0px; height: 29px;"></canvas><canvas class="minimap-decorations-layer" width="0" height="36" style="position: absolute; left: 0px; width: 0px; height: 29px;"></canvas><div class="minimap-slider" style="position: absolute; transform: translate3d(0px, 0px, 0px); contain: strict; width: 0px; will-change: unset;"><div class="minimap-slider-horizontal" style="position: absolute; width: 0px; height: 0px;"></div></div></div><div role="presentation" aria-hidden="true" class="blockDecorations-container"></div></div><div data-mprt="2" class="overflowingContentWidgets"><div widgetid="editor.contrib.resizableContentHoverWidget" style="position: fixed; height: 10px; width: 10px; z-index: 50; display: none; visibility: hidden; max-width: 1536px;"><div class="monaco-sash vertical" style="left: 8px;"></div><div class="monaco-sash vertical" style="left: -2px;"></div><div class="monaco-sash orthogonal-edge-north horizontal" style="top: -2px;"><div class="orthogonal-drag-handle start"></div><div class="orthogonal-drag-handle end"></div></div><div class="monaco-sash orthogonal-edge-south horizontal" style="top: 8px;"><div class="orthogonal-drag-handle start"></div><div class="orthogonal-drag-handle end"></div></div><div class="monaco-hover hidden" tabindex="0" role="tooltip"><div class="monaco-scrollable-element " role="presentation" style="position: relative; overflow: hidden;"><div class="monaco-hover-content" style="overflow: hidden; font-size: 14px; line-height: 1.35714; max-width: 931.26px; max-height: 250px;"></div><div role="presentation" aria-hidden="true" class="invisible scrollbar horizontal" style="position: absolute;"><div class="slider" style="position: absolute; top: 0px; left: 0px; height: 10px; transform: translate3d(0px, 0px, 0px); contain: strict;"></div></div><div role="presentation" aria-hidden="true" class="invisible scrollbar vertical" style="position: absolute;"><div class="slider" style="position: absolute; top: 0px; left: 0px; width: 10px; transform: translate3d(0px, 0px, 0px); contain: strict;"></div></div><div class="shadow"></div><div class="shadow"></div><div class="shadow"></div></div></div></div></div><div class=".in-cell-overflowing"></div></div></div></div><colab-form class="formview vertical layout flex"><div class="widget-area vertical layout"></div></colab-form></div>
    <div class="output"><!----> <div class="output-header"> </div>
        <div class="output-content" style="">
          <div class="output-info"><colab-output-info title="Clear output

executed by Srinivasulu K
1:51 PM (0 minutes ago)
executed in 0.418s" hovering=""><template shadowrootmode="open"><!----> <md-icon class="collaborator output" alt="Execution output" aria-hidden="true"><template shadowrootmode="open"><!----><slot></slot></template><!--?lit$0157429536$-->output</md-icon>
      <!--?lit$0157429536$--> <mwc-icon-button icon="cancel" command="clear-focused-or-selected-outputs" alt="Clear output"><template shadowrootmode="open"><!----><button class="mdc-icon-button mdc-icon-button--display-flex" aria-label="cancel"><!--?lit$0157429536$-->
    <!--?lit$0157429536$--><i class="material-icons"><!--?lit$0157429536$-->cancel</i>
    <span><slot></slot></span>
  </button></template>
          </mwc-icon-button><!--?--></template></colab-output-info></div>
          <div class="output-iframe-container">
            <div class="output-iframe-sizer" style="min-height: 0px;"> <div><div class="outputview" style="height: 255px;"><colab-dom-lifecycle-events style="display: none;"></colab-dom-lifecycle-events><iframe allow="accelerometer; autoplay; camera; gyroscope; magnetometer; microphone; serial; usb; xr-spatial-tracking; clipboard-write" sandbox="allow-downloads allow-forms allow-pointer-lock allow-popups allow-same-origin allow-scripts allow-storage-access-by-user-activation allow-modals allow-popups-to-escape-sandbox" src="./CreditCardFraudDetection_files/outputframe(3).html" class="" style="height: 255px;"></iframe></div></div></div>
          </div>
        </div></div></div><colab-cell-next-steps><template shadowrootmode="open"><!----></template></colab-cell-next-steps></div></div><div class="add-cell">
      <div class="add-cell-buttons">
        <md-outlined-button class="add-code add-button" aria-label="Add code cell
Ctrl+M B" title="Add code cell
Ctrl+M B" role="presentation" value="" has-icon=""><template shadowrootmode="open" shadowrootdelegatesfocus><!---->
      <!--?lit$0157429536$--><div class="outline"></div>
      <div class="background"></div>
      <md-focus-ring part="focus-ring" for="button" aria-hidden="true"><template shadowrootmode="open"><!----></template></md-focus-ring>
      <md-ripple for="button" aria-hidden="true"><template shadowrootmode="open"><!----><div class="surface"></div></template></md-ripple>
      <!--?lit$0157429536$--><button id="button" class="button" aria-label="Add code cell
Ctrl+M B">
      <!--?lit$0157429536$-->
      <span class="touch"></span>
      <!--?lit$0157429536$--><slot name="icon"></slot>
      <span class="label"><slot></slot></span>
      <!--?lit$0157429536$-->
    
    </button>
    </template>
          <md-icon slot="icon" aria-hidden="true"><template shadowrootmode="open"><!----><slot></slot></template>add</md-icon>
          <!--?lit$0157429536$-->Code
        </md-outlined-button>
        <md-outlined-button class="add-text add-button" aria-label="Add text cell" title="Add text cell" role="presentation" value="" has-icon=""><template shadowrootmode="open" shadowrootdelegatesfocus><!---->
      <!--?lit$0157429536$--><div class="outline"></div>
      <div class="background"></div>
      <md-focus-ring part="focus-ring" for="button" aria-hidden="true"><template shadowrootmode="open"><!----></template></md-focus-ring>
      <md-ripple for="button" aria-hidden="true"><template shadowrootmode="open"><!----><div class="surface   "></div></template></md-ripple>
      <!--?lit$0157429536$--><button id="button" class="button" aria-label="Add text cell">
      <!--?lit$0157429536$-->
      <span class="touch"></span>
      <!--?lit$0157429536$--><slot name="icon"></slot>
      <span class="label"><slot></slot></span>
      <!--?lit$0157429536$-->
    
    </button>
    </template>
          <md-icon slot="icon" aria-hidden="true"><template shadowrootmode="open"><!----><slot></slot></template>add</md-icon>
          <!--?lit$0157429536$-->Text
        </md-outlined-button>
        <!--?lit$0157429536$-->
      </div><hr>
    </div></div><div class="cell code icon-scrolling code-has-output" id="cell-rVtMITL_pjjA" tabindex="-1" role="region" aria-label="Cell 34: Code cell: " style="opacity: 1;"><div class="cell-tag-editor sticky"></div><div class="cell-toolbar sticky"></div><div class="main-content" elevation="0"><div class="cell-contents"><div class="cell-mask"></div><span class="imported-info-area"></span><div class="codecell-input-output">
      <div class="inputarea horizontal layout code">
        <div class="cell-gutter">
          <!-- Bounding range for vertical scrolling of icons -->
          <div class="cell-execution-container">
            <colab-run-button title="Run cell (Ctrl+Enter)
cell executed since last change

executed by Srinivasulu K
1:51 PM (16 minutes ago)
executed in 0.477s" role="button" aria-label="Run cell"><template shadowrootmode="open"><!----> <div class="cell-execution">
      <div class="execution-count"><!--?lit$0157429536$-->[41]</div>
      <div class="cell-execution-indicator"> <!--?lit$0157429536$-->
<svg xmlns="http://www.w3.org/2000/svg" viewBox="0 0 24 24">
  <!--?lit$0157429536$-->
  <mask id="playSymbolMask">
    <rect width="100%" height="100%" fill="white"></rect>
    <polygon points="10,8 17,12 10,16" fill="black"></polygon>
  </mask>
  <circle cx="12" cy="12" r="7.8" mask="url(#playSymbolMask)" id="filledCircle"></circle>
</svg> </div>
      <!--?lit$0157429536$--><div id="status">
      <md-icon aria-hidden="true"><template shadowrootmode="open"><!----><slot></slot></template><!--?lit$0157429536$--><svg viewBox="0 0 24 24"><!--?lit$0157429536$--><path d="M9 16.17L4.83 12l-1.42 1.41L9 19 21 7l-1.41-1.41z"></path></svg></md-icon>
      <div><!--?lit$0157429536$-->0s</div>
    </div>
    </div></template></colab-run-button>
          </div>
        </div>
      <div class="editor flex lazy-editor" style=""><pre class="lazy-virtualized" style="font-size: 14px; line-height: 19px;"><pre class="lazy-gutter"></pre><pre class="monaco-colorized colab-dark colab-dark colab-dark colab-dark colab-dark" data-lang="notebook-python"><span><span></span></span><br><span><span class="mtk1">balanced_dataset.tail</span><span class="mtk12">()</span></span><br></pre><colab-read-only-cell-placeholder style="display: none;"><template shadowrootmode="open"><!----><div><!--?lit$0157429536$-->Start coding or <span tabindex="0" role="button" class="link">generate</span> with AI.</div></template></colab-read-only-cell-placeholder></pre></div><colab-form class="formview vertical layout flex"><div class="widget-area vertical layout"></div></colab-form></div>
    <div class="output"><!----> <div class="output-header"> </div>
        <div class="output-content" style="">
          <div class="output-info"><colab-output-info title="Clear output

executed by Srinivasulu K
1:51 PM (0 minutes ago)
executed in 0.477s" hovering=""><template shadowrootmode="open"><!----> <md-icon class="collaborator output" alt="Execution output" aria-hidden="true"><template shadowrootmode="open"><!----><slot></slot></template><!--?lit$0157429536$-->output</md-icon>
      <!--?lit$0157429536$--> <mwc-icon-button icon="cancel" command="clear-focused-or-selected-outputs" alt="Clear output"><template shadowrootmode="open"><!----><button class="mdc-icon-button mdc-icon-button--display-flex" aria-label="cancel"><!--?lit$0157429536$-->
    <!--?lit$0157429536$--><i class="material-icons"><!--?lit$0157429536$-->cancel</i>
    <span><slot></slot></span>
  </button></template>
          </mwc-icon-button><!--?--></template></colab-output-info></div>
          <div class="output-iframe-container">
            <div class="output-iframe-sizer" style="min-height: 0px;"> <div><div class="outputview" style="height: 255px;"><colab-dom-lifecycle-events style="display: none;"></colab-dom-lifecycle-events><iframe allow="accelerometer; autoplay; camera; gyroscope; magnetometer; microphone; serial; usb; xr-spatial-tracking; clipboard-write" sandbox="allow-downloads allow-forms allow-pointer-lock allow-popups allow-same-origin allow-scripts allow-storage-access-by-user-activation allow-modals allow-popups-to-escape-sandbox" src="./CreditCardFraudDetection_files/outputframe(4).html" class="" style="height: 255px;"></iframe></div></div></div>
          </div>
        </div></div></div><colab-cell-next-steps><template shadowrootmode="open"><!----></template></colab-cell-next-steps></div></div><div class="add-cell">
      <div class="add-cell-buttons">
        <md-outlined-button class="add-code add-button" aria-label="Add code cell
Ctrl+M B" title="Add code cell
Ctrl+M B" role="presentation" value="" has-icon=""><template shadowrootmode="open" shadowrootdelegatesfocus><!---->
      <!--?lit$0157429536$--><div class="outline"></div>
      <div class="background"></div>
      <md-focus-ring part="focus-ring" for="button" aria-hidden="true"><template shadowrootmode="open"><!----></template></md-focus-ring>
      <md-ripple for="button" aria-hidden="true"><template shadowrootmode="open"><!----><div class="surface"></div></template></md-ripple>
      <!--?lit$0157429536$--><button id="button" class="button" aria-label="Add code cell
Ctrl+M B">
      <!--?lit$0157429536$-->
      <span class="touch"></span>
      <!--?lit$0157429536$--><slot name="icon"></slot>
      <span class="label"><slot></slot></span>
      <!--?lit$0157429536$-->
    
    </button>
    </template>
          <md-icon slot="icon" aria-hidden="true"><template shadowrootmode="open"><!----><slot></slot></template>add</md-icon>
          <!--?lit$0157429536$-->Code
        </md-outlined-button>
        <md-outlined-button class="add-text add-button" aria-label="Add text cell" title="Add text cell" role="presentation" value="" has-icon=""><template shadowrootmode="open" shadowrootdelegatesfocus><!---->
      <!--?lit$0157429536$--><div class="outline"></div>
      <div class="background"></div>
      <md-focus-ring part="focus-ring" for="button" aria-hidden="true"><template shadowrootmode="open"><!----></template></md-focus-ring>
      <md-ripple for="button" aria-hidden="true"><template shadowrootmode="open"><!----><div class="surface"></div></template></md-ripple>
      <!--?lit$0157429536$--><button id="button" class="button" aria-label="Add text cell">
      <!--?lit$0157429536$-->
      <span class="touch"></span>
      <!--?lit$0157429536$--><slot name="icon"></slot>
      <span class="label"><slot></slot></span>
      <!--?lit$0157429536$-->
    
    </button>
    </template>
          <md-icon slot="icon" aria-hidden="true"><template shadowrootmode="open"><!----><slot></slot></template>add</md-icon>
          <!--?lit$0157429536$-->Text
        </md-outlined-button>
        <!--?lit$0157429536$-->
      </div><hr>
    </div></div><div class="cell text" id="cell-Hx0o2Cp6pqS5" tabindex="-1" role="region" aria-label="Cell 35: Text cell: " style="opacity: 1;"><div class="cell-tag-editor sticky"></div><div class="cell-toolbar sticky"></div><div class="main-content" elevation="0"><div class="cell-contents"><div class="cell-mask"></div><span class="imported-info-area"></span><!----> <div class="toolbar-root"><div class="markdown-toolbar"><!----><!--?lit$0157429536$--><!----><mwc-icon-button class="markdown-toolbar-header" title="Toggle heading"><template shadowrootmode="open"><!----><button class="mdc-icon-button mdc-icon-button--display-flex" aria-label=""><!--?lit$0157429536$-->
    <!--?lit$0157429536$-->
    <span><slot></slot></span>
  </button></template>
    <!--?lit$0157429536$--><md-icon aria-hidden="true"><template shadowrootmode="open"><!----><slot></slot></template><!--?lit$0157429536$-->format_size</md-icon>
  </mwc-icon-button><!----><!----><mwc-icon-button class="markdown-toolbar-bold" title="Bold"><template shadowrootmode="open"><!----><button class="mdc-icon-button mdc-icon-button--display-flex" aria-label=""><!--?lit$0157429536$-->
    <!--?lit$0157429536$-->
    <span><slot></slot></span>
  </button></template>
    <!--?lit$0157429536$--><md-icon aria-hidden="true"><template shadowrootmode="open"><!----><slot></slot></template><!--?lit$0157429536$-->format_bold</md-icon>
  </mwc-icon-button><!----><!----><mwc-icon-button class="markdown-toolbar-italic" title="Italicize"><template shadowrootmode="open"><!----><button class="mdc-icon-button mdc-icon-button--display-flex" aria-label=""><!--?lit$0157429536$-->
    <!--?lit$0157429536$-->
    <span><slot></slot></span>
  </button></template>
    <!--?lit$0157429536$--><md-icon aria-hidden="true"><template shadowrootmode="open"><!----><slot></slot></template><!--?lit$0157429536$-->format_italic</md-icon>
  </mwc-icon-button><!----><!----><mwc-icon-button class="markdown-toolbar-code" title="Format as code"><template shadowrootmode="open"><!----><button class="mdc-icon-button mdc-icon-button--display-flex" aria-label=""><!--?lit$0157429536$-->
    <!--?lit$0157429536$-->
    <span><slot></slot></span>
  </button></template>
    <!--?lit$0157429536$--><md-icon aria-hidden="true"><template shadowrootmode="open"><!----><slot></slot></template><!--?lit$0157429536$-->code</md-icon>
  </mwc-icon-button><!----><!----><mwc-icon-button class="markdown-toolbar-link" title="Insert link"><template shadowrootmode="open"><!----><button class="mdc-icon-button mdc-icon-button--display-flex" aria-label=""><!--?lit$0157429536$-->
    <!--?lit$0157429536$-->
    <span><slot></slot></span>
  </button></template>
    <!--?lit$0157429536$--><md-icon aria-hidden="true"><template shadowrootmode="open"><!----><slot></slot></template><!--?lit$0157429536$-->link</md-icon>
  </mwc-icon-button><!----><!----><label for="markdown-image-input" class="colab-icon markdown-insert-image"><span role="button" tabindex="0" title="Insert image" aria-label="Insert image"><md-icon aria-hidden="true"><template shadowrootmode="open"><!----><slot></slot></template>image</md-icon></span></label><input id="markdown-image-input" type="file" multiple="" accept="image/*"><!----><!----><mwc-icon-button class="markdown-toolbar-blockquote" title="Add blockquote"><template shadowrootmode="open"><!----><button class="mdc-icon-button mdc-icon-button--display-flex" aria-label=""><!--?lit$0157429536$-->
    <!--?lit$0157429536$-->
    <span><slot></slot></span>
  </button></template>
    <!--?lit$0157429536$--><md-icon aria-hidden="true"><template shadowrootmode="open"><!----><slot></slot></template><!--?lit$0157429536$-->format_quote</md-icon>
  </mwc-icon-button><!----><!----><mwc-icon-button class="markdown-toolbar-ol" title="Add numbered list"><template shadowrootmode="open"><!----><button class="mdc-icon-button mdc-icon-button--display-flex" aria-label=""><!--?lit$0157429536$-->
    <!--?lit$0157429536$-->
    <span><slot></slot></span>
  </button></template>
    <!--?lit$0157429536$--><md-icon aria-hidden="true"><template shadowrootmode="open"><!----><slot></slot></template><!--?lit$0157429536$-->format_list_numbered</md-icon>
  </mwc-icon-button><!----><!----><mwc-icon-button class="markdown-toolbar-ul" title="Add bulleted list"><template shadowrootmode="open"><!----><button class="mdc-icon-button mdc-icon-button--display-flex" aria-label=""><!--?lit$0157429536$-->
            <mwc-ripple unbounded=""><template shadowrootmode="open"><!---->
        <div class="mdc-ripple-surface mdc-ripple-upgraded mdc-ripple-upgraded--unbounded" style="--mdc-ripple-fg-scale: 1.6666666666666667; --mdc-ripple-fg-size: 24px; --mdc-ripple-left: 8px; --mdc-ripple-top: 8px;"></div></template>
            </mwc-ripple>
    <!--?lit$0157429536$-->
    <span><slot></slot></span>
  </button></template>
    <!--?lit$0157429536$--><md-icon aria-hidden="true"><template shadowrootmode="open"><!----><slot></slot></template><!--?lit$0157429536$-->format_list_bulleted</md-icon>
  </mwc-icon-button><!----><!----><mwc-icon-button class="markdown-toolbar-hr" title="Add horizontal rule"><template shadowrootmode="open"><!----><button class="mdc-icon-button mdc-icon-button--display-flex" aria-label=""><!--?lit$0157429536$-->
            <mwc-ripple unbounded=""><template shadowrootmode="open"><!---->
        <div class="mdc-ripple-surface mdc-ripple-upgraded mdc-ripple-upgraded--unbounded" style="--mdc-ripple-fg-scale: 1.6666666666666667; --mdc-ripple-fg-size: 24px; --mdc-ripple-left: 8px; --mdc-ripple-top: 8px;"></div></template>
            </mwc-ripple>
    <!--?lit$0157429536$-->
    <span><slot></slot></span>
  </button></template>
    <!--?lit$0157429536$--><md-icon aria-hidden="true"><template shadowrootmode="open"><!----><slot></slot></template><!--?lit$0157429536$-->horizontal_rule</md-icon>
  </mwc-icon-button><!----><!----><mwc-icon-button class="latex" title="LaTeX"><template shadowrootmode="open"><!----><button class="mdc-icon-button mdc-icon-button--display-flex" aria-label=""><!--?lit$0157429536$-->
            <mwc-ripple unbounded=""><template shadowrootmode="open"><!---->
        <div class="mdc-ripple-surface mdc-ripple-upgraded mdc-ripple-upgraded--unbounded" style="--mdc-ripple-fg-scale: 1.6666666666666667; --mdc-ripple-fg-size: 24px; --mdc-ripple-left: 8px; --mdc-ripple-top: 8px;"></div></template>
            </mwc-ripple>
    <!--?lit$0157429536$-->
    <span><slot></slot></span>
  </button></template>
    <!--?lit$0157429536$--><span>ψ</span>
  </mwc-icon-button><!----><!----><mwc-icon-button title="Insert emoji"><template shadowrootmode="open"><!----><button class="mdc-icon-button mdc-icon-button--display-flex" aria-label=""><!--?lit$0157429536$-->
            <mwc-ripple unbounded=""><template shadowrootmode="open"><!---->
        <div class="mdc-ripple-surface mdc-ripple-upgraded mdc-ripple-upgraded--unbounded" style="--mdc-ripple-fg-scale: 1.6666666666666667; --mdc-ripple-fg-size: 24px; --mdc-ripple-left: 8px; --mdc-ripple-top: 8px;"></div></template>
            </mwc-ripple>
    <!--?lit$0157429536$-->
    <span><slot></slot></span>
  </button></template>
    <!--?lit$0157429536$--><md-icon aria-hidden="true"><template shadowrootmode="open"><!----><slot></slot></template><!--?lit$0157429536$-->mood</md-icon>
  </mwc-icon-button><!----><!----><mwc-icon-button class="markdown-toolbar-preview" title="Reposition markdown preview"><template shadowrootmode="open"><!----><button class="mdc-icon-button mdc-icon-button--display-flex" aria-label=""><!--?lit$0157429536$-->
            <mwc-ripple unbounded=""><template shadowrootmode="open"><!---->
        <div class="mdc-ripple-surface mdc-ripple-upgraded mdc-ripple-upgraded--unbounded" style="--mdc-ripple-fg-scale: 1.6666666666666667; --mdc-ripple-fg-size: 24px; --mdc-ripple-left: 8px; --mdc-ripple-top: 8px;"></div></template>
            </mwc-ripple>
    <!--?lit$0157429536$-->
    <span><slot></slot></span>
  </button></template>
    <!--?lit$0157429536$--><md-icon aria-hidden="true"><template shadowrootmode="open"><!----><slot></slot></template><!--?lit$0157429536$--><svg viewBox="0 0 24 24"><!--?lit$0157429536$--><g id="markdown-preview-below">
  <rect width="20" height="18" x="2" y="2" rx="2" ry="2" style="fill:none;stroke:var(--colab-icon-color)"></rect>
  <line x1="4.5" y1="13" x2="19.5" y2="13" style="stroke:var(--colab-primary-text-color);stroke-dasharray:2"></line>
  <line x1="2.5" y1="4" x2="21.5" y2="4" style="stroke:var(--colab-icon-color);stroke-width:3px;"></line>
</g></svg></md-icon>
  </mwc-icon-button><!----><!--?--></div></div>
      <div class="editor-container horizontal">
        <div class="editor-root"><div class="editor flex monaco" data-keybinding-context="46" data-mode-id="markdown" style="height: 48px; --vscode-editorCodeLens-lineHeight: 16px; --vscode-editorCodeLens-fontSize: 12px; --vscode-editorCodeLens-fontFeatureSettings: &quot;liga&quot; off, &quot;calt&quot; off; display: none;"><div class="monaco-editor no-user-select  showUnused showDeprecated vs-dark" role="code" data-uri="inmemory://model/39" style="width: 729px; height: 48px;"><div data-mprt="3" class="overflow-guard" style="width: 729px; height: 48px;"><div class="margin" role="presentation" aria-hidden="true" style="position: absolute; contain: strict; will-change: unset; top: 0px; height: 48px; width: 6px;"><div class="glyph-margin" style="left: 0px; width: 0px; height: 48px;"></div><div class="margin-view-zones" role="presentation" aria-hidden="true" style="position: absolute;"></div><div class="margin-view-overlays" role="presentation" aria-hidden="true" style="position: absolute; font-family: monospace, Consolas, &quot;Courier New&quot;, monospace; font-weight: normal; font-size: 14px; font-feature-settings: &quot;liga&quot; 0, &quot;calt&quot; 0; font-variation-settings: normal; line-height: 19px; letter-spacing: 0px; width: 6px; height: 48px;"><div style="position:absolute;top:0px;width:100%;height:19px;"></div><div style="position:absolute;top:19px;width:100%;height:19px;"><div class="current-line current-line-margin-both" style="width:6px; height:19px;"></div></div></div><div class="glyph-margin-widgets" style="position: absolute; top: 0px;"></div></div><div class="monaco-scrollable-element editor-scrollable vs-dark" role="presentation" data-mprt="5" style="position: absolute; overflow: hidden; left: 6px; width: 723px; height: 48px;"><div class="lines-content monaco-editor-background" style="position: absolute; overflow: hidden; width: 1e+06px; height: 48px; contain: strict; will-change: unset; top: 0px; left: 0px;"><div class="view-overlays" role="presentation" aria-hidden="true" style="position: absolute; font-family: monospace, Consolas, &quot;Courier New&quot;, monospace; font-weight: normal; font-size: 14px; font-feature-settings: &quot;liga&quot; 0, &quot;calt&quot; 0; font-variation-settings: normal; line-height: 19px; letter-spacing: 0px; height: 0px; width: 723px;"><div style="position:absolute;top:0px;width:100%;height:19px;"></div><div style="position:absolute;top:19px;width:100%;height:19px;"><div class="current-line" style="width:723px; height:19px;"></div></div></div><div role="presentation" aria-hidden="true" class="view-rulers"></div><div class="view-zones" role="presentation" aria-hidden="true" style="position: absolute;"></div><div class="view-lines monaco-mouse-cursor-text" role="presentation" aria-hidden="true" data-mprt="7" style="position: absolute; font-family: monospace, Consolas, &quot;Courier New&quot;, monospace; font-weight: normal; font-size: 14px; font-feature-settings: &quot;liga&quot; 0, &quot;calt&quot; 0; font-variation-settings: normal; line-height: 19px; letter-spacing: 0px; width: 723px; height: 48px;"><div style="top:0px;height:19px;" class="view-line"><span><span class="mtk1">BALANCED&nbsp;THE&nbsp;DATASET&nbsp;APRROXIMATELY:</span></span></div><div style="top:19px;height:19px;" class="view-line"><span><span></span></span></div></div><div data-mprt="1" class="contentWidgets" style="position: absolute; top: 0px;"><div class="lightBulbWidget codicon codicon-light-bulb" widgetid="LightBulbWidget" title="Show Code Actions (Ctrl+.)" style="position: absolute; display: none; visibility: hidden; max-width: 723px;"></div></div><div role="presentation" aria-hidden="true" class="cursors-layer cursor-line-style cursor-solid"><div class="cursor monaco-mouse-cursor-text " style="height: 19px; top: 19px; left: 0px; font-family: monospace, Consolas, &quot;Courier New&quot;, monospace; font-weight: normal; font-size: 14px; font-feature-settings: &quot;liga&quot; 0, &quot;calt&quot; 0; font-variation-settings: normal; line-height: 19px; letter-spacing: 0px; display: block; visibility: hidden; padding-left: 0px; width: 1.6px;"></div></div></div><div role="presentation" aria-hidden="true" class="invisible scrollbar horizontal" style="position: absolute; width: 709px; height: 10px; left: 0px; bottom: 0px;"><div class="slider" style="position: absolute; top: 0px; left: 0px; height: 10px; transform: translate3d(0px, 0px, 0px); contain: strict; will-change: unset; width: 709px;"></div></div><canvas class="decorationsOverviewRuler" aria-hidden="true" width="17" height="60" style="position: absolute; transform: translate3d(0px, 0px, 0px); contain: strict; top: 0px; right: 0px; width: 14px; height: 48px; will-change: unset; display: block;"></canvas><div role="presentation" aria-hidden="true" class="invisible scrollbar vertical" style="position: absolute; width: 14px; height: 48px; right: 0px; top: 0px;"><div class="slider" style="position: absolute; top: 0px; left: 0px; width: 14px; transform: translate3d(0px, 0px, 0px); contain: strict; will-change: unset; height: 48px;"></div></div></div><div role="presentation" aria-hidden="true" style="width: 729px;"></div><textarea data-mprt="6" class="inputarea monaco-mouse-cursor-text" wrap="on" autocorrect="off" autocapitalize="off" autocomplete="off" spellcheck="false" aria-label="Editor content;Press Alt+F1 for Accessibility Options." tabindex="0" role="textbox" aria-roledescription="editor" aria-multiline="true" aria-haspopup="false" aria-autocomplete="both" style="tab-size: 15.3984px; font-family: monospace, Consolas, &quot;Courier New&quot;, monospace; font-weight: normal; font-size: 14px; font-feature-settings: &quot;liga&quot; 0, &quot;calt&quot; 0; font-variation-settings: normal; line-height: 19px; letter-spacing: 0px; top: 19px; left: 6px; width: 616px; height: 1px;"></textarea><div style="position: absolute; top: 0px; left: 0px; width: 0px; height: 0px;" class="monaco-editor-background textAreaCover"></div><div data-mprt="4" class="overlayWidgets" style="width: 729px;"></div><div data-mprt="8" class="minimap slider-mouseover" role="presentation" aria-hidden="true" style="position: absolute; left: 0px; width: 0px; height: 48px;"><div class="minimap-shadow-hidden" style="height: 48px;"></div><canvas width="0" height="60" style="position: absolute; left: 0px; width: 0px; height: 48px;"></canvas><canvas class="minimap-decorations-layer" width="0" height="60" style="position: absolute; left: 0px; width: 0px; height: 48px;"></canvas><div class="minimap-slider" style="position: absolute; transform: translate3d(0px, 0px, 0px); contain: strict; width: 0px; will-change: unset;"><div class="minimap-slider-horizontal" style="position: absolute; width: 0px; height: 0px;"></div></div></div><div role="presentation" aria-hidden="true" class="blockDecorations-container"></div></div><div data-mprt="2" class="overflowingContentWidgets" style="display: none;"><div widgetid="editor.contrib.resizableContentHoverWidget" style="position: fixed; height: 10px; width: 10px; z-index: 50; display: none; visibility: hidden; max-width: 1536px;"><div class="monaco-sash vertical" style="left: 8px;"></div><div class="monaco-sash vertical" style="left: -2px;"></div><div class="monaco-sash orthogonal-edge-north horizontal" style="top: -2px;"><div class="orthogonal-drag-handle start"></div><div class="orthogonal-drag-handle end"></div></div><div class="monaco-sash orthogonal-edge-south horizontal" style="top: 8px;"><div class="orthogonal-drag-handle start"></div><div class="orthogonal-drag-handle end"></div></div><div class="monaco-hover hidden" tabindex="0" role="tooltip"><div class="monaco-scrollable-element " role="presentation" style="position: relative; overflow: hidden;"><div class="monaco-hover-content" style="overflow: hidden; font-size: 14px; line-height: 1.35714; max-width: 500px; max-height: 250px;"></div><div role="presentation" aria-hidden="true" class="invisible scrollbar horizontal" style="position: absolute;"><div class="slider" style="position: absolute; top: 0px; left: 0px; height: 10px; transform: translate3d(0px, 0px, 0px); contain: strict;"></div></div><div role="presentation" aria-hidden="true" class="invisible scrollbar vertical" style="position: absolute;"><div class="slider" style="position: absolute; top: 0px; left: 0px; width: 10px; transform: translate3d(0px, 0px, 0px); contain: strict;"></div></div><div class="shadow"></div><div class="shadow"></div><div class="shadow"></div></div></div></div></div><div class=".in-cell-overflowing"><div widgetid="editor.contrib.quickInputWidget" style="position: absolute; top: 0px; right: 50%;"></div></div></div></div></div>
        <div class="text-top-div">
          <div class="markdown"><span><p>BALANCED THE DATASET APRROXIMATELY:</p>
</span></div>
        </div>
      </div>

      <div class="section-header" style="display: none;">
        <colab-run-button role="button" aria-label="Run cell"><template shadowrootmode="open"><!----> <div class="cell-execution">
      <div class="execution-count"><!--?lit$0157429536$-->[ ]</div>
      <div class="cell-execution-indicator"> <!--?lit$0157429536$-->
<svg xmlns="http://www.w3.org/2000/svg" viewBox="0 0 24 24">
  <!--?lit$0157429536$-->
  <mask id="playSymbolMask">
    <rect width="100%" height="100%" fill="white"></rect>
    <polygon points="10,8 17,12 10,16" fill="black"></polygon>
  </mask>
  <circle cx="12" cy="12" r="7.8" mask="url(#playSymbolMask)" id="filledCircle"></circle>
</svg> </div>
      <!--?lit$0157429536$--><!--?-->
    </div></template></colab-run-button>
        <div class="section-header-container" title="click to expand">↳ 0 cells hidden</div>
      </div></div></div><div class="add-cell">
      <div class="add-cell-buttons">
        <md-outlined-button class="add-code add-button" aria-label="Add code cell
Ctrl+M B" title="Add code cell
Ctrl+M B" role="presentation" value="" has-icon=""><template shadowrootmode="open" shadowrootdelegatesfocus><!---->
      <!--?lit$0157429536$--><div class="outline"></div>
      <div class="background"></div>
      <md-focus-ring part="focus-ring" for="button" aria-hidden="true"><template shadowrootmode="open"><!----></template></md-focus-ring>
      <md-ripple for="button" aria-hidden="true"><template shadowrootmode="open"><!----><div class="surface"></div></template></md-ripple>
      <!--?lit$0157429536$--><button id="button" class="button" aria-label="Add code cell
Ctrl+M B">
      <!--?lit$0157429536$-->
      <span class="touch"></span>
      <!--?lit$0157429536$--><slot name="icon"></slot>
      <span class="label"><slot></slot></span>
      <!--?lit$0157429536$-->
    
    </button>
    </template>
          <md-icon slot="icon" aria-hidden="true"><template shadowrootmode="open"><!----><slot></slot></template>add</md-icon>
          <!--?lit$0157429536$-->Code
        </md-outlined-button>
        <md-outlined-button class="add-text add-button" aria-label="Add text cell" title="Add text cell" role="presentation" value="" has-icon=""><template shadowrootmode="open" shadowrootdelegatesfocus><!---->
      <!--?lit$0157429536$--><div class="outline"></div>
      <div class="background"></div>
      <md-focus-ring part="focus-ring" for="button" aria-hidden="true"><template shadowrootmode="open"><!----></template></md-focus-ring>
      <md-ripple for="button" aria-hidden="true"><template shadowrootmode="open"><!----><div class="surface"></div></template></md-ripple>
      <!--?lit$0157429536$--><button id="button" class="button" aria-label="Add text cell">
      <!--?lit$0157429536$-->
      <span class="touch"></span>
      <!--?lit$0157429536$--><slot name="icon"></slot>
      <span class="label"><slot></slot></span>
      <!--?lit$0157429536$-->
    
    </button>
    </template>
          <md-icon slot="icon" aria-hidden="true"><template shadowrootmode="open"><!----><slot></slot></template>add</md-icon>
          <!--?lit$0157429536$-->Text
        </md-outlined-button>
        <!--?lit$0157429536$-->
      </div><hr>
    </div></div><div class="cell code icon-scrolling code-has-output" id="cell-eYCah3rnptcL" tabindex="-1" role="region" aria-label="Cell 36: Code cell: " style="opacity: 1;"><div class="cell-tag-editor sticky"></div><div class="cell-toolbar sticky"></div><div class="main-content" elevation="0"><div class="cell-contents"><div class="cell-mask"></div><span class="imported-info-area"></span><div class="codecell-input-output">
      <div class="inputarea horizontal layout code">
        <div class="cell-gutter">
          <!-- Bounding range for vertical scrolling of icons -->
          <div class="cell-execution-container">
            <colab-run-button title="Run cell (Ctrl+Enter)
cell executed since last change

executed by Srinivasulu K
1:52 PM (15 minutes ago)
executed in 0.526s" role="button" aria-label="Run cell"><template shadowrootmode="open"><!----> <div class="cell-execution hovered">
      <div class="execution-count"><!--?lit$0157429536$-->[42]</div>
      <div class="cell-execution-indicator"> <!--?lit$0157429536$-->
<svg xmlns="http://www.w3.org/2000/svg" viewBox="0 0 24 24">
  <!--?lit$0157429536$-->
  <mask id="playSymbolMask">
    <rect width="100%" height="100%" fill="white"></rect>
    <polygon points="10,8 17,12 10,16" fill="black"></polygon>
  </mask>
  <circle cx="12" cy="12" r="7.8" mask="url(#playSymbolMask)" id="filledCircle"></circle>
</svg> </div>
      <!--?lit$0157429536$--><div id="status">
      <md-icon aria-hidden="true"><template shadowrootmode="open"><!----><slot></slot></template><!--?lit$0157429536$--><svg viewBox="0 0 24 24"><!--?lit$0157429536$--><path d="M9 16.17L4.83 12l-1.42 1.41L9 19 21 7l-1.41-1.41z"></path></svg></md-icon>
      <div><!--?lit$0157429536$-->0s</div>
    </div>
    </div></template></colab-run-button>
          </div>
        </div>
      <div class="editor flex lazy-editor" style=""><pre class="lazy-virtualized" style="font-size: 14px; line-height: 19px;"><pre class="lazy-gutter"></pre><pre class="monaco-colorized colab-dark colab-dark colab-dark colab-dark" data-lang="notebook-python"><span><span class="mtk1">balanced_dataset</span><span class="mtk12">[</span><span class="mtk5">'Class'</span><span class="mtk12">]</span><span class="mtk1">.value_counts</span><span class="mtk12">()</span></span><br></pre><colab-read-only-cell-placeholder style="display: none;"><template shadowrootmode="open"><!----><div><!--?lit$0157429536$-->Start coding or <span tabindex="0" role="button" class="link">generate</span> with AI.</div></template></colab-read-only-cell-placeholder></pre></div><colab-form class="formview vertical layout flex"><div class="widget-area vertical layout"></div></colab-form></div>
    <div class="output"><!----> <div class="output-header"> </div>
        <div class="output-content" style="">
          <div class="output-info"><colab-output-info title="Clear output

executed by Srinivasulu K
1:52 PM (0 minutes ago)
executed in 0.526s" hovering=""><template shadowrootmode="open"><!----> <md-icon class="collaborator output" alt="Execution output" aria-hidden="true"><template shadowrootmode="open"><!----><slot></slot></template><!--?lit$0157429536$-->output</md-icon>
      <!--?lit$0157429536$--> <mwc-icon-button icon="cancel" command="clear-focused-or-selected-outputs" alt="Clear output"><template shadowrootmode="open"><!----><button class="mdc-icon-button mdc-icon-button--display-flex" aria-label="cancel"><!--?lit$0157429536$-->
    <!--?lit$0157429536$--><i class="material-icons"><!--?lit$0157429536$-->cancel</i>
    <span><slot></slot></span>
  </button></template>
          </mwc-icon-button><!--?--></template></colab-output-info></div>
          <div class="output-iframe-container">
            <div class="output-iframe-sizer" style="min-height: 0px;"> <div><div><colab-static-output-renderer tabindex="0" role="group"><div><div class="execute_result output-id-1 output_text"><pre>Class
0    217
Name: count, dtype: int64</pre></div></div><div></div></colab-static-output-renderer></div></div></div>
          </div>
        </div></div></div><colab-cell-next-steps><template shadowrootmode="open"><!----></template></colab-cell-next-steps></div></div><div class="add-cell">
      <div class="add-cell-buttons">
        <md-outlined-button class="add-code add-button" aria-label="Add code cell
Ctrl+M B" title="Add code cell
Ctrl+M B" role="presentation" value="" has-icon=""><template shadowrootmode="open" shadowrootdelegatesfocus><!---->
      <!--?lit$0157429536$--><div class="outline"></div>
      <div class="background"></div>
      <md-focus-ring part="focus-ring" for="button" aria-hidden="true"><template shadowrootmode="open"><!----></template></md-focus-ring>
      <md-ripple for="button" aria-hidden="true"><template shadowrootmode="open"><!----><div class="surface"></div></template></md-ripple>
      <!--?lit$0157429536$--><button id="button" class="button" aria-label="Add code cell
Ctrl+M B">
      <!--?lit$0157429536$-->
      <span class="touch"></span>
      <!--?lit$0157429536$--><slot name="icon"></slot>
      <span class="label"><slot></slot></span>
      <!--?lit$0157429536$-->
    
    </button>
    </template>
          <md-icon slot="icon" aria-hidden="true"><template shadowrootmode="open"><!----><slot></slot></template>add</md-icon>
          <!--?lit$0157429536$-->Code
        </md-outlined-button>
        <md-outlined-button class="add-text add-button" aria-label="Add text cell" title="Add text cell" role="presentation" value="" has-icon=""><template shadowrootmode="open" shadowrootdelegatesfocus><!---->
      <!--?lit$0157429536$--><div class="outline"></div>
      <div class="background"></div>
      <md-focus-ring part="focus-ring" for="button" aria-hidden="true"><template shadowrootmode="open"><!----></template></md-focus-ring>
      <md-ripple for="button" aria-hidden="true"><template shadowrootmode="open"><!----><div class="surface"></div></template></md-ripple>
      <!--?lit$0157429536$--><button id="button" class="button" aria-label="Add text cell">
      <!--?lit$0157429536$-->
      <span class="touch"></span>
      <!--?lit$0157429536$--><slot name="icon"></slot>
      <span class="label"><slot></slot></span>
      <!--?lit$0157429536$-->
    
    </button>
    </template>
          <md-icon slot="icon" aria-hidden="true"><template shadowrootmode="open"><!----><slot></slot></template>add</md-icon>
          <!--?lit$0157429536$-->Text
        </md-outlined-button>
        <!--?lit$0157429536$-->
      </div><hr>
    </div></div><div class="cell code icon-scrolling code-has-output" id="cell-9YMR0FOipyL-" tabindex="-1" role="region" aria-label="Cell 37: Code cell: " style="opacity: 1;"><div class="cell-tag-editor sticky"></div><div class="cell-toolbar sticky"></div><div class="main-content" elevation="0"><div class="cell-contents"><div class="cell-mask"></div><span class="imported-info-area"></span><div class="codecell-input-output">
      <div class="inputarea horizontal layout code">
        <div class="cell-gutter">
          <!-- Bounding range for vertical scrolling of icons -->
          <div class="cell-execution-container">
            <colab-run-button title="Run cell (Ctrl+Enter)
cell executed since last change

executed by Srinivasulu K
1:52 PM (15 minutes ago)
executed in 0.392s" role="button" aria-label="Run cell"><template shadowrootmode="open"><!----> <div class="cell-execution hovered">
      <div class="execution-count"><!--?lit$0157429536$-->[43]</div>
      <div class="cell-execution-indicator"> <!--?lit$0157429536$-->
<svg xmlns="http://www.w3.org/2000/svg" viewBox="0 0 24 24">
  <!--?lit$0157429536$-->
  <mask id="playSymbolMask">
    <rect width="100%" height="100%" fill="white"></rect>
    <polygon points="10,8 17,12 10,16" fill="black"></polygon>
  </mask>
  <circle cx="12" cy="12" r="7.8" mask="url(#playSymbolMask)" id="filledCircle"></circle>
</svg> </div>
      <!--?lit$0157429536$--><div id="status">
      <md-icon aria-hidden="true"><template shadowrootmode="open"><!----><slot></slot></template><!--?lit$0157429536$--><svg viewBox="0 0 24 24"><!--?lit$0157429536$--><path d="M9 16.17L4.83 12l-1.42 1.41L9 19 21 7l-1.41-1.41z"></path></svg></md-icon>
      <div><!--?lit$0157429536$-->0s</div>
    </div>
    </div></template></colab-run-button>
          </div>
        </div>
      <div class="editor flex lazy-editor" style=""><pre class="lazy-virtualized" style="font-size: 14px; line-height: 19px;"><pre class="lazy-gutter"></pre><pre class="monaco-colorized colab-dark colab-dark colab-dark colab-dark" data-lang="notebook-python"><span><span></span></span><br><span><span class="mtk1">balanced_dataset.groupby</span><span class="mtk12">(</span><span class="mtk5">'Class'</span><span class="mtk12">)</span><span class="mtk1">.mean</span><span class="mtk12">()</span></span><br></pre><colab-read-only-cell-placeholder style="display: none;"><template shadowrootmode="open"><!----><div><!--?lit$0157429536$-->Start coding or <span tabindex="0" role="button" class="link">generate</span> with AI.</div></template></colab-read-only-cell-placeholder></pre></div><colab-form class="formview vertical layout flex"><div class="widget-area vertical layout"></div></colab-form></div>
    <div class="output"><!----> <div class="output-header"> </div>
        <div class="output-content" style="">
          <div class="output-info"><colab-output-info title="Clear output

executed by Srinivasulu K
1:52 PM (0 minutes ago)
executed in 0.392s" hovering=""><template shadowrootmode="open"><!----> <md-icon class="collaborator output" alt="Execution output" aria-hidden="true"><template shadowrootmode="open"><!----><slot></slot></template><!--?lit$0157429536$-->output</md-icon>
      <!--?lit$0157429536$--> <mwc-icon-button icon="cancel" command="clear-focused-or-selected-outputs" alt="Clear output"><template shadowrootmode="open"><!----><button class="mdc-icon-button mdc-icon-button--display-flex" aria-label="cancel"><!--?lit$0157429536$-->
    <!--?lit$0157429536$--><i class="material-icons"><!--?lit$0157429536$-->cancel</i>
    <span><slot></slot></span>
  </button></template>
          </mwc-icon-button><!--?--></template></colab-output-info></div>
          <div class="output-iframe-container">
            <div class="output-iframe-sizer" style="min-height: 0px;"> <div><div class="outputview" style="height: 161px;"><colab-dom-lifecycle-events style="display: none;"></colab-dom-lifecycle-events><iframe allow="accelerometer; autoplay; camera; gyroscope; magnetometer; microphone; serial; usb; xr-spatial-tracking; clipboard-write" sandbox="allow-downloads allow-forms allow-pointer-lock allow-popups allow-same-origin allow-scripts allow-storage-access-by-user-activation allow-modals allow-popups-to-escape-sandbox" src="./CreditCardFraudDetection_files/outputframe(5).html" class="" style="height: 161px;"></iframe></div></div></div>
          </div>
        </div></div></div><colab-cell-next-steps><template shadowrootmode="open"><!----></template></colab-cell-next-steps></div></div><div class="add-cell">
      <div class="add-cell-buttons">
        <md-outlined-button class="add-code add-button" aria-label="Add code cell
Ctrl+M B" title="Add code cell
Ctrl+M B" role="presentation" value="" has-icon=""><template shadowrootmode="open" shadowrootdelegatesfocus><!---->
      <!--?lit$0157429536$--><div class="outline"></div>
      <div class="background"></div>
      <md-focus-ring part="focus-ring" for="button" aria-hidden="true"><template shadowrootmode="open"><!----></template></md-focus-ring>
      <md-ripple for="button" aria-hidden="true"><template shadowrootmode="open"><!----><div class="surface"></div></template></md-ripple>
      <!--?lit$0157429536$--><button id="button" class="button" aria-label="Add code cell
Ctrl+M B">
      <!--?lit$0157429536$-->
      <span class="touch"></span>
      <!--?lit$0157429536$--><slot name="icon"></slot>
      <span class="label"><slot></slot></span>
      <!--?lit$0157429536$-->
    
    </button>
    </template>
          <md-icon slot="icon" aria-hidden="true"><template shadowrootmode="open"><!----><slot></slot></template>add</md-icon>
          <!--?lit$0157429536$-->Code
        </md-outlined-button>
        <md-outlined-button class="add-text add-button" aria-label="Add text cell" title="Add text cell" role="presentation" value="" has-icon=""><template shadowrootmode="open" shadowrootdelegatesfocus><!---->
      <!--?lit$0157429536$--><div class="outline"></div>
      <div class="background"></div>
      <md-focus-ring part="focus-ring" for="button" aria-hidden="true"><template shadowrootmode="open"><!----></template></md-focus-ring>
      <md-ripple for="button" aria-hidden="true"><template shadowrootmode="open"><!----><div class="surface   "></div></template></md-ripple>
      <!--?lit$0157429536$--><button id="button" class="button" aria-label="Add text cell">
      <!--?lit$0157429536$-->
      <span class="touch"></span>
      <!--?lit$0157429536$--><slot name="icon"></slot>
      <span class="label"><slot></slot></span>
      <!--?lit$0157429536$-->
    
    </button>
    </template>
          <md-icon slot="icon" aria-hidden="true"><template shadowrootmode="open"><!----><slot></slot></template>add</md-icon>
          <!--?lit$0157429536$-->Text
        </md-outlined-button>
        <!--?lit$0157429536$-->
      </div><hr>
    </div></div><div class="cell code icon-scrolling" id="cell-KcbXYyq5pztY" tabindex="-1" role="region" aria-label="Cell 38: Code cell: " style="opacity: 1;"><div class="cell-tag-editor sticky"></div><div class="cell-toolbar sticky"></div><div class="main-content" elevation="0"><div class="cell-contents"><div class="cell-mask"></div><span class="imported-info-area"></span><div class="codecell-input-output">
      <div class="inputarea horizontal layout code">
        <div class="cell-gutter">
          <!-- Bounding range for vertical scrolling of icons -->
          <div class="cell-execution-container">
            <colab-run-button title="Run cell (Ctrl+Enter)
cell executed since last change

executed by Srinivasulu K
1:53 PM (15 minutes ago)
executed in 0.402s" role="button" aria-label="Run cell"><template shadowrootmode="open"><!----> <div class="cell-execution">
      <div class="execution-count"><!--?lit$0157429536$-->[44]</div>
      <div class="cell-execution-indicator"> <!--?lit$0157429536$-->
<svg xmlns="http://www.w3.org/2000/svg" viewBox="0 0 24 24">
  <!--?lit$0157429536$-->
  <mask id="playSymbolMask">
    <rect width="100%" height="100%" fill="white"></rect>
    <polygon points="10,8 17,12 10,16" fill="black"></polygon>
  </mask>
  <circle cx="12" cy="12" r="7.8" mask="url(#playSymbolMask)" id="filledCircle"></circle>
</svg> </div>
      <!--?lit$0157429536$--><div id="status">
      <md-icon aria-hidden="true"><template shadowrootmode="open"><!----><slot></slot></template><!--?lit$0157429536$--><svg viewBox="0 0 24 24"><!--?lit$0157429536$--><path d="M9 16.17L4.83 12l-1.42 1.41L9 19 21 7l-1.41-1.41z"></path></svg></md-icon>
      <div><!--?lit$0157429536$-->0s</div>
    </div>
    </div></template></colab-run-button>
          </div>
        </div>
      <div class="editor flex lazy-editor" style=""><pre class="lazy-virtualized" style="font-size: 14px; line-height: 19px;"><pre class="lazy-gutter"></pre><pre class="monaco-colorized colab-dark colab-dark colab-dark colab-dark" data-lang="notebook-python"><span><span></span></span><br><span><span class="mtk1">X&nbsp;=&nbsp;balanced_dataset.drop</span><span class="mtk12">(</span><span class="mtk1">columns=</span><span class="mtk5">'Class'</span><span class="mtk12">,</span><span class="mtk1">&nbsp;axis=</span><span class="mtk6">1</span><span class="mtk12">)</span></span><br><span><span class="mtk1">Y&nbsp;=&nbsp;balanced_dataset</span><span class="mtk12">[</span><span class="mtk5">'Class'</span><span class="mtk12">]</span></span><br></pre><colab-read-only-cell-placeholder style="display: none;"><template shadowrootmode="open"><!----><div><!--?lit$0157429536$-->Start coding or <span tabindex="0" role="button" class="link">generate</span> with AI.</div></template></colab-read-only-cell-placeholder></pre></div><colab-form class="formview vertical layout flex"><div class="widget-area vertical layout"></div></colab-form></div>
    <div class="output"><!----> <div class="output-header"> </div>
        <div class="output-content" style="display: none;">
          <div class="output-info"><colab-output-info title="Clear output

executed by Srinivasulu K
1:53 PM (0 minutes ago)
executed in 0.402s" hovering=""><template shadowrootmode="open"><!----> <md-icon class="collaborator output" alt="Execution output" aria-hidden="true"><template shadowrootmode="open"><!----><slot></slot></template><!--?lit$0157429536$-->output</md-icon>
      <!--?lit$0157429536$--> <mwc-icon-button icon="cancel" command="clear-focused-or-selected-outputs" alt="Clear output"><template shadowrootmode="open"><!----><button class="mdc-icon-button mdc-icon-button--display-flex" aria-label="cancel"><!--?lit$0157429536$-->
    <!--?lit$0157429536$--><i class="material-icons"><!--?lit$0157429536$-->cancel</i>
    <span><slot></slot></span>
  </button></template>
          </mwc-icon-button><!--?--></template></colab-output-info></div>
          <div class="output-iframe-container">
            <div class="output-iframe-sizer" style="min-height: 0px;"> <div><div><colab-static-output-renderer tabindex="0" role="group"><div></div><div></div></colab-static-output-renderer></div></div></div>
          </div>
        </div></div></div><colab-cell-next-steps><template shadowrootmode="open"><!----></template></colab-cell-next-steps></div></div><div class="add-cell">
      <div class="add-cell-buttons">
        <md-outlined-button class="add-code add-button" aria-label="Add code cell
Ctrl+M B" title="Add code cell
Ctrl+M B" role="presentation" value="" has-icon=""><template shadowrootmode="open" shadowrootdelegatesfocus><!---->
      <!--?lit$0157429536$--><div class="outline"></div>
      <div class="background"></div>
      <md-focus-ring part="focus-ring" for="button" aria-hidden="true"><template shadowrootmode="open"><!----></template></md-focus-ring>
      <md-ripple for="button" aria-hidden="true"><template shadowrootmode="open"><!----><div class="surface"></div></template></md-ripple>
      <!--?lit$0157429536$--><button id="button" class="button" aria-label="Add code cell
Ctrl+M B">
      <!--?lit$0157429536$-->
      <span class="touch"></span>
      <!--?lit$0157429536$--><slot name="icon"></slot>
      <span class="label"><slot></slot></span>
      <!--?lit$0157429536$-->
    
    </button>
    </template>
          <md-icon slot="icon" aria-hidden="true"><template shadowrootmode="open"><!----><slot></slot></template>add</md-icon>
          <!--?lit$0157429536$-->Code
        </md-outlined-button>
        <md-outlined-button class="add-text add-button" aria-label="Add text cell" title="Add text cell" role="presentation" value="" has-icon=""><template shadowrootmode="open" shadowrootdelegatesfocus><!---->
      <!--?lit$0157429536$--><div class="outline"></div>
      <div class="background"></div>
      <md-focus-ring part="focus-ring" for="button" aria-hidden="true"><template shadowrootmode="open"><!----></template></md-focus-ring>
      <md-ripple for="button" aria-hidden="true"><template shadowrootmode="open"><!----><div class="surface"></div></template></md-ripple>
      <!--?lit$0157429536$--><button id="button" class="button" aria-label="Add text cell">
      <!--?lit$0157429536$-->
      <span class="touch"></span>
      <!--?lit$0157429536$--><slot name="icon"></slot>
      <span class="label"><slot></slot></span>
      <!--?lit$0157429536$-->
    
    </button>
    </template>
          <md-icon slot="icon" aria-hidden="true"><template shadowrootmode="open"><!----><slot></slot></template>add</md-icon>
          <!--?lit$0157429536$-->Text
        </md-outlined-button>
        <!--?lit$0157429536$-->
      </div><hr>
    </div></div><div class="cell code icon-scrolling code-has-output" id="cell-F8tDAPzLp5fm" tabindex="-1" role="region" aria-label="Cell 39: Code cell: " style="opacity: 1;"><div class="cell-tag-editor sticky"></div><div class="cell-toolbar sticky"></div><div class="main-content" elevation="0"><div class="cell-contents"><div class="cell-mask"></div><span class="imported-info-area"></span><div class="codecell-input-output">
      <div class="inputarea horizontal layout code">
        <div class="cell-gutter">
          <!-- Bounding range for vertical scrolling of icons -->
          <div class="cell-execution-container">
            <colab-run-button title="Run cell (Ctrl+Enter)
cell executed since last change

executed by Srinivasulu K
1:53 PM (14 minutes ago)
executed in 0.414s" role="button" aria-label="Run cell"><template shadowrootmode="open"><!----> <div class="cell-execution">
      <div class="execution-count"><!--?lit$0157429536$-->[45]</div>
      <div class="cell-execution-indicator"> <!--?lit$0157429536$-->
<svg xmlns="http://www.w3.org/2000/svg" viewBox="0 0 24 24">
  <!--?lit$0157429536$-->
  <mask id="playSymbolMask">
    <rect width="100%" height="100%" fill="white"></rect>
    <polygon points="10,8 17,12 10,16" fill="black"></polygon>
  </mask>
  <circle cx="12" cy="12" r="7.8" mask="url(#playSymbolMask)" id="filledCircle"></circle>
</svg> </div>
      <!--?lit$0157429536$--><div id="status">
      <md-icon aria-hidden="true"><template shadowrootmode="open"><!----><slot></slot></template><!--?lit$0157429536$--><svg viewBox="0 0 24 24"><!--?lit$0157429536$--><path d="M9 16.17L4.83 12l-1.42 1.41L9 19 21 7l-1.41-1.41z"></path></svg></md-icon>
      <div><!--?lit$0157429536$-->0s</div>
    </div>
    </div></template></colab-run-button>
          </div>
        </div>
      <div class="editor flex lazy-editor" style=""><pre class="lazy-virtualized" style="font-size: 14px; line-height: 19px;"><pre class="lazy-gutter"></pre><pre class="monaco-colorized colab-dark colab-dark colab-dark" data-lang="notebook-python"><span><span></span></span><br><span><span class="mtk15">print</span><span class="mtk12">(</span><span class="mtk1">X</span><span class="mtk12">)</span></span><br></pre><colab-read-only-cell-placeholder style="display: none;"><template shadowrootmode="open"><!----><div><!--?lit$0157429536$-->Start coding or <span tabindex="0" role="button" class="link">generate</span> with AI.</div></template></colab-read-only-cell-placeholder></pre></div><colab-form class="formview vertical layout flex"><div class="widget-area vertical layout"></div></colab-form></div>
    <div class="output"><!----> <div class="output-header"> </div>
        <div class="output-content" style="">
          <div class="output-info"><colab-output-info title="Clear output

executed by Srinivasulu K
1:53 PM (0 minutes ago)
executed in 0.414s" hovering=""><template shadowrootmode="open"><!----> <md-icon class="collaborator output" alt="Execution output" aria-hidden="true"><template shadowrootmode="open"><!----><slot></slot></template><!--?lit$0157429536$-->output</md-icon>
      <!--?lit$0157429536$--> <mwc-icon-button icon="cancel" command="clear-focused-or-selected-outputs" alt="Clear output"><template shadowrootmode="open"><!----><button class="mdc-icon-button mdc-icon-button--display-flex" aria-label="cancel"><!--?lit$0157429536$-->
    <!--?lit$0157429536$--><i class="material-icons"><!--?lit$0157429536$-->cancel</i>
    <span><slot></slot></span>
  </button></template>
          </mwc-icon-button><!--?--></template></colab-output-info></div>
          <div class="output-iframe-container">
            <div class="output-iframe-sizer" style="min-height: 0px;"> <div><div><colab-static-output-renderer tabindex="0" role="group"><div><div class="stream output-id-1 output_text"><pre>      Time        V1        V2        V3        V4        V5        V6  \
0       80 -0.655264  0.409899  1.289156 -0.325043  0.545669 -0.349811   
1    10162  1.182880  0.051146  0.841107  0.018382 -0.500300 -0.286042   
2    17833  0.993725  1.054307 -1.577749  1.537197  1.697540  0.564523   
3     3724  1.039952 -0.152470  1.390009  1.471145 -0.969043  0.157308   
4     9387 -5.489814  1.561072  0.726760 -0.476520 -0.024480 -0.703520   
..     ...       ...       ...       ...       ...       ...       ...   
212   1549 -0.975437  0.700053  2.180777 -0.276133  0.522233 -0.521061   
213  24251 -0.470300  0.747507  0.344485 -0.631696  0.021346 -0.719841   
214    571 -2.990622  2.962638 -0.980844  0.071904 -1.795238 -1.335733   
215    871 -1.366797 -0.381816  2.909364  0.452824  0.646125  0.074504   
216   5372 -0.868767  1.301044  1.293434  0.067153 -0.062524  0.140671   

           V7        V8        V9  ...       V21       V22       V23  \
0    0.648240  0.036063  0.078701  ... -0.155727 -0.477390 -0.126525   
1   -0.415972 -0.024078  1.273732  ... -0.180742 -0.224945  0.138876   
2    0.210922  0.319476  0.675820  ... -0.190118 -0.153934 -0.084938   
3   -0.765444  0.196767  2.047291  ... -0.148737 -0.138825 -0.028047   
4    0.879357 -0.877083  5.499426  ... -1.350095 -0.041123  0.677093   
..        ...       ...       ...  ...       ...       ...       ...   
212  1.135711 -0.070862  0.079413  ... -0.096646 -0.127844 -0.351791   
213  0.289545  0.332516  0.939953  ... -0.026034  0.003708  0.008592   
214 -1.143681  2.134599 -0.377240  ... -0.184759 -0.890628  0.278109   
215 -0.043701 -0.323218  0.698467  ... -0.219791  0.120994 -0.434589   
216 -0.771663 -2.523458  0.515227  ... -1.575998 -0.432289  0.200169   

          V24       V25       V26       V27       V28  Amount  Anomaly  
0   -0.443628 -0.012118  0.143173  0.049783  0.118280   32.51      NaN  
1    0.236495 -0.007872  0.862932 -0.079217 -0.006461    4.00      NaN  
2   -1.424830  0.458697 -0.220467  0.073157  0.066380   14.99      NaN  
3    0.243695  0.317788 -0.465594  0.029132  0.026213   46.80      NaN  
4    0.377902  0.886612  0.287220  0.450214  0.050597    0.01      NaN  
..        ...       ...       ...       ...       ...     ...      ...  
212  0.342088  0.690008 -0.598515 -0.151632 -0.174043    9.99      NaN  
213  0.002827 -0.493140  0.787645 -0.164107 -0.022364   24.99      NaN  
214  0.301391  0.137764  0.103233  0.052097  0.001938    9.99      NaN  
215  0.063623  0.059021  0.365410 -0.447739 -0.363027   15.30      NaN  
216 -0.143132 -0.380599  0.008105 -0.049524  0.068505    1.98      NaN  

[217 rows x 31 columns]
</pre></div></div><div></div></colab-static-output-renderer></div></div></div>
          </div>
        </div></div></div><colab-cell-next-steps><template shadowrootmode="open"><!----></template></colab-cell-next-steps></div></div><div class="add-cell">
      <div class="add-cell-buttons">
        <md-outlined-button class="add-code add-button" aria-label="Add code cell
Ctrl+M B" title="Add code cell
Ctrl+M B" role="presentation" value="" has-icon=""><template shadowrootmode="open" shadowrootdelegatesfocus><!---->
      <!--?lit$0157429536$--><div class="outline"></div>
      <div class="background"></div>
      <md-focus-ring part="focus-ring" for="button" aria-hidden="true"><template shadowrootmode="open"><!----></template></md-focus-ring>
      <md-ripple for="button" aria-hidden="true"><template shadowrootmode="open"><!----><div class="surface"></div></template></md-ripple>
      <!--?lit$0157429536$--><button id="button" class="button" aria-label="Add code cell
Ctrl+M B">
      <!--?lit$0157429536$-->
      <span class="touch"></span>
      <!--?lit$0157429536$--><slot name="icon"></slot>
      <span class="label"><slot></slot></span>
      <!--?lit$0157429536$-->
    
    </button>
    </template>
          <md-icon slot="icon" aria-hidden="true"><template shadowrootmode="open"><!----><slot></slot></template>add</md-icon>
          <!--?lit$0157429536$-->Code
        </md-outlined-button>
        <md-outlined-button class="add-text add-button" aria-label="Add text cell" title="Add text cell" role="presentation" value="" has-icon=""><template shadowrootmode="open" shadowrootdelegatesfocus><!---->
      <!--?lit$0157429536$--><div class="outline"></div>
      <div class="background"></div>
      <md-focus-ring part="focus-ring" for="button" aria-hidden="true"><template shadowrootmode="open"><!----></template></md-focus-ring>
      <md-ripple for="button" aria-hidden="true"><template shadowrootmode="open"><!----><div class="surface   "></div></template></md-ripple>
      <!--?lit$0157429536$--><button id="button" class="button" aria-label="Add text cell">
      <!--?lit$0157429536$-->
      <span class="touch"></span>
      <!--?lit$0157429536$--><slot name="icon"></slot>
      <span class="label"><slot></slot></span>
      <!--?lit$0157429536$-->
    
    </button>
    </template>
          <md-icon slot="icon" aria-hidden="true"><template shadowrootmode="open"><!----><slot></slot></template>add</md-icon>
          <!--?lit$0157429536$-->Text
        </md-outlined-button>
        <!--?lit$0157429536$-->
      </div><hr>
    </div></div><div class="cell code icon-scrolling code-has-output" id="cell-oHVF0C6jp-xl" tabindex="-1" role="region" aria-label="Cell 40: Code cell: " style="opacity: 1;"><div class="cell-tag-editor sticky"></div><div class="cell-toolbar sticky"></div><div class="main-content" elevation="0"><div class="cell-contents"><div class="cell-mask"></div><span class="imported-info-area"></span><div class="codecell-input-output">
      <div class="inputarea horizontal layout code">
        <div class="cell-gutter">
          <!-- Bounding range for vertical scrolling of icons -->
          <div class="cell-execution-container">
            <colab-run-button title="Run cell (Ctrl+Enter)
cell executed since last change

executed by Srinivasulu K
1:53 PM (14 minutes ago)
executed in 0.388s" role="button" aria-label="Run cell"><template shadowrootmode="open"><!----> <div class="cell-execution">
      <div class="execution-count"><!--?lit$0157429536$-->[46]</div>
      <div class="cell-execution-indicator"> <!--?lit$0157429536$-->
<svg xmlns="http://www.w3.org/2000/svg" viewBox="0 0 24 24">
  <!--?lit$0157429536$-->
  <mask id="playSymbolMask">
    <rect width="100%" height="100%" fill="white"></rect>
    <polygon points="10,8 17,12 10,16" fill="black"></polygon>
  </mask>
  <circle cx="12" cy="12" r="7.8" mask="url(#playSymbolMask)" id="filledCircle"></circle>
</svg> </div>
      <!--?lit$0157429536$--><div id="status">
      <md-icon aria-hidden="true"><template shadowrootmode="open"><!----><slot></slot></template><!--?lit$0157429536$--><svg viewBox="0 0 24 24"><!--?lit$0157429536$--><path d="M9 16.17L4.83 12l-1.42 1.41L9 19 21 7l-1.41-1.41z"></path></svg></md-icon>
      <div><!--?lit$0157429536$-->0s</div>
    </div>
    </div></template></colab-run-button>
          </div>
        </div>
      <div class="editor flex lazy-editor" style=""><pre class="lazy-virtualized" style="font-size: 14px; line-height: 19px;"><pre class="lazy-gutter"></pre><pre class="monaco-colorized colab-dark colab-dark colab-dark" data-lang="notebook-python"><span><span></span></span><br><span><span class="mtk15">print</span><span class="mtk12">(</span><span class="mtk1">Y</span><span class="mtk12">)</span></span><br><span><span class="mtk1">&nbsp;&nbsp;&nbsp;&nbsp;&nbsp;</span></span><br></pre><colab-read-only-cell-placeholder style="display: none;"><template shadowrootmode="open"><!----><div><!--?lit$0157429536$-->Start coding or <span tabindex="0" role="button" class="link">generate</span> with AI.</div></template></colab-read-only-cell-placeholder></pre></div><colab-form class="formview vertical layout flex"><div class="widget-area vertical layout"></div></colab-form></div>
    <div class="output"><!----> <div class="output-header"> </div>
        <div class="output-content" style="">
          <div class="output-info"><colab-output-info title="Clear output

executed by Srinivasulu K
1:53 PM (0 minutes ago)
executed in 0.388s" hovering=""><template shadowrootmode="open"><!----> <md-icon class="collaborator output" alt="Execution output" aria-hidden="true"><template shadowrootmode="open"><!----><slot></slot></template><!--?lit$0157429536$-->output</md-icon>
      <!--?lit$0157429536$--> <mwc-icon-button icon="cancel" command="clear-focused-or-selected-outputs" alt="Clear output"><template shadowrootmode="open"><!----><button class="mdc-icon-button mdc-icon-button--display-flex" aria-label="cancel"><!--?lit$0157429536$-->
    <!--?lit$0157429536$--><i class="material-icons"><!--?lit$0157429536$-->cancel</i>
    <span><slot></slot></span>
  </button></template>
          </mwc-icon-button><!--?--></template></colab-output-info></div>
          <div class="output-iframe-container">
            <div class="output-iframe-sizer" style="min-height: 0px;"> <div><div><colab-static-output-renderer tabindex="0" role="group"><div><div class="stream output-id-1 output_text"><pre>0      0
1      0
2      0
3      0
4      0
      ..
212    0
213    0
214    0
215    0
216    0
Name: Class, Length: 217, dtype: int64
</pre></div></div><div></div></colab-static-output-renderer></div></div></div>
          </div>
        </div></div></div><colab-cell-next-steps><template shadowrootmode="open"><!----></template></colab-cell-next-steps></div></div><div class="add-cell">
      <div class="add-cell-buttons">
        <md-outlined-button class="add-code add-button" aria-label="Add code cell
Ctrl+M B" title="Add code cell
Ctrl+M B" role="presentation" value="" has-icon=""><template shadowrootmode="open" shadowrootdelegatesfocus><!---->
      <!--?lit$0157429536$--><div class="outline"></div>
      <div class="background"></div>
      <md-focus-ring part="focus-ring" for="button" aria-hidden="true"><template shadowrootmode="open"><!----></template></md-focus-ring>
      <md-ripple for="button" aria-hidden="true"><template shadowrootmode="open"><!----><div class="surface"></div></template></md-ripple>
      <!--?lit$0157429536$--><button id="button" class="button" aria-label="Add code cell
Ctrl+M B">
      <!--?lit$0157429536$-->
      <span class="touch"></span>
      <!--?lit$0157429536$--><slot name="icon"></slot>
      <span class="label"><slot></slot></span>
      <!--?lit$0157429536$-->
    
    </button>
    </template>
          <md-icon slot="icon" aria-hidden="true"><template shadowrootmode="open"><!----><slot></slot></template>add</md-icon>
          <!--?lit$0157429536$-->Code
        </md-outlined-button>
        <md-outlined-button class="add-text add-button" aria-label="Add text cell" title="Add text cell" role="presentation" value="" has-icon=""><template shadowrootmode="open" shadowrootdelegatesfocus><!---->
      <!--?lit$0157429536$--><div class="outline"></div>
      <div class="background"></div>
      <md-focus-ring part="focus-ring" for="button" aria-hidden="true"><template shadowrootmode="open"><!----></template></md-focus-ring>
      <md-ripple for="button" aria-hidden="true"><template shadowrootmode="open"><!----><div class="surface"></div></template></md-ripple>
      <!--?lit$0157429536$--><button id="button" class="button" aria-label="Add text cell">
      <!--?lit$0157429536$-->
      <span class="touch"></span>
      <!--?lit$0157429536$--><slot name="icon"></slot>
      <span class="label"><slot></slot></span>
      <!--?lit$0157429536$-->
    
    </button>
    </template>
          <md-icon slot="icon" aria-hidden="true"><template shadowrootmode="open"><!----><slot></slot></template>add</md-icon>
          <!--?lit$0157429536$-->Text
        </md-outlined-button>
        <!--?lit$0157429536$-->
      </div><hr>
    </div></div><div class="cell text" id="cell-Jxhjl8g5qDuY" tabindex="-1" role="region" aria-label="Cell 41: Text cell: " style="opacity: 1;"><div class="cell-tag-editor sticky"></div><div class="cell-toolbar sticky"></div><div class="main-content" elevation="0"><div class="cell-contents"><div class="cell-mask"></div><span class="imported-info-area"></span><!----> <div class="toolbar-root"><div class="markdown-toolbar"><!----><!--?lit$0157429536$--><!----><mwc-icon-button class="markdown-toolbar-header" title="Toggle heading"><template shadowrootmode="open"><!----><button class="mdc-icon-button mdc-icon-button--display-flex" aria-label=""><!--?lit$0157429536$-->
    <!--?lit$0157429536$-->
    <span><slot></slot></span>
  </button></template>
    <!--?lit$0157429536$--><md-icon aria-hidden="true"><template shadowrootmode="open"><!----><slot></slot></template><!--?lit$0157429536$-->format_size</md-icon>
  </mwc-icon-button><!----><!----><mwc-icon-button class="markdown-toolbar-bold" title="Bold"><template shadowrootmode="open"><!----><button class="mdc-icon-button mdc-icon-button--display-flex" aria-label=""><!--?lit$0157429536$-->
    <!--?lit$0157429536$-->
    <span><slot></slot></span>
  </button></template>
    <!--?lit$0157429536$--><md-icon aria-hidden="true"><template shadowrootmode="open"><!----><slot></slot></template><!--?lit$0157429536$-->format_bold</md-icon>
  </mwc-icon-button><!----><!----><mwc-icon-button class="markdown-toolbar-italic" title="Italicize"><template shadowrootmode="open"><!----><button class="mdc-icon-button mdc-icon-button--display-flex" aria-label=""><!--?lit$0157429536$-->
    <!--?lit$0157429536$-->
    <span><slot></slot></span>
  </button></template>
    <!--?lit$0157429536$--><md-icon aria-hidden="true"><template shadowrootmode="open"><!----><slot></slot></template><!--?lit$0157429536$-->format_italic</md-icon>
  </mwc-icon-button><!----><!----><mwc-icon-button class="markdown-toolbar-code" title="Format as code"><template shadowrootmode="open"><!----><button class="mdc-icon-button mdc-icon-button--display-flex" aria-label=""><!--?lit$0157429536$-->
    <!--?lit$0157429536$-->
    <span><slot></slot></span>
  </button></template>
    <!--?lit$0157429536$--><md-icon aria-hidden="true"><template shadowrootmode="open"><!----><slot></slot></template><!--?lit$0157429536$-->code</md-icon>
  </mwc-icon-button><!----><!----><mwc-icon-button class="markdown-toolbar-link" title="Insert link"><template shadowrootmode="open"><!----><button class="mdc-icon-button mdc-icon-button--display-flex" aria-label=""><!--?lit$0157429536$-->
    <!--?lit$0157429536$-->
    <span><slot></slot></span>
  </button></template>
    <!--?lit$0157429536$--><md-icon aria-hidden="true"><template shadowrootmode="open"><!----><slot></slot></template><!--?lit$0157429536$-->link</md-icon>
  </mwc-icon-button><!----><!----><label for="markdown-image-input" class="colab-icon markdown-insert-image"><span role="button" tabindex="0" title="Insert image" aria-label="Insert image"><md-icon aria-hidden="true"><template shadowrootmode="open"><!----><slot></slot></template>image</md-icon></span></label><input id="markdown-image-input" type="file" multiple="" accept="image/*"><!----><!----><mwc-icon-button class="markdown-toolbar-blockquote" title="Add blockquote"><template shadowrootmode="open"><!----><button class="mdc-icon-button mdc-icon-button--display-flex" aria-label=""><!--?lit$0157429536$-->
    <!--?lit$0157429536$-->
    <span><slot></slot></span>
  </button></template>
    <!--?lit$0157429536$--><md-icon aria-hidden="true"><template shadowrootmode="open"><!----><slot></slot></template><!--?lit$0157429536$-->format_quote</md-icon>
  </mwc-icon-button><!----><!----><mwc-icon-button class="markdown-toolbar-ol" title="Add numbered list"><template shadowrootmode="open"><!----><button class="mdc-icon-button mdc-icon-button--display-flex" aria-label=""><!--?lit$0157429536$-->
    <!--?lit$0157429536$-->
    <span><slot></slot></span>
  </button></template>
    <!--?lit$0157429536$--><md-icon aria-hidden="true"><template shadowrootmode="open"><!----><slot></slot></template><!--?lit$0157429536$-->format_list_numbered</md-icon>
  </mwc-icon-button><!----><!----><mwc-icon-button class="markdown-toolbar-ul" title="Add bulleted list"><template shadowrootmode="open"><!----><button class="mdc-icon-button mdc-icon-button--display-flex" aria-label=""><!--?lit$0157429536$-->
    <!--?lit$0157429536$-->
    <span><slot></slot></span>
  </button></template>
    <!--?lit$0157429536$--><md-icon aria-hidden="true"><template shadowrootmode="open"><!----><slot></slot></template><!--?lit$0157429536$-->format_list_bulleted</md-icon>
  </mwc-icon-button><!----><!----><mwc-icon-button class="markdown-toolbar-hr" title="Add horizontal rule"><template shadowrootmode="open"><!----><button class="mdc-icon-button mdc-icon-button--display-flex" aria-label=""><!--?lit$0157429536$-->
    <!--?lit$0157429536$-->
    <span><slot></slot></span>
  </button></template>
    <!--?lit$0157429536$--><md-icon aria-hidden="true"><template shadowrootmode="open"><!----><slot></slot></template><!--?lit$0157429536$-->horizontal_rule</md-icon>
  </mwc-icon-button><!----><!----><mwc-icon-button class="latex" title="LaTeX"><template shadowrootmode="open"><!----><button class="mdc-icon-button mdc-icon-button--display-flex" aria-label=""><!--?lit$0157429536$-->
    <!--?lit$0157429536$-->
    <span><slot></slot></span>
  </button></template>
    <!--?lit$0157429536$--><span>ψ</span>
  </mwc-icon-button><!----><!----><mwc-icon-button title="Insert emoji"><template shadowrootmode="open"><!----><button class="mdc-icon-button mdc-icon-button--display-flex" aria-label=""><!--?lit$0157429536$-->
    <!--?lit$0157429536$-->
    <span><slot></slot></span>
  </button></template>
    <!--?lit$0157429536$--><md-icon aria-hidden="true"><template shadowrootmode="open"><!----><slot></slot></template><!--?lit$0157429536$-->mood</md-icon>
  </mwc-icon-button><!----><!----><mwc-icon-button class="markdown-toolbar-preview" title="Reposition markdown preview"><template shadowrootmode="open"><!----><button class="mdc-icon-button mdc-icon-button--display-flex" aria-label=""><!--?lit$0157429536$-->
    <!--?lit$0157429536$-->
    <span><slot></slot></span>
  </button></template>
    <!--?lit$0157429536$--><md-icon aria-hidden="true"><template shadowrootmode="open"><!----><slot></slot></template><!--?lit$0157429536$--><svg viewBox="0 0 24 24"><!--?lit$0157429536$--><g id="markdown-preview-below">
  <rect width="20" height="18" x="2" y="2" rx="2" ry="2" style="fill:none;stroke:var(--colab-icon-color)"></rect>
  <line x1="4.5" y1="13" x2="19.5" y2="13" style="stroke:var(--colab-primary-text-color);stroke-dasharray:2"></line>
  <line x1="2.5" y1="4" x2="21.5" y2="4" style="stroke:var(--colab-icon-color);stroke-width:3px;"></line>
</g></svg></md-icon>
  </mwc-icon-button><!----><!--?--></div></div>
      <div class="editor-container horizontal">
        <div class="editor-root"><div class="editor flex monaco" data-keybinding-context="52" data-mode-id="markdown" style="height: 29px; --vscode-editorCodeLens-lineHeight: 16px; --vscode-editorCodeLens-fontSize: 12px; --vscode-editorCodeLens-fontFeatureSettings: &quot;liga&quot; off, &quot;calt&quot; off; display: none;"><div class="monaco-editor no-user-select  showUnused showDeprecated vs-dark" role="code" data-uri="inmemory://model/45" style="width: 729px; height: 29px;"><div data-mprt="3" class="overflow-guard" style="width: 729px; height: 29px;"><div class="margin" role="presentation" aria-hidden="true" style="position: absolute; contain: strict; will-change: unset; top: 0px; height: 29px; width: 6px;"><div class="glyph-margin" style="left: 0px; width: 0px; height: 29px;"></div><div class="margin-view-zones" role="presentation" aria-hidden="true" style="position: absolute;"></div><div class="margin-view-overlays" role="presentation" aria-hidden="true" style="position: absolute; font-family: monospace, Consolas, &quot;Courier New&quot;, monospace; font-weight: normal; font-size: 14px; font-feature-settings: &quot;liga&quot; 0, &quot;calt&quot; 0; font-variation-settings: normal; line-height: 19px; letter-spacing: 0px; width: 6px; height: 29px;"><div style="position:absolute;top:0px;width:100%;height:19px;"><div class="current-line current-line-margin-both" style="width:6px; height:19px;"></div></div></div><div class="glyph-margin-widgets" style="position: absolute; top: 0px;"></div></div><div class="monaco-scrollable-element editor-scrollable vs-dark" role="presentation" data-mprt="5" style="position: absolute; overflow: hidden; left: 6px; width: 723px; height: 29px;"><div class="lines-content monaco-editor-background" style="position: absolute; overflow: hidden; width: 1e+06px; height: 29px; contain: strict; will-change: unset; top: 0px; left: 0px;"><div class="view-overlays" role="presentation" aria-hidden="true" style="position: absolute; font-family: monospace, Consolas, &quot;Courier New&quot;, monospace; font-weight: normal; font-size: 14px; font-feature-settings: &quot;liga&quot; 0, &quot;calt&quot; 0; font-variation-settings: normal; line-height: 19px; letter-spacing: 0px; height: 0px; width: 723px;"><div style="position:absolute;top:0px;width:100%;height:19px;"><div class="current-line" style="width:723px; height:19px;"></div></div></div><div role="presentation" aria-hidden="true" class="view-rulers"></div><div class="view-zones" role="presentation" aria-hidden="true" style="position: absolute;"></div><div class="view-lines monaco-mouse-cursor-text" role="presentation" aria-hidden="true" data-mprt="7" style="position: absolute; font-family: monospace, Consolas, &quot;Courier New&quot;, monospace; font-weight: normal; font-size: 14px; font-feature-settings: &quot;liga&quot; 0, &quot;calt&quot; 0; font-variation-settings: normal; line-height: 19px; letter-spacing: 0px; width: 723px; height: 29px;"><div style="top:0px;height:19px;" class="view-line"><span><span class="mtk1">DEALING&nbsp;WITH&nbsp;NaN&nbsp;VALUES:</span></span></div></div><div data-mprt="1" class="contentWidgets" style="position: absolute; top: 0px;"><div class="lightBulbWidget codicon codicon-light-bulb" widgetid="LightBulbWidget" title="Show Code Actions (Ctrl+.)" style="position: absolute; display: none; visibility: hidden; max-width: 723px;"></div></div><div role="presentation" aria-hidden="true" class="cursors-layer cursor-line-style cursor-solid"><div class="cursor monaco-mouse-cursor-text " style="height: 19px; top: 0px; left: 185px; font-family: monospace, Consolas, &quot;Courier New&quot;, monospace; font-weight: normal; font-size: 14px; font-feature-settings: &quot;liga&quot; 0, &quot;calt&quot; 0; font-variation-settings: normal; line-height: 19px; letter-spacing: 0px; display: block; visibility: hidden; padding-left: 0px; width: 1.6px;"></div></div></div><div role="presentation" aria-hidden="true" class="invisible scrollbar horizontal" style="position: absolute; width: 709px; height: 10px; left: 0px; bottom: 0px;"><div class="slider" style="position: absolute; top: 0px; left: 0px; height: 10px; transform: translate3d(0px, 0px, 0px); contain: strict; will-change: unset; width: 709px;"></div></div><canvas class="decorationsOverviewRuler" aria-hidden="true" width="17" height="36" style="position: absolute; transform: translate3d(0px, 0px, 0px); contain: strict; top: 0px; right: 0px; width: 14px; height: 29px; will-change: unset; display: block;"></canvas><div role="presentation" aria-hidden="true" class="invisible scrollbar vertical" style="position: absolute; width: 14px; height: 29px; right: 0px; top: 0px;"><div class="slider" style="position: absolute; top: 0px; left: 0px; width: 14px; transform: translate3d(0px, 0px, 0px); contain: strict; will-change: unset; height: 29px;"></div></div></div><div role="presentation" aria-hidden="true" style="width: 729px;"></div><textarea data-mprt="6" class="inputarea monaco-mouse-cursor-text" wrap="on" autocorrect="off" autocapitalize="off" autocomplete="off" spellcheck="false" aria-label="Editor content;Press Alt+F1 for Accessibility Options." tabindex="0" role="textbox" aria-roledescription="editor" aria-multiline="true" aria-haspopup="false" aria-autocomplete="both" style="tab-size: 15.3984px; font-family: monospace, Consolas, &quot;Courier New&quot;, monospace; font-weight: normal; font-size: 14px; font-feature-settings: &quot;liga&quot; 0, &quot;calt&quot; 0; font-variation-settings: normal; line-height: 19px; letter-spacing: 0px; top: 0px; left: 6px; width: 616px; height: 1px;"></textarea><div style="position: absolute; top: 0px; left: 0px; width: 0px; height: 0px;" class="monaco-editor-background textAreaCover"></div><div data-mprt="4" class="overlayWidgets" style="width: 729px;"></div><div data-mprt="8" class="minimap slider-mouseover" role="presentation" aria-hidden="true" style="position: absolute; left: 0px; width: 0px; height: 29px;"><div class="minimap-shadow-hidden" style="height: 29px;"></div><canvas width="0" height="36" style="position: absolute; left: 0px; width: 0px; height: 29px;"></canvas><canvas class="minimap-decorations-layer" width="0" height="36" style="position: absolute; left: 0px; width: 0px; height: 29px;"></canvas><div class="minimap-slider" style="position: absolute; transform: translate3d(0px, 0px, 0px); contain: strict; width: 0px; will-change: unset;"><div class="minimap-slider-horizontal" style="position: absolute; width: 0px; height: 0px;"></div></div></div><div role="presentation" aria-hidden="true" class="blockDecorations-container"></div></div><div data-mprt="2" class="overflowingContentWidgets" style="display: none;"><div widgetid="editor.contrib.resizableContentHoverWidget" style="position: fixed; height: 10px; width: 10px; z-index: 50; display: none; visibility: hidden; max-width: 1536px;"><div class="monaco-sash vertical" style="left: 8px;"></div><div class="monaco-sash vertical" style="left: -2px;"></div><div class="monaco-sash orthogonal-edge-north horizontal" style="top: -2px;"><div class="orthogonal-drag-handle start"></div><div class="orthogonal-drag-handle end"></div></div><div class="monaco-sash orthogonal-edge-south horizontal" style="top: 8px;"><div class="orthogonal-drag-handle start"></div><div class="orthogonal-drag-handle end"></div></div><div class="monaco-hover hidden" tabindex="0" role="tooltip"><div class="monaco-scrollable-element " role="presentation" style="position: relative; overflow: hidden;"><div class="monaco-hover-content" style="overflow: hidden; font-size: 14px; line-height: 1.35714; max-width: 500px; max-height: 250px;"></div><div role="presentation" aria-hidden="true" class="invisible scrollbar horizontal" style="position: absolute;"><div class="slider" style="position: absolute; top: 0px; left: 0px; height: 10px; transform: translate3d(0px, 0px, 0px); contain: strict;"></div></div><div role="presentation" aria-hidden="true" class="invisible scrollbar vertical" style="position: absolute;"><div class="slider" style="position: absolute; top: 0px; left: 0px; width: 10px; transform: translate3d(0px, 0px, 0px); contain: strict;"></div></div><div class="shadow"></div><div class="shadow"></div><div class="shadow"></div></div></div></div></div><div class=".in-cell-overflowing"><div widgetid="editor.contrib.quickInputWidget" style="position: absolute; top: 0px; right: 50%;"></div></div></div></div></div>
        <div class="text-top-div">
          <div class="markdown"><span><p>DEALING WITH NaN VALUES:</p>
</span></div>
        </div>
      </div>

      <div class="section-header" style="display: none;">
        <colab-run-button role="button" aria-label="Run cell"><template shadowrootmode="open"><!----> <div class="cell-execution">
      <div class="execution-count"><!--?lit$0157429536$-->[ ]</div>
      <div class="cell-execution-indicator"> <!--?lit$0157429536$-->
<svg xmlns="http://www.w3.org/2000/svg" viewBox="0 0 24 24">
  <!--?lit$0157429536$-->
  <mask id="playSymbolMask">
    <rect width="100%" height="100%" fill="white"></rect>
    <polygon points="10,8 17,12 10,16" fill="black"></polygon>
  </mask>
  <circle cx="12" cy="12" r="7.8" mask="url(#playSymbolMask)" id="filledCircle"></circle>
</svg> </div>
      <!--?lit$0157429536$--><!--?-->
    </div></template></colab-run-button>
        <div class="section-header-container" title="click to expand">↳ 0 cells hidden</div>
      </div></div></div><div class="add-cell">
      <div class="add-cell-buttons">
        <md-outlined-button class="add-code add-button" aria-label="Add code cell
Ctrl+M B" title="Add code cell
Ctrl+M B" role="presentation" value="" has-icon=""><template shadowrootmode="open" shadowrootdelegatesfocus><!---->
      <!--?lit$0157429536$--><div class="outline"></div>
      <div class="background"></div>
      <md-focus-ring part="focus-ring" for="button" aria-hidden="true"><template shadowrootmode="open"><!----></template></md-focus-ring>
      <md-ripple for="button" aria-hidden="true"><template shadowrootmode="open"><!----><div class="surface"></div></template></md-ripple>
      <!--?lit$0157429536$--><button id="button" class="button" aria-label="Add code cell
Ctrl+M B">
      <!--?lit$0157429536$-->
      <span class="touch"></span>
      <!--?lit$0157429536$--><slot name="icon"></slot>
      <span class="label"><slot></slot></span>
      <!--?lit$0157429536$-->
    
    </button>
    </template>
          <md-icon slot="icon" aria-hidden="true"><template shadowrootmode="open"><!----><slot></slot></template>add</md-icon>
          <!--?lit$0157429536$-->Code
        </md-outlined-button>
        <md-outlined-button class="add-text add-button" aria-label="Add text cell" title="Add text cell" role="presentation" value="" has-icon=""><template shadowrootmode="open" shadowrootdelegatesfocus><!---->
      <!--?lit$0157429536$--><div class="outline"></div>
      <div class="background"></div>
      <md-focus-ring part="focus-ring" for="button" aria-hidden="true"><template shadowrootmode="open"><!----></template></md-focus-ring>
      <md-ripple for="button" aria-hidden="true"><template shadowrootmode="open"><!----><div class="surface   "></div></template></md-ripple>
      <!--?lit$0157429536$--><button id="button" class="button" aria-label="Add text cell">
      <!--?lit$0157429536$-->
      <span class="touch"></span>
      <!--?lit$0157429536$--><slot name="icon"></slot>
      <span class="label"><slot></slot></span>
      <!--?lit$0157429536$-->
    
    </button>
    </template>
          <md-icon slot="icon" aria-hidden="true"><template shadowrootmode="open"><!----><slot></slot></template>add</md-icon>
          <!--?lit$0157429536$-->Text
        </md-outlined-button>
        <!--?lit$0157429536$-->
      </div><hr>
    </div></div><div class="cell code icon-scrolling" id="cell-9iPSCOHqqEiW" tabindex="-1" role="region" aria-label="Cell 42: Code cell: " style="opacity: 1;"><div class="cell-tag-editor sticky"></div><div class="cell-toolbar sticky"></div><div class="main-content" elevation="0"><div class="cell-contents"><div class="cell-mask"></div><span class="imported-info-area"></span><div class="codecell-input-output">
      <div class="inputarea horizontal layout code">
        <div class="cell-gutter">
          <!-- Bounding range for vertical scrolling of icons -->
          <div class="cell-execution-container">
            <colab-run-button title="Run cell (Ctrl+Enter)
cell executed since last change

executed by Srinivasulu K
1:55 PM (13 minutes ago)
executed in 0.554s" role="button" aria-label="Run cell"><template shadowrootmode="open"><!----> <div class="cell-execution">
      <div class="execution-count"><!--?lit$0157429536$-->[47]</div>
      <div class="cell-execution-indicator"> <!--?lit$0157429536$-->
<svg xmlns="http://www.w3.org/2000/svg" viewBox="0 0 24 24">
  <!--?lit$0157429536$-->
  <mask id="playSymbolMask">
    <rect width="100%" height="100%" fill="white"></rect>
    <polygon points="10,8 17,12 10,16" fill="black"></polygon>
  </mask>
  <circle cx="12" cy="12" r="7.8" mask="url(#playSymbolMask)" id="filledCircle"></circle>
</svg> </div>
      <!--?lit$0157429536$--><div id="status">
      <md-icon aria-hidden="true"><template shadowrootmode="open"><!----><slot></slot></template><!--?lit$0157429536$--><svg viewBox="0 0 24 24"><!--?lit$0157429536$--><path d="M9 16.17L4.83 12l-1.42 1.41L9 19 21 7l-1.41-1.41z"></path></svg></md-icon>
      <div><!--?lit$0157429536$-->0s</div>
    </div>
    </div></template></colab-run-button>
          </div>
        </div>
      <div class="editor flex lazy-editor" style=""><pre class="lazy-virtualized" style="font-size: 14px; line-height: 19px;"><pre class="lazy-gutter"></pre><pre class="monaco-colorized colab-dark colab-dark colab-dark colab-dark colab-dark colab-dark colab-dark colab-dark" data-lang="notebook-python"><span><span class="mtk18">from</span><span class="mtk1">&nbsp;sklearn.impute&nbsp;</span><span class="mtk18">import</span><span class="mtk1">&nbsp;SimpleImputer</span></span><br><span><span class="mtk8">#&nbsp;Instantiate&nbsp;the&nbsp;SimpleImputer&nbsp;with&nbsp;a&nbsp;strategy&nbsp;to</span><span class="mtk8">&nbsp;fill&nbsp;missing&nbsp;values&nbsp;with&nbsp;the&nbsp;mean</span></span><br><span><span class="mtk1">imputer&nbsp;=&nbsp;SimpleImputer</span><span class="mtk12">(</span><span class="mtk1">strategy=</span><span class="mtk5">'mean'</span><span class="mtk12">)</span></span><br><span><span class="mtk1">X_imputed&nbsp;=&nbsp;imputer.fit_transform</span><span class="mtk12">(</span><span class="mtk1">X</span><span class="mtk12">)</span></span><br><span><span></span></span><br></pre><colab-read-only-cell-placeholder style="display: none;"><template shadowrootmode="open"><!----><div><!--?lit$0157429536$-->Start coding or <span tabindex="0" role="button" class="link">generate</span> with AI.</div></template></colab-read-only-cell-placeholder></pre></div><colab-form class="formview vertical layout flex"><div class="widget-area vertical layout"></div></colab-form></div>
    <div class="output"><!----> <div class="output-header"> </div>
        <div class="output-content" style="display: none;">
          <div class="output-info"><colab-output-info title="Clear output

executed by Srinivasulu K
1:55 PM (0 minutes ago)
executed in 0.554s" hovering=""><template shadowrootmode="open"><!----> <md-icon class="collaborator output" alt="Execution output" aria-hidden="true"><template shadowrootmode="open"><!----><slot></slot></template><!--?lit$0157429536$-->output</md-icon>
      <!--?lit$0157429536$--> <mwc-icon-button icon="cancel" command="clear-focused-or-selected-outputs" alt="Clear output"><template shadowrootmode="open"><!----><button class="mdc-icon-button mdc-icon-button--display-flex" aria-label="cancel"><!--?lit$0157429536$-->
    <!--?lit$0157429536$--><i class="material-icons"><!--?lit$0157429536$-->cancel</i>
    <span><slot></slot></span>
  </button></template>
          </mwc-icon-button><!--?--></template></colab-output-info></div>
          <div class="output-iframe-container">
            <div class="output-iframe-sizer" style="min-height: 0px;"> <div><div><colab-static-output-renderer tabindex="0" role="group"><div></div><div></div></colab-static-output-renderer></div></div></div>
          </div>
        </div></div></div><colab-cell-next-steps><template shadowrootmode="open"><!----></template></colab-cell-next-steps></div></div><div class="add-cell">
      <div class="add-cell-buttons">
        <md-outlined-button class="add-code add-button" aria-label="Add code cell
Ctrl+M B" title="Add code cell
Ctrl+M B" role="presentation" value="" has-icon=""><template shadowrootmode="open" shadowrootdelegatesfocus><!---->
      <!--?lit$0157429536$--><div class="outline"></div>
      <div class="background"></div>
      <md-focus-ring part="focus-ring" for="button" aria-hidden="true"><template shadowrootmode="open"><!----></template></md-focus-ring>
      <md-ripple for="button" aria-hidden="true"><template shadowrootmode="open"><!----><div class="surface"></div></template></md-ripple>
      <!--?lit$0157429536$--><button id="button" class="button" aria-label="Add code cell
Ctrl+M B">
      <!--?lit$0157429536$-->
      <span class="touch"></span>
      <!--?lit$0157429536$--><slot name="icon"></slot>
      <span class="label"><slot></slot></span>
      <!--?lit$0157429536$-->
    
    </button>
    </template>
          <md-icon slot="icon" aria-hidden="true"><template shadowrootmode="open"><!----><slot></slot></template>add</md-icon>
          <!--?lit$0157429536$-->Code
        </md-outlined-button>
        <md-outlined-button class="add-text add-button" aria-label="Add text cell" title="Add text cell" role="presentation" value="" has-icon=""><template shadowrootmode="open" shadowrootdelegatesfocus><!---->
      <!--?lit$0157429536$--><div class="outline"></div>
      <div class="background"></div>
      <md-focus-ring part="focus-ring" for="button" aria-hidden="true"><template shadowrootmode="open"><!----></template></md-focus-ring>
      <md-ripple for="button" aria-hidden="true"><template shadowrootmode="open"><!----><div class="surface   "></div></template></md-ripple>
      <!--?lit$0157429536$--><button id="button" class="button" aria-label="Add text cell">
      <!--?lit$0157429536$-->
      <span class="touch"></span>
      <!--?lit$0157429536$--><slot name="icon"></slot>
      <span class="label"><slot></slot></span>
      <!--?lit$0157429536$-->
    
    </button>
    </template>
          <md-icon slot="icon" aria-hidden="true"><template shadowrootmode="open"><!----><slot></slot></template>add</md-icon>
          <!--?lit$0157429536$-->Text
        </md-outlined-button>
        <!--?lit$0157429536$-->
      </div><hr>
    </div></div><div class="cell code icon-scrolling" id="cell-qaWaFQ1NqVE3" tabindex="-1" role="region" aria-label="Cell 43: Code cell: " style="opacity: 1;"><div class="cell-tag-editor sticky"></div><div class="cell-toolbar sticky"></div><div class="main-content" elevation="0"><div class="cell-contents"><div class="cell-mask"></div><span class="imported-info-area"></span><div class="codecell-input-output">
      <div class="inputarea horizontal layout code">
        <div class="cell-gutter">
          <!-- Bounding range for vertical scrolling of icons -->
          <div class="cell-execution-container">
            <colab-run-button title="Run cell (Ctrl+Enter)
cell executed since last change

executed by Srinivasulu K
1:55 PM (12 minutes ago)
executed in 0.401s" role="button" aria-label="Run cell"><template shadowrootmode="open"><!----> <div class="cell-execution">
      <div class="execution-count"><!--?lit$0157429536$-->[48]</div>
      <div class="cell-execution-indicator"> <!--?lit$0157429536$-->
<svg xmlns="http://www.w3.org/2000/svg" viewBox="0 0 24 24">
  <!--?lit$0157429536$-->
  <mask id="playSymbolMask">
    <rect width="100%" height="100%" fill="white"></rect>
    <polygon points="10,8 17,12 10,16" fill="black"></polygon>
  </mask>
  <circle cx="12" cy="12" r="7.8" mask="url(#playSymbolMask)" id="filledCircle"></circle>
</svg> </div>
      <!--?lit$0157429536$--><div id="status">
      <md-icon aria-hidden="true"><template shadowrootmode="open"><!----><slot></slot></template><!--?lit$0157429536$--><svg viewBox="0 0 24 24"><!--?lit$0157429536$--><path d="M9 16.17L4.83 12l-1.42 1.41L9 19 21 7l-1.41-1.41z"></path></svg></md-icon>
      <div><!--?lit$0157429536$-->0s</div>
    </div>
    </div></template></colab-run-button>
          </div>
        </div>
      <div class="editor flex lazy-editor" style=""><pre class="lazy-virtualized" style="font-size: 14px; line-height: 19px;"><pre class="lazy-gutter"></pre><pre class="monaco-colorized colab-dark colab-dark colab-dark colab-dark colab-dark colab-dark colab-dark colab-dark colab-dark" data-lang="notebook-python"><span><span></span></span><br><span><span class="mtk1">X_train</span><span class="mtk12">,</span><span class="mtk1">&nbsp;X_test</span><span class="mtk12">,</span><span class="mtk1">&nbsp;Y_train</span><span class="mtk12">,</span><span class="mtk1">&nbsp;Y_test&nbsp;=&nbsp;train_test_split</span><span class="mtk12">(</span><span class="mtk1">X_imputed</span><span class="mtk12">,</span><span class="mtk1">&nbsp;Y</span><span class="mtk12">,</span><span class="mtk1">&nbsp;test_size=</span><span class="mtk6">0.2</span><span class="mtk12">,</span><span class="mtk1">&nbsp;stratify=Y</span><span class="mtk12">,</span><span class="mtk1">&nbsp;random_state=</span><span class="mtk6">2</span><span class="mtk12">)</span></span><br></pre><colab-read-only-cell-placeholder style="display: none;"><template shadowrootmode="open"><!----><div><!--?lit$0157429536$-->Start coding or <span tabindex="0" role="button" class="link">generate</span> with AI.</div></template></colab-read-only-cell-placeholder></pre></div><colab-form class="formview vertical layout flex"><div class="widget-area vertical layout"></div></colab-form></div>
    <div class="output"><!----> <div class="output-header"> </div>
        <div class="output-content" style="display: none;">
          <div class="output-info"><colab-output-info title="Clear output

executed by Srinivasulu K
1:55 PM (0 minutes ago)
executed in 0.401s" hovering=""><template shadowrootmode="open"><!----> <md-icon class="collaborator output" alt="Execution output" aria-hidden="true"><template shadowrootmode="open"><!----><slot></slot></template><!--?lit$0157429536$-->output</md-icon>
      <!--?lit$0157429536$--> <mwc-icon-button icon="cancel" command="clear-focused-or-selected-outputs" alt="Clear output"><template shadowrootmode="open"><!----><button class="mdc-icon-button mdc-icon-button--display-flex" aria-label="cancel"><!--?lit$0157429536$-->
    <!--?lit$0157429536$--><i class="material-icons"><!--?lit$0157429536$-->cancel</i>
    <span><slot></slot></span>
  </button></template>
          </mwc-icon-button><!--?--></template></colab-output-info></div>
          <div class="output-iframe-container">
            <div class="output-iframe-sizer" style="min-height: 0px;"> <div><div><colab-static-output-renderer tabindex="0" role="group"><div></div><div></div></colab-static-output-renderer></div></div><div><div></div></div></div>
          </div>
        </div></div></div><colab-cell-next-steps><template shadowrootmode="open"><!----></template></colab-cell-next-steps></div></div><div class="add-cell">
      <div class="add-cell-buttons">
        <md-outlined-button class="add-code add-button" aria-label="Add code cell
Ctrl+M B" title="Add code cell
Ctrl+M B" role="presentation" value="" has-icon=""><template shadowrootmode="open" shadowrootdelegatesfocus><!---->
      <!--?lit$0157429536$--><div class="outline"></div>
      <div class="background"></div>
      <md-focus-ring part="focus-ring" for="button" aria-hidden="true"><template shadowrootmode="open"><!----></template></md-focus-ring>
      <md-ripple for="button" aria-hidden="true"><template shadowrootmode="open"><!----><div class="surface"></div></template></md-ripple>
      <!--?lit$0157429536$--><button id="button" class="button" aria-label="Add code cell
Ctrl+M B">
      <!--?lit$0157429536$-->
      <span class="touch"></span>
      <!--?lit$0157429536$--><slot name="icon"></slot>
      <span class="label"><slot></slot></span>
      <!--?lit$0157429536$-->
    
    </button>
    </template>
          <md-icon slot="icon" aria-hidden="true"><template shadowrootmode="open"><!----><slot></slot></template>add</md-icon>
          <!--?lit$0157429536$-->Code
        </md-outlined-button>
        <md-outlined-button class="add-text add-button" aria-label="Add text cell" title="Add text cell" role="presentation" value="" has-icon=""><template shadowrootmode="open" shadowrootdelegatesfocus><!---->
      <!--?lit$0157429536$--><div class="outline"></div>
      <div class="background"></div>
      <md-focus-ring part="focus-ring" for="button" aria-hidden="true"><template shadowrootmode="open"><!----></template></md-focus-ring>
      <md-ripple for="button" aria-hidden="true"><template shadowrootmode="open"><!----><div class="surface"></div></template></md-ripple>
      <!--?lit$0157429536$--><button id="button" class="button" aria-label="Add text cell">
      <!--?lit$0157429536$-->
      <span class="touch"></span>
      <!--?lit$0157429536$--><slot name="icon"></slot>
      <span class="label"><slot></slot></span>
      <!--?lit$0157429536$-->
    
    </button>
    </template>
          <md-icon slot="icon" aria-hidden="true"><template shadowrootmode="open"><!----><slot></slot></template>add</md-icon>
          <!--?lit$0157429536$-->Text
        </md-outlined-button>
        <!--?lit$0157429536$-->
      </div><hr>
    </div></div><div class="cell text" id="cell-wf24QmpDqklp" tabindex="-1" role="region" aria-label="Cell 44: Text cell: " style="opacity: 1;"><div class="cell-tag-editor sticky"></div><div class="cell-toolbar sticky"></div><div class="main-content" elevation="0"><div class="cell-contents"><div class="cell-mask"></div><span class="imported-info-area"></span><!----> <div class="toolbar-root"><div class="markdown-toolbar"><!----><!--?lit$0157429536$--><!----><mwc-icon-button class="markdown-toolbar-header" title="Toggle heading"><template shadowrootmode="open"><!----><button class="mdc-icon-button mdc-icon-button--display-flex" aria-label=""><!--?lit$0157429536$-->
    <!--?lit$0157429536$-->
    <span><slot></slot></span>
  </button></template>
    <!--?lit$0157429536$--><md-icon aria-hidden="true"><template shadowrootmode="open"><!----><slot></slot></template><!--?lit$0157429536$-->format_size</md-icon>
  </mwc-icon-button><!----><!----><mwc-icon-button class="markdown-toolbar-bold" title="Bold"><template shadowrootmode="open"><!----><button class="mdc-icon-button mdc-icon-button--display-flex" aria-label=""><!--?lit$0157429536$-->
    <!--?lit$0157429536$-->
    <span><slot></slot></span>
  </button></template>
    <!--?lit$0157429536$--><md-icon aria-hidden="true"><template shadowrootmode="open"><!----><slot></slot></template><!--?lit$0157429536$-->format_bold</md-icon>
  </mwc-icon-button><!----><!----><mwc-icon-button class="markdown-toolbar-italic" title="Italicize"><template shadowrootmode="open"><!----><button class="mdc-icon-button mdc-icon-button--display-flex" aria-label=""><!--?lit$0157429536$-->
    <!--?lit$0157429536$-->
    <span><slot></slot></span>
  </button></template>
    <!--?lit$0157429536$--><md-icon aria-hidden="true"><template shadowrootmode="open"><!----><slot></slot></template><!--?lit$0157429536$-->format_italic</md-icon>
  </mwc-icon-button><!----><!----><mwc-icon-button class="markdown-toolbar-code" title="Format as code"><template shadowrootmode="open"><!----><button class="mdc-icon-button mdc-icon-button--display-flex" aria-label=""><!--?lit$0157429536$-->
    <!--?lit$0157429536$-->
    <span><slot></slot></span>
  </button></template>
    <!--?lit$0157429536$--><md-icon aria-hidden="true"><template shadowrootmode="open"><!----><slot></slot></template><!--?lit$0157429536$-->code</md-icon>
  </mwc-icon-button><!----><!----><mwc-icon-button class="markdown-toolbar-link" title="Insert link"><template shadowrootmode="open"><!----><button class="mdc-icon-button mdc-icon-button--display-flex" aria-label=""><!--?lit$0157429536$-->
    <!--?lit$0157429536$-->
    <span><slot></slot></span>
  </button></template>
    <!--?lit$0157429536$--><md-icon aria-hidden="true"><template shadowrootmode="open"><!----><slot></slot></template><!--?lit$0157429536$-->link</md-icon>
  </mwc-icon-button><!----><!----><label for="markdown-image-input" class="colab-icon markdown-insert-image"><span role="button" tabindex="0" title="Insert image" aria-label="Insert image"><md-icon aria-hidden="true"><template shadowrootmode="open"><!----><slot></slot></template>image</md-icon></span></label><input id="markdown-image-input" type="file" multiple="" accept="image/*"><!----><!----><mwc-icon-button class="markdown-toolbar-blockquote" title="Add blockquote"><template shadowrootmode="open"><!----><button class="mdc-icon-button mdc-icon-button--display-flex" aria-label=""><!--?lit$0157429536$-->
    <!--?lit$0157429536$-->
    <span><slot></slot></span>
  </button></template>
    <!--?lit$0157429536$--><md-icon aria-hidden="true"><template shadowrootmode="open"><!----><slot></slot></template><!--?lit$0157429536$-->format_quote</md-icon>
  </mwc-icon-button><!----><!----><mwc-icon-button class="markdown-toolbar-ol" title="Add numbered list"><template shadowrootmode="open"><!----><button class="mdc-icon-button mdc-icon-button--display-flex" aria-label=""><!--?lit$0157429536$-->
    <!--?lit$0157429536$-->
    <span><slot></slot></span>
  </button></template>
    <!--?lit$0157429536$--><md-icon aria-hidden="true"><template shadowrootmode="open"><!----><slot></slot></template><!--?lit$0157429536$-->format_list_numbered</md-icon>
  </mwc-icon-button><!----><!----><mwc-icon-button class="markdown-toolbar-ul" title="Add bulleted list"><template shadowrootmode="open"><!----><button class="mdc-icon-button mdc-icon-button--display-flex" aria-label=""><!--?lit$0157429536$-->
            <mwc-ripple unbounded=""><template shadowrootmode="open"><!---->
        <div class="mdc-ripple-surface mdc-ripple-upgraded mdc-ripple-upgraded--unbounded" style="--mdc-ripple-fg-scale: 1.6666666666666667; --mdc-ripple-fg-size: 24px; --mdc-ripple-left: 8px; --mdc-ripple-top: 8px;"></div></template>
            </mwc-ripple>
    <!--?lit$0157429536$-->
    <span><slot></slot></span>
  </button></template>
    <!--?lit$0157429536$--><md-icon aria-hidden="true"><template shadowrootmode="open"><!----><slot></slot></template><!--?lit$0157429536$-->format_list_bulleted</md-icon>
  </mwc-icon-button><!----><!----><mwc-icon-button class="markdown-toolbar-hr" title="Add horizontal rule"><template shadowrootmode="open"><!----><button class="mdc-icon-button mdc-icon-button--display-flex" aria-label=""><!--?lit$0157429536$-->
            <mwc-ripple unbounded=""><template shadowrootmode="open"><!---->
        <div class="mdc-ripple-surface mdc-ripple-upgraded mdc-ripple-upgraded--unbounded" style="--mdc-ripple-fg-scale: 1.6666666666666667; --mdc-ripple-fg-size: 24px; --mdc-ripple-left: 8px; --mdc-ripple-top: 8px;"></div></template>
            </mwc-ripple>
    <!--?lit$0157429536$-->
    <span><slot></slot></span>
  </button></template>
    <!--?lit$0157429536$--><md-icon aria-hidden="true"><template shadowrootmode="open"><!----><slot></slot></template><!--?lit$0157429536$-->horizontal_rule</md-icon>
  </mwc-icon-button><!----><!----><mwc-icon-button class="latex" title="LaTeX"><template shadowrootmode="open"><!----><button class="mdc-icon-button mdc-icon-button--display-flex" aria-label=""><!--?lit$0157429536$-->
            <mwc-ripple unbounded=""><template shadowrootmode="open"><!---->
        <div class="mdc-ripple-surface mdc-ripple-upgraded mdc-ripple-upgraded--unbounded" style="--mdc-ripple-fg-scale: 1.6666666666666667; --mdc-ripple-fg-size: 24px; --mdc-ripple-left: 8px; --mdc-ripple-top: 8px;"></div></template>
            </mwc-ripple>
    <!--?lit$0157429536$-->
    <span><slot></slot></span>
  </button></template>
    <!--?lit$0157429536$--><span>ψ</span>
  </mwc-icon-button><!----><!----><mwc-icon-button title="Insert emoji"><template shadowrootmode="open"><!----><button class="mdc-icon-button mdc-icon-button--display-flex" aria-label=""><!--?lit$0157429536$-->
            <mwc-ripple unbounded=""><template shadowrootmode="open"><!---->
        <div class="mdc-ripple-surface mdc-ripple-upgraded mdc-ripple-upgraded--unbounded" style="--mdc-ripple-fg-scale: 1.6666666666666667; --mdc-ripple-fg-size: 24px; --mdc-ripple-left: 8px; --mdc-ripple-top: 8px;"></div></template>
            </mwc-ripple>
    <!--?lit$0157429536$-->
    <span><slot></slot></span>
  </button></template>
    <!--?lit$0157429536$--><md-icon aria-hidden="true"><template shadowrootmode="open"><!----><slot></slot></template><!--?lit$0157429536$-->mood</md-icon>
  </mwc-icon-button><!----><!----><mwc-icon-button class="markdown-toolbar-preview" title="Reposition markdown preview"><template shadowrootmode="open"><!----><button class="mdc-icon-button mdc-icon-button--display-flex" aria-label=""><!--?lit$0157429536$-->
            <mwc-ripple unbounded=""><template shadowrootmode="open"><!---->
        <div class="mdc-ripple-surface mdc-ripple-upgraded mdc-ripple-upgraded--unbounded" style="--mdc-ripple-fg-scale: 1.6666666666666667; --mdc-ripple-fg-size: 24px; --mdc-ripple-left: 8px; --mdc-ripple-top: 8px;"></div></template>
            </mwc-ripple>
    <!--?lit$0157429536$-->
    <span><slot></slot></span>
  </button></template>
    <!--?lit$0157429536$--><md-icon aria-hidden="true"><template shadowrootmode="open"><!----><slot></slot></template><!--?lit$0157429536$--><svg viewBox="0 0 24 24"><!--?lit$0157429536$--><g id="markdown-preview-below">
  <rect width="20" height="18" x="2" y="2" rx="2" ry="2" style="fill:none;stroke:var(--colab-icon-color)"></rect>
  <line x1="4.5" y1="13" x2="19.5" y2="13" style="stroke:var(--colab-primary-text-color);stroke-dasharray:2"></line>
  <line x1="2.5" y1="4" x2="21.5" y2="4" style="stroke:var(--colab-icon-color);stroke-width:3px;"></line>
</g></svg></md-icon>
  </mwc-icon-button><!----><!--?--></div></div>
      <div class="editor-container horizontal">
        <div class="editor-root"><div class="editor flex monaco" data-keybinding-context="57" data-mode-id="markdown" style="height: 124px; --vscode-editorCodeLens-lineHeight: 16px; --vscode-editorCodeLens-fontSize: 12px; --vscode-editorCodeLens-fontFeatureSettings: &quot;liga&quot; off, &quot;calt&quot; off; display: none;"><div class="monaco-editor no-user-select  showUnused showDeprecated vs-dark" role="code" data-uri="inmemory://model/50" style="width: 729px; height: 124px;"><div data-mprt="3" class="overflow-guard" style="width: 729px; height: 124px;"><div class="margin" role="presentation" aria-hidden="true" style="position: absolute; contain: strict; will-change: unset; top: 0px; height: 124px; width: 6px;"><div class="glyph-margin" style="left: 0px; width: 0px; height: 124px;"></div><div class="margin-view-zones" role="presentation" aria-hidden="true" style="position: absolute;"></div><div class="margin-view-overlays" role="presentation" aria-hidden="true" style="position: absolute; font-family: monospace, Consolas, &quot;Courier New&quot;, monospace; font-weight: normal; font-size: 14px; font-feature-settings: &quot;liga&quot; 0, &quot;calt&quot; 0; font-variation-settings: normal; line-height: 19px; letter-spacing: 0px; width: 6px; height: 124px;"><div style="position:absolute;top:0px;width:100%;height:19px;"></div><div style="position:absolute;top:19px;width:100%;height:19px;"></div><div style="position:absolute;top:38px;width:100%;height:19px;"></div><div style="position:absolute;top:57px;width:100%;height:19px;"></div><div style="position:absolute;top:76px;width:100%;height:19px;"></div><div style="position:absolute;top:95px;width:100%;height:19px;"><div class="current-line current-line-margin-both" style="width:6px; height:19px;"></div></div></div><div class="glyph-margin-widgets" style="position: absolute; top: 0px;"></div></div><div class="monaco-scrollable-element editor-scrollable vs-dark" role="presentation" data-mprt="5" style="position: absolute; overflow: hidden; left: 6px; width: 723px; height: 124px;"><div class="lines-content monaco-editor-background" style="position: absolute; overflow: hidden; width: 1e+06px; height: 124px; contain: strict; will-change: unset; top: 0px; left: 0px;"><div class="view-overlays" role="presentation" aria-hidden="true" style="position: absolute; font-family: monospace, Consolas, &quot;Courier New&quot;, monospace; font-weight: normal; font-size: 14px; font-feature-settings: &quot;liga&quot; 0, &quot;calt&quot; 0; font-variation-settings: normal; line-height: 19px; letter-spacing: 0px; height: 0px; width: 723px;"><div style="position:absolute;top:0px;width:100%;height:19px;"></div><div style="position:absolute;top:19px;width:100%;height:19px;"></div><div style="position:absolute;top:38px;width:100%;height:19px;"></div><div style="position:absolute;top:57px;width:100%;height:19px;"></div><div style="position:absolute;top:76px;width:100%;height:19px;"></div><div style="position:absolute;top:95px;width:100%;height:19px;"><div class="current-line" style="width:723px; height:19px;"></div></div></div><div role="presentation" aria-hidden="true" class="view-rulers"><div class="view-ruler" style="width: 2px; height: 124px; left: 615.938px;"></div></div><div class="view-zones" role="presentation" aria-hidden="true" style="position: absolute;"></div><div class="view-lines monaco-mouse-cursor-text" role="presentation" aria-hidden="true" data-mprt="7" style="position: absolute; font-family: monospace, Consolas, &quot;Courier New&quot;, monospace; font-weight: normal; font-size: 14px; font-feature-settings: &quot;liga&quot; 0, &quot;calt&quot; 0; font-variation-settings: normal; line-height: 19px; letter-spacing: 0px; width: 723px; height: 124px;"><div style="top:0px;height:19px;" class="view-line"><span><span class="mtk1">LOGISTIC&nbsp;REGRESSION&nbsp;:</span></span></div><div style="top:19px;height:19px;" class="view-line"><span><span></span></span></div><div style="top:38px;height:19px;" class="view-line"><span><span class="mtk1">data&nbsp;contains&nbsp;NaN&nbsp;values&nbsp;in&nbsp;the&nbsp;Anomaly&nbsp;column&nbsp;of&nbsp;</span><span class="mtk1">X,Logistic&nbsp;regression&nbsp;does&nbsp;</span></span></div><div style="top:57px;height:19px;" class="view-line"><span><span class="mtk1">not&nbsp;accept&nbsp;missing&nbsp;values&nbsp;encoded&nbsp;as&nbsp;NaN&nbsp;natively,</span><span class="mtk1">&nbsp;and&nbsp;it's&nbsp;important&nbsp;to&nbsp;handle&nbsp;</span></span></div><div style="top:76px;height:19px;" class="view-line"><span><span class="mtk1">missing&nbsp;values&nbsp;before&nbsp;training&nbsp;the&nbsp;model&nbsp;so&nbsp;...&nbsp;Im</span><span class="mtk1">putation:&nbsp;If&nbsp;dropping&nbsp;rows&nbsp;is&nbsp;</span></span></div><div style="top:95px;height:19px;" class="view-line"><span><span class="mtk1">not&nbsp;suitable,&nbsp;you&nbsp;can&nbsp;impute&nbsp;the&nbsp;missing&nbsp;values&nbsp;us</span><span class="mtk1">ing&nbsp;various&nbsp;techniques.</span></span></div></div><div data-mprt="1" class="contentWidgets" style="position: absolute; top: 0px;"><div class="lightBulbWidget codicon codicon-light-bulb" widgetid="LightBulbWidget" title="Show Code Actions (Ctrl+.)" style="position: absolute; display: none; visibility: hidden; max-width: 723px;"></div></div><div role="presentation" aria-hidden="true" class="cursors-layer cursor-line-style cursor-solid"><div class="cursor monaco-mouse-cursor-text " style="height: 19px; top: 95px; left: 562px; font-family: monospace, Consolas, &quot;Courier New&quot;, monospace; font-weight: normal; font-size: 14px; font-feature-settings: &quot;liga&quot; 0, &quot;calt&quot; 0; font-variation-settings: normal; line-height: 19px; letter-spacing: 0px; display: block; visibility: hidden; padding-left: 0px; width: 1.6px;"></div></div></div><div role="presentation" aria-hidden="true" class="invisible scrollbar horizontal" style="position: absolute; width: 709px; height: 10px; left: 0px; bottom: 0px;"><div class="slider" style="position: absolute; top: 0px; left: 0px; height: 10px; transform: translate3d(0px, 0px, 0px); contain: strict; will-change: unset; width: 709px;"></div></div><canvas class="decorationsOverviewRuler" aria-hidden="true" width="17" height="155" style="position: absolute; transform: translate3d(0px, 0px, 0px); contain: strict; top: 0px; right: 0px; width: 14px; height: 124px; will-change: unset; display: block;"></canvas><div role="presentation" aria-hidden="true" class="invisible scrollbar vertical" style="position: absolute; width: 14px; height: 124px; right: 0px; top: 0px;"><div class="slider" style="position: absolute; top: 0px; left: 0px; width: 14px; transform: translate3d(0px, 0px, 0px); contain: strict; will-change: unset; height: 124px;"></div></div></div><div role="presentation" aria-hidden="true" style="width: 729px;"></div><textarea data-mprt="6" class="inputarea monaco-mouse-cursor-text" wrap="on" autocorrect="off" autocapitalize="off" autocomplete="off" spellcheck="false" aria-label="Editor content;Press Alt+F1 for Accessibility Options." tabindex="0" role="textbox" aria-roledescription="editor" aria-multiline="true" aria-haspopup="false" aria-autocomplete="both" style="tab-size: 15.3984px; font-family: monospace, Consolas, &quot;Courier New&quot;, monospace; font-weight: normal; font-size: 14px; font-feature-settings: &quot;liga&quot; 0, &quot;calt&quot; 0; font-variation-settings: normal; line-height: 19px; letter-spacing: 0px; top: 95px; left: 6px; width: 616px; height: 1px;"></textarea><div style="position: absolute; top: 0px; left: 0px; width: 0px; height: 0px;" class="monaco-editor-background textAreaCover"></div><div data-mprt="4" class="overlayWidgets" style="width: 729px;"></div><div data-mprt="8" class="minimap slider-mouseover" role="presentation" aria-hidden="true" style="position: absolute; left: 0px; width: 0px; height: 124px;"><div class="minimap-shadow-hidden" style="height: 124px;"></div><canvas width="0" height="155" style="position: absolute; left: 0px; width: 0px; height: 124px;"></canvas><canvas class="minimap-decorations-layer" width="0" height="155" style="position: absolute; left: 0px; width: 0px; height: 124px;"></canvas><div class="minimap-slider" style="position: absolute; transform: translate3d(0px, 0px, 0px); contain: strict; width: 0px; will-change: unset;"><div class="minimap-slider-horizontal" style="position: absolute; width: 0px; height: 0px;"></div></div></div><div role="presentation" aria-hidden="true" class="blockDecorations-container"></div></div><div data-mprt="2" class="overflowingContentWidgets" style="display: none;"><div widgetid="editor.contrib.resizableContentHoverWidget" style="position: fixed; height: 10px; width: 10px; z-index: 50; display: none; visibility: hidden; max-width: 1536px;"><div class="monaco-sash vertical" style="left: 8px;"></div><div class="monaco-sash vertical" style="left: -2px;"></div><div class="monaco-sash orthogonal-edge-north horizontal" style="top: -2px;"><div class="orthogonal-drag-handle start"></div><div class="orthogonal-drag-handle end"></div></div><div class="monaco-sash orthogonal-edge-south horizontal" style="top: 8px;"><div class="orthogonal-drag-handle start"></div><div class="orthogonal-drag-handle end"></div></div><div class="monaco-hover hidden" tabindex="0" role="tooltip"><div class="monaco-scrollable-element " role="presentation" style="position: relative; overflow: hidden;"><div class="monaco-hover-content" style="overflow: hidden; font-size: 14px; line-height: 1.35714; max-width: 500px; max-height: 250px;"></div><div role="presentation" aria-hidden="true" class="invisible scrollbar horizontal" style="position: absolute;"><div class="slider" style="position: absolute; top: 0px; left: 0px; height: 10px; transform: translate3d(0px, 0px, 0px); contain: strict;"></div></div><div role="presentation" aria-hidden="true" class="invisible scrollbar vertical" style="position: absolute;"><div class="slider" style="position: absolute; top: 0px; left: 0px; width: 10px; transform: translate3d(0px, 0px, 0px); contain: strict;"></div></div><div class="shadow"></div><div class="shadow"></div><div class="shadow"></div></div></div></div></div><div class=".in-cell-overflowing"><div widgetid="editor.contrib.quickInputWidget" style="position: absolute; top: 0px; right: 50%;"></div></div></div></div></div>
        <div class="text-top-div">
          <div class="markdown"><span><p>LOGISTIC REGRESSION :</p>
<p>data contains NaN values in the Anomaly column of X,Logistic regression does not accept missing values encoded as NaN natively, and it's important to handle missing values before training the model so ... Imputation: If dropping rows is not suitable, you can impute the missing values using various techniques.</p>
</span></div>
        </div>
      </div>

      <div class="section-header" style="display: none;">
        <colab-run-button role="button" aria-label="Run cell"><template shadowrootmode="open"><!----> <div class="cell-execution">
      <div class="execution-count"><!--?lit$0157429536$-->[ ]</div>
      <div class="cell-execution-indicator"> <!--?lit$0157429536$-->
<svg xmlns="http://www.w3.org/2000/svg" viewBox="0 0 24 24">
  <!--?lit$0157429536$-->
  <mask id="playSymbolMask">
    <rect width="100%" height="100%" fill="white"></rect>
    <polygon points="10,8 17,12 10,16" fill="black"></polygon>
  </mask>
  <circle cx="12" cy="12" r="7.8" mask="url(#playSymbolMask)" id="filledCircle"></circle>
</svg> </div>
      <!--?lit$0157429536$--><!--?-->
    </div></template></colab-run-button>
        <div class="section-header-container" title="click to expand">↳ 0 cells hidden</div>
      </div></div></div><div class="add-cell">
      <div class="add-cell-buttons">
        <md-outlined-button class="add-code add-button" aria-label="Add code cell
Ctrl+M B" title="Add code cell
Ctrl+M B" role="presentation" value="" has-icon=""><template shadowrootmode="open" shadowrootdelegatesfocus><!---->
      <!--?lit$0157429536$--><div class="outline"></div>
      <div class="background"></div>
      <md-focus-ring part="focus-ring" for="button" aria-hidden="true"><template shadowrootmode="open"><!----></template></md-focus-ring>
      <md-ripple for="button" aria-hidden="true"><template shadowrootmode="open"><!----><div class="surface"></div></template></md-ripple>
      <!--?lit$0157429536$--><button id="button" class="button" aria-label="Add code cell
Ctrl+M B">
      <!--?lit$0157429536$-->
      <span class="touch"></span>
      <!--?lit$0157429536$--><slot name="icon"></slot>
      <span class="label"><slot></slot></span>
      <!--?lit$0157429536$-->
    
    </button>
    </template>
          <md-icon slot="icon" aria-hidden="true"><template shadowrootmode="open"><!----><slot></slot></template>add</md-icon>
          <!--?lit$0157429536$-->Code
        </md-outlined-button>
        <md-outlined-button class="add-text add-button" aria-label="Add text cell" title="Add text cell" role="presentation" value="" has-icon=""><template shadowrootmode="open" shadowrootdelegatesfocus><!---->
      <!--?lit$0157429536$--><div class="outline"></div>
      <div class="background"></div>
      <md-focus-ring part="focus-ring" for="button" aria-hidden="true"><template shadowrootmode="open"><!----></template></md-focus-ring>
      <md-ripple for="button" aria-hidden="true"><template shadowrootmode="open"><!----><div class="surface   "></div></template></md-ripple>
      <!--?lit$0157429536$--><button id="button" class="button" aria-label="Add text cell">
      <!--?lit$0157429536$-->
      <span class="touch"></span>
      <!--?lit$0157429536$--><slot name="icon"></slot>
      <span class="label"><slot></slot></span>
      <!--?lit$0157429536$-->
    
    </button>
    </template>
          <md-icon slot="icon" aria-hidden="true"><template shadowrootmode="open"><!----><slot></slot></template>add</md-icon>
          <!--?lit$0157429536$-->Text
        </md-outlined-button>
        <!--?lit$0157429536$-->
      </div><hr>
    </div></div><div class="cell code icon-scrolling" id="cell-4QTjEgXqql8n" tabindex="-1" role="region" aria-label="Cell 45: Code cell: " style="opacity: 1;"><div class="cell-tag-editor sticky"></div><div class="cell-toolbar sticky"></div><div class="main-content" elevation="0"><div class="cell-contents"><div class="cell-mask"></div><span class="imported-info-area"></span><div class="codecell-input-output">
      <div class="inputarea horizontal layout code">
        <div class="cell-gutter">
          <!-- Bounding range for vertical scrolling of icons -->
          <div class="cell-execution-container">
            <colab-run-button title="Run cell (Ctrl+Enter)
cell executed since last change

executed by Srinivasulu K
2:03 PM (4 minutes ago)
executed in 0.412s" role="button" aria-label="Run cell"><template shadowrootmode="open"><!----> <div class="cell-execution hovered">
      <div class="execution-count"><!--?lit$0157429536$-->[59]</div>
      <div class="cell-execution-indicator"> <!--?lit$0157429536$-->
<svg xmlns="http://www.w3.org/2000/svg" viewBox="0 0 24 24">
  <!--?lit$0157429536$-->
  <mask id="playSymbolMask">
    <rect width="100%" height="100%" fill="white"></rect>
    <polygon points="10,8 17,12 10,16" fill="black"></polygon>
  </mask>
  <circle cx="12" cy="12" r="7.8" mask="url(#playSymbolMask)" id="filledCircle"></circle>
</svg> </div>
      <!--?lit$0157429536$--><div id="status">
      <md-icon aria-hidden="true"><template shadowrootmode="open"><!----><slot></slot></template><!--?lit$0157429536$--><svg viewBox="0 0 24 24"><!--?lit$0157429536$--><path d="M9 16.17L4.83 12l-1.42 1.41L9 19 21 7l-1.41-1.41z"></path></svg></md-icon>
      <div><!--?lit$0157429536$-->0s</div>
    </div>
    </div></template></colab-run-button>
          </div>
        </div>
      <div class="editor flex lazy-editor" style=""><pre class="lazy-virtualized" style="font-size: 14px; line-height: 19px;"><pre class="lazy-gutter"></pre><pre class="monaco-colorized colab-dark colab-dark colab-dark colab-dark colab-dark colab-dark colab-dark colab-dark colab-dark" data-lang="notebook-python"><span><span class="mtk1">model&nbsp;=&nbsp;LogisticRegression</span><span class="mtk12">()</span></span><br><span><span class="mtk1">&nbsp;&nbsp;&nbsp;&nbsp;&nbsp;</span></span><br></pre><colab-read-only-cell-placeholder style="display: none;"><template shadowrootmode="open"><!----><div><!--?lit$0157429536$-->Start coding or <span tabindex="0" role="button" class="link">generate</span> with AI.</div></template></colab-read-only-cell-placeholder></pre></div><colab-form class="formview vertical layout flex"><div class="widget-area vertical layout"></div></colab-form></div>
    <div class="output"><!----> <div class="output-header"> </div>
        <div class="output-content" style="display: none;">
          <div class="output-info"><colab-output-info title="Clear output

executed by Srinivasulu K
2:03 PM (0 minutes ago)
executed in 0.412s" hovering=""><template shadowrootmode="open"><!----> <md-icon class="collaborator output" alt="Execution output" aria-hidden="true"><template shadowrootmode="open"><!----><slot></slot></template><!--?lit$0157429536$-->output</md-icon>
      <!--?lit$0157429536$--> <mwc-icon-button icon="cancel" command="clear-focused-or-selected-outputs" alt="Clear output"><template shadowrootmode="open"><!----><button class="mdc-icon-button mdc-icon-button--display-flex" aria-label="cancel"><!--?lit$0157429536$-->
    <!--?lit$0157429536$--><i class="material-icons"><!--?lit$0157429536$-->cancel</i>
    <span><slot></slot></span>
  </button></template>
          </mwc-icon-button><!--?--></template></colab-output-info></div>
          <div class="output-iframe-container">
            <div class="output-iframe-sizer" style="min-height: 0px;"> <div><div><colab-static-output-renderer tabindex="0" role="group"><div></div><div></div></colab-static-output-renderer></div></div></div>
          </div>
        </div></div></div><colab-cell-next-steps><template shadowrootmode="open"><!----></template></colab-cell-next-steps></div></div><div class="add-cell">
      <div class="add-cell-buttons">
        <md-outlined-button class="add-code add-button" aria-label="Add code cell
Ctrl+M B" title="Add code cell
Ctrl+M B" role="presentation" value="" has-icon=""><template shadowrootmode="open" shadowrootdelegatesfocus><!---->
      <!--?lit$0157429536$--><div class="outline"></div>
      <div class="background"></div>
      <md-focus-ring part="focus-ring" for="button" aria-hidden="true"><template shadowrootmode="open"><!----></template></md-focus-ring>
      <md-ripple for="button" aria-hidden="true"><template shadowrootmode="open"><!----><div class="surface"></div></template></md-ripple>
      <!--?lit$0157429536$--><button id="button" class="button" aria-label="Add code cell
Ctrl+M B">
      <!--?lit$0157429536$-->
      <span class="touch"></span>
      <!--?lit$0157429536$--><slot name="icon"></slot>
      <span class="label"><slot></slot></span>
      <!--?lit$0157429536$-->
    
    </button>
    </template>
          <md-icon slot="icon" aria-hidden="true"><template shadowrootmode="open"><!----><slot></slot></template>add</md-icon>
          <!--?lit$0157429536$-->Code
        </md-outlined-button>
        <md-outlined-button class="add-text add-button" aria-label="Add text cell" title="Add text cell" role="presentation" value="" has-icon=""><template shadowrootmode="open" shadowrootdelegatesfocus><!---->
      <!--?lit$0157429536$--><div class="outline"></div>
      <div class="background"></div>
      <md-focus-ring part="focus-ring" for="button" aria-hidden="true"><template shadowrootmode="open"><!----></template></md-focus-ring>
      <md-ripple for="button" aria-hidden="true"><template shadowrootmode="open"><!----><div class="surface"></div></template></md-ripple>
      <!--?lit$0157429536$--><button id="button" class="button" aria-label="Add text cell">
      <!--?lit$0157429536$-->
      <span class="touch"></span>
      <!--?lit$0157429536$--><slot name="icon"></slot>
      <span class="label"><slot></slot></span>
      <!--?lit$0157429536$-->
    
    </button>
    </template>
          <md-icon slot="icon" aria-hidden="true"><template shadowrootmode="open"><!----><slot></slot></template>add</md-icon>
          <!--?lit$0157429536$-->Text
        </md-outlined-button>
        <!--?lit$0157429536$-->
      </div><hr>
    </div></div><div class="cell code icon-scrolling code-has-output" id="cell-V0qWla_9rQKg" tabindex="-1" role="region" aria-label="Cell 46: Code cell: " style="opacity: 1;"><div class="cell-tag-editor sticky"></div><div class="cell-toolbar sticky"></div><div class="main-content" elevation="0"><div class="cell-contents"><div class="cell-mask"></div><span class="imported-info-area"></span><div class="codecell-input-output">
      <div class="inputarea horizontal layout code">
        <div class="cell-gutter">
          <!-- Bounding range for vertical scrolling of icons -->
          <div class="cell-execution-container">
            <colab-run-button title="Run cell (Ctrl+Enter)
cell executed since last change

executed by Srinivasulu K
1:59 PM (9 minutes ago)
executed in 0.003s" role="button" aria-label="Run cell"><template shadowrootmode="open"><!----> <div class="cell-execution">
      <div class="execution-count"><!--?lit$0157429536$-->[53]</div>
      <div class="cell-execution-indicator"> <!--?lit$0157429536$-->
<svg xmlns="http://www.w3.org/2000/svg" viewBox="0 0 24 24">
  <!--?lit$0157429536$-->
  <mask id="playSymbolMask">
    <rect width="100%" height="100%" fill="white"></rect>
    <polygon points="10,8 17,12 10,16" fill="black"></polygon>
  </mask>
  <circle cx="12" cy="12" r="7.8" mask="url(#playSymbolMask)" id="filledCircle"></circle>
</svg> </div>
      <!--?lit$0157429536$--><div id="status">
      <md-icon aria-hidden="true"><template shadowrootmode="open"><!----><slot></slot></template><!--?lit$0157429536$--><svg viewBox="0 0 24 24"><!--?lit$0157429536$--><path d="M9 16.17L4.83 12l-1.42 1.41L9 19 21 7l-1.41-1.41z"></path></svg></md-icon>
      <div><!--?lit$0157429536$-->0s</div>
    </div>
    </div></template></colab-run-button>
          </div>
        </div>
      <div class="editor flex lazy-editor" style=""><pre class="lazy-virtualized" style="font-size: 14px; line-height: 19px;"><pre class="lazy-gutter"></pre><pre class="monaco-colorized colab-dark colab-dark colab-dark colab-dark colab-dark colab-dark colab-dark colab-dark colab-dark" data-lang="notebook-python"><span><span class="mtk15">print</span><span class="mtk12">(</span><span class="mtk1">Y_train.value_counts</span><span class="mtk12">())</span></span><br></pre><colab-read-only-cell-placeholder style="display: none;"><template shadowrootmode="open"><!----><div><!--?lit$0157429536$-->Start coding or <span tabindex="0" role="button" class="link">generate</span> with AI.</div></template></colab-read-only-cell-placeholder></pre></div><colab-form class="formview vertical layout flex"><div class="widget-area vertical layout"></div></colab-form></div>
    <div class="output"><!----> <div class="output-header"> </div>
        <div class="output-content" style="">
          <div class="output-info"><colab-output-info title="Clear output

executed by Srinivasulu K
1:59 PM (4 minutes ago)
executed in 0.003s" hovering=""><template shadowrootmode="open"><!----> <md-icon class="collaborator output" alt="Execution output" aria-hidden="true"><template shadowrootmode="open"><!----><slot></slot></template><!--?lit$0157429536$-->output</md-icon>
      <!--?lit$0157429536$--> <mwc-icon-button icon="cancel" command="clear-focused-or-selected-outputs" alt="Clear output"><template shadowrootmode="open"><!----><button class="mdc-icon-button mdc-icon-button--display-flex" aria-label="cancel"><!--?lit$0157429536$-->
            <mwc-ripple unbounded=""><template shadowrootmode="open"><!---->
        <div class="mdc-ripple-surface mdc-ripple-upgraded mdc-ripple-upgraded--unbounded" style="--mdc-ripple-fg-scale: 1.7142857142857142; --mdc-ripple-fg-size: 14px; --mdc-ripple-left: 5px; --mdc-ripple-top: 5px;"></div></template>
            </mwc-ripple>
    <!--?lit$0157429536$--><i class="material-icons"><!--?lit$0157429536$-->cancel</i>
    <span><slot></slot></span>
  </button></template>
          </mwc-icon-button><!--?--></template></colab-output-info></div>
          <div class="output-iframe-container">
            <div class="output-iframe-sizer" style="min-height: 0px;"> <div><div><colab-static-output-renderer tabindex="0" role="group"><div><div class="stream output-id-1 output_text"><pre>Class
0    173
Name: count, dtype: int64
</pre></div></div><div></div></colab-static-output-renderer></div></div><div><div></div></div></div>
          </div>
        </div></div></div><colab-cell-next-steps><template shadowrootmode="open"><!----></template></colab-cell-next-steps></div></div><div class="add-cell">
      <div class="add-cell-buttons">
        <md-outlined-button class="add-code add-button" aria-label="Add code cell
Ctrl+M B" title="Add code cell
Ctrl+M B" role="presentation" value="" has-icon=""><template shadowrootmode="open" shadowrootdelegatesfocus><!---->
      <!--?lit$0157429536$--><div class="outline"></div>
      <div class="background"></div>
      <md-focus-ring part="focus-ring" for="button" aria-hidden="true"><template shadowrootmode="open"><!----></template></md-focus-ring>
      <md-ripple for="button" aria-hidden="true"><template shadowrootmode="open"><!----><div class="surface"></div></template></md-ripple>
      <!--?lit$0157429536$--><button id="button" class="button" aria-label="Add code cell
Ctrl+M B">
      <!--?lit$0157429536$-->
      <span class="touch"></span>
      <!--?lit$0157429536$--><slot name="icon"></slot>
      <span class="label"><slot></slot></span>
      <!--?lit$0157429536$-->
    
    </button>
    </template>
          <md-icon slot="icon" aria-hidden="true"><template shadowrootmode="open"><!----><slot></slot></template>add</md-icon>
          <!--?lit$0157429536$-->Code
        </md-outlined-button>
        <md-outlined-button class="add-text add-button" aria-label="Add text cell" title="Add text cell" role="presentation" value="" has-icon=""><template shadowrootmode="open" shadowrootdelegatesfocus><!---->
      <!--?lit$0157429536$--><div class="outline"></div>
      <div class="background"></div>
      <md-focus-ring part="focus-ring" for="button" aria-hidden="true"><template shadowrootmode="open"><!----></template></md-focus-ring>
      <md-ripple for="button" aria-hidden="true"><template shadowrootmode="open"><!----><div class="surface"></div></template></md-ripple>
      <!--?lit$0157429536$--><button id="button" class="button" aria-label="Add text cell">
      <!--?lit$0157429536$-->
      <span class="touch"></span>
      <!--?lit$0157429536$--><slot name="icon"></slot>
      <span class="label"><slot></slot></span>
      <!--?lit$0157429536$-->
    
    </button>
    </template>
          <md-icon slot="icon" aria-hidden="true"><template shadowrootmode="open"><!----><slot></slot></template>add</md-icon>
          <!--?lit$0157429536$-->Text
        </md-outlined-button>
        <!--?lit$0157429536$-->
      </div><hr>
    </div></div><div class="cell code icon-scrolling code-has-output" id="cell-_rCw8XMdrSRT" tabindex="-1" role="region" aria-label="Cell 47: Code cell: " style="opacity: 1;"><div class="cell-tag-editor sticky"></div><div class="cell-toolbar sticky"></div><div class="main-content" elevation="0"><div class="cell-contents"><div class="cell-mask"></div><span class="imported-info-area"></span><div class="codecell-input-output">
      <div class="inputarea horizontal layout code">
        <div class="cell-gutter">
          <!-- Bounding range for vertical scrolling of icons -->
          <div class="cell-execution-container">
            <colab-run-button title="Run cell (Ctrl+Enter)
cell executed since last change

executed by Srinivasulu K
1:59 PM (8 minutes ago)
executed in 0.406s" role="button" aria-label="Run cell"><template shadowrootmode="open"><!----> <div class="cell-execution">
      <div class="execution-count"><!--?lit$0157429536$-->[54]</div>
      <div class="cell-execution-indicator"> <!--?lit$0157429536$-->
<svg xmlns="http://www.w3.org/2000/svg" viewBox="0 0 24 24">
  <!--?lit$0157429536$-->
  <mask id="playSymbolMask">
    <rect width="100%" height="100%" fill="white"></rect>
    <polygon points="10,8 17,12 10,16" fill="black"></polygon>
  </mask>
  <circle cx="12" cy="12" r="7.8" mask="url(#playSymbolMask)" id="filledCircle"></circle>
</svg> </div>
      <!--?lit$0157429536$--><div id="status">
      <md-icon aria-hidden="true"><template shadowrootmode="open"><!----><slot></slot></template><!--?lit$0157429536$--><svg viewBox="0 0 24 24"><!--?lit$0157429536$--><path d="M9 16.17L4.83 12l-1.42 1.41L9 19 21 7l-1.41-1.41z"></path></svg></md-icon>
      <div><!--?lit$0157429536$-->0s</div>
    </div>
    </div></template></colab-run-button>
          </div>
        </div>
      <div class="editor flex lazy-editor" style=""><pre class="lazy-virtualized" style="font-size: 14px; line-height: 19px;"><pre class="lazy-gutter"></pre><pre class="monaco-colorized colab-dark colab-dark colab-dark colab-dark colab-dark colab-dark colab-dark colab-dark colab-dark" data-lang="notebook-python"><span><span class="mtk18">if</span><span class="mtk1">&nbsp;</span><span class="mtk15">len</span><span class="mtk12">(</span><span class="mtk1">Y_train.value_counts</span><span class="mtk12">())</span><span class="mtk1">&nbsp;==&nbsp;</span><span class="mtk6">1</span><span class="mtk12">:</span></span><br><span><span class="mtk1">&nbsp;&nbsp;&nbsp;&nbsp;</span><span class="mtk15">print</span><span class="mtk12">(</span><span class="mtk5">"The&nbsp;target&nbsp;variable&nbsp;has&nbsp;only&nbsp;one&nbsp;class."</span><span class="mtk12">)</span></span><br></pre><colab-read-only-cell-placeholder style="display: none;"><template shadowrootmode="open"><!----><div><!--?lit$0157429536$-->Start coding or <span tabindex="0" role="button" class="link">generate</span> with AI.</div></template></colab-read-only-cell-placeholder></pre></div><colab-form class="formview vertical layout flex"><div class="widget-area vertical layout"></div></colab-form></div>
    <div class="output"><!----> <div class="output-header"> </div>
        <div class="output-content" style="">
          <div class="output-info"><colab-output-info title="Clear output

executed by Srinivasulu K
1:59 PM (0 minutes ago)
executed in 0.406s" hovering=""><template shadowrootmode="open"><!----> <md-icon class="collaborator output" alt="Execution output" aria-hidden="true"><template shadowrootmode="open"><!----><slot></slot></template><!--?lit$0157429536$-->output</md-icon>
      <!--?lit$0157429536$--> <mwc-icon-button icon="cancel" command="clear-focused-or-selected-outputs" alt="Clear output"><template shadowrootmode="open"><!----><button class="mdc-icon-button mdc-icon-button--display-flex" aria-label="cancel"><!--?lit$0157429536$-->
    <!--?lit$0157429536$--><i class="material-icons"><!--?lit$0157429536$-->cancel</i>
    <span><slot></slot></span>
  </button></template>
          </mwc-icon-button><!--?--></template></colab-output-info></div>
          <div class="output-iframe-container">
            <div class="output-iframe-sizer" style="min-height: 0px;"> <div><div><colab-static-output-renderer tabindex="0" role="group"><div><div class="stream output-id-1 output_text"><pre>The target variable has only one class.
</pre></div></div><div></div></colab-static-output-renderer></div></div></div>
          </div>
        </div></div></div><colab-cell-next-steps><template shadowrootmode="open"><!----></template></colab-cell-next-steps></div></div><div class="add-cell">
      <div class="add-cell-buttons">
        <md-outlined-button class="add-code add-button" aria-label="Add code cell
Ctrl+M B" title="Add code cell
Ctrl+M B" role="presentation" value="" has-icon=""><template shadowrootmode="open" shadowrootdelegatesfocus><!---->
      <!--?lit$0157429536$--><div class="outline"></div>
      <div class="background"></div>
      <md-focus-ring part="focus-ring" for="button" aria-hidden="true"><template shadowrootmode="open"><!----></template></md-focus-ring>
      <md-ripple for="button" aria-hidden="true"><template shadowrootmode="open"><!----><div class="surface"></div></template></md-ripple>
      <!--?lit$0157429536$--><button id="button" class="button" aria-label="Add code cell
Ctrl+M B">
      <!--?lit$0157429536$-->
      <span class="touch"></span>
      <!--?lit$0157429536$--><slot name="icon"></slot>
      <span class="label"><slot></slot></span>
      <!--?lit$0157429536$-->
    
    </button>
    </template>
          <md-icon slot="icon" aria-hidden="true"><template shadowrootmode="open"><!----><slot></slot></template>add</md-icon>
          <!--?lit$0157429536$-->Code
        </md-outlined-button>
        <md-outlined-button class="add-text add-button" aria-label="Add text cell" title="Add text cell" role="presentation" value="" has-icon=""><template shadowrootmode="open" shadowrootdelegatesfocus><!---->
      <!--?lit$0157429536$--><div class="outline"></div>
      <div class="background"></div>
      <md-focus-ring part="focus-ring" for="button" aria-hidden="true"><template shadowrootmode="open"><!----></template></md-focus-ring>
      <md-ripple for="button" aria-hidden="true"><template shadowrootmode="open"><!----><div class="surface"></div></template></md-ripple>
      <!--?lit$0157429536$--><button id="button" class="button" aria-label="Add text cell">
      <!--?lit$0157429536$-->
      <span class="touch"></span>
      <!--?lit$0157429536$--><slot name="icon"></slot>
      <span class="label"><slot></slot></span>
      <!--?lit$0157429536$-->
    
    </button>
    </template>
          <md-icon slot="icon" aria-hidden="true"><template shadowrootmode="open"><!----><slot></slot></template>add</md-icon>
          <!--?lit$0157429536$-->Text
        </md-outlined-button>
        <!--?lit$0157429536$-->
      </div><hr>
    </div></div><div class="cell text" id="cell-1QpldhDprkk3" tabindex="-1" role="region" aria-label="Cell 48: Text cell: " style="opacity: 1;"><div class="cell-tag-editor sticky"></div><div class="cell-toolbar sticky"></div><div class="main-content" elevation="0"><div class="cell-contents"><div class="cell-mask"></div><span class="imported-info-area"></span><!----> <div class="toolbar-root"><div class="markdown-toolbar"><!----><!--?lit$0157429536$--><!----><mwc-icon-button class="markdown-toolbar-header" title="Toggle heading"><template shadowrootmode="open"><!----><button class="mdc-icon-button mdc-icon-button--display-flex" aria-label=""><!--?lit$0157429536$-->
    <!--?lit$0157429536$-->
    <span><slot></slot></span>
  </button></template>
    <!--?lit$0157429536$--><md-icon aria-hidden="true"><template shadowrootmode="open"><!----><slot></slot></template><!--?lit$0157429536$-->format_size</md-icon>
  </mwc-icon-button><!----><!----><mwc-icon-button class="markdown-toolbar-bold" title="Bold"><template shadowrootmode="open"><!----><button class="mdc-icon-button mdc-icon-button--display-flex" aria-label=""><!--?lit$0157429536$-->
    <!--?lit$0157429536$-->
    <span><slot></slot></span>
  </button></template>
    <!--?lit$0157429536$--><md-icon aria-hidden="true"><template shadowrootmode="open"><!----><slot></slot></template><!--?lit$0157429536$-->format_bold</md-icon>
  </mwc-icon-button><!----><!----><mwc-icon-button class="markdown-toolbar-italic" title="Italicize"><template shadowrootmode="open"><!----><button class="mdc-icon-button mdc-icon-button--display-flex" aria-label=""><!--?lit$0157429536$-->
    <!--?lit$0157429536$-->
    <span><slot></slot></span>
  </button></template>
    <!--?lit$0157429536$--><md-icon aria-hidden="true"><template shadowrootmode="open"><!----><slot></slot></template><!--?lit$0157429536$-->format_italic</md-icon>
  </mwc-icon-button><!----><!----><mwc-icon-button class="markdown-toolbar-code" title="Format as code"><template shadowrootmode="open"><!----><button class="mdc-icon-button mdc-icon-button--display-flex" aria-label=""><!--?lit$0157429536$-->
    <!--?lit$0157429536$-->
    <span><slot></slot></span>
  </button></template>
    <!--?lit$0157429536$--><md-icon aria-hidden="true"><template shadowrootmode="open"><!----><slot></slot></template><!--?lit$0157429536$-->code</md-icon>
  </mwc-icon-button><!----><!----><mwc-icon-button class="markdown-toolbar-link" title="Insert link"><template shadowrootmode="open"><!----><button class="mdc-icon-button mdc-icon-button--display-flex" aria-label=""><!--?lit$0157429536$-->
    <!--?lit$0157429536$-->
    <span><slot></slot></span>
  </button></template>
    <!--?lit$0157429536$--><md-icon aria-hidden="true"><template shadowrootmode="open"><!----><slot></slot></template><!--?lit$0157429536$-->link</md-icon>
  </mwc-icon-button><!----><!----><label for="markdown-image-input" class="colab-icon markdown-insert-image"><span role="button" tabindex="0" title="Insert image" aria-label="Insert image"><md-icon aria-hidden="true"><template shadowrootmode="open"><!----><slot></slot></template>image</md-icon></span></label><input id="markdown-image-input" type="file" multiple="" accept="image/*"><!----><!----><mwc-icon-button class="markdown-toolbar-blockquote" title="Add blockquote"><template shadowrootmode="open"><!----><button class="mdc-icon-button mdc-icon-button--display-flex" aria-label=""><!--?lit$0157429536$-->
    <!--?lit$0157429536$-->
    <span><slot></slot></span>
  </button></template>
    <!--?lit$0157429536$--><md-icon aria-hidden="true"><template shadowrootmode="open"><!----><slot></slot></template><!--?lit$0157429536$-->format_quote</md-icon>
  </mwc-icon-button><!----><!----><mwc-icon-button class="markdown-toolbar-ol" title="Add numbered list"><template shadowrootmode="open"><!----><button class="mdc-icon-button mdc-icon-button--display-flex" aria-label=""><!--?lit$0157429536$-->
    <!--?lit$0157429536$-->
    <span><slot></slot></span>
  </button></template>
    <!--?lit$0157429536$--><md-icon aria-hidden="true"><template shadowrootmode="open"><!----><slot></slot></template><!--?lit$0157429536$-->format_list_numbered</md-icon>
  </mwc-icon-button><!----><!----><mwc-icon-button class="markdown-toolbar-ul" title="Add bulleted list"><template shadowrootmode="open"><!----><button class="mdc-icon-button mdc-icon-button--display-flex" aria-label=""><!--?lit$0157429536$-->
    <!--?lit$0157429536$-->
    <span><slot></slot></span>
  </button></template>
    <!--?lit$0157429536$--><md-icon aria-hidden="true"><template shadowrootmode="open"><!----><slot></slot></template><!--?lit$0157429536$-->format_list_bulleted</md-icon>
  </mwc-icon-button><!----><!----><mwc-icon-button class="markdown-toolbar-hr" title="Add horizontal rule"><template shadowrootmode="open"><!----><button class="mdc-icon-button mdc-icon-button--display-flex" aria-label=""><!--?lit$0157429536$-->
    <!--?lit$0157429536$-->
    <span><slot></slot></span>
  </button></template>
    <!--?lit$0157429536$--><md-icon aria-hidden="true"><template shadowrootmode="open"><!----><slot></slot></template><!--?lit$0157429536$-->horizontal_rule</md-icon>
  </mwc-icon-button><!----><!----><mwc-icon-button class="latex" title="LaTeX"><template shadowrootmode="open"><!----><button class="mdc-icon-button mdc-icon-button--display-flex" aria-label=""><!--?lit$0157429536$-->
    <!--?lit$0157429536$-->
    <span><slot></slot></span>
  </button></template>
    <!--?lit$0157429536$--><span>ψ</span>
  </mwc-icon-button><!----><!----><mwc-icon-button title="Insert emoji"><template shadowrootmode="open"><!----><button class="mdc-icon-button mdc-icon-button--display-flex" aria-label=""><!--?lit$0157429536$-->
    <!--?lit$0157429536$-->
    <span><slot></slot></span>
  </button></template>
    <!--?lit$0157429536$--><md-icon aria-hidden="true"><template shadowrootmode="open"><!----><slot></slot></template><!--?lit$0157429536$-->mood</md-icon>
  </mwc-icon-button><!----><!----><mwc-icon-button class="markdown-toolbar-preview" title="Reposition markdown preview"><template shadowrootmode="open"><!----><button class="mdc-icon-button mdc-icon-button--display-flex" aria-label=""><!--?lit$0157429536$-->
    <!--?lit$0157429536$-->
    <span><slot></slot></span>
  </button></template>
    <!--?lit$0157429536$--><md-icon aria-hidden="true"><template shadowrootmode="open"><!----><slot></slot></template><!--?lit$0157429536$--><svg viewBox="0 0 24 24"><!--?lit$0157429536$--><g id="markdown-preview-below">
  <rect width="20" height="18" x="2" y="2" rx="2" ry="2" style="fill:none;stroke:var(--colab-icon-color)"></rect>
  <line x1="4.5" y1="13" x2="19.5" y2="13" style="stroke:var(--colab-primary-text-color);stroke-dasharray:2"></line>
  <line x1="2.5" y1="4" x2="21.5" y2="4" style="stroke:var(--colab-icon-color);stroke-width:3px;"></line>
</g></svg></md-icon>
  </mwc-icon-button><!----><!--?--></div></div>
      <div class="editor-container horizontal">
        <div class="editor-root"><div class="editor flex monaco" data-keybinding-context="77" data-mode-id="markdown" style="height: 86px; --vscode-editorCodeLens-lineHeight: 16px; --vscode-editorCodeLens-fontSize: 12px; --vscode-editorCodeLens-fontFeatureSettings: &quot;liga&quot; off, &quot;calt&quot; off; display: none;"><div class="monaco-editor no-user-select  showUnused showDeprecated vs-dark" role="code" data-uri="inmemory://model/57" style="width: 452px; height: 86px;"><div data-mprt="3" class="overflow-guard" style="width: 452px; height: 86px;"><div class="margin" role="presentation" aria-hidden="true" style="position: absolute; contain: strict; will-change: unset; top: 0px; height: 86px; width: 6px;"><div class="glyph-margin" style="left: 0px; width: 0px; height: 86px;"></div><div class="margin-view-zones" role="presentation" aria-hidden="true" style="position: absolute;"></div><div class="margin-view-overlays" role="presentation" aria-hidden="true" style="position: absolute; font-family: monospace, Consolas, &quot;Courier New&quot;, monospace; font-weight: normal; font-size: 14px; font-feature-settings: &quot;liga&quot; 0, &quot;calt&quot; 0; font-variation-settings: normal; line-height: 19px; letter-spacing: 0px; width: 6px; height: 86px;"><div style="position:absolute;top:0px;width:100%;height:19px;"></div><div style="position:absolute;top:19px;width:100%;height:19px;"></div><div style="position:absolute;top:38px;width:100%;height:19px;"></div><div style="position:absolute;top:57px;width:100%;height:19px;"><div class="current-line current-line-margin-both" style="width:6px; height:19px;"></div></div></div><div class="glyph-margin-widgets" style="position: absolute; top: 0px;"></div></div><div class="monaco-scrollable-element editor-scrollable vs-dark" role="presentation" data-mprt="5" style="position: absolute; overflow: hidden; left: 6px; width: 446px; height: 86px;"><div class="lines-content monaco-editor-background" style="position: absolute; overflow: hidden; width: 1e+06px; height: 86px; contain: strict; will-change: unset; top: 0px; left: 0px;"><div class="view-overlays" role="presentation" aria-hidden="true" style="position: absolute; font-family: monospace, Consolas, &quot;Courier New&quot;, monospace; font-weight: normal; font-size: 14px; font-feature-settings: &quot;liga&quot; 0, &quot;calt&quot; 0; font-variation-settings: normal; line-height: 19px; letter-spacing: 0px; height: 0px; width: 446px;"><div style="position:absolute;top:0px;width:100%;height:19px;"></div><div style="position:absolute;top:19px;width:100%;height:19px;"></div><div style="position:absolute;top:38px;width:100%;height:19px;"></div><div style="position:absolute;top:57px;width:100%;height:19px;"><div class="current-line" style="width:446px; height:19px;"></div></div></div><div role="presentation" aria-hidden="true" class="view-rulers"><div class="view-ruler" style="width: 2px; height: 86px; left: 615.938px;"></div></div><div class="view-zones" role="presentation" aria-hidden="true" style="position: absolute;"></div><div class="view-lines monaco-mouse-cursor-text" role="presentation" aria-hidden="true" data-mprt="7" style="position: absolute; font-family: monospace, Consolas, &quot;Courier New&quot;, monospace; font-weight: normal; font-size: 14px; font-feature-settings: &quot;liga&quot; 0, &quot;calt&quot; 0; font-variation-settings: normal; line-height: 19px; letter-spacing: 0px; width: 446px; height: 86px;"><div style="top:0px;height:19px;" class="view-line"><span><span class="mtk1">In&nbsp;a&nbsp;Jupyter&nbsp;environment,&nbsp;please&nbsp;rerun&nbsp;this&nbsp;cell&nbsp;t</span><span class="mtk1">o&nbsp;</span></span></div><div style="top:19px;height:19px;" class="view-line"><span><span class="mtk1">show&nbsp;the&nbsp;HTML&nbsp;representation&nbsp;or&nbsp;trust&nbsp;the&nbsp;notebook</span><span class="mtk1">.</span></span></div><div style="top:38px;height:19px;" class="view-line"><span><span class="mtk1">On&nbsp;GitHub,&nbsp;the&nbsp;HTML&nbsp;representation&nbsp;is&nbsp;unable&nbsp;to&nbsp;</span></span></div><div style="top:57px;height:19px;" class="view-line"><span><span class="mtk1">render,&nbsp;please&nbsp;try&nbsp;loading&nbsp;this&nbsp;page&nbsp;with&nbsp;nbviewer</span><span class="mtk1">.org.</span></span></div></div><div data-mprt="1" class="contentWidgets" style="position: absolute; top: 0px;"><div class="lightBulbWidget codicon codicon-light-bulb" widgetid="LightBulbWidget" title="Show Code Actions (Ctrl+.)" style="position: absolute; display: none; visibility: hidden; max-width: 446px;"></div></div><div role="presentation" aria-hidden="true" class="cursors-layer cursor-line-style cursor-solid"><div class="cursor monaco-mouse-cursor-text " style="height: 19px; top: 57px; left: 423px; font-family: monospace, Consolas, &quot;Courier New&quot;, monospace; font-weight: normal; font-size: 14px; font-feature-settings: &quot;liga&quot; 0, &quot;calt&quot; 0; font-variation-settings: normal; line-height: 19px; letter-spacing: 0px; display: block; visibility: hidden; padding-left: 0px; width: 1.6px;"></div></div></div><div role="presentation" aria-hidden="true" class="invisible scrollbar horizontal" style="position: absolute; width: 432px; height: 10px; left: 0px; bottom: 0px;"><div class="slider" style="position: absolute; top: 0px; left: 0px; height: 10px; transform: translate3d(0px, 0px, 0px); contain: strict; will-change: unset; width: 432px;"></div></div><canvas class="decorationsOverviewRuler" aria-hidden="true" width="17" height="107" style="position: absolute; transform: translate3d(0px, 0px, 0px); contain: strict; top: 0px; right: 0px; width: 14px; height: 86px; will-change: unset; display: block;"></canvas><div role="presentation" aria-hidden="true" class="invisible scrollbar vertical" style="position: absolute; width: 14px; height: 86px; right: 0px; top: 0px;"><div class="slider" style="position: absolute; top: 0px; left: 0px; width: 14px; transform: translate3d(0px, 0px, 0px); contain: strict; will-change: unset; height: 86px;"></div></div></div><div role="presentation" aria-hidden="true" style="width: 452px;"></div><textarea data-mprt="6" class="inputarea monaco-mouse-cursor-text" wrap="on" autocorrect="off" autocapitalize="off" autocomplete="off" spellcheck="false" aria-label="Editor content;Press Alt+F1 for Accessibility Options." tabindex="0" role="textbox" aria-roledescription="editor" aria-multiline="true" aria-haspopup="false" aria-autocomplete="both" style="tab-size: 15.3984px; font-family: monospace, Consolas, &quot;Courier New&quot;, monospace; font-weight: normal; font-size: 14px; font-feature-settings: &quot;liga&quot; 0, &quot;calt&quot; 0; font-variation-settings: normal; line-height: 19px; letter-spacing: 0px; top: 57px; left: 6px; width: 423px; height: 1px;"></textarea><div style="position: absolute; top: 0px; left: 0px; width: 0px; height: 0px;" class="monaco-editor-background textAreaCover"></div><div data-mprt="4" class="overlayWidgets" style="width: 452px;"></div><div data-mprt="8" class="minimap slider-mouseover" role="presentation" aria-hidden="true" style="position: absolute; left: 0px; width: 0px; height: 86px;"><div class="minimap-shadow-hidden" style="height: 86px;"></div><canvas width="0" height="107" style="position: absolute; left: 0px; width: 0px; height: 86px;"></canvas><canvas class="minimap-decorations-layer" width="0" height="107" style="position: absolute; left: 0px; width: 0px; height: 86px;"></canvas><div class="minimap-slider" style="position: absolute; transform: translate3d(0px, 0px, 0px); contain: strict; width: 0px; will-change: unset;"><div class="minimap-slider-horizontal" style="position: absolute; width: 0px; height: 0px;"></div></div></div><div role="presentation" aria-hidden="true" class="blockDecorations-container"></div></div><div data-mprt="2" class="overflowingContentWidgets" style="display: none;"></div><div class=".in-cell-overflowing"><div widgetid="editor.contrib.quickInputWidget" style="position: absolute; top: 0px; right: 50%;"></div></div></div></div></div>
        <div class="text-top-div">
          <div class="markdown"><span><p>In a Jupyter environment, please rerun this cell to show the HTML representation or trust the notebook.
On GitHub, the HTML representation is unable to render, please try loading this page with nbviewer.org.</p>
</span></div>
        </div>
      </div>

      <div class="section-header" style="display: none;">
        <colab-run-button role="button" aria-label="Run cell"><template shadowrootmode="open"><!----> <div class="cell-execution">
      <div class="execution-count"><!--?lit$0157429536$-->[ ]</div>
      <div class="cell-execution-indicator"> <!--?lit$0157429536$-->
<svg xmlns="http://www.w3.org/2000/svg" viewBox="0 0 24 24">
  <!--?lit$0157429536$-->
  <mask id="playSymbolMask">
    <rect width="100%" height="100%" fill="white"></rect>
    <polygon points="10,8 17,12 10,16" fill="black"></polygon>
  </mask>
  <circle cx="12" cy="12" r="7.8" mask="url(#playSymbolMask)" id="filledCircle"></circle>
</svg> </div>
      <!--?lit$0157429536$--><!--?-->
    </div></template></colab-run-button>
        <div class="section-header-container" title="click to expand">↳ 0 cells hidden</div>
      </div></div></div><div class="add-cell">
      <div class="add-cell-buttons">
        <md-outlined-button class="add-code add-button" aria-label="Add code cell
Ctrl+M B" title="Add code cell
Ctrl+M B" role="presentation" value="" has-icon=""><template shadowrootmode="open" shadowrootdelegatesfocus><!---->
      <!--?lit$0157429536$--><div class="outline"></div>
      <div class="background"></div>
      <md-focus-ring part="focus-ring" for="button" aria-hidden="true"><template shadowrootmode="open"><!----></template></md-focus-ring>
      <md-ripple for="button" aria-hidden="true"><template shadowrootmode="open"><!----><div class="surface"></div></template></md-ripple>
      <!--?lit$0157429536$--><button id="button" class="button" aria-label="Add code cell
Ctrl+M B">
      <!--?lit$0157429536$-->
      <span class="touch"></span>
      <!--?lit$0157429536$--><slot name="icon"></slot>
      <span class="label"><slot></slot></span>
      <!--?lit$0157429536$-->
    
    </button>
    </template>
          <md-icon slot="icon" aria-hidden="true"><template shadowrootmode="open"><!----><slot></slot></template>add</md-icon>
          <!--?lit$0157429536$-->Code
        </md-outlined-button>
        <md-outlined-button class="add-text add-button" aria-label="Add text cell" title="Add text cell" role="presentation" value="" has-icon=""><template shadowrootmode="open" shadowrootdelegatesfocus><!---->
      <!--?lit$0157429536$--><div class="outline"></div>
      <div class="background"></div>
      <md-focus-ring part="focus-ring" for="button" aria-hidden="true"><template shadowrootmode="open"><!----></template></md-focus-ring>
      <md-ripple for="button" aria-hidden="true"><template shadowrootmode="open"><!----><div class="surface"></div></template></md-ripple>
      <!--?lit$0157429536$--><button id="button" class="button" aria-label="Add text cell">
      <!--?lit$0157429536$-->
      <span class="touch"></span>
      <!--?lit$0157429536$--><slot name="icon"></slot>
      <span class="label"><slot></slot></span>
      <!--?lit$0157429536$-->
    
    </button>
    </template>
          <md-icon slot="icon" aria-hidden="true"><template shadowrootmode="open"><!----><slot></slot></template>add</md-icon>
          <!--?lit$0157429536$-->Text
        </md-outlined-button>
        <!--?lit$0157429536$-->
      </div><hr>
    </div></div><div class="cell text" id="cell-JGrE0TeWsszt" tabindex="-1" role="region" aria-label="Cell 49: Text cell: " style="opacity: 1;"><div class="cell-tag-editor sticky"></div><div class="cell-toolbar sticky"></div><div class="main-content" elevation="0"><div class="cell-contents"><div class="cell-mask"></div><span class="imported-info-area"></span><!----> <div class="toolbar-root"><div class="markdown-toolbar"><!----><!--?lit$0157429536$--><!----><mwc-icon-button class="markdown-toolbar-header" title="Toggle heading"><template shadowrootmode="open"><!----><button class="mdc-icon-button mdc-icon-button--display-flex" aria-label=""><!--?lit$0157429536$-->
    <!--?lit$0157429536$-->
    <span><slot></slot></span>
  </button></template>
    <!--?lit$0157429536$--><md-icon aria-hidden="true"><template shadowrootmode="open"><!----><slot></slot></template><!--?lit$0157429536$-->format_size</md-icon>
  </mwc-icon-button><!----><!----><mwc-icon-button class="markdown-toolbar-bold" title="Bold"><template shadowrootmode="open"><!----><button class="mdc-icon-button mdc-icon-button--display-flex" aria-label=""><!--?lit$0157429536$-->
    <!--?lit$0157429536$-->
    <span><slot></slot></span>
  </button></template>
    <!--?lit$0157429536$--><md-icon aria-hidden="true"><template shadowrootmode="open"><!----><slot></slot></template><!--?lit$0157429536$-->format_bold</md-icon>
  </mwc-icon-button><!----><!----><mwc-icon-button class="markdown-toolbar-italic" title="Italicize"><template shadowrootmode="open"><!----><button class="mdc-icon-button mdc-icon-button--display-flex" aria-label=""><!--?lit$0157429536$-->
    <!--?lit$0157429536$-->
    <span><slot></slot></span>
  </button></template>
    <!--?lit$0157429536$--><md-icon aria-hidden="true"><template shadowrootmode="open"><!----><slot></slot></template><!--?lit$0157429536$-->format_italic</md-icon>
  </mwc-icon-button><!----><!----><mwc-icon-button class="markdown-toolbar-code" title="Format as code"><template shadowrootmode="open"><!----><button class="mdc-icon-button mdc-icon-button--display-flex" aria-label=""><!--?lit$0157429536$-->
    <!--?lit$0157429536$-->
    <span><slot></slot></span>
  </button></template>
    <!--?lit$0157429536$--><md-icon aria-hidden="true"><template shadowrootmode="open"><!----><slot></slot></template><!--?lit$0157429536$-->code</md-icon>
  </mwc-icon-button><!----><!----><mwc-icon-button class="markdown-toolbar-link" title="Insert link"><template shadowrootmode="open"><!----><button class="mdc-icon-button mdc-icon-button--display-flex" aria-label=""><!--?lit$0157429536$-->
    <!--?lit$0157429536$-->
    <span><slot></slot></span>
  </button></template>
    <!--?lit$0157429536$--><md-icon aria-hidden="true"><template shadowrootmode="open"><!----><slot></slot></template><!--?lit$0157429536$-->link</md-icon>
  </mwc-icon-button><!----><!----><label for="markdown-image-input" class="colab-icon markdown-insert-image"><span role="button" tabindex="0" title="Insert image" aria-label="Insert image"><md-icon aria-hidden="true"><template shadowrootmode="open"><!----><slot></slot></template>image</md-icon></span></label><input id="markdown-image-input" type="file" multiple="" accept="image/*"><!----><!----><mwc-icon-button class="markdown-toolbar-blockquote" title="Add blockquote"><template shadowrootmode="open"><!----><button class="mdc-icon-button mdc-icon-button--display-flex" aria-label=""><!--?lit$0157429536$-->
    <!--?lit$0157429536$-->
    <span><slot></slot></span>
  </button></template>
    <!--?lit$0157429536$--><md-icon aria-hidden="true"><template shadowrootmode="open"><!----><slot></slot></template><!--?lit$0157429536$-->format_quote</md-icon>
  </mwc-icon-button><!----><!----><mwc-icon-button class="markdown-toolbar-ol" title="Add numbered list"><template shadowrootmode="open"><!----><button class="mdc-icon-button mdc-icon-button--display-flex" aria-label=""><!--?lit$0157429536$-->
    <!--?lit$0157429536$-->
    <span><slot></slot></span>
  </button></template>
    <!--?lit$0157429536$--><md-icon aria-hidden="true"><template shadowrootmode="open"><!----><slot></slot></template><!--?lit$0157429536$-->format_list_numbered</md-icon>
  </mwc-icon-button><!----><!----><mwc-icon-button class="markdown-toolbar-ul" title="Add bulleted list"><template shadowrootmode="open"><!----><button class="mdc-icon-button mdc-icon-button--display-flex" aria-label=""><!--?lit$0157429536$-->
    <!--?lit$0157429536$-->
    <span><slot></slot></span>
  </button></template>
    <!--?lit$0157429536$--><md-icon aria-hidden="true"><template shadowrootmode="open"><!----><slot></slot></template><!--?lit$0157429536$-->format_list_bulleted</md-icon>
  </mwc-icon-button><!----><!----><mwc-icon-button class="markdown-toolbar-hr" title="Add horizontal rule"><template shadowrootmode="open"><!----><button class="mdc-icon-button mdc-icon-button--display-flex" aria-label=""><!--?lit$0157429536$-->
    <!--?lit$0157429536$-->
    <span><slot></slot></span>
  </button></template>
    <!--?lit$0157429536$--><md-icon aria-hidden="true"><template shadowrootmode="open"><!----><slot></slot></template><!--?lit$0157429536$-->horizontal_rule</md-icon>
  </mwc-icon-button><!----><!----><mwc-icon-button class="latex" title="LaTeX"><template shadowrootmode="open"><!----><button class="mdc-icon-button mdc-icon-button--display-flex" aria-label=""><!--?lit$0157429536$-->
    <!--?lit$0157429536$-->
    <span><slot></slot></span>
  </button></template>
    <!--?lit$0157429536$--><span>ψ</span>
  </mwc-icon-button><!----><!----><mwc-icon-button title="Insert emoji"><template shadowrootmode="open"><!----><button class="mdc-icon-button mdc-icon-button--display-flex" aria-label=""><!--?lit$0157429536$-->
    <!--?lit$0157429536$-->
    <span><slot></slot></span>
  </button></template>
    <!--?lit$0157429536$--><md-icon aria-hidden="true"><template shadowrootmode="open"><!----><slot></slot></template><!--?lit$0157429536$-->mood</md-icon>
  </mwc-icon-button><!----><!----><mwc-icon-button class="markdown-toolbar-preview" title="Reposition markdown preview"><template shadowrootmode="open"><!----><button class="mdc-icon-button mdc-icon-button--display-flex" aria-label=""><!--?lit$0157429536$-->
    <!--?lit$0157429536$-->
    <span><slot></slot></span>
  </button></template>
    <!--?lit$0157429536$--><md-icon aria-hidden="true"><template shadowrootmode="open"><!----><slot></slot></template><!--?lit$0157429536$--><svg viewBox="0 0 24 24"><!--?lit$0157429536$--><g id="markdown-preview-below">
  <rect width="20" height="18" x="2" y="2" rx="2" ry="2" style="fill:none;stroke:var(--colab-icon-color)"></rect>
  <line x1="4.5" y1="13" x2="19.5" y2="13" style="stroke:var(--colab-primary-text-color);stroke-dasharray:2"></line>
  <line x1="2.5" y1="4" x2="21.5" y2="4" style="stroke:var(--colab-icon-color);stroke-width:3px;"></line>
</g></svg></md-icon>
  </mwc-icon-button><!----><!--?--></div></div>
      <div class="editor-container horizontal">
        <div class="editor-root"><div class="editor flex monaco" data-keybinding-context="89" data-mode-id="markdown" style="height: 29px; --vscode-editorCodeLens-lineHeight: 16px; --vscode-editorCodeLens-fontSize: 12px; --vscode-editorCodeLens-fontFeatureSettings: &quot;liga&quot; off, &quot;calt&quot; off; display: none;"><div class="monaco-editor no-user-select  showUnused showDeprecated vs-dark" role="code" data-uri="inmemory://model/60" style="width: 729px; height: 29px;"><div data-mprt="3" class="overflow-guard" style="width: 729px; height: 29px;"><div class="margin" role="presentation" aria-hidden="true" style="position: absolute; contain: strict; will-change: unset; top: 0px; height: 29px; width: 6px;"><div class="glyph-margin" style="left: 0px; width: 0px; height: 29px;"></div><div class="margin-view-zones" role="presentation" aria-hidden="true" style="position: absolute;"></div><div class="margin-view-overlays" role="presentation" aria-hidden="true" style="position: absolute; font-family: monospace, Consolas, &quot;Courier New&quot;, monospace; font-weight: normal; font-size: 14px; font-feature-settings: &quot;liga&quot; 0, &quot;calt&quot; 0; font-variation-settings: normal; line-height: 19px; letter-spacing: 0px; width: 6px; height: 29px;"><div style="position:absolute;top:0px;width:100%;height:19px;"><div class="current-line current-line-margin-both" style="width:6px; height:19px;"></div></div></div><div class="glyph-margin-widgets" style="position: absolute; top: 0px;"></div></div><div class="monaco-scrollable-element editor-scrollable vs-dark" role="presentation" data-mprt="5" style="position: absolute; overflow: hidden; left: 6px; width: 723px; height: 29px;"><div class="lines-content monaco-editor-background" style="position: absolute; overflow: hidden; width: 1e+06px; height: 29px; contain: strict; will-change: unset; top: 0px; left: 0px;"><div class="view-overlays" role="presentation" aria-hidden="true" style="position: absolute; font-family: monospace, Consolas, &quot;Courier New&quot;, monospace; font-weight: normal; font-size: 14px; font-feature-settings: &quot;liga&quot; 0, &quot;calt&quot; 0; font-variation-settings: normal; line-height: 19px; letter-spacing: 0px; height: 0px; width: 723px;"><div style="position:absolute;top:0px;width:100%;height:19px;"><div class="current-line" style="width:723px; height:19px;"></div></div></div><div role="presentation" aria-hidden="true" class="view-rulers"></div><div class="view-zones" role="presentation" aria-hidden="true" style="position: absolute;"></div><div class="view-lines monaco-mouse-cursor-text" role="presentation" aria-hidden="true" data-mprt="7" style="position: absolute; font-family: monospace, Consolas, &quot;Courier New&quot;, monospace; font-weight: normal; font-size: 14px; font-feature-settings: &quot;liga&quot; 0, &quot;calt&quot; 0; font-variation-settings: normal; line-height: 19px; letter-spacing: 0px; width: 723px; height: 29px;"><div style="top:0px;height:19px;" class="view-line"><span><span class="mtk1">Random&nbsp;Forest</span></span></div></div><div data-mprt="1" class="contentWidgets" style="position: absolute; top: 0px;"><div class="lightBulbWidget codicon codicon-light-bulb" widgetid="LightBulbWidget" title="Show Code Actions (Ctrl+.)" style="position: absolute; display: none; visibility: hidden; max-width: 723px;"></div></div><div role="presentation" aria-hidden="true" class="cursors-layer cursor-line-style cursor-solid"><div class="cursor monaco-mouse-cursor-text " style="height: 19px; top: 0px; left: 100px; font-family: monospace, Consolas, &quot;Courier New&quot;, monospace; font-weight: normal; font-size: 14px; font-feature-settings: &quot;liga&quot; 0, &quot;calt&quot; 0; font-variation-settings: normal; line-height: 19px; letter-spacing: 0px; display: block; visibility: hidden; padding-left: 0px; width: 1.6px;"></div></div></div><div role="presentation" aria-hidden="true" class="invisible scrollbar horizontal" style="position: absolute; width: 709px; height: 10px; left: 0px; bottom: 0px;"><div class="slider" style="position: absolute; top: 0px; left: 0px; height: 10px; transform: translate3d(0px, 0px, 0px); contain: strict; will-change: unset; width: 709px;"></div></div><canvas class="decorationsOverviewRuler" aria-hidden="true" width="17" height="36" style="position: absolute; transform: translate3d(0px, 0px, 0px); contain: strict; top: 0px; right: 0px; width: 14px; height: 29px; will-change: unset; display: block;"></canvas><div role="presentation" aria-hidden="true" class="invisible scrollbar vertical" style="position: absolute; width: 14px; height: 29px; right: 0px; top: 0px;"><div class="slider" style="position: absolute; top: 0px; left: 0px; width: 14px; transform: translate3d(0px, 0px, 0px); contain: strict; will-change: unset; height: 29px;"></div></div></div><div role="presentation" aria-hidden="true" style="width: 729px;"></div><textarea data-mprt="6" class="inputarea monaco-mouse-cursor-text" wrap="on" autocorrect="off" autocapitalize="off" autocomplete="off" spellcheck="false" aria-label="Editor content;Press Alt+F1 for Accessibility Options." tabindex="0" role="textbox" aria-roledescription="editor" aria-multiline="true" aria-haspopup="false" aria-autocomplete="both" style="tab-size: 15.3984px; font-family: monospace, Consolas, &quot;Courier New&quot;, monospace; font-weight: normal; font-size: 14px; font-feature-settings: &quot;liga&quot; 0, &quot;calt&quot; 0; font-variation-settings: normal; line-height: 19px; letter-spacing: 0px; top: 0px; left: 6px; width: 616px; height: 1px;"></textarea><div style="position: absolute; top: 0px; left: 0px; width: 0px; height: 0px;" class="monaco-editor-background textAreaCover"></div><div data-mprt="4" class="overlayWidgets" style="width: 729px;"></div><div data-mprt="8" class="minimap slider-mouseover" role="presentation" aria-hidden="true" style="position: absolute; left: 0px; width: 0px; height: 29px;"><div class="minimap-shadow-hidden" style="height: 29px;"></div><canvas width="0" height="36" style="position: absolute; left: 0px; width: 0px; height: 29px;"></canvas><canvas class="minimap-decorations-layer" width="0" height="36" style="position: absolute; left: 0px; width: 0px; height: 29px;"></canvas><div class="minimap-slider" style="position: absolute; transform: translate3d(0px, 0px, 0px); contain: strict; width: 0px; will-change: unset;"><div class="minimap-slider-horizontal" style="position: absolute; width: 0px; height: 0px;"></div></div></div><div role="presentation" aria-hidden="true" class="blockDecorations-container"></div></div><div data-mprt="2" class="overflowingContentWidgets" style="display: none;"><div widgetid="editor.contrib.resizableContentHoverWidget" style="position: fixed; height: 10px; width: 10px; z-index: 50; display: none; visibility: hidden; max-width: 1536px;"><div class="monaco-sash vertical" style="left: 8px;"></div><div class="monaco-sash vertical" style="left: -2px;"></div><div class="monaco-sash orthogonal-edge-north horizontal" style="top: -2px;"><div class="orthogonal-drag-handle start"></div><div class="orthogonal-drag-handle end"></div></div><div class="monaco-sash orthogonal-edge-south horizontal" style="top: 8px;"><div class="orthogonal-drag-handle start"></div><div class="orthogonal-drag-handle end"></div></div><div class="monaco-hover hidden" tabindex="0" role="tooltip"><div class="monaco-scrollable-element " role="presentation" style="position: relative; overflow: hidden;"><div class="monaco-hover-content" style="overflow: hidden; font-size: 14px; line-height: 1.35714; max-width: 500px; max-height: 250px;"></div><div role="presentation" aria-hidden="true" class="invisible scrollbar horizontal" style="position: absolute;"><div class="slider" style="position: absolute; top: 0px; left: 0px; height: 10px; transform: translate3d(0px, 0px, 0px); contain: strict;"></div></div><div role="presentation" aria-hidden="true" class="invisible scrollbar vertical" style="position: absolute;"><div class="slider" style="position: absolute; top: 0px; left: 0px; width: 10px; transform: translate3d(0px, 0px, 0px); contain: strict;"></div></div><div class="shadow"></div><div class="shadow"></div><div class="shadow"></div></div></div></div></div><div class=".in-cell-overflowing"><div widgetid="editor.contrib.quickInputWidget" style="position: absolute; top: 0px; right: 50%;"></div></div></div></div></div>
        <div class="text-top-div">
          <div class="markdown"><span><p>Random Forest</p>
</span></div>
        </div>
      </div>

      <div class="section-header" style="display: none;">
        <colab-run-button role="button" aria-label="Run cell"><template shadowrootmode="open"><!----> <div class="cell-execution">
      <div class="execution-count"><!--?lit$0157429536$-->[ ]</div>
      <div class="cell-execution-indicator"> <!--?lit$0157429536$-->
<svg xmlns="http://www.w3.org/2000/svg" viewBox="0 0 24 24">
  <!--?lit$0157429536$-->
  <mask id="playSymbolMask">
    <rect width="100%" height="100%" fill="white"></rect>
    <polygon points="10,8 17,12 10,16" fill="black"></polygon>
  </mask>
  <circle cx="12" cy="12" r="7.8" mask="url(#playSymbolMask)" id="filledCircle"></circle>
</svg> </div>
      <!--?lit$0157429536$--><!--?-->
    </div></template></colab-run-button>
        <div class="section-header-container" title="click to expand">↳ 0 cells hidden</div>
      </div></div></div><div class="add-cell">
      <div class="add-cell-buttons">
        <md-outlined-button class="add-code add-button" aria-label="Add code cell
Ctrl+M B" title="Add code cell
Ctrl+M B" role="presentation" value="" has-icon=""><template shadowrootmode="open" shadowrootdelegatesfocus><!---->
      <!--?lit$0157429536$--><div class="outline"></div>
      <div class="background"></div>
      <md-focus-ring part="focus-ring" for="button" aria-hidden="true"><template shadowrootmode="open"><!----></template></md-focus-ring>
      <md-ripple for="button" aria-hidden="true"><template shadowrootmode="open"><!----><div class="surface"></div></template></md-ripple>
      <!--?lit$0157429536$--><button id="button" class="button" aria-label="Add code cell
Ctrl+M B">
      <!--?lit$0157429536$-->
      <span class="touch"></span>
      <!--?lit$0157429536$--><slot name="icon"></slot>
      <span class="label"><slot></slot></span>
      <!--?lit$0157429536$-->
    
    </button>
    </template>
          <md-icon slot="icon" aria-hidden="true"><template shadowrootmode="open"><!----><slot></slot></template>add</md-icon>
          <!--?lit$0157429536$-->Code
        </md-outlined-button>
        <md-outlined-button class="add-text add-button" aria-label="Add text cell" title="Add text cell" role="presentation" value="" has-icon=""><template shadowrootmode="open" shadowrootdelegatesfocus><!---->
      <!--?lit$0157429536$--><div class="outline"></div>
      <div class="background"></div>
      <md-focus-ring part="focus-ring" for="button" aria-hidden="true"><template shadowrootmode="open"><!----></template></md-focus-ring>
      <md-ripple for="button" aria-hidden="true"><template shadowrootmode="open"><!----><div class="surface"></div></template></md-ripple>
      <!--?lit$0157429536$--><button id="button" class="button" aria-label="Add text cell">
      <!--?lit$0157429536$-->
      <span class="touch"></span>
      <!--?lit$0157429536$--><slot name="icon"></slot>
      <span class="label"><slot></slot></span>
      <!--?lit$0157429536$-->
    
    </button>
    </template>
          <md-icon slot="icon" aria-hidden="true"><template shadowrootmode="open"><!----><slot></slot></template>add</md-icon>
          <!--?lit$0157429536$-->Text
        </md-outlined-button>
        <!--?lit$0157429536$-->
      </div><hr>
    </div></div><div class="cell text" id="cell-VrjeBQ2NsxTG" tabindex="-1" role="region" aria-label="Cell 50: Text cell: " style="opacity: 1;"><div class="cell-tag-editor sticky"></div><div class="cell-toolbar sticky"></div><div class="main-content" elevation="0"><div class="cell-contents"><div class="cell-mask"></div><span class="imported-info-area"></span><!----> <div class="toolbar-root"><div class="markdown-toolbar"><!----><!--?lit$0157429536$--><!----><mwc-icon-button class="markdown-toolbar-header" title="Toggle heading"><template shadowrootmode="open"><!----><button class="mdc-icon-button mdc-icon-button--display-flex" aria-label=""><!--?lit$0157429536$-->
    <!--?lit$0157429536$-->
    <span><slot></slot></span>
  </button></template>
    <!--?lit$0157429536$--><md-icon aria-hidden="true"><template shadowrootmode="open"><!----><slot></slot></template><!--?lit$0157429536$-->format_size</md-icon>
  </mwc-icon-button><!----><!----><mwc-icon-button class="markdown-toolbar-bold" title="Bold"><template shadowrootmode="open"><!----><button class="mdc-icon-button mdc-icon-button--display-flex" aria-label=""><!--?lit$0157429536$-->
    <!--?lit$0157429536$-->
    <span><slot></slot></span>
  </button></template>
    <!--?lit$0157429536$--><md-icon aria-hidden="true"><template shadowrootmode="open"><!----><slot></slot></template><!--?lit$0157429536$-->format_bold</md-icon>
  </mwc-icon-button><!----><!----><mwc-icon-button class="markdown-toolbar-italic" title="Italicize"><template shadowrootmode="open"><!----><button class="mdc-icon-button mdc-icon-button--display-flex" aria-label=""><!--?lit$0157429536$-->
    <!--?lit$0157429536$-->
    <span><slot></slot></span>
  </button></template>
    <!--?lit$0157429536$--><md-icon aria-hidden="true"><template shadowrootmode="open"><!----><slot></slot></template><!--?lit$0157429536$-->format_italic</md-icon>
  </mwc-icon-button><!----><!----><mwc-icon-button class="markdown-toolbar-code" title="Format as code"><template shadowrootmode="open"><!----><button class="mdc-icon-button mdc-icon-button--display-flex" aria-label=""><!--?lit$0157429536$-->
    <!--?lit$0157429536$-->
    <span><slot></slot></span>
  </button></template>
    <!--?lit$0157429536$--><md-icon aria-hidden="true"><template shadowrootmode="open"><!----><slot></slot></template><!--?lit$0157429536$-->code</md-icon>
  </mwc-icon-button><!----><!----><mwc-icon-button class="markdown-toolbar-link" title="Insert link"><template shadowrootmode="open"><!----><button class="mdc-icon-button mdc-icon-button--display-flex" aria-label=""><!--?lit$0157429536$-->
    <!--?lit$0157429536$-->
    <span><slot></slot></span>
  </button></template>
    <!--?lit$0157429536$--><md-icon aria-hidden="true"><template shadowrootmode="open"><!----><slot></slot></template><!--?lit$0157429536$-->link</md-icon>
  </mwc-icon-button><!----><!----><label for="markdown-image-input" class="colab-icon markdown-insert-image"><span role="button" tabindex="0" title="Insert image" aria-label="Insert image"><md-icon aria-hidden="true"><template shadowrootmode="open"><!----><slot></slot></template>image</md-icon></span></label><input id="markdown-image-input" type="file" multiple="" accept="image/*"><!----><!----><mwc-icon-button class="markdown-toolbar-blockquote" title="Add blockquote"><template shadowrootmode="open"><!----><button class="mdc-icon-button mdc-icon-button--display-flex" aria-label=""><!--?lit$0157429536$-->
    <!--?lit$0157429536$-->
    <span><slot></slot></span>
  </button></template>
    <!--?lit$0157429536$--><md-icon aria-hidden="true"><template shadowrootmode="open"><!----><slot></slot></template><!--?lit$0157429536$-->format_quote</md-icon>
  </mwc-icon-button><!----><!----><mwc-icon-button class="markdown-toolbar-ol" title="Add numbered list"><template shadowrootmode="open"><!----><button class="mdc-icon-button mdc-icon-button--display-flex" aria-label=""><!--?lit$0157429536$-->
    <!--?lit$0157429536$-->
    <span><slot></slot></span>
  </button></template>
    <!--?lit$0157429536$--><md-icon aria-hidden="true"><template shadowrootmode="open"><!----><slot></slot></template><!--?lit$0157429536$-->format_list_numbered</md-icon>
  </mwc-icon-button><!----><!----><mwc-icon-button class="markdown-toolbar-ul" title="Add bulleted list"><template shadowrootmode="open"><!----><button class="mdc-icon-button mdc-icon-button--display-flex" aria-label=""><!--?lit$0157429536$-->
    <!--?lit$0157429536$-->
    <span><slot></slot></span>
  </button></template>
    <!--?lit$0157429536$--><md-icon aria-hidden="true"><template shadowrootmode="open"><!----><slot></slot></template><!--?lit$0157429536$-->format_list_bulleted</md-icon>
  </mwc-icon-button><!----><!----><mwc-icon-button class="markdown-toolbar-hr" title="Add horizontal rule"><template shadowrootmode="open"><!----><button class="mdc-icon-button mdc-icon-button--display-flex" aria-label=""><!--?lit$0157429536$-->
    <!--?lit$0157429536$-->
    <span><slot></slot></span>
  </button></template>
    <!--?lit$0157429536$--><md-icon aria-hidden="true"><template shadowrootmode="open"><!----><slot></slot></template><!--?lit$0157429536$-->horizontal_rule</md-icon>
  </mwc-icon-button><!----><!----><mwc-icon-button class="latex" title="LaTeX"><template shadowrootmode="open"><!----><button class="mdc-icon-button mdc-icon-button--display-flex" aria-label=""><!--?lit$0157429536$-->
    <!--?lit$0157429536$-->
    <span><slot></slot></span>
  </button></template>
    <!--?lit$0157429536$--><span>ψ</span>
  </mwc-icon-button><!----><!----><mwc-icon-button title="Insert emoji"><template shadowrootmode="open"><!----><button class="mdc-icon-button mdc-icon-button--display-flex" aria-label=""><!--?lit$0157429536$-->
    <!--?lit$0157429536$-->
    <span><slot></slot></span>
  </button></template>
    <!--?lit$0157429536$--><md-icon aria-hidden="true"><template shadowrootmode="open"><!----><slot></slot></template><!--?lit$0157429536$-->mood</md-icon>
  </mwc-icon-button><!----><!----><mwc-icon-button class="markdown-toolbar-preview" title="Reposition markdown preview"><template shadowrootmode="open"><!----><button class="mdc-icon-button mdc-icon-button--display-flex" aria-label=""><!--?lit$0157429536$-->
    <!--?lit$0157429536$-->
    <span><slot></slot></span>
  </button></template>
    <!--?lit$0157429536$--><md-icon aria-hidden="true"><template shadowrootmode="open"><!----><slot></slot></template><!--?lit$0157429536$--><svg viewBox="0 0 24 24"><!--?lit$0157429536$--><g id="markdown-preview-below">
  <rect width="20" height="18" x="2" y="2" rx="2" ry="2" style="fill:none;stroke:var(--colab-icon-color)"></rect>
  <line x1="4.5" y1="13" x2="19.5" y2="13" style="stroke:var(--colab-primary-text-color);stroke-dasharray:2"></line>
  <line x1="2.5" y1="4" x2="21.5" y2="4" style="stroke:var(--colab-icon-color);stroke-width:3px;"></line>
</g></svg></md-icon>
  </mwc-icon-button><!----><!--?--></div></div>
      <div class="editor-container horizontal">
        <div class="editor-root"><div class="editor flex monaco" data-keybinding-context="91" data-mode-id="markdown" style="height: 48px; --vscode-editorCodeLens-lineHeight: 16px; --vscode-editorCodeLens-fontSize: 12px; --vscode-editorCodeLens-fontFeatureSettings: &quot;liga&quot; off, &quot;calt&quot; off; display: none;"><div class="monaco-editor no-user-select  showUnused showDeprecated vs-dark" role="code" data-uri="inmemory://model/62" style="width: 729px; height: 48px;"><div data-mprt="3" class="overflow-guard" style="width: 729px; height: 48px;"><div class="margin" role="presentation" aria-hidden="true" style="position: absolute; contain: strict; will-change: unset; top: 0px; height: 48px; width: 6px;"><div class="glyph-margin" style="left: 0px; width: 0px; height: 48px;"></div><div class="margin-view-zones" role="presentation" aria-hidden="true" style="position: absolute;"></div><div class="margin-view-overlays" role="presentation" aria-hidden="true" style="position: absolute; font-family: monospace, Consolas, &quot;Courier New&quot;, monospace; font-weight: normal; font-size: 14px; font-feature-settings: &quot;liga&quot; 0, &quot;calt&quot; 0; font-variation-settings: normal; line-height: 19px; letter-spacing: 0px; width: 6px; height: 48px;"><div style="position:absolute;top:0px;width:100%;height:19px;"></div><div style="position:absolute;top:19px;width:100%;height:19px;"><div class="current-line current-line-margin-both" style="width:6px; height:19px;"></div></div></div><div class="glyph-margin-widgets" style="position: absolute; top: 0px;"></div></div><div class="monaco-scrollable-element editor-scrollable vs-dark" role="presentation" data-mprt="5" style="position: absolute; overflow: hidden; left: 6px; width: 723px; height: 48px;"><div class="lines-content monaco-editor-background" style="position: absolute; overflow: hidden; width: 1e+06px; height: 48px; contain: strict; will-change: unset; top: 0px; left: 0px;"><div class="view-overlays" role="presentation" aria-hidden="true" style="position: absolute; font-family: monospace, Consolas, &quot;Courier New&quot;, monospace; font-weight: normal; font-size: 14px; font-feature-settings: &quot;liga&quot; 0, &quot;calt&quot; 0; font-variation-settings: normal; line-height: 19px; letter-spacing: 0px; height: 0px; width: 723px;"><div style="position:absolute;top:0px;width:100%;height:19px;"></div><div style="position:absolute;top:19px;width:100%;height:19px;"><div class="current-line" style="width:723px; height:19px;"></div></div></div><div role="presentation" aria-hidden="true" class="view-rulers"><div class="view-ruler" style="width: 2px; height: 48px; left: 615.938px;"></div></div><div class="view-zones" role="presentation" aria-hidden="true" style="position: absolute;"></div><div class="view-lines monaco-mouse-cursor-text" role="presentation" aria-hidden="true" data-mprt="7" style="position: absolute; font-family: monospace, Consolas, &quot;Courier New&quot;, monospace; font-weight: normal; font-size: 14px; font-feature-settings: &quot;liga&quot; 0, &quot;calt&quot; 0; font-variation-settings: normal; line-height: 19px; letter-spacing: 0px; width: 723px; height: 48px;"><div style="top:0px;height:19px;" class="view-line"><span><span class="mtk1">Random&nbsp;Forest&nbsp;is&nbsp;generally&nbsp;more&nbsp;robust&nbsp;to&nbsp;overfitt</span><span class="mtk1">ing&nbsp;compared&nbsp;to&nbsp;a&nbsp;single&nbsp;</span></span></div><div style="top:19px;height:19px;" class="view-line"><span><span class="mtk1">decision&nbsp;tree&nbsp;or&nbsp;linear&nbsp;models&nbsp;like&nbsp;logistic&nbsp;regre</span><span class="mtk1">ssion.</span></span></div></div><div data-mprt="1" class="contentWidgets" style="position: absolute; top: 0px;"><div class="lightBulbWidget codicon codicon-light-bulb" widgetid="LightBulbWidget" title="Show Code Actions (Ctrl+.)" style="position: absolute; display: none; visibility: hidden; max-width: 723px;"></div></div><div role="presentation" aria-hidden="true" class="cursors-layer cursor-line-style cursor-solid"><div class="cursor monaco-mouse-cursor-text " style="height: 19px; top: 19px; left: 431px; font-family: monospace, Consolas, &quot;Courier New&quot;, monospace; font-weight: normal; font-size: 14px; font-feature-settings: &quot;liga&quot; 0, &quot;calt&quot; 0; font-variation-settings: normal; line-height: 19px; letter-spacing: 0px; display: block; visibility: hidden; padding-left: 0px; width: 1.6px;"></div></div></div><div role="presentation" aria-hidden="true" class="invisible scrollbar horizontal" style="position: absolute; width: 709px; height: 10px; left: 0px; bottom: 0px;"><div class="slider" style="position: absolute; top: 0px; left: 0px; height: 10px; transform: translate3d(0px, 0px, 0px); contain: strict; will-change: unset; width: 709px;"></div></div><canvas class="decorationsOverviewRuler" aria-hidden="true" width="17" height="60" style="position: absolute; transform: translate3d(0px, 0px, 0px); contain: strict; top: 0px; right: 0px; width: 14px; height: 48px; will-change: unset; display: block;"></canvas><div role="presentation" aria-hidden="true" class="invisible scrollbar vertical" style="position: absolute; width: 14px; height: 48px; right: 0px; top: 0px;"><div class="slider" style="position: absolute; top: 0px; left: 0px; width: 14px; transform: translate3d(0px, 0px, 0px); contain: strict; will-change: unset; height: 48px;"></div></div></div><div role="presentation" aria-hidden="true" style="width: 729px;"></div><textarea data-mprt="6" class="inputarea monaco-mouse-cursor-text" wrap="on" autocorrect="off" autocapitalize="off" autocomplete="off" spellcheck="false" aria-label="Editor content;Press Alt+F1 for Accessibility Options." tabindex="0" role="textbox" aria-roledescription="editor" aria-multiline="true" aria-haspopup="false" aria-autocomplete="both" style="tab-size: 15.3984px; font-family: monospace, Consolas, &quot;Courier New&quot;, monospace; font-weight: normal; font-size: 14px; font-feature-settings: &quot;liga&quot; 0, &quot;calt&quot; 0; font-variation-settings: normal; line-height: 19px; letter-spacing: 0px; top: 19px; left: 6px; width: 616px; height: 1px;"></textarea><div style="position: absolute; top: 0px; left: 0px; width: 0px; height: 0px;" class="monaco-editor-background textAreaCover"></div><div data-mprt="4" class="overlayWidgets" style="width: 729px;"></div><div data-mprt="8" class="minimap slider-mouseover" role="presentation" aria-hidden="true" style="position: absolute; left: 0px; width: 0px; height: 48px;"><div class="minimap-shadow-hidden" style="height: 48px;"></div><canvas width="0" height="60" style="position: absolute; left: 0px; width: 0px; height: 48px;"></canvas><canvas class="minimap-decorations-layer" width="0" height="60" style="position: absolute; left: 0px; width: 0px; height: 48px;"></canvas><div class="minimap-slider" style="position: absolute; transform: translate3d(0px, 0px, 0px); contain: strict; width: 0px; will-change: unset;"><div class="minimap-slider-horizontal" style="position: absolute; width: 0px; height: 0px;"></div></div></div><div role="presentation" aria-hidden="true" class="blockDecorations-container"></div></div><div data-mprt="2" class="overflowingContentWidgets" style="display: none;"><div widgetid="editor.contrib.resizableContentHoverWidget" style="position: fixed; height: 10px; width: 10px; z-index: 50; display: none; visibility: hidden; max-width: 1536px;"><div class="monaco-sash vertical" style="left: 8px;"></div><div class="monaco-sash vertical" style="left: -2px;"></div><div class="monaco-sash orthogonal-edge-north horizontal" style="top: -2px;"><div class="orthogonal-drag-handle start"></div><div class="orthogonal-drag-handle end"></div></div><div class="monaco-sash orthogonal-edge-south horizontal" style="top: 8px;"><div class="orthogonal-drag-handle start"></div><div class="orthogonal-drag-handle end"></div></div><div class="monaco-hover hidden" tabindex="0" role="tooltip"><div class="monaco-scrollable-element " role="presentation" style="position: relative; overflow: hidden;"><div class="monaco-hover-content" style="overflow: hidden; font-size: 14px; line-height: 1.35714; max-width: 500px; max-height: 250px;"></div><div role="presentation" aria-hidden="true" class="invisible scrollbar horizontal" style="position: absolute;"><div class="slider" style="position: absolute; top: 0px; left: 0px; height: 10px; transform: translate3d(0px, 0px, 0px); contain: strict;"></div></div><div role="presentation" aria-hidden="true" class="invisible scrollbar vertical" style="position: absolute;"><div class="slider" style="position: absolute; top: 0px; left: 0px; width: 10px; transform: translate3d(0px, 0px, 0px); contain: strict;"></div></div><div class="shadow"></div><div class="shadow"></div><div class="shadow"></div></div></div></div></div><div class=".in-cell-overflowing"><div widgetid="editor.contrib.quickInputWidget" style="position: absolute; top: 0px; right: 50%;"></div></div></div></div></div>
        <div class="text-top-div">
          <div class="markdown"><span><p>Random Forest is generally more robust to overfitting compared to a single decision tree or linear models like logistic regression.</p>
</span></div>
        </div>
      </div>

      <div class="section-header" style="display: none;">
        <colab-run-button role="button" aria-label="Run cell"><template shadowrootmode="open"><!----> <div class="cell-execution">
      <div class="execution-count"><!--?lit$0157429536$-->[ ]</div>
      <div class="cell-execution-indicator"> <!--?lit$0157429536$-->
<svg xmlns="http://www.w3.org/2000/svg" viewBox="0 0 24 24">
  <!--?lit$0157429536$-->
  <mask id="playSymbolMask">
    <rect width="100%" height="100%" fill="white"></rect>
    <polygon points="10,8 17,12 10,16" fill="black"></polygon>
  </mask>
  <circle cx="12" cy="12" r="7.8" mask="url(#playSymbolMask)" id="filledCircle"></circle>
</svg> </div>
      <!--?lit$0157429536$--><!--?-->
    </div></template></colab-run-button>
        <div class="section-header-container" title="click to expand">↳ 0 cells hidden</div>
      </div></div></div><div class="add-cell">
      <div class="add-cell-buttons">
        <md-outlined-button class="add-code add-button" aria-label="Add code cell
Ctrl+M B" title="Add code cell
Ctrl+M B" role="presentation" value="" has-icon=""><template shadowrootmode="open" shadowrootdelegatesfocus><!---->
      <!--?lit$0157429536$--><div class="outline"></div>
      <div class="background"></div>
      <md-focus-ring part="focus-ring" for="button" aria-hidden="true"><template shadowrootmode="open"><!----></template></md-focus-ring>
      <md-ripple for="button" aria-hidden="true"><template shadowrootmode="open"><!----><div class="surface"></div></template></md-ripple>
      <!--?lit$0157429536$--><button id="button" class="button" aria-label="Add code cell
Ctrl+M B">
      <!--?lit$0157429536$-->
      <span class="touch"></span>
      <!--?lit$0157429536$--><slot name="icon"></slot>
      <span class="label"><slot></slot></span>
      <!--?lit$0157429536$-->
    
    </button>
    </template>
          <md-icon slot="icon" aria-hidden="true"><template shadowrootmode="open"><!----><slot></slot></template>add</md-icon>
          <!--?lit$0157429536$-->Code
        </md-outlined-button>
        <md-outlined-button class="add-text add-button" aria-label="Add text cell" title="Add text cell" role="presentation" value="" has-icon=""><template shadowrootmode="open" shadowrootdelegatesfocus><!---->
      <!--?lit$0157429536$--><div class="outline"></div>
      <div class="background"></div>
      <md-focus-ring part="focus-ring" for="button" aria-hidden="true"><template shadowrootmode="open"><!----></template></md-focus-ring>
      <md-ripple for="button" aria-hidden="true"><template shadowrootmode="open"><!----><div class="surface   "></div></template></md-ripple>
      <!--?lit$0157429536$--><button id="button" class="button" aria-label="Add text cell">
      <!--?lit$0157429536$-->
      <span class="touch"></span>
      <!--?lit$0157429536$--><slot name="icon"></slot>
      <span class="label"><slot></slot></span>
      <!--?lit$0157429536$-->
    
    </button>
    </template>
          <md-icon slot="icon" aria-hidden="true"><template shadowrootmode="open"><!----><slot></slot></template>add</md-icon>
          <!--?lit$0157429536$-->Text
        </md-outlined-button>
        <!--?lit$0157429536$-->
      </div><hr>
    </div></div><div class="cell code icon-scrolling code-has-output" id="cell-mTIykQVUsyEM" tabindex="-1" role="region" aria-label="Cell 51: Code cell: " style="opacity: 1;"><div class="cell-tag-editor sticky"></div><div class="cell-toolbar sticky"></div><div class="main-content" elevation="0"><div class="cell-contents"><div class="cell-mask"></div><span class="imported-info-area"></span><div class="codecell-input-output">
      <div class="inputarea horizontal layout code">
        <div class="cell-gutter">
          <!-- Bounding range for vertical scrolling of icons -->
          <div class="cell-execution-container">
            <colab-run-button title="Run cell (Ctrl+Enter)
cell executed since last change

executed by Srinivasulu K
2:06 PM (2 minutes ago)
executed in 0.535s" role="button" aria-label="Run cell"><template shadowrootmode="open"><!----> <div class="cell-execution">
      <div class="execution-count"><!--?lit$0157429536$-->[61]</div>
      <div class="cell-execution-indicator"> <!--?lit$0157429536$-->
<svg xmlns="http://www.w3.org/2000/svg" viewBox="0 0 24 24">
  <!--?lit$0157429536$-->
  <mask id="playSymbolMask">
    <rect width="100%" height="100%" fill="white"></rect>
    <polygon points="10,8 17,12 10,16" fill="black"></polygon>
  </mask>
  <circle cx="12" cy="12" r="7.8" mask="url(#playSymbolMask)" id="filledCircle"></circle>
</svg> </div>
      <!--?lit$0157429536$--><div id="status">
      <md-icon aria-hidden="true"><template shadowrootmode="open"><!----><slot></slot></template><!--?lit$0157429536$--><svg viewBox="0 0 24 24"><!--?lit$0157429536$--><path d="M9 16.17L4.83 12l-1.42 1.41L9 19 21 7l-1.41-1.41z"></path></svg></md-icon>
      <div><!--?lit$0157429536$-->0s</div>
    </div>
    </div></template></colab-run-button>
          </div>
        </div>
      <div class="editor flex lazy-editor" style=""><pre class="lazy-virtualized" style="font-size: 14px; line-height: 19px;"><pre class="lazy-gutter"></pre><pre class="monaco-colorized colab-dark colab-dark colab-dark colab-dark colab-dark" data-lang="notebook-python"><span><span class="mtk18">from</span><span class="mtk1">&nbsp;sklearn.ensemble&nbsp;</span><span class="mtk18">import</span><span class="mtk1">&nbsp;RandomForestClassifier</span></span><br><span><span class="mtk18">from</span><span class="mtk1">&nbsp;sklearn.metrics&nbsp;</span><span class="mtk18">import</span><span class="mtk1">&nbsp;accuracy_score</span><span class="mtk12">,</span><span class="mtk1">&nbsp;classification_report</span><span class="mtk12">,</span><span class="mtk1">&nbsp;confusion_matrix</span></span><br><span><span></span></span><br><span><span class="mtk8">#&nbsp;Assuming&nbsp;you&nbsp;have&nbsp;X_train_scaled,&nbsp;X_test_scaled,</span><span class="mtk8">&nbsp;Y_train,&nbsp;and&nbsp;Y_test&nbsp;as&nbsp;your&nbsp;training&nbsp;and&nbsp;testing&nbsp;</span><span class="mtk8">data</span></span><br><span><span></span></span><br><span><span class="mtk8">#&nbsp;Instantiate&nbsp;the&nbsp;Random&nbsp;Forest&nbsp;Classifier</span></span><br><span><span class="mtk1">rf_classifier&nbsp;=&nbsp;RandomForestClassifier</span><span class="mtk12">(</span><span class="mtk1">n_estimators=</span><span class="mtk6">100</span><span class="mtk12">,</span><span class="mtk1">&nbsp;random_state=</span><span class="mtk6">42</span><span class="mtk12">)</span></span><br><span><span></span></span><br><span><span class="mtk8">#&nbsp;Train&nbsp;the&nbsp;classifier&nbsp;on&nbsp;the&nbsp;training&nbsp;data</span></span><br><span><span class="mtk1">rf_classifier.fit</span><span class="mtk12">(</span><span class="mtk1">X_train_scaled</span><span class="mtk12">,</span><span class="mtk1">&nbsp;Y_train</span><span class="mtk12">)</span></span><br><span><span></span></span><br><span><span class="mtk8">#&nbsp;Make&nbsp;predictions&nbsp;on&nbsp;the&nbsp;test&nbsp;data</span></span><br><span><span class="mtk1">Y_pred&nbsp;=&nbsp;rf_classifier.predict</span><span class="mtk12">(</span><span class="mtk1">X_test_scaled</span><span class="mtk12">)</span></span><br><span><span></span></span><br><span><span class="mtk8">#&nbsp;Evaluate&nbsp;the&nbsp;model's&nbsp;performance</span></span><br><span><span class="mtk1">accuracy&nbsp;=&nbsp;accuracy_score</span><span class="mtk12">(</span><span class="mtk1">Y_test</span><span class="mtk12">,</span><span class="mtk1">&nbsp;Y_pred</span><span class="mtk12">)</span></span><br><span><span class="mtk15">print</span><span class="mtk12">(</span><span class="mtk5">"Accuracy:"</span><span class="mtk12">,</span><span class="mtk1">&nbsp;accuracy</span><span class="mtk12">)</span></span><br><span><span></span></span><br><span><span class="mtk8">#&nbsp;Get&nbsp;other&nbsp;evaluation&nbsp;metrics&nbsp;like&nbsp;classification</span><span class="mtk8">&nbsp;report&nbsp;and&nbsp;confusion&nbsp;matrix</span></span><br><span><span class="mtk15">print</span><span class="mtk12">(</span><span class="mtk1">classification_report</span><span class="mtk12">(</span><span class="mtk1">Y_test</span><span class="mtk12">,</span><span class="mtk1">&nbsp;Y_pred</span><span class="mtk12">))</span></span><br><span><span class="mtk15">print</span><span class="mtk12">(</span><span class="mtk1">confusion_matrix</span><span class="mtk12">(</span><span class="mtk1">Y_test</span><span class="mtk12">,</span><span class="mtk1">&nbsp;Y_pred</span><span class="mtk12">))</span></span><br></pre><colab-read-only-cell-placeholder style="display: none;"><template shadowrootmode="open"><!----><div><!--?lit$0157429536$-->Start coding or <span tabindex="0" role="button" class="link">generate</span> with AI.</div></template></colab-read-only-cell-placeholder></pre></div><colab-form class="formview vertical layout flex"><div class="widget-area vertical layout"></div></colab-form></div>
    <div class="output"><!----> <div class="output-header"> </div>
        <div class="output-content" style="">
          <div class="output-info"><colab-output-info title="Clear output

executed by Srinivasulu K
2:06 PM (0 minutes ago)
executed in 0.535s" hovering=""><template shadowrootmode="open"><!----> <md-icon class="collaborator output" alt="Execution output" aria-hidden="true"><template shadowrootmode="open"><!----><slot></slot></template><!--?lit$0157429536$-->output</md-icon>
      <!--?lit$0157429536$--> <mwc-icon-button icon="cancel" command="clear-focused-or-selected-outputs" alt="Clear output"><template shadowrootmode="open"><!----><button class="mdc-icon-button mdc-icon-button--display-flex" aria-label="cancel"><!--?lit$0157429536$-->
    <!--?lit$0157429536$--><i class="material-icons"><!--?lit$0157429536$-->cancel</i>
    <span><slot></slot></span>
  </button></template>
          </mwc-icon-button><!--?--></template></colab-output-info></div>
          <div class="output-iframe-container">
            <div class="output-iframe-sizer" style="min-height: 0px;"> <div><div><colab-static-output-renderer tabindex="0" role="group"><div><div class="stream output-id-1 output_text"><pre>Accuracy: 1.0
              precision    recall  f1-score   support

           0       1.00      1.00      1.00        44

    accuracy                           1.00        44
   macro avg       1.00      1.00      1.00        44
weighted avg       1.00      1.00      1.00        44

[[44]]
</pre></div></div><div></div></colab-static-output-renderer></div></div></div>
          </div>
        </div></div></div><colab-cell-next-steps><template shadowrootmode="open"><!----></template></colab-cell-next-steps></div></div><div class="add-cell">
      <div class="add-cell-buttons">
        <md-outlined-button class="add-code add-button" aria-label="Add code cell
Ctrl+M B" title="Add code cell
Ctrl+M B" role="presentation" value="" has-icon=""><template shadowrootmode="open" shadowrootdelegatesfocus><!---->
      <!--?lit$0157429536$--><div class="outline"></div>
      <div class="background"></div>
      <md-focus-ring part="focus-ring" for="button" aria-hidden="true"><template shadowrootmode="open"><!----></template></md-focus-ring>
      <md-ripple for="button" aria-hidden="true"><template shadowrootmode="open"><!----><div class="surface"></div></template></md-ripple>
      <!--?lit$0157429536$--><button id="button" class="button" aria-label="Add code cell
Ctrl+M B">
      <!--?lit$0157429536$-->
      <span class="touch"></span>
      <!--?lit$0157429536$--><slot name="icon"></slot>
      <span class="label"><slot></slot></span>
      <!--?lit$0157429536$-->
    
    </button>
    </template>
          <md-icon slot="icon" aria-hidden="true"><template shadowrootmode="open"><!----><slot></slot></template>add</md-icon>
          <!--?lit$0157429536$-->Code
        </md-outlined-button>
        <md-outlined-button class="add-text add-button" aria-label="Add text cell" title="Add text cell" role="presentation" value="" has-icon=""><template shadowrootmode="open" shadowrootdelegatesfocus><!---->
      <!--?lit$0157429536$--><div class="outline"></div>
      <div class="background"></div>
      <md-focus-ring part="focus-ring" for="button" aria-hidden="true"><template shadowrootmode="open"><!----></template></md-focus-ring>
      <md-ripple for="button" aria-hidden="true"><template shadowrootmode="open"><!----><div class="surface"></div></template></md-ripple>
      <!--?lit$0157429536$--><button id="button" class="button" aria-label="Add text cell">
      <!--?lit$0157429536$-->
      <span class="touch"></span>
      <!--?lit$0157429536$--><slot name="icon"></slot>
      <span class="label"><slot></slot></span>
      <!--?lit$0157429536$-->
    
    </button>
    </template>
          <md-icon slot="icon" aria-hidden="true"><template shadowrootmode="open"><!----><slot></slot></template>add</md-icon>
          <!--?lit$0157429536$-->Text
        </md-outlined-button>
        <!--?lit$0157429536$-->
      </div><hr>
    </div></div><div class="cell text focused" id="cell-Bbr6Aob8s8zR" tabindex="-1" role="region" aria-label="Cell 52: Text cell: " style="opacity: 1;"><div class="cell-tag-editor sticky"></div><div class="cell-toolbar sticky"><colab-cell-toolbar><template shadowrootmode="open"><!----><!--?lit$0157429536$--><!----> <md-icon-button class="colab-icon" title="Move cell up
Ctrl+M K" aria-label="Move cell up
Ctrl+M K" command="move-cell-up" role="presentation" value=""><template shadowrootmode="open" shadowrootdelegatesfocus><!----><button id="button" class="icon-button  standard " aria-label="Move cell up
Ctrl+M K">
        <!--?lit$0157429536$--><md-focus-ring part="focus-ring" for="button" aria-hidden="true"><template shadowrootmode="open"><!----></template></md-focus-ring>
        <!--?lit$0157429536$--><md-ripple aria-hidden="true"><template shadowrootmode="open"><!----><div class="surface   "></div></template></md-ripple>
        <!--?lit$0157429536$--><span class="icon"><slot></slot></span>
        <!--?lit$0157429536$-->
        <!--?lit$0157429536$--><span class="touch"></span>
        <!--?lit$0157429536$-->
  </button></template>
          <md-icon aria-hidden="true"><template shadowrootmode="open"><!----><slot></slot></template><!--?lit$0157429536$-->arrow_upward</md-icon>
          <!--?lit$0157429536$-->
        </md-icon-button><!----><!----> <md-icon-button class="colab-icon" title="Move cell down
Ctrl+M J" aria-label="Move cell down
Ctrl+M J" command="move-cell-down" role="presentation" value="" disabled=""><template shadowrootmode="open" shadowrootdelegatesfocus><!----><button id="button" class="icon-button  standard " aria-label="Move cell down
Ctrl+M J" disabled="">
        <!--?lit$0157429536$--><md-focus-ring part="focus-ring" for="button" aria-hidden="true"><template shadowrootmode="open"><!----></template></md-focus-ring>
        <!--?lit$0157429536$--><md-ripple aria-hidden="true" disabled=""><template shadowrootmode="open"><!----><div class="surface   "></div></template></md-ripple>
        <!--?lit$0157429536$--><span class="icon"><slot></slot></span>
        <!--?lit$0157429536$-->
        <!--?lit$0157429536$--><span class="touch"></span>
        <!--?lit$0157429536$-->
  </button></template>
          <md-icon aria-hidden="true"><template shadowrootmode="open"><!----><slot></slot></template><!--?lit$0157429536$-->arrow_downward</md-icon>
          <!--?lit$0157429536$-->
        </md-icon-button><!----><!----> <md-icon-button class="colab-icon" title="Copy link to cell" aria-label="Copy link to cell" command="copy-link-to-cell" role="presentation" value=""><template shadowrootmode="open" shadowrootdelegatesfocus><!----><button id="button" class="icon-button  standard " aria-label="Copy link to cell">
        <!--?lit$0157429536$--><md-focus-ring part="focus-ring" for="button" aria-hidden="true"><template shadowrootmode="open"><!----></template></md-focus-ring>
        <!--?lit$0157429536$--><md-ripple aria-hidden="true"><template shadowrootmode="open"><!----><div class="surface   "></div></template></md-ripple>
        <!--?lit$0157429536$--><span class="icon"><slot></slot></span>
        <!--?lit$0157429536$-->
        <!--?lit$0157429536$--><span class="touch"></span>
        <!--?lit$0157429536$-->
  </button></template>
          <md-icon aria-hidden="true"><template shadowrootmode="open"><!----><slot></slot></template><!--?lit$0157429536$-->link</md-icon>
          <!--?lit$0157429536$-->
        </md-icon-button><!----><!----> <md-icon-button class="colab-icon" title="Add a comment
Ctrl+Alt+M" aria-label="Add a comment
Ctrl+Alt+M" command="add-comment" role="presentation" value=""><template shadowrootmode="open" shadowrootdelegatesfocus><!----><button id="button" class="icon-button  standard " aria-label="Add a comment
Ctrl+Alt+M">
        <!--?lit$0157429536$--><md-focus-ring part="focus-ring" for="button" aria-hidden="true"><template shadowrootmode="open"><!----></template></md-focus-ring>
        <!--?lit$0157429536$--><md-ripple aria-hidden="true"><template shadowrootmode="open"><!----><div class="surface   "></div></template></md-ripple>
        <!--?lit$0157429536$--><span class="icon"><slot></slot></span>
        <!--?lit$0157429536$-->
        <!--?lit$0157429536$--><span class="touch"></span>
        <!--?lit$0157429536$-->
  </button></template>
          <md-icon aria-hidden="true"><template shadowrootmode="open"><!----><slot></slot></template><!--?lit$0157429536$-->comment</md-icon>
          <!--?lit$0157429536$-->
        </md-icon-button><!----><!----> <md-icon-button class="colab-icon" title="Open editor settings" aria-label="Open editor settings" command="editor-preferences" role="presentation" value="" style="display: none;"><template shadowrootmode="open" shadowrootdelegatesfocus><!----><button id="button" class="icon-button  standard " aria-label="Open editor settings">
        <!--?lit$0157429536$--><md-focus-ring part="focus-ring" for="button" aria-hidden="true"><template shadowrootmode="open"><!----></template></md-focus-ring>
        <!--?lit$0157429536$--><md-ripple aria-hidden="true"><template shadowrootmode="open"><!----><div class="surface   "></div></template></md-ripple>
        <!--?lit$0157429536$--><span class="icon"><slot></slot></span>
        <!--?lit$0157429536$-->
        <!--?lit$0157429536$--><span class="touch"></span>
        <!--?lit$0157429536$-->
  </button></template>
          <md-icon filled="" aria-hidden="true"><template shadowrootmode="open"><!----><slot></slot></template><!--?lit$0157429536$-->settings</md-icon>
          <!--?lit$0157429536$-->
        </md-icon-button><!----><!----> <md-icon-button class="colab-icon" title="Edit" aria-label="Edit" command="toggle-edit-markdown" toggle="" role="presentation" value=""><template shadowrootmode="open" shadowrootdelegatesfocus><!----><button id="button" class="icon-button standard" aria-label="Edit" aria-pressed="false">
        <!--?lit$0157429536$--><md-focus-ring part="focus-ring" for="button" aria-hidden="true"><template shadowrootmode="open"><!----></template></md-focus-ring>
        <!--?lit$0157429536$--><md-ripple aria-hidden="true"><template shadowrootmode="open"><!----><div class="surface   "></div></template></md-ripple>
        <!--?lit$0157429536$--><span class="icon"><slot></slot></span>
        <!--?lit$0157429536$-->
        <!--?lit$0157429536$--><span class="touch"></span>
        <!--?lit$0157429536$-->
  </button></template>
          <md-icon aria-hidden="true"><template shadowrootmode="open"><!----><slot></slot></template><!--?lit$0157429536$-->edit</md-icon>
          <!--?lit$0157429536$--><md-icon slot="selected" aria-hidden="true"><template shadowrootmode="open"><!----><slot></slot></template><!--?lit$0157429536$-->edit_off</md-icon>
        </md-icon-button><!----><!----> <md-icon-button class="colab-icon" title="Mirror cell in tab" aria-label="Mirror cell in tab" command="mirror-cell-in-tab" role="presentation" value=""><template shadowrootmode="open" shadowrootdelegatesfocus><!----><button id="button" class="icon-button  standard " aria-label="Mirror cell in tab">
        <!--?lit$0157429536$--><md-focus-ring part="focus-ring" for="button" aria-hidden="true"><template shadowrootmode="open"><!----></template></md-focus-ring>
        <!--?lit$0157429536$--><md-ripple aria-hidden="true"><template shadowrootmode="open"><!----><div class="surface   "></div></template></md-ripple>
        <!--?lit$0157429536$--><span class="icon"><slot></slot></span>
        <!--?lit$0157429536$-->
        <!--?lit$0157429536$--><span class="touch"></span>
        <!--?lit$0157429536$-->
  </button></template>
          <md-icon aria-hidden="true"><template shadowrootmode="open"><!----><slot></slot></template><!--?lit$0157429536$--><svg viewBox="0 0 24 24"><!--?lit$0157429536$-->
      <g id="mirror-cell">
        <path d="M4,21V7H2V21a2,2,0,0,0,2,2H18V21Z"></path>
        <path d="M6,13v2H8.6L5,18.6,6.4,20,10,16.4V19h2V13Z"></path>
        <path d="M19,1H8A2,2,0,0,0,6,3v8H8V3H19V17H14v2h5a2,2,0,0,0,2-2V3A2,2,0,0,0,19,1Z"></path>
      </g></svg></md-icon>
          <!--?lit$0157429536$-->
        </md-icon-button><!----><!----> <md-icon-button class="colab-icon" title="Delete cell
Ctrl+M D" aria-label="Delete cell
Ctrl+M D" command="delete-cell-or-selection" role="presentation" value=""><template shadowrootmode="open" shadowrootdelegatesfocus><!----><button id="button" class="icon-button  standard " aria-label="Delete cell
Ctrl+M D">
        <!--?lit$0157429536$--><md-focus-ring part="focus-ring" for="button" aria-hidden="true"><template shadowrootmode="open"><!----></template></md-focus-ring>
        <!--?lit$0157429536$--><md-ripple aria-hidden="true"><template shadowrootmode="open"><!----><div class="surface   "></div></template></md-ripple>
        <!--?lit$0157429536$--><span class="icon"><slot></slot></span>
        <!--?lit$0157429536$-->
        <!--?lit$0157429536$--><span class="touch"></span>
        <!--?lit$0157429536$-->
  </button></template>
          <md-icon aria-hidden="true"><template shadowrootmode="open"><!----><slot></slot></template><!--?lit$0157429536$-->delete</md-icon>
          <!--?lit$0157429536$-->
        </md-icon-button><!----><!--?lit$0157429536$--><md-icon-button title="More cell actions" aria-label="More cell actions" class="colab-icon cell-toolbar-more" role="presentation" value=""><template shadowrootmode="open" shadowrootdelegatesfocus><!----><button id="button" class="icon-button  standard " aria-label="More cell actions">
        <!--?lit$0157429536$--><md-focus-ring part="focus-ring" for="button" aria-hidden="true"><template shadowrootmode="open"><!----></template></md-focus-ring>
        <!--?lit$0157429536$--><md-ripple aria-hidden="true"><template shadowrootmode="open"><!----><div class="surface   "></div></template></md-ripple>
        <!--?lit$0157429536$--><span class="icon"><slot></slot></span>
        <!--?lit$0157429536$-->
        <!--?lit$0157429536$--><span class="touch"></span>
        <!--?lit$0157429536$-->
  </button></template><md-icon aria-hidden="true"><template shadowrootmode="open"><!----><slot></slot></template>more_vert</md-icon>
    </md-icon-button><!--?--></template></colab-cell-toolbar></div><div class="main-content" elevation="2"><div class="cell-contents"><div class="cell-mask"></div><span class="imported-info-area"></span><!----> <div class="toolbar-root"><div class="markdown-toolbar"><!----><!--?lit$0157429536$--><!----><mwc-icon-button class="markdown-toolbar-header" title="Toggle heading"><template shadowrootmode="open"><!----><button class="mdc-icon-button mdc-icon-button--display-flex" aria-label=""><!--?lit$0157429536$-->
    <!--?lit$0157429536$-->
    <span><slot></slot></span>
  </button></template>
    <!--?lit$0157429536$--><md-icon aria-hidden="true"><template shadowrootmode="open"><!----><slot></slot></template><!--?lit$0157429536$-->format_size</md-icon>
  </mwc-icon-button><!----><!----><mwc-icon-button class="markdown-toolbar-bold" title="Bold"><template shadowrootmode="open"><!----><button class="mdc-icon-button mdc-icon-button--display-flex" aria-label=""><!--?lit$0157429536$-->
    <!--?lit$0157429536$-->
    <span><slot></slot></span>
  </button></template>
    <!--?lit$0157429536$--><md-icon aria-hidden="true"><template shadowrootmode="open"><!----><slot></slot></template><!--?lit$0157429536$-->format_bold</md-icon>
  </mwc-icon-button><!----><!----><mwc-icon-button class="markdown-toolbar-italic" title="Italicize"><template shadowrootmode="open"><!----><button class="mdc-icon-button mdc-icon-button--display-flex" aria-label=""><!--?lit$0157429536$-->
    <!--?lit$0157429536$-->
    <span><slot></slot></span>
  </button></template>
    <!--?lit$0157429536$--><md-icon aria-hidden="true"><template shadowrootmode="open"><!----><slot></slot></template><!--?lit$0157429536$-->format_italic</md-icon>
  </mwc-icon-button><!----><!----><mwc-icon-button class="markdown-toolbar-code" title="Format as code"><template shadowrootmode="open"><!----><button class="mdc-icon-button mdc-icon-button--display-flex" aria-label=""><!--?lit$0157429536$-->
    <!--?lit$0157429536$-->
    <span><slot></slot></span>
  </button></template>
    <!--?lit$0157429536$--><md-icon aria-hidden="true"><template shadowrootmode="open"><!----><slot></slot></template><!--?lit$0157429536$-->code</md-icon>
  </mwc-icon-button><!----><!----><mwc-icon-button class="markdown-toolbar-link" title="Insert link"><template shadowrootmode="open"><!----><button class="mdc-icon-button mdc-icon-button--display-flex" aria-label=""><!--?lit$0157429536$-->
    <!--?lit$0157429536$-->
    <span><slot></slot></span>
  </button></template>
    <!--?lit$0157429536$--><md-icon aria-hidden="true"><template shadowrootmode="open"><!----><slot></slot></template><!--?lit$0157429536$-->link</md-icon>
  </mwc-icon-button><!----><!----><label for="markdown-image-input" class="colab-icon markdown-insert-image"><span role="button" tabindex="0" title="Insert image" aria-label="Insert image"><md-icon aria-hidden="true"><template shadowrootmode="open"><!----><slot></slot></template>image</md-icon></span></label><input id="markdown-image-input" type="file" multiple="" accept="image/*"><!----><!----><mwc-icon-button class="markdown-toolbar-blockquote" title="Add blockquote"><template shadowrootmode="open"><!----><button class="mdc-icon-button mdc-icon-button--display-flex" aria-label=""><!--?lit$0157429536$-->
    <!--?lit$0157429536$-->
    <span><slot></slot></span>
  </button></template>
    <!--?lit$0157429536$--><md-icon aria-hidden="true"><template shadowrootmode="open"><!----><slot></slot></template><!--?lit$0157429536$-->format_quote</md-icon>
  </mwc-icon-button><!----><!----><mwc-icon-button class="markdown-toolbar-ol" title="Add numbered list"><template shadowrootmode="open"><!----><button class="mdc-icon-button mdc-icon-button--display-flex" aria-label=""><!--?lit$0157429536$-->
    <!--?lit$0157429536$-->
    <span><slot></slot></span>
  </button></template>
    <!--?lit$0157429536$--><md-icon aria-hidden="true"><template shadowrootmode="open"><!----><slot></slot></template><!--?lit$0157429536$-->format_list_numbered</md-icon>
  </mwc-icon-button><!----><!----><mwc-icon-button class="markdown-toolbar-ul" title="Add bulleted list"><template shadowrootmode="open"><!----><button class="mdc-icon-button mdc-icon-button--display-flex" aria-label=""><!--?lit$0157429536$-->
    <!--?lit$0157429536$-->
    <span><slot></slot></span>
  </button></template>
    <!--?lit$0157429536$--><md-icon aria-hidden="true"><template shadowrootmode="open"><!----><slot></slot></template><!--?lit$0157429536$-->format_list_bulleted</md-icon>
  </mwc-icon-button><!----><!----><mwc-icon-button class="markdown-toolbar-hr" title="Add horizontal rule"><template shadowrootmode="open"><!----><button class="mdc-icon-button mdc-icon-button--display-flex" aria-label=""><!--?lit$0157429536$-->
    <!--?lit$0157429536$-->
    <span><slot></slot></span>
  </button></template>
    <!--?lit$0157429536$--><md-icon aria-hidden="true"><template shadowrootmode="open"><!----><slot></slot></template><!--?lit$0157429536$-->horizontal_rule</md-icon>
  </mwc-icon-button><!----><!----><mwc-icon-button class="latex" title="LaTeX"><template shadowrootmode="open"><!----><button class="mdc-icon-button mdc-icon-button--display-flex" aria-label=""><!--?lit$0157429536$-->
    <!--?lit$0157429536$-->
    <span><slot></slot></span>
  </button></template>
    <!--?lit$0157429536$--><span>ψ</span>
  </mwc-icon-button><!----><!----><mwc-icon-button title="Insert emoji"><template shadowrootmode="open"><!----><button class="mdc-icon-button mdc-icon-button--display-flex" aria-label=""><!--?lit$0157429536$-->
    <!--?lit$0157429536$-->
    <span><slot></slot></span>
  </button></template>
    <!--?lit$0157429536$--><md-icon aria-hidden="true"><template shadowrootmode="open"><!----><slot></slot></template><!--?lit$0157429536$-->mood</md-icon>
  </mwc-icon-button><!----><!----><mwc-icon-button class="markdown-toolbar-preview" title="Reposition markdown preview"><template shadowrootmode="open"><!----><button class="mdc-icon-button mdc-icon-button--display-flex" aria-label=""><!--?lit$0157429536$-->
    <!--?lit$0157429536$-->
    <span><slot></slot></span>
  </button></template>
    <!--?lit$0157429536$--><md-icon aria-hidden="true"><template shadowrootmode="open"><!----><slot></slot></template><!--?lit$0157429536$--><svg viewBox="0 0 24 24"><!--?lit$0157429536$--><g id="markdown-preview-below">
  <rect width="20" height="18" x="2" y="2" rx="2" ry="2" style="fill:none;stroke:var(--colab-icon-color)"></rect>
  <line x1="4.5" y1="13" x2="19.5" y2="13" style="stroke:var(--colab-primary-text-color);stroke-dasharray:2"></line>
  <line x1="2.5" y1="4" x2="21.5" y2="4" style="stroke:var(--colab-icon-color);stroke-width:3px;"></line>
</g></svg></md-icon>
  </mwc-icon-button><!----><!--?--></div></div>
      <div class="editor-container horizontal">
        <div class="editor-root"><div class="editor flex monaco" data-keybinding-context="95" data-mode-id="markdown" style="height: 29px; --vscode-editorCodeLens-lineHeight: 16px; --vscode-editorCodeLens-fontSize: 12px; --vscode-editorCodeLens-fontFeatureSettings: &quot;liga&quot; off, &quot;calt&quot; off; display: none;"><div class="monaco-editor no-user-select  showUnused showDeprecated vs-dark" role="code" data-uri="inmemory://model/64" style="width: 729px; height: 29px;"><div data-mprt="3" class="overflow-guard" style="width: 729px; height: 29px;"><div class="margin" role="presentation" aria-hidden="true" style="position: absolute; contain: strict; will-change: unset; top: 0px; height: 29px; width: 6px;"><div class="glyph-margin" style="left: 0px; width: 0px; height: 29px;"></div><div class="margin-view-zones" role="presentation" aria-hidden="true" style="position: absolute;"></div><div class="margin-view-overlays" role="presentation" aria-hidden="true" style="position: absolute; font-family: monospace, Consolas, &quot;Courier New&quot;, monospace; font-weight: normal; font-size: 14px; font-feature-settings: &quot;liga&quot; 0, &quot;calt&quot; 0; font-variation-settings: normal; line-height: 19px; letter-spacing: 0px; width: 6px; height: 29px;"><div style="position:absolute;top:0px;width:100%;height:19px;"><div class="current-line current-line-margin-both" style="width:6px; height:19px;"></div></div></div><div class="glyph-margin-widgets" style="position: absolute; top: 0px;"></div></div><div class="monaco-scrollable-element editor-scrollable vs-dark" role="presentation" data-mprt="5" style="position: absolute; overflow: hidden; left: 6px; width: 723px; height: 29px;"><div class="lines-content monaco-editor-background" style="position: absolute; overflow: hidden; width: 1e+06px; height: 29px; contain: strict; will-change: unset; top: 0px; left: 0px;"><div class="view-overlays" role="presentation" aria-hidden="true" style="position: absolute; font-family: monospace, Consolas, &quot;Courier New&quot;, monospace; font-weight: normal; font-size: 14px; font-feature-settings: &quot;liga&quot; 0, &quot;calt&quot; 0; font-variation-settings: normal; line-height: 19px; letter-spacing: 0px; height: 0px; width: 723px;"><div style="position:absolute;top:0px;width:100%;height:19px;"><div class="current-line" style="width:723px; height:19px;"></div></div></div><div role="presentation" aria-hidden="true" class="view-rulers"></div><div class="view-zones" role="presentation" aria-hidden="true" style="position: absolute;"></div><div class="view-lines monaco-mouse-cursor-text" role="presentation" aria-hidden="true" data-mprt="7" style="position: absolute; font-family: monospace, Consolas, &quot;Courier New&quot;, monospace; font-weight: normal; font-size: 14px; font-feature-settings: &quot;liga&quot; 0, &quot;calt&quot; 0; font-variation-settings: normal; line-height: 19px; letter-spacing: 0px; width: 723px; height: 29px;"><div style="top:0px;height:19px;" class="view-line"><span><span class="mtk1">ACCURACY&nbsp;INCREASED&nbsp;TO&nbsp;95%</span></span></div></div><div data-mprt="1" class="contentWidgets" style="position: absolute; top: 0px;"><div class="lightBulbWidget codicon codicon-light-bulb" widgetid="LightBulbWidget" title="Show Code Actions (Ctrl+.)" style="position: absolute; display: none; visibility: hidden; max-width: 723px;"></div></div><div role="presentation" aria-hidden="true" class="cursors-layer cursor-line-style cursor-solid"><div class="cursor monaco-mouse-cursor-text " style="height: 19px; top: 0px; left: 192px; font-family: monospace, Consolas, &quot;Courier New&quot;, monospace; font-weight: normal; font-size: 14px; font-feature-settings: &quot;liga&quot; 0, &quot;calt&quot; 0; font-variation-settings: normal; line-height: 19px; letter-spacing: 0px; display: block; visibility: hidden; padding-left: 0px; width: 1.6px;"></div></div></div><div role="presentation" aria-hidden="true" class="invisible scrollbar horizontal" style="position: absolute; width: 709px; height: 10px; left: 0px; bottom: 0px;"><div class="slider" style="position: absolute; top: 0px; left: 0px; height: 10px; transform: translate3d(0px, 0px, 0px); contain: strict; will-change: unset; width: 709px;"></div></div><canvas class="decorationsOverviewRuler" aria-hidden="true" width="17" height="36" style="position: absolute; transform: translate3d(0px, 0px, 0px); contain: strict; top: 0px; right: 0px; width: 14px; height: 29px; will-change: unset; display: block;"></canvas><div role="presentation" aria-hidden="true" class="invisible scrollbar vertical" style="position: absolute; width: 14px; height: 29px; right: 0px; top: 0px;"><div class="slider" style="position: absolute; top: 0px; left: 0px; width: 14px; transform: translate3d(0px, 0px, 0px); contain: strict; will-change: unset; height: 29px;"></div></div></div><div role="presentation" aria-hidden="true" style="width: 729px;"></div><textarea data-mprt="6" class="inputarea monaco-mouse-cursor-text" wrap="on" autocorrect="off" autocapitalize="off" autocomplete="off" spellcheck="false" aria-label="Editor content;Press Alt+F1 for Accessibility Options." tabindex="0" role="textbox" aria-roledescription="editor" aria-multiline="true" aria-haspopup="false" aria-autocomplete="both" style="tab-size: 15.3984px; font-family: monospace, Consolas, &quot;Courier New&quot;, monospace; font-weight: normal; font-size: 14px; font-feature-settings: &quot;liga&quot; 0, &quot;calt&quot; 0; font-variation-settings: normal; line-height: 19px; letter-spacing: 0px; top: 0px; left: 6px; width: 616px; height: 1px;"></textarea><div style="position: absolute; top: 0px; left: 0px; width: 0px; height: 0px;" class="monaco-editor-background textAreaCover"></div><div data-mprt="4" class="overlayWidgets" style="width: 729px;"></div><div data-mprt="8" class="minimap slider-mouseover" role="presentation" aria-hidden="true" style="position: absolute; left: 0px; width: 0px; height: 29px;"><div class="minimap-shadow-hidden" style="height: 29px;"></div><canvas width="0" height="36" style="position: absolute; left: 0px; width: 0px; height: 29px;"></canvas><canvas class="minimap-decorations-layer" width="0" height="36" style="position: absolute; left: 0px; width: 0px; height: 29px;"></canvas><div class="minimap-slider" style="position: absolute; transform: translate3d(0px, 0px, 0px); contain: strict; width: 0px; will-change: unset;"><div class="minimap-slider-horizontal" style="position: absolute; width: 0px; height: 0px;"></div></div></div><div role="presentation" aria-hidden="true" class="blockDecorations-container"></div></div><div data-mprt="2" class="overflowingContentWidgets" style="display: none;"><div widgetid="editor.contrib.resizableContentHoverWidget" style="position: fixed; height: 10px; width: 10px; z-index: 50; display: none; visibility: hidden; max-width: 1536px;"><div class="monaco-sash vertical" style="left: 8px;"></div><div class="monaco-sash vertical" style="left: -2px;"></div><div class="monaco-sash orthogonal-edge-north horizontal" style="top: -2px;"><div class="orthogonal-drag-handle start"></div><div class="orthogonal-drag-handle end"></div></div><div class="monaco-sash orthogonal-edge-south horizontal" style="top: 8px;"><div class="orthogonal-drag-handle start"></div><div class="orthogonal-drag-handle end"></div></div><div class="monaco-hover hidden" tabindex="0" role="tooltip"><div class="monaco-scrollable-element " role="presentation" style="position: relative; overflow: hidden;"><div class="monaco-hover-content" style="overflow: hidden; font-size: 14px; line-height: 1.35714; max-width: 500px; max-height: 250px;"></div><div role="presentation" aria-hidden="true" class="invisible scrollbar horizontal" style="position: absolute;"><div class="slider" style="position: absolute; top: 0px; left: 0px; height: 10px; transform: translate3d(0px, 0px, 0px); contain: strict;"></div></div><div role="presentation" aria-hidden="true" class="invisible scrollbar vertical" style="position: absolute;"><div class="slider" style="position: absolute; top: 0px; left: 0px; width: 10px; transform: translate3d(0px, 0px, 0px); contain: strict;"></div></div><div class="shadow"></div><div class="shadow"></div><div class="shadow"></div></div></div></div></div><div class=".in-cell-overflowing"><div widgetid="editor.contrib.quickInputWidget" style="position: absolute; top: 0px; right: 50%;"></div></div></div></div></div>
        <div class="text-top-div">
          <div class="markdown"><span><p>ACCURACY INCREASED TO 95%</p>
</span></div>
        </div>
      </div>

      <div class="section-header" style="display: none;">
        <colab-run-button role="button" aria-label="Run cell"><template shadowrootmode="open"><!----> <div class="cell-execution focused">
      <div class="execution-count"><!--?lit$0157429536$-->[ ]</div>
      <div class="cell-execution-indicator"> <!--?lit$0157429536$-->
<svg xmlns="http://www.w3.org/2000/svg" viewBox="0 0 24 24">
  <!--?lit$0157429536$-->
  <mask id="playSymbolMask">
    <rect width="100%" height="100%" fill="white"></rect>
    <polygon points="10,8 17,12 10,16" fill="black"></polygon>
  </mask>
  <circle cx="12" cy="12" r="7.8" mask="url(#playSymbolMask)" id="filledCircle"></circle>
</svg> </div>
      <!--?lit$0157429536$--><!--?-->
    </div></template></colab-run-button>
        <div class="section-header-container" title="click to expand">↳ 0 cells hidden</div>
      </div></div></div><div class="add-cell">
      <div class="add-cell-buttons">
        <md-outlined-button class="add-code add-button" aria-label="Add code cell
Ctrl+M B" title="Add code cell
Ctrl+M B" role="presentation" value="" has-icon=""><template shadowrootmode="open" shadowrootdelegatesfocus><!---->
      <!--?lit$0157429536$--><div class="outline"></div>
      <div class="background"></div>
      <md-focus-ring part="focus-ring" for="button" aria-hidden="true"><template shadowrootmode="open"><!----></template></md-focus-ring>
      <md-ripple for="button" aria-hidden="true"><template shadowrootmode="open"><!----><div class="surface   "></div></template></md-ripple>
      <!--?lit$0157429536$--><button id="button" class="button" aria-label="Add code cell
Ctrl+M B">
      <!--?lit$0157429536$-->
      <span class="touch"></span>
      <!--?lit$0157429536$--><slot name="icon"></slot>
      <span class="label"><slot></slot></span>
      <!--?lit$0157429536$-->
    
    </button>
    </template>
          <md-icon slot="icon" aria-hidden="true"><template shadowrootmode="open"><!----><slot></slot></template>add</md-icon>
          <!--?lit$0157429536$-->Code
        </md-outlined-button>
        <md-outlined-button class="add-text add-button" aria-label="Add text cell" title="Add text cell" role="presentation" value="" has-icon=""><template shadowrootmode="open" shadowrootdelegatesfocus><!---->
      <!--?lit$0157429536$--><div class="outline"></div>
      <div class="background"></div>
      <md-focus-ring part="focus-ring" for="button" aria-hidden="true"><template shadowrootmode="open"><!----></template></md-focus-ring>
      <md-ripple for="button" aria-hidden="true"><template shadowrootmode="open"><!----><div class="surface   "></div></template></md-ripple>
      <!--?lit$0157429536$--><button id="button" class="button" aria-label="Add text cell">
      <!--?lit$0157429536$-->
      <span class="touch"></span>
      <!--?lit$0157429536$--><slot name="icon"></slot>
      <span class="label"><slot></slot></span>
      <!--?lit$0157429536$-->
    
    </button>
    </template>
          <md-icon slot="icon" aria-hidden="true"><template shadowrootmode="open"><!----><slot></slot></template>add</md-icon>
          <!--?lit$0157429536$-->Text
        </md-outlined-button>
        <!--?lit$0157429536$-->
      </div><hr>
    </div></div></div>
              </div>
            </div>
          <div class="sidebar" style="display: none;"></div></div>
          <!--?lit$0157429536$--> <div class="footer-links">
      <a target="_blank" href="https://colab.research.google.com/signup?utm_source=footer&amp;utm_medium=link&amp;utm_campaign=footer_links">
        <!--?lit$0157429536$-->Colab paid products
      </a>
      -
      <a href="https://colab.research.google.com/cancel-subscription" target="_blank">
        <!--?lit$0157429536$-->Cancel contracts here
      </a>
    </div>
        </div>
      </colab-shaded-scroller>
      <div class="notebook-scroll-shadow" style="box-shadow: rgba(0, 0, 0, 0.15) 0px 4px 4px -2px inset;"></div>
    </div></colab-tab></div>
  </div></colab-tab-pane>
      <colab-resizer style="height: 33.3%" class="sn-resize no-tabs"><div class="resizer-thumb"></div>
        <!--?lit$0157429536$--><colab-tab-pane class="layout vertical grow no-tabs" align="horizontal"><!----> <div class="layout vertical grow">
    <div class="tab-pane-header layout horizontal noshrink">
      <md-tabs><template shadowrootmode="open"><!---->
      <div class="tabs">
        <slot></slot>
      </div>
      <md-divider part="divider"><template shadowrootmode="open"><!----></template></md-divider>
    </template></md-tabs>
      <div class="layout grow"></div>
      <!--?lit$0157429536$--> <md-icon-button title="Show more" aria-label="Show more" role="presentation" value=""><template shadowrootmode="open" shadowrootdelegatesfocus><!----><button id="button" class="icon-button  standard " aria-label="Show more">
        <!--?lit$0157429536$--><md-focus-ring part="focus-ring" for="button" aria-hidden="true"><template shadowrootmode="open"><!----></template></md-focus-ring>
        <!--?lit$0157429536$--><md-ripple aria-hidden="true"><template shadowrootmode="open"><!----><div class="surface   "></div></template></md-ripple>
        <!--?lit$0157429536$--><span class="icon"><slot></slot></span>
        <!--?lit$0157429536$-->
        <!--?lit$0157429536$--><span class="touch"></span>
        <!--?lit$0157429536$-->
  </button></template>
    <md-icon aria-hidden="true"><template shadowrootmode="open"><!----><slot></slot></template>more_horiz</md-icon>
  </md-icon-button>
    </div>
    <div class="layout vertical grow tab-pane-container"> </div>
  </div></colab-tab-pane>
      </colab-resizer>
    </div>
      <colab-resizer style="width: 37%" class="we-resize no-tabs"><div class="resizer-thumb"></div>
        <!--?lit$0157429536$--> <div class="layout vertical tab-pane-parent">
      <!--?lit$0157429536$--><colab-tab-pane class="layout vertical grow no-tabs" align="horizontal"><!----> <div class="layout vertical grow">
    <div class="tab-pane-header layout horizontal noshrink">
      <md-tabs><template shadowrootmode="open"><!---->
      <div class="tabs">
        <slot></slot>
      </div>
      <md-divider part="divider"><template shadowrootmode="open"><!----></template></md-divider>
    </template></md-tabs>
      <div class="layout grow"></div>
      <!--?lit$0157429536$--> <md-icon-button title="Show more" aria-label="Show more" role="presentation" value=""><template shadowrootmode="open" shadowrootdelegatesfocus><!----><button id="button" class="icon-button  standard " aria-label="Show more">
        <!--?lit$0157429536$--><md-focus-ring part="focus-ring" for="button" aria-hidden="true"><template shadowrootmode="open"><!----></template></md-focus-ring>
        <!--?lit$0157429536$--><md-ripple aria-hidden="true"><template shadowrootmode="open"><!----><div class="surface"></div></template></md-ripple>
        <!--?lit$0157429536$--><span class="icon"><slot></slot></span>
        <!--?lit$0157429536$-->
        <!--?lit$0157429536$--><span class="touch"></span>
        <!--?lit$0157429536$-->
  </button></template>
    <md-icon aria-hidden="true"><template shadowrootmode="open"><!----><slot></slot></template>more_horiz</md-icon>
  </md-icon-button>
    </div>
    <div class="layout vertical grow tab-pane-container"> </div>
  </div></colab-tab-pane>
      <colab-resizer style="height: 33.3%" class="sn-resize no-tabs"><div class="resizer-thumb"></div>
        <!--?lit$0157429536$--><colab-tab-pane class="layout vertical grow no-tabs" align="horizontal"><!----> <div class="layout vertical grow">
    <div class="tab-pane-header layout horizontal noshrink">
      <md-tabs><template shadowrootmode="open"><!---->
      <div class="tabs">
        <slot></slot>
      </div>
      <md-divider part="divider"><template shadowrootmode="open"><!----></template></md-divider>
    </template></md-tabs>
      <div class="layout grow"></div>
      <!--?lit$0157429536$--> <md-icon-button title="Show more" aria-label="Show more" role="presentation" value=""><template shadowrootmode="open" shadowrootdelegatesfocus><!----><button id="button" class="icon-button  standard " aria-label="Show more">
        <!--?lit$0157429536$--><md-focus-ring part="focus-ring" for="button" aria-hidden="true"><template shadowrootmode="open"><!----></template></md-focus-ring>
        <!--?lit$0157429536$--><md-ripple aria-hidden="true"><template shadowrootmode="open"><!----><div class="surface   "></div></template></md-ripple>
        <!--?lit$0157429536$--><span class="icon"><slot></slot></span>
        <!--?lit$0157429536$-->
        <!--?lit$0157429536$--><span class="touch"></span>
        <!--?lit$0157429536$-->
  </button></template>
    <md-icon aria-hidden="true"><template shadowrootmode="open"><!----><slot></slot></template>more_horiz</md-icon>
  </md-icon-button>
    </div>
    <div class="layout vertical grow tab-pane-container"> </div>
  </div></colab-tab-pane>
      </colab-resizer>
    </div>
      </colab-resizer>
    </div></colab-tab-layout-container>
        </div>
        <div class="proxies"><div><colab-dom-lifecycle-events style="display: none;"></colab-dom-lifecycle-events><iframe allow="" sandbox="allow-downloads allow-forms allow-pointer-lock allow-popups allow-same-origin allow-scripts allow-storage-access-by-user-activation allow-popups-to-escape-sandbox" src="./CreditCardFraudDetection_files/outputframe(6).html" style="width: 1px; height: 1px; position: absolute; top: -100px;"></iframe></div><div><colab-dom-lifecycle-events style="display: none;"></colab-dom-lifecycle-events><iframe allow="accelerometer; autoplay; camera; gyroscope; magnetometer; microphone; serial; usb; xr-spatial-tracking; clipboard-write" sandbox="allow-downloads allow-forms allow-pointer-lock allow-popups allow-same-origin allow-scripts allow-storage-access-by-user-activation allow-modals allow-popups-to-escape-sandbox" src="./CreditCardFraudDetection_files/outputframe(7).html" style="width: 1px; height: 1px; position: absolute; top: -100px;"></iframe></div></div>
      <colab-file-viewer-manager></colab-file-viewer-manager></div>
    <colab-status-bar role="region" aria-label="Runtime status bar" style="min-height: inherit;"><template shadowrootmode="open"><!----> <!--?lit$0157429536$--> <div class="connect-status">
        <md-icon status="icon-okay" aria-hidden="true"><template shadowrootmode="open"><!----><slot></slot></template><!--?lit$0157429536$--><svg viewBox="0 0 24 24"><!--?lit$0157429536$--><path d="M9 16.17L4.83 12l-1.42 1.41L9 19 21 7l-1.41-1.41z"></path></svg></md-icon>
        <div aria-atomic="true" aria-live="polite"><!--?lit$0157429536$-->Connected to Python 3 Google Compute Engine backend</div>
      </div>
      <md-icon-button class="visible-on-closed" title="Connected" aria-label="Connected" disabled="" role="presentation" value=""><template shadowrootmode="open" shadowrootdelegatesfocus><!----><button id="button" class="icon-button  standard " aria-label="Connected" disabled="">
        <!--?lit$0157429536$--><md-focus-ring part="focus-ring" for="button" aria-hidden="true"><template shadowrootmode="open"><!----></template></md-focus-ring>
        <!--?lit$0157429536$--><md-ripple disabled="" aria-hidden="true"><template shadowrootmode="open"><!----><div class="surface   "></div></template></md-ripple>
        <!--?lit$0157429536$--><span class="icon"><slot></slot></span>
        <!--?lit$0157429536$-->
        <!--?lit$0157429536$--><span class="touch"></span>
        <!--?lit$0157429536$-->
  </button></template>
        <md-icon filled="" class="visible-on-closed" status="icon-okay" aria-hidden="true"><template shadowrootmode="open"><!----><slot></slot></template><!--?lit$0157429536$-->fiber_manual_record</md-icon>
      </md-icon-button>
      <md-icon-button title="Close" aria-label="Close" role="presentation" value=""><template shadowrootmode="open" shadowrootdelegatesfocus><!----><button id="button" class="icon-button  standard " aria-label="Close">
        <!--?lit$0157429536$--><md-focus-ring part="focus-ring" for="button" aria-hidden="true"><template shadowrootmode="open"><!----></template></md-focus-ring>
        <!--?lit$0157429536$--><md-ripple aria-hidden="true"><template shadowrootmode="open"><!----><div class="surface   "></div></template></md-ripple>
        <!--?lit$0157429536$--><span class="icon"><slot></slot></span>
        <!--?lit$0157429536$-->
        <!--?lit$0157429536$--><span class="touch"></span>
        <!--?lit$0157429536$-->
  </button></template>
        <md-icon aria-hidden="true"><template shadowrootmode="open"><!----><slot></slot></template>close</md-icon>
      </md-icon-button></template></colab-status-bar></div><div class="goog-menu" id="file-menu" role="menu" aria-haspopup="true" style="display: none; user-select: none;"><!--?lit$0157429536$--><div command="locate-in-drive" class="goog-menuitem " role="menuitem" id=":2" style="user-select: none;"><div class="goog-menuitem-content" style="user-select: none;"><!--?lit$0157429536$-->Locate in Drive<!--?lit$0157429536$--></div></div><div command="open-in-playground" class="goog-menuitem " role="menuitem" id=":3" style="user-select: none;"><div class="goog-menuitem-content" style="user-select: none;"><!--?lit$0157429536$-->Open in playground mode<!--?lit$0157429536$--></div></div><div class="goog-menuseparator goog-menuitem-disabled" aria-disabled="true" role="separator" id=":4" style="user-select: none;"></div><div command="new" class="goog-menuitem " role="menuitem" id=":5" style="user-select: none;"><div class="goog-menuitem-content" style="user-select: none;"><!--?lit$0157429536$-->New notebook<!--?lit$0157429536$--></div></div><div command="open" class="goog-menuitem " role="menuitem" id=":6" style="user-select: none;"><div class="goog-menuitem-content" style="user-select: none;"><!--?lit$0157429536$-->Open notebook<!--?lit$0157429536$--></div></div><div command="import-notebook" class="goog-menuitem " role="menuitem" id=":7" style="user-select: none;"><div class="goog-menuitem-content" style="user-select: none;"><!--?lit$0157429536$-->Upload notebook<!--?lit$0157429536$--></div></div><div class="goog-menuseparator goog-menuitem-disabled" aria-disabled="true" role="separator" id=":8" style="user-select: none;"></div><div command="rename" class="goog-menuitem " role="menuitem" id=":9" style="user-select: none;"><div class="goog-menuitem-content" style="user-select: none;"><!--?lit$0157429536$-->Rename<!--?lit$0157429536$--></div></div><div command="move-notebook" class="goog-menuitem " role="menuitem" id=":a" style="user-select: none;"><div class="goog-menuitem-content" style="user-select: none;"><!--?lit$0157429536$-->Move<!--?lit$0157429536$--></div></div><div command="trash" class="goog-menuitem " role="menuitem" id=":b" style="user-select: none;"><div class="goog-menuitem-content" style="user-select: none;"><!--?lit$0157429536$-->Move to trash<!--?lit$0157429536$--></div></div><div class="goog-menuseparator goog-menuitem-disabled" aria-disabled="true" role="separator" id=":c" style="user-select: none;"></div><div command="clone" class="goog-menuitem " role="menuitem" id=":d" style="user-select: none;"><div class="goog-menuitem-content" style="user-select: none;"><!--?lit$0157429536$-->Save a copy in Drive<!--?lit$0157429536$--></div></div><div command="copy-to-gist" class="goog-menuitem " role="menuitem" id=":e" style="user-select: none;"><div class="goog-menuitem-content" style="user-select: none;"><!--?lit$0157429536$-->Save a copy as a GitHub Gist<!--?lit$0157429536$--></div></div><div command="copy-to-github" class="goog-menuitem " role="menuitem" id=":f" style="user-select: none;"><div class="goog-menuitem-content" style="user-select: none;"><!--?lit$0157429536$-->Save a copy in GitHub<!--?lit$0157429536$--></div></div><div class="goog-menuseparator goog-menuitem-disabled" aria-disabled="true" role="separator" id=":g" style="user-select: none;"></div><div command="save" class="goog-menuitem " role="menuitem" id=":h" style="user-select: none;"><div class="goog-menuitem-content" style="user-select: none;"><!--?lit$0157429536$-->Save<!--?lit$0157429536$--></div></div><div command="save-and-checkpoint" class="goog-menuitem " role="menuitem" id=":i" style="user-select: none;"><div class="goog-menuitem-content" style="user-select: none;"><!--?lit$0157429536$-->Save and pin revision<!--?lit$0157429536$--></div></div><div command="show-history" class="goog-menuitem " role="menuitem" id=":j" style="user-select: none;"><div class="goog-menuitem-content" style="user-select: none;"><!--?lit$0157429536$-->Revision history<!--?lit$0157429536$--></div></div><div class="goog-menuseparator goog-menuitem-disabled" aria-disabled="true" role="separator" id=":k" style="user-select: none;"></div><div class="goog-submenu goog-menuitem" id="download-submenu-menu-button" role="menuitem" aria-haspopup="true" style="user-select: none;"><div class="goog-menuitem-content" style="user-select: none;">
      <!--?lit$0157429536$-->Download
    <span class="goog-submenu-arrow" style="user-select: none;">►</span></div></div><div command="print" class="goog-menuitem " role="menuitem" id=":o" style="user-select: none;"><div class="goog-menuitem-content" style="user-select: none;"><!--?lit$0157429536$-->Print<!--?lit$0157429536$--></div></div></div><div class="goog-menu" id="download-submenu-menu" role="menu" aria-haspopup="true" style="display: none; user-select: none;"><!--?lit$0157429536$--><div command="download-ipynb" class="goog-menuitem " role="menuitem" id=":m" style="user-select: none;"><div class="goog-menuitem-content" style="user-select: none;"><!--?lit$0157429536$-->Download .ipynb<!--?lit$0157429536$--></div></div><div command="download-python" class="goog-menuitem " role="menuitem" id=":n" style="user-select: none;"><div class="goog-menuitem-content" style="user-select: none;"><!--?lit$0157429536$-->Download .py<!--?lit$0157429536$--></div></div></div><div class="goog-menu" id="edit-menu" role="menu" aria-haspopup="true" style="display: none; user-select: none;"><!--?lit$0157429536$--><div command="undo" class="goog-menuitem " role="menuitem" id=":q" style="user-select: none;"><div class="goog-menuitem-content" style="user-select: none;"><!--?lit$0157429536$-->Undo<!--?lit$0157429536$--></div></div><div command="redo" class="goog-menuitem " role="menuitem" id=":r" style="user-select: none;"><div class="goog-menuitem-content" style="user-select: none;"><!--?lit$0157429536$-->Redo<!--?lit$0157429536$--></div></div><div class="goog-menuseparator goog-menuitem-disabled" aria-disabled="true" role="separator" id=":s" style="user-select: none;"></div><div command="select-all" class="goog-menuitem " role="menuitem" id=":t" style="user-select: none;"><div class="goog-menuitem-content" style="user-select: none;"><!--?lit$0157429536$-->Select all cells<!--?lit$0157429536$--></div></div><div command="cut" class="goog-menuitem " role="menuitem" id=":u" style="user-select: none;"><div class="goog-menuitem-content" style="user-select: none;"><!--?lit$0157429536$-->Cut cell or selection<!--?lit$0157429536$--></div></div><div command="copy" class="goog-menuitem " role="menuitem" id=":v" style="user-select: none;"><div class="goog-menuitem-content" style="user-select: none;"><!--?lit$0157429536$-->Copy cell or selection<!--?lit$0157429536$--></div></div><div command="paste" class="goog-menuitem " role="menuitem" id=":w" style="user-select: none;"><div class="goog-menuitem-content" style="user-select: none;"><!--?lit$0157429536$-->Paste<!--?lit$0157429536$--></div></div><div command="delete-cell-or-selection" class="goog-menuitem " role="menuitem" id=":x" style="user-select: none;"><div class="goog-menuitem-content" style="user-select: none;"><!--?lit$0157429536$-->Delete selected cells<!--?lit$0157429536$--></div></div><div class="goog-menuseparator goog-menuitem-disabled" aria-disabled="true" role="separator" id=":y" style="user-select: none;"></div><div command="find" class="goog-menuitem " role="menuitem" id=":z" style="user-select: none;"><div class="goog-menuitem-content" style="user-select: none;"><!--?lit$0157429536$-->Find and replace<!--?lit$0157429536$--></div></div><div command="find-next" class="goog-menuitem " role="menuitem" id=":10" style="user-select: none;"><div class="goog-menuitem-content" style="user-select: none;"><!--?lit$0157429536$-->Find next<!--?lit$0157429536$--></div></div><div command="find-previous" class="goog-menuitem " role="menuitem" id=":11" style="user-select: none;"><div class="goog-menuitem-content" style="user-select: none;"><!--?lit$0157429536$-->Find previous<!--?lit$0157429536$--></div></div><div class="goog-menuseparator goog-menuitem-disabled" aria-disabled="true" role="separator" id=":12" style="user-select: none;"></div><div command="notebook-settings" class="goog-menuitem " role="menuitem" id=":13" style="user-select: none;"><div class="goog-menuitem-content" style="user-select: none;"><!--?lit$0157429536$-->Notebook settings<!--?lit$0157429536$--></div></div><div class="goog-menuseparator goog-menuitem-disabled" aria-disabled="true" role="separator" id=":14" style="user-select: none;"></div><div command="clear-outputs" class="goog-menuitem " role="menuitem" id=":15" style="user-select: none;"><div class="goog-menuitem-content" style="user-select: none;"><!--?lit$0157429536$-->Clear all outputs<!--?lit$0157429536$--></div></div></div><div class="goog-menu" id="view-menu" role="menu" aria-haspopup="true" style="display: none; user-select: none;"><!--?lit$0157429536$--><div command="show-toc-pane" class="goog-menuitem goog-option" role="menuitemcheckbox" aria-checked="false" id=":17" style="user-select: none;"><div class="goog-menuitem-content" style="user-select: none;"><div class="goog-menuitem-checkbox" style="user-select: none;"><!----><md-icon aria-hidden="true"><template shadowrootmode="open"><!----><slot></slot></template>check</md-icon> </div><!--?lit$0157429536$-->Table of contents<!--?lit$0157429536$--></div></div><div command="show-fileinfo" class="goog-menuitem " role="menuitem" id=":18" style="user-select: none;"><div class="goog-menuitem-content" style="user-select: none;"><!--?lit$0157429536$-->Notebook info<!--?lit$0157429536$--></div></div><div command="show-executedcode" class="goog-menuitem " role="menuitem" id=":19" style="user-select: none;"><div class="goog-menuitem-content" style="user-select: none;"><!--?lit$0157429536$-->Executed code history<!--?lit$0157429536$--></div></div><div command="toggle-comments-visibility" class="goog-menuitem goog-option" role="menuitemcheckbox" aria-checked="false" id=":1a" style="user-select: none;"><div class="goog-menuitem-content" style="user-select: none;"><div class="goog-menuitem-checkbox" style="user-select: none;"><!----><md-icon aria-hidden="true"><template shadowrootmode="open"><!----><slot></slot></template>check</md-icon> </div><!--?lit$0157429536$-->Comments sidebar<!--?lit$0157429536$--></div></div><div class="goog-menuseparator goog-menuitem-disabled" aria-disabled="true" role="separator" id=":1b" style="user-select: none;"></div><div command="collapse-sections" class="goog-menuitem " role="menuitem" id=":1c" style="user-select: none;"><div class="goog-menuitem-content" style="user-select: none;"><!--?lit$0157429536$-->Collapse sections<!--?lit$0157429536$--></div></div><div command="expand-sections" class="goog-menuitem " role="menuitem" id=":1d" style="user-select: none;"><div class="goog-menuitem-content" style="user-select: none;"><!--?lit$0157429536$-->Expand sections<!--?lit$0157429536$--></div></div><div command="save-section-layout" class="goog-menuitem " role="menuitem" id=":1e" style="user-select: none;"><div class="goog-menuitem-content" style="user-select: none;"><!--?lit$0157429536$-->Save collapsed section layout<!--?lit$0157429536$--></div></div><div class="goog-menuseparator goog-menuitem-disabled" aria-disabled="true" role="separator" id=":1f" style="user-select: none;"></div><div command="hide-code" class="goog-menuitem " role="menuitem" id=":1g" style="user-select: none;"><div class="goog-menuitem-content" style="user-select: none;"><!--?lit$0157429536$-->Show/hide code<!--?lit$0157429536$--></div></div><div command="toggle-output" class="goog-menuitem " role="menuitem" id=":1h" style="user-select: none;"><div class="goog-menuitem-content" style="user-select: none;"><!--?lit$0157429536$-->Show/hide output<!--?lit$0157429536$--></div></div><div class="goog-menuseparator goog-menuitem-disabled" aria-disabled="true" role="separator" id=":1i" style="user-select: none;"></div><div command="focus-next-tab" class="goog-menuitem " role="menuitem" id=":1j" style="user-select: none;"><div class="goog-menuitem-content" style="user-select: none;"><!--?lit$0157429536$-->Focus next tab<!--?lit$0157429536$--></div></div><div command="focus-previous-tab" class="goog-menuitem " role="menuitem" id=":1k" style="user-select: none;"><div class="goog-menuitem-content" style="user-select: none;"><!--?lit$0157429536$-->Focus previous tab<!--?lit$0157429536$--></div></div><div command="move-tab-to-next" class="goog-menuitem " role="menuitem" id=":1l" style="user-select: none;"><div class="goog-menuitem-content" style="user-select: none;"><!--?lit$0157429536$-->Move tab to next pane<!--?lit$0157429536$--></div></div><div command="move-tab-to-prev" class="goog-menuitem " role="menuitem" id=":1m" style="user-select: none;"><div class="goog-menuitem-content" style="user-select: none;"><!--?lit$0157429536$-->Move tab to previous pane<!--?lit$0157429536$--></div></div></div><div class="goog-menu" id="insert-menu" role="menu" aria-haspopup="true" style="display: none; user-select: none;"><!--?lit$0157429536$--><div command="insert-cell-below" class="goog-menuitem " role="menuitem" id=":1o" style="user-select: none;"><div class="goog-menuitem-content" style="user-select: none;"><!--?lit$0157429536$-->Code cell<!--?lit$0157429536$--></div></div><div command="add-text" class="goog-menuitem " role="menuitem" id=":1p" style="user-select: none;"><div class="goog-menuitem-content" style="user-select: none;"><!--?lit$0157429536$-->Text cell<!--?lit$0157429536$--></div></div><div command="add-section-header" class="goog-menuitem " role="menuitem" id=":1q" style="user-select: none;"><div class="goog-menuitem-content" style="user-select: none;"><!--?lit$0157429536$-->Section header cell<!--?lit$0157429536$--></div></div><div class="goog-menuseparator goog-menuitem-disabled" aria-disabled="true" role="separator" id=":1r" style="user-select: none;"></div><div command="open-scratch-code-cell" class="goog-menuitem " role="menuitem" id=":1s" style="user-select: none;"><div class="goog-menuitem-content" style="user-select: none;"><!--?lit$0157429536$-->Scratch code cell<!--?lit$0157429536$--></div></div><div command="snippets" class="goog-menuitem " role="menuitem" id=":1t" style="user-select: none;"><div class="goog-menuitem-content" style="user-select: none;"><!--?lit$0157429536$-->Code snippets<!--?lit$0157429536$--></div></div><div class="goog-menuseparator goog-menuitem-disabled" aria-disabled="true" role="separator" id=":1u" style="user-select: none;"></div><div command="add-form-field" class="goog-menuitem " role="menuitem" id=":1v" style="user-select: none;"><div class="goog-menuitem-content" style="user-select: none;"><!--?lit$0157429536$-->Add a form field<!--?lit$0157429536$--></div></div></div><div class="goog-menu" id="runtime-menu" role="menu" aria-haspopup="true" style="display: none; user-select: none;"><!--?lit$0157429536$--><div command="runall" class="goog-menuitem " role="menuitem" id=":1x" style="user-select: none;"><div class="goog-menuitem-content" style="user-select: none;"><!--?lit$0157429536$-->Run all<!--?lit$0157429536$--></div></div><div command="runbefore" class="goog-menuitem " role="menuitem" id=":1y" style="user-select: none;"><div class="goog-menuitem-content" style="user-select: none;"><!--?lit$0157429536$-->Run before<!--?lit$0157429536$--></div></div><div command="runfocused" class="goog-menuitem " role="menuitem" id=":1z" style="user-select: none;"><div class="goog-menuitem-content" style="user-select: none;"><!--?lit$0157429536$-->Run the focused cell<!--?lit$0157429536$--></div></div><div command="runselected" class="goog-menuitem " role="menuitem" id=":20" style="user-select: none;"><div class="goog-menuitem-content" style="user-select: none;"><!--?lit$0157429536$-->Run selection<!--?lit$0157429536$--></div></div><div command="runafter" class="goog-menuitem " role="menuitem" id=":21" style="user-select: none;"><div class="goog-menuitem-content" style="user-select: none;"><!--?lit$0157429536$-->Run after<!--?lit$0157429536$--></div></div><div class="goog-menuseparator goog-menuitem-disabled" aria-disabled="true" role="separator" id=":22" style="user-select: none;"></div><div command="interrupt" class="goog-menuitem " role="menuitem" id=":23" style="user-select: none;"><div class="goog-menuitem-content" style="user-select: none;"><!--?lit$0157429536$-->Interrupt execution<!--?lit$0157429536$--></div></div><div command="restart" class="goog-menuitem " role="menuitem" id=":24" style="user-select: none;"><div class="goog-menuitem-content" style="user-select: none;"><!--?lit$0157429536$-->Restart session<!--?lit$0157429536$--></div></div><div command="restart-and-run-all" class="goog-menuitem " role="menuitem" id=":25" style="user-select: none;"><div class="goog-menuitem-content" style="user-select: none;"><!--?lit$0157429536$-->Restart session and run all<!--?lit$0157429536$--></div></div><div command="powerwash-current-vm" class="goog-menuitem " role="menuitem" id=":26" style="user-select: none;"><div class="goog-menuitem-content" style="user-select: none;"><!--?lit$0157429536$-->Disconnect and delete runtime<!--?lit$0157429536$--></div></div><div class="goog-menuseparator goog-menuitem-disabled" aria-disabled="true" role="separator" id=":27" style="user-select: none;"></div><div command="change-runtime-type" class="goog-menuitem " role="menuitem" id=":28" style="user-select: none;"><div class="goog-menuitem-content" style="user-select: none;"><!--?lit$0157429536$-->Change runtime type<!--?lit$0157429536$--></div></div><div class="goog-menuseparator goog-menuitem-disabled" aria-disabled="true" role="separator" id=":29" style="user-select: none;"></div><div command="manage-sessions" class="goog-menuitem " role="menuitem" id=":2a" style="user-select: none;"><div class="goog-menuitem-content" style="user-select: none;"><!--?lit$0157429536$-->Manage sessions<!--?lit$0157429536$--></div></div><div command="open-resource-viewer" class="goog-menuitem " role="menuitem" id=":2b" style="user-select: none;"><div class="goog-menuitem-content" style="user-select: none;"><!--?lit$0157429536$-->View resources<!--?lit$0157429536$--></div></div><div command="view-runtime-logs" class="goog-menuitem " role="menuitem" id=":2c" style="user-select: none;"><div class="goog-menuitem-content" style="user-select: none;"><!--?lit$0157429536$-->View runtime logs<!--?lit$0157429536$--></div></div></div><div class="goog-menu" id="tools-menu" role="menu" aria-haspopup="true" style="display: none; user-select: none;"><!--?lit$0157429536$--><div command="show-command-palette" class="goog-menuitem " role="menuitem" id=":2e" style="user-select: none;"><div class="goog-menuitem-content" style="user-select: none;"><!--?lit$0157429536$-->Command palette<!--?lit$0157429536$--></div></div><div class="goog-menuseparator goog-menuitem-disabled" aria-disabled="true" role="separator" id=":2f" style="user-select: none;"></div><div command="preferences" class="goog-menuitem " role="menuitem" id=":2g" style="user-select: none;"><div class="goog-menuitem-content" style="user-select: none;"><!--?lit$0157429536$-->Settings<!--?lit$0157429536$--></div></div><div command="shortcuts" class="goog-menuitem " role="menuitem" id=":2h" style="user-select: none;"><div class="goog-menuitem-content" style="user-select: none;"><!--?lit$0157429536$-->Keyboard shortcuts<!--?lit$0157429536$--></div></div><div class="goog-menuseparator goog-menuitem-disabled" aria-disabled="true" role="separator" id=":2i" style="user-select: none;"></div><div command="open-differ" class="goog-menuitem " role="menuitem" id=":2j" style="user-select: none;"><div class="goog-menuitem-content" style="user-select: none;"><!--?lit$0157429536$-->Diff notebooks<!--?lit$0157429536$--> <span class="screenreader-only" style="user-select: none;"><!--?lit$0157429536$-->(opens in a new tab)</span></div></div></div><div class="goog-menu" id="help-menu" role="menu" aria-haspopup="true" style="display: none; user-select: none;"><!--?lit$0157429536$--><div command="faq" class="goog-menuitem " role="menuitem" id=":2l" style="user-select: none;"><div class="goog-menuitem-content" style="user-select: none;"><!--?lit$0157429536$-->Frequently asked questions<!--?lit$0157429536$--></div></div><div command="view-relnotes" class="goog-menuitem " role="menuitem" id=":2m" style="user-select: none;"><div class="goog-menuitem-content" style="user-select: none;"><!--?lit$0157429536$-->View release notes<!--?lit$0157429536$--></div></div><div command="snippets" class="goog-menuitem " role="menuitem" id=":2n" style="user-select: none;"><div class="goog-menuitem-content" style="user-select: none;"><!--?lit$0157429536$-->Search code snippets<!--?lit$0157429536$--></div></div><div class="goog-menuseparator goog-menuitem-disabled" aria-disabled="true" role="separator" id=":2o" style="user-select: none;"></div><div command="report-bug" class="goog-menuitem " role="menuitem" id=":2p" style="user-select: none;"><div class="goog-menuitem-content" style="user-select: none;"><!--?lit$0157429536$-->Report a bug<!--?lit$0157429536$--></div></div><div command="report-abuse" class="goog-menuitem " role="menuitem" id=":2q" style="user-select: none;"><div class="goog-menuitem-content" style="user-select: none;"><!--?lit$0157429536$-->Report Drive abuse<!--?lit$0157429536$--></div></div><div command="send-feedback" class="goog-menuitem " role="menuitem" id=":2r" style="user-select: none;"><div class="goog-menuitem-content" style="user-select: none;"><!--?lit$0157429536$-->Send feedback<!--?lit$0157429536$--></div></div></div><div class="doc-comments-area" style="display: none;"><!----><div class="doc-comments-buttons">
        <md-text-button command="add-comment" role="presentation" value="" has-icon=""><template shadowrootmode="open" shadowrootdelegatesfocus><!---->
      <!--?lit$0157429536$-->
      <div class="background"></div>
      <md-focus-ring part="focus-ring" for="button" aria-hidden="true"><template shadowrootmode="open"><!----></template></md-focus-ring>
      <md-ripple for="button" aria-hidden="true"><template shadowrootmode="open"><!----><div class="surface   "></div></template></md-ripple>
      <!--?lit$0157429536$--><button id="button" class="button">
      <!--?lit$0157429536$-->
      <span class="touch"></span>
      <!--?lit$0157429536$--><slot name="icon"></slot>
      <span class="label"><slot></slot></span>
      <!--?lit$0157429536$-->
    
    </button>
    </template>
          <md-icon slot="icon" filled="" aria-hidden="true"><template shadowrootmode="open"><!----><slot></slot></template>comment</md-icon>
          <!--?lit$0157429536$-->Add a comment
        </md-text-button>
      </div></div><div class="thumbnail"></div><div class="monaco-aria-container"><div class="monaco-alert" role="alert" aria-atomic="true"></div><div class="monaco-alert" role="alert" aria-atomic="true"></div><div class="monaco-status" role="complementary" aria-live="polite" aria-atomic="true"></div><div class="monaco-status" role="complementary" aria-live="polite" aria-atomic="true"></div></div><iframe id="apiproxybe2421632aff33c0a25ed1b3f86d2e3cef9324610.474292941" name="apiproxybe2421632aff33c0a25ed1b3f86d2e3cef9324610.474292941" src="./CreditCardFraudDetection_files/proxy.html" tabindex="-1" aria-hidden="true" style="width: 1px; height: 1px; position: absolute; top: -100px; display: none;"></iframe><iframe src="./CreditCardFraudDetection_files/bscframe.html" style="display: none;"></iframe><div><div class="grecaptcha-badge" data-style="bottomright" style="width: 256px; height: 60px; position: fixed; visibility: hidden; display: block; transition: right 0.3s ease 0s; bottom: 14px; right: -186px; box-shadow: gray 0px 0px 5px; border-radius: 2px; overflow: hidden;"><div class="grecaptcha-logo"><iframe title="reCAPTCHA" width="256" height="60" role="presentation" name="a-f0af7px05s6m" frameborder="0" scrolling="no" sandbox="allow-forms allow-popups allow-same-origin allow-scripts allow-top-navigation allow-modals allow-popups-to-escape-sandbox allow-storage-access-by-user-activation" src="./CreditCardFraudDetection_files/anchor.html"></iframe></div><div class="grecaptcha-error"></div><textarea id="g-recaptcha-response-100000" name="g-recaptcha-response" class="g-recaptcha-response" style="width: 250px; height: 40px; border: 1px solid rgb(193, 193, 193); margin: 10px 25px; padding: 0px; resize: none; display: none;"></textarea></div><iframe style="display: none;" src="./CreditCardFraudDetection_files/saved_resource(1).html"></iframe></div><iframe id="hfcr" src="./CreditCardFraudDetection_files/RotateCookiesPage.html" style="display: none;"></iframe><colab-callout arrow="" dismisstext="" aria-label="Rename notebook" opened="" tooltipstyling="" role="dialog" verticaldirection="below" horizontaldirection="right" style="visibility: visible; top: 39px; left: 222.1px;"><template shadowrootmode="open"><!----> <div id="content"><slot name="content"></slot></div>
      <div id="buttons"> <!--?lit$0157429536$--> <!--?lit$0157429536$--> </div></template>
      <div slot="content">
        <!--?lit$0157429536$--> <!--?lit$0157429536$--> <!--?lit$0157429536$--><!--?lit$0157429536$--><!----><div><!--?lit$0157429536$-->Rename notebook</div><!----> <!--?lit$0157429536$--><!--?-->
      </div>
    </colab-callout></body></html>